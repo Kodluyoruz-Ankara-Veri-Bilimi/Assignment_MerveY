{
 "cells": [
  {
   "cell_type": "markdown",
   "metadata": {},
   "source": [
    "# KNN & Clustering"
   ]
  },
  {
   "cell_type": "code",
   "execution_count": 44,
   "metadata": {},
   "outputs": [],
   "source": [
    "import numpy as np\n",
    "import pandas as pd\n",
    "import seaborn as sns\n",
    "from sklearn.preprocessing import scale\n",
    "from sklearn.model_selection import train_test_split, GridSearchCV, cross_val_score\n",
    "from sklearn.metrics import confusion_matrix, accuracy_score, classification_report\n",
    "from sklearn.metrics import roc_auc_score,roc_curve\n",
    "import matplotlib.pyplot as plt\n",
    "from sklearn.neighbors import KNeighborsClassifier\n",
    "\n",
    "import sklearn\n",
    "from skompiler import skompile\n",
    "\n",
    "from sklearn.metrics import confusion_matrix, accuracy_score, classification_report\n",
    "from sklearn.metrics import precision_score, recall_score, f1_score\n",
    "\n",
    "from warnings import filterwarnings\n",
    "filterwarnings('ignore')\n",
    "\n",
    "from sklearn.metrics import mean_squared_error,r2_score"
   ]
  },
  {
   "cell_type": "code",
   "execution_count": 4,
   "metadata": {},
   "outputs": [],
   "source": [
    "def dendogramPlot(X):\n",
    "    plt.figure(figsize=(10, 8))\n",
    "    plt.title('Hiyerarşik Kümeleme - Dendogram')\n",
    "    plt.xlabel('Indexler')\n",
    "    plt.ylabel('Uzaklık')\n",
    "    dendrogram(X,leaf_font_size=10);"
   ]
  },
  {
   "cell_type": "code",
   "execution_count": 72,
   "metadata": {},
   "outputs": [],
   "source": [
    "def knn_reg_kars(knn_reg_B,knn_reg_A):\n",
    "    print(\"KNN Before Tuning score MSE : \", knn_reg_B )\n",
    "    print(\"KNN After Tuning score MSE :\", knn_reg_A)"
   ]
  },
  {
   "cell_type": "code",
   "execution_count": 78,
   "metadata": {},
   "outputs": [],
   "source": [
    "def rmse_rmsecv():\n",
    "    RMSE = [] \n",
    "    RMSE_CV = []\n",
    "    for k in range(10):\n",
    "        k = k+1\n",
    "        knn_model = KNeighborsRegressor(n_neighbors = k).fit(X_train, y_train)\n",
    "        y_pred = knn_model.predict(X_train) \n",
    "        rmse = np.sqrt(mean_squared_error(y_train,y_pred)) \n",
    "        rmse_cv = np.sqrt(-1*cross_val_score(knn_model, X_train, y_train, cv=10, \n",
    "                                         scoring = \"neg_mean_squared_error\").mean())\n",
    "        RMSE.append(rmse) \n",
    "        RMSE_CV.append(rmse_cv)\n",
    "        print(\"k =\" , k , \"için RMSE değeri: \", rmse, \"RMSE_CV değeri: \", rmse_cv )"
   ]
  },
  {
   "cell_type": "code",
   "execution_count": 54,
   "metadata": {},
   "outputs": [],
   "source": [
    "def rmse(knn_model):\n",
    "    RMSE = [] \n",
    "\n",
    "    for k in range(10):\n",
    "        k = k+1\n",
    "        knn_model = KNeighborsRegressor(n_neighbors = k).fit(X_train, y_train)\n",
    "        y_pred = knn_model.predict(X_train) \n",
    "        rmse = np.sqrt(mean_squared_error(y_train,y_pred)) \n",
    "        RMSE.append(rmse) \n",
    "        print(\"k =\" , k , \"için RMSE değeri: \", rmse)"
   ]
  },
  {
   "cell_type": "code",
   "execution_count": 27,
   "metadata": {},
   "outputs": [],
   "source": [
    "def accurarcy_score_check(accscorebefore, accscoreafter):\n",
    "    print(\"Before Tuning score : \", accscorebefore )\n",
    "    print(\"After Tuning score :\", accscoreafter)\n",
    "    \n",
    "    if(accscoreafter > accscorebefore):\n",
    "        print(\"İyileşme oldu : \", accscoreafter-accscorebefore)"
   ]
  },
  {
   "cell_type": "code",
   "execution_count": 28,
   "metadata": {},
   "outputs": [],
   "source": [
    "def impfeature_plot(x):\n",
    "    Importance = pd.DataFrame({\"Importance\": x.feature_importances_*100},\n",
    "                         index = X_train.columns)\n",
    "    Importance.sort_values(by = \"Importance\", \n",
    "                       axis = 0, \n",
    "                       ascending = True).plot(kind =\"barh\", color = \"r\")\n",
    "    plt.xlabel(\"Değişken Önem Düzeyleri\")"
   ]
  },
  {
   "cell_type": "markdown",
   "metadata": {},
   "source": [
    "# Classification"
   ]
  },
  {
   "cell_type": "code",
   "execution_count": 4,
   "metadata": {},
   "outputs": [
    {
     "name": "stdout",
     "output_type": "stream",
     "text": [
      "<class 'pandas.core.frame.DataFrame'>\n",
      "Int64Index: 2018 entries, 153 to 3549\n",
      "Data columns (total 13 columns):\n",
      " #   Column   Non-Null Count  Dtype  \n",
      "---  ------   --------------  -----  \n",
      " 0   bad      2018 non-null   int64  \n",
      " 1   loan     2018 non-null   int64  \n",
      " 2   mortdue  2018 non-null   float64\n",
      " 3   value    2018 non-null   float64\n",
      " 4   reason   2018 non-null   object \n",
      " 5   job      2018 non-null   object \n",
      " 6   yoj      2018 non-null   float64\n",
      " 7   derog    2018 non-null   float64\n",
      " 8   delinq   2018 non-null   float64\n",
      " 9   clage    2018 non-null   float64\n",
      " 10  ninq     2018 non-null   float64\n",
      " 11  clno     2018 non-null   float64\n",
      " 12  debtinc  2018 non-null   float64\n",
      "dtypes: float64(9), int64(2), object(2)\n",
      "memory usage: 220.7+ KB\n"
     ]
    }
   ],
   "source": [
    "data =pd.read_csv(\"hmelq.csv\")\n",
    "df=data.copy()\n",
    "df=df.dropna()\n",
    "df.info()"
   ]
  },
  {
   "cell_type": "code",
   "execution_count": 5,
   "metadata": {},
   "outputs": [
    {
     "data": {
      "text/html": [
       "<div>\n",
       "<style scoped>\n",
       "    .dataframe tbody tr th:only-of-type {\n",
       "        vertical-align: middle;\n",
       "    }\n",
       "\n",
       "    .dataframe tbody tr th {\n",
       "        vertical-align: top;\n",
       "    }\n",
       "\n",
       "    .dataframe thead th {\n",
       "        text-align: right;\n",
       "    }\n",
       "</style>\n",
       "<table border=\"1\" class=\"dataframe\">\n",
       "  <thead>\n",
       "    <tr style=\"text-align: right;\">\n",
       "      <th></th>\n",
       "      <th>0</th>\n",
       "      <th>1</th>\n",
       "      <th>2</th>\n",
       "      <th>3</th>\n",
       "      <th>4</th>\n",
       "      <th>5</th>\n",
       "      <th>6</th>\n",
       "      <th>7</th>\n",
       "      <th>8</th>\n",
       "      <th>9</th>\n",
       "      <th>...</th>\n",
       "      <th>3566</th>\n",
       "      <th>3567</th>\n",
       "      <th>3568</th>\n",
       "      <th>3569</th>\n",
       "      <th>3570</th>\n",
       "      <th>3571</th>\n",
       "      <th>3572</th>\n",
       "      <th>3573</th>\n",
       "      <th>3574</th>\n",
       "      <th>3575</th>\n",
       "    </tr>\n",
       "  </thead>\n",
       "  <tbody>\n",
       "    <tr>\n",
       "      <th>reason</th>\n",
       "      <td>HomeImp</td>\n",
       "      <td>DebtCon</td>\n",
       "      <td>DebtCon</td>\n",
       "      <td>DebtCon</td>\n",
       "      <td>DebtCon</td>\n",
       "      <td>DebtCon</td>\n",
       "      <td>HomeImp</td>\n",
       "      <td>DebtCon</td>\n",
       "      <td>DebtCon</td>\n",
       "      <td>DebtCon</td>\n",
       "      <td>...</td>\n",
       "      <td>HomeImp</td>\n",
       "      <td>DebtCon</td>\n",
       "      <td>DebtCon</td>\n",
       "      <td>NaN</td>\n",
       "      <td>HomeImp</td>\n",
       "      <td>DebtCon</td>\n",
       "      <td>DebtCon</td>\n",
       "      <td>DebtCon</td>\n",
       "      <td>HomeImp</td>\n",
       "      <td>DebtCon</td>\n",
       "    </tr>\n",
       "    <tr>\n",
       "      <th>job</th>\n",
       "      <td>NaN</td>\n",
       "      <td>NaN</td>\n",
       "      <td>NaN</td>\n",
       "      <td>NaN</td>\n",
       "      <td>NaN</td>\n",
       "      <td>NaN</td>\n",
       "      <td>NaN</td>\n",
       "      <td>NaN</td>\n",
       "      <td>NaN</td>\n",
       "      <td>NaN</td>\n",
       "      <td>...</td>\n",
       "      <td>Self</td>\n",
       "      <td>Self</td>\n",
       "      <td>Self</td>\n",
       "      <td>Self</td>\n",
       "      <td>Self</td>\n",
       "      <td>Self</td>\n",
       "      <td>Self</td>\n",
       "      <td>Self</td>\n",
       "      <td>Self</td>\n",
       "      <td>Self</td>\n",
       "    </tr>\n",
       "  </tbody>\n",
       "</table>\n",
       "<p>2 rows × 3576 columns</p>\n",
       "</div>"
      ],
      "text/plain": [
       "           0        1        2        3        4        5        6     \\\n",
       "reason  HomeImp  DebtCon  DebtCon  DebtCon  DebtCon  DebtCon  HomeImp   \n",
       "job         NaN      NaN      NaN      NaN      NaN      NaN      NaN   \n",
       "\n",
       "           7        8        9     ...     3566     3567     3568  3569  \\\n",
       "reason  DebtCon  DebtCon  DebtCon  ...  HomeImp  DebtCon  DebtCon   NaN   \n",
       "job         NaN      NaN      NaN  ...     Self     Self     Self  Self   \n",
       "\n",
       "           3570     3571     3572     3573     3574     3575  \n",
       "reason  HomeImp  DebtCon  DebtCon  DebtCon  HomeImp  DebtCon  \n",
       "job        Self     Self     Self     Self     Self     Self  \n",
       "\n",
       "[2 rows x 3576 columns]"
      ]
     },
     "execution_count": 5,
     "metadata": {},
     "output_type": "execute_result"
    }
   ],
   "source": [
    "data.select_dtypes(include=[\"object\"]).T"
   ]
  },
  {
   "cell_type": "code",
   "execution_count": 6,
   "metadata": {},
   "outputs": [],
   "source": [
    "# dummy\n",
    "\n",
    "dummy_variable=pd.get_dummies(df[['reason','job']])\n",
    "\n",
    "y=df['bad']\n",
    "X_ = df.drop(['bad','reason','job'],axis=1).astype('float64')\n",
    "X = pd.concat((X_,dummy_variable),axis=1)"
   ]
  },
  {
   "cell_type": "code",
   "execution_count": 7,
   "metadata": {},
   "outputs": [],
   "source": [
    "X_train, X_test, y_train, y_test = train_test_split(X,y,\n",
    "                                                    test_size=0.30,\n",
    "                                                    random_state=42)"
   ]
  },
  {
   "cell_type": "markdown",
   "metadata": {},
   "source": [
    "## KNN"
   ]
  },
  {
   "cell_type": "code",
   "execution_count": 82,
   "metadata": {},
   "outputs": [
    {
     "data": {
      "text/plain": [
       "KNeighborsClassifier()"
      ]
     },
     "execution_count": 82,
     "metadata": {},
     "output_type": "execute_result"
    }
   ],
   "source": [
    "knn = KNeighborsClassifier()\n",
    "knn_model = knn.fit(X_train,y_train)\n",
    "knn_model"
   ]
  },
  {
   "cell_type": "code",
   "execution_count": 84,
   "metadata": {},
   "outputs": [],
   "source": [
    "y_pred = knn_model.predict(X_test)"
   ]
  },
  {
   "cell_type": "code",
   "execution_count": 85,
   "metadata": {},
   "outputs": [
    {
     "data": {
      "text/plain": [
       "0.9141914191419142"
      ]
     },
     "execution_count": 85,
     "metadata": {},
     "output_type": "execute_result"
    }
   ],
   "source": [
    "before_accuracy_score=accuracy_score(y_test, y_pred)\n",
    "before_accuracy_score"
   ]
  },
  {
   "cell_type": "code",
   "execution_count": 12,
   "metadata": {},
   "outputs": [
    {
     "name": "stdout",
     "output_type": "stream",
     "text": [
      "              precision    recall  f1-score   support\n",
      "\n",
      "           0       0.92      0.99      0.95       554\n",
      "           1       0.50      0.10      0.16        52\n",
      "\n",
      "    accuracy                           0.91       606\n",
      "   macro avg       0.71      0.54      0.56       606\n",
      "weighted avg       0.89      0.91      0.89       606\n",
      "\n"
     ]
    }
   ],
   "source": [
    "print(classification_report(y_test, y_pred))"
   ]
  },
  {
   "cell_type": "markdown",
   "metadata": {},
   "source": [
    "0'ları iyi öğrenmiş , 1leri iyi öğrenemiş"
   ]
  },
  {
   "cell_type": "markdown",
   "metadata": {},
   "source": [
    "### Model Tuning"
   ]
  },
  {
   "cell_type": "code",
   "execution_count": 13,
   "metadata": {},
   "outputs": [
    {
     "data": {
      "text/plain": [
       "{'algorithm': 'auto',\n",
       " 'leaf_size': 30,\n",
       " 'metric': 'minkowski',\n",
       " 'metric_params': None,\n",
       " 'n_jobs': None,\n",
       " 'n_neighbors': 5,\n",
       " 'p': 2,\n",
       " 'weights': 'uniform'}"
      ]
     },
     "execution_count": 13,
     "metadata": {},
     "output_type": "execute_result"
    }
   ],
   "source": [
    "knn_model.get_params()"
   ]
  },
  {
   "cell_type": "code",
   "execution_count": 18,
   "metadata": {},
   "outputs": [],
   "source": [
    "knn_params = {\"n_neighbors\": np.arange(1,40),\n",
    "             \"metric\":[\"minkowski\",\"euclidean\",\"manhattan\"]}"
   ]
  },
  {
   "cell_type": "code",
   "execution_count": 19,
   "metadata": {},
   "outputs": [],
   "source": [
    "knn = KNeighborsClassifier()"
   ]
  },
  {
   "cell_type": "code",
   "execution_count": 20,
   "metadata": {},
   "outputs": [],
   "source": [
    "knn_cv = GridSearchCV(knn, knn_params,cv=10)"
   ]
  },
  {
   "cell_type": "code",
   "execution_count": 21,
   "metadata": {},
   "outputs": [
    {
     "data": {
      "text/plain": [
       "GridSearchCV(cv=10, estimator=KNeighborsClassifier(),\n",
       "             param_grid={'metric': ['minkowski', 'euclidean', 'manhattan'],\n",
       "                         'n_neighbors': array([ 1,  2,  3,  4,  5,  6,  7,  8,  9, 10, 11, 12, 13, 14, 15, 16, 17,\n",
       "       18, 19, 20, 21, 22, 23, 24, 25, 26, 27, 28, 29, 30, 31, 32, 33, 34,\n",
       "       35, 36, 37, 38, 39])})"
      ]
     },
     "execution_count": 21,
     "metadata": {},
     "output_type": "execute_result"
    }
   ],
   "source": [
    "knn_cv.fit(X_train, y_train)"
   ]
  },
  {
   "cell_type": "code",
   "execution_count": 22,
   "metadata": {},
   "outputs": [
    {
     "name": "stdout",
     "output_type": "stream",
     "text": [
      "En iyi skor : 0.9128908200978924\n",
      "En iyi parametreler : {'metric': 'minkowski', 'n_neighbors': 14}\n"
     ]
    }
   ],
   "source": [
    "print(\"En iyi skor : \" + str(knn_cv.best_score_))\n",
    "print(\"En iyi parametreler : \" + str(knn_cv.best_params_))"
   ]
  },
  {
   "cell_type": "code",
   "execution_count": 86,
   "metadata": {},
   "outputs": [
    {
     "data": {
      "text/plain": [
       "KNeighborsClassifier(n_neighbors=14)"
      ]
     },
     "execution_count": 86,
     "metadata": {},
     "output_type": "execute_result"
    }
   ],
   "source": [
    "knn_tuned = KNeighborsClassifier(n_neighbors=14,metric=\"minkowski\")\n",
    "knn_tuned.fit(X_train,y_train)"
   ]
  },
  {
   "cell_type": "code",
   "execution_count": 87,
   "metadata": {},
   "outputs": [],
   "source": [
    "y_pred=knn_tuned.predict(X_test)"
   ]
  },
  {
   "cell_type": "code",
   "execution_count": 88,
   "metadata": {},
   "outputs": [
    {
     "data": {
      "text/plain": [
       "0.9174917491749175"
      ]
     },
     "execution_count": 88,
     "metadata": {},
     "output_type": "execute_result"
    }
   ],
   "source": [
    "after_accuracy_score = accuracy_score(y_test,y_pred)\n",
    "after_accuracy_score"
   ]
  },
  {
   "cell_type": "code",
   "execution_count": 29,
   "metadata": {},
   "outputs": [
    {
     "name": "stdout",
     "output_type": "stream",
     "text": [
      "Before Tuning score :  0.9141914191419142\n",
      "After Tuning score : 0.9174917491749175\n",
      "İyileşme oldu :  0.0033003300330033403\n"
     ]
    }
   ],
   "source": [
    "accurarcy_score_check(before_accuracy_score, after_accuracy_score)"
   ]
  },
  {
   "cell_type": "code",
   "execution_count": 30,
   "metadata": {},
   "outputs": [
    {
     "name": "stdout",
     "output_type": "stream",
     "text": [
      "              precision    recall  f1-score   support\n",
      "\n",
      "           0       0.92      1.00      0.96       554\n",
      "           1       1.00      0.04      0.07        52\n",
      "\n",
      "    accuracy                           0.92       606\n",
      "   macro avg       0.96      0.52      0.52       606\n",
      "weighted avg       0.92      0.92      0.88       606\n",
      "\n"
     ]
    }
   ],
   "source": [
    "print(classification_report(y_test,y_pred))"
   ]
  },
  {
   "cell_type": "markdown",
   "metadata": {},
   "source": [
    "***"
   ]
  },
  {
   "cell_type": "markdown",
   "metadata": {},
   "source": [
    "# Regression"
   ]
  },
  {
   "cell_type": "code",
   "execution_count": 32,
   "metadata": {},
   "outputs": [],
   "source": [
    "from sklearn.neighbors import KNeighborsRegressor"
   ]
  },
  {
   "cell_type": "code",
   "execution_count": null,
   "metadata": {},
   "outputs": [],
   "source": [
    "data = pd.read_excel(\"HW_Data_Set.xlsx\")\n",
    "df=data.copy()\n",
    "df = df.replace('?',np.NaN)\n",
    "df.isnull().sum().sort_values(ascending=False)"
   ]
  },
  {
   "cell_type": "code",
   "execution_count": null,
   "metadata": {},
   "outputs": [],
   "source": [
    "df.select_dtypes(include=['float64','int64'])\n",
    "df.select_dtypes(include=[\"object\"]).T"
   ]
  },
  {
   "cell_type": "code",
   "execution_count": null,
   "metadata": {},
   "outputs": [],
   "source": [
    "y_dt = df['90_target']\n",
    "\n",
    "dummy_dt =  pd.get_dummies(df['ind_109'])\n",
    "\n",
    "X_dt = df.drop([\"20_target\",\"50_target\",\"90_target\", \"ind_420\", \"ind_422\"],axis=1)\n",
    "X_dt.head(0)\n",
    "\n",
    "X_dt =pd.concat([X_dt,dummy_dt],axis=1)\n",
    "\n",
    "X_train,X_test,y_train,y_test=train_test_split(X,y,\n",
    "                                               test_size=0.30,\n",
    "                                               random_state=42)"
   ]
  },
  {
   "cell_type": "markdown",
   "metadata": {},
   "source": [
    "# KNN "
   ]
  },
  {
   "cell_type": "code",
   "execution_count": 43,
   "metadata": {},
   "outputs": [],
   "source": [
    "knn_model = KNeighborsRegressor().fit(X_train,y_train)"
   ]
  },
  {
   "cell_type": "code",
   "execution_count": 44,
   "metadata": {},
   "outputs": [
    {
     "data": {
      "text/plain": [
       "{'algorithm': 'auto',\n",
       " 'leaf_size': 30,\n",
       " 'metric': 'minkowski',\n",
       " 'metric_params': None,\n",
       " 'n_jobs': None,\n",
       " 'n_neighbors': 5,\n",
       " 'p': 2,\n",
       " 'weights': 'uniform'}"
      ]
     },
     "execution_count": 44,
     "metadata": {},
     "output_type": "execute_result"
    }
   ],
   "source": [
    "knn_model.get_params()"
   ]
  },
  {
   "cell_type": "code",
   "execution_count": 45,
   "metadata": {},
   "outputs": [
    {
     "data": {
      "text/plain": [
       "5"
      ]
     },
     "execution_count": 45,
     "metadata": {},
     "output_type": "execute_result"
    }
   ],
   "source": [
    "knn_model.n_neighbors"
   ]
  },
  {
   "cell_type": "code",
   "execution_count": 46,
   "metadata": {},
   "outputs": [
    {
     "data": {
      "text/plain": [
       "0.2908959643003055"
      ]
     },
     "execution_count": 46,
     "metadata": {},
     "output_type": "execute_result"
    }
   ],
   "source": [
    "y_pred = knn_model.predict(X_test)\n",
    "knn_reg_B = np.sqrt(mean_squared_error(y_test, y_pred))\n",
    "knn_reg_B"
   ]
  },
  {
   "cell_type": "code",
   "execution_count": 56,
   "metadata": {},
   "outputs": [
    {
     "name": "stdout",
     "output_type": "stream",
     "text": [
      "k = 1 için RMSE değeri:  0.0\n",
      "k = 2 için RMSE değeri:  0.17652612579394217\n",
      "k = 3 için RMSE değeri:  0.2026733511148534\n",
      "k = 4 için RMSE değeri:  0.21955159685759415\n",
      "k = 5 için RMSE değeri:  0.23315789978530566\n",
      "k = 6 için RMSE değeri:  0.24004412824822988\n",
      "k = 7 için RMSE değeri:  0.24497021539130118\n",
      "k = 8 için RMSE değeri:  0.249002080551509\n",
      "k = 9 için RMSE değeri:  0.2527953744562653\n",
      "k = 10 için RMSE değeri:  0.25514535100926894\n"
     ]
    }
   ],
   "source": [
    "rmse(knn_model)"
   ]
  },
  {
   "cell_type": "markdown",
   "metadata": {},
   "source": [
    "### Model Tuning"
   ]
  },
  {
   "cell_type": "code",
   "execution_count": 48,
   "metadata": {},
   "outputs": [],
   "source": [
    "knn_params = {\"n_neighbors\": np.arange(1,20,1),\n",
    "             \"weights\":[\"uniform\",\"distance\"],\n",
    "             \"metric\":[\"minkowski\",\"euclidean\",\"manhattan\"]}"
   ]
  },
  {
   "cell_type": "code",
   "execution_count": 49,
   "metadata": {},
   "outputs": [],
   "source": [
    "knn = KNeighborsRegressor()"
   ]
  },
  {
   "cell_type": "code",
   "execution_count": 50,
   "metadata": {},
   "outputs": [],
   "source": [
    "knn_cv_model = GridSearchCV(knn, knn_params, cv = 10)"
   ]
  },
  {
   "cell_type": "code",
   "execution_count": 51,
   "metadata": {},
   "outputs": [
    {
     "data": {
      "text/plain": [
       "GridSearchCV(cv=10, estimator=KNeighborsRegressor(),\n",
       "             param_grid={'metric': ['minkowski', 'euclidean', 'manhattan'],\n",
       "                         'n_neighbors': array([ 1,  2,  3,  4,  5,  6,  7,  8,  9, 10, 11, 12, 13, 14, 15, 16, 17,\n",
       "       18, 19]),\n",
       "                         'weights': ['uniform', 'distance']})"
      ]
     },
     "execution_count": 51,
     "metadata": {},
     "output_type": "execute_result"
    }
   ],
   "source": [
    "knn_cv_model.fit(X_train, y_train)"
   ]
  },
  {
   "cell_type": "code",
   "execution_count": 63,
   "metadata": {},
   "outputs": [
    {
     "name": "stdout",
     "output_type": "stream",
     "text": [
      "n_neighbors:  19\n",
      "weights:  distance\n",
      "metric:  manhattan\n"
     ]
    }
   ],
   "source": [
    "print(\"n_neighbors: \",knn_cv_model.best_params_[\"n_neighbors\"])\n",
    "print(\"weights: \",knn_cv_model.best_params_[\"weights\"])\n",
    "print(\"metric: \",knn_cv_model.best_params_[\"metric\"])"
   ]
  },
  {
   "cell_type": "code",
   "execution_count": 65,
   "metadata": {},
   "outputs": [
    {
     "data": {
      "text/plain": [
       "KNeighborsRegressor(metric='manhattan', n_neighbors=19, weights='distance')"
      ]
     },
     "execution_count": 65,
     "metadata": {},
     "output_type": "execute_result"
    }
   ],
   "source": [
    "knn_tuned = KNeighborsRegressor(n_neighbors = 19, \n",
    "                                weights=\"distance\", \n",
    "                                metric=\"manhattan\")\n",
    "knn_tuned.fit(X_train, y_train)"
   ]
  },
  {
   "cell_type": "code",
   "execution_count": 67,
   "metadata": {},
   "outputs": [],
   "source": [
    "y_pred = knn_model.predict(X_test)"
   ]
  },
  {
   "cell_type": "code",
   "execution_count": 69,
   "metadata": {},
   "outputs": [
    {
     "data": {
      "text/plain": [
       "0.2832799406108298"
      ]
     },
     "execution_count": 69,
     "metadata": {},
     "output_type": "execute_result"
    }
   ],
   "source": [
    "knn_reg_A = np.sqrt(mean_squared_error(y_test, y_pred))\n",
    "knn_reg_A"
   ]
  },
  {
   "cell_type": "code",
   "execution_count": 73,
   "metadata": {},
   "outputs": [
    {
     "name": "stdout",
     "output_type": "stream",
     "text": [
      "KNN Before Tuning score MSE :  0.2908959643003055\n",
      "KNN After Tuning score MSE : 0.2832799406108298\n"
     ]
    }
   ],
   "source": [
    "knn_reg_kars(knn_reg_B,knn_reg_A)"
   ]
  },
  {
   "cell_type": "code",
   "execution_count": 80,
   "metadata": {},
   "outputs": [
    {
     "name": "stdout",
     "output_type": "stream",
     "text": [
      "k = 1 için RMSE değeri:  0.0 RMSE_CV değeri:  0.35504413532428475\n",
      "k = 2 için RMSE değeri:  0.17652612579394217 RMSE_CV değeri:  0.30544005469206015\n",
      "k = 3 için RMSE değeri:  0.2026733511148534 RMSE_CV değeri:  0.29432830712799257\n",
      "k = 4 için RMSE değeri:  0.21955159685759415 RMSE_CV değeri:  0.29197010344308366\n",
      "k = 5 için RMSE değeri:  0.23315789978530566 RMSE_CV değeri:  0.2877921007904749\n",
      "k = 6 için RMSE değeri:  0.24004412824822988 RMSE_CV değeri:  0.2861658474394829\n",
      "k = 7 için RMSE değeri:  0.24497021539130118 RMSE_CV değeri:  0.28499112929375886\n",
      "k = 8 için RMSE değeri:  0.249002080551509 RMSE_CV değeri:  0.2841098330980656\n",
      "k = 9 için RMSE değeri:  0.2527953744562653 RMSE_CV değeri:  0.282059258142665\n",
      "k = 10 için RMSE değeri:  0.25514535100926894 RMSE_CV değeri:  0.2828207271045601\n"
     ]
    }
   ],
   "source": [
    "rmse_rmsecv()"
   ]
  },
  {
   "cell_type": "markdown",
   "metadata": {},
   "source": [
    "# Clustering K-MEANS"
   ]
  },
  {
   "cell_type": "markdown",
   "metadata": {},
   "source": [
    "#### PCA"
   ]
  },
  {
   "cell_type": "code",
   "execution_count": 17,
   "metadata": {},
   "outputs": [],
   "source": [
    "from sklearn.decomposition import PCA\n",
    "from sklearn.preprocessing import scale"
   ]
  },
  {
   "cell_type": "code",
   "execution_count": 31,
   "metadata": {},
   "outputs": [
    {
     "data": {
      "text/plain": [
       "ind_422      1041\n",
       "ind_420      1041\n",
       "90_target       0\n",
       "ind_50          0\n",
       "ind_61          0\n",
       "             ... \n",
       "ind_309         0\n",
       "ind_310         0\n",
       "ind_311         0\n",
       "ind_313         0\n",
       "ind_5           0\n",
       "Length: 136, dtype: int64"
      ]
     },
     "execution_count": 31,
     "metadata": {},
     "output_type": "execute_result"
    }
   ],
   "source": [
    "data = pd.read_excel(\"HW_Data_Set.xlsx\")\n",
    "df=data.copy()\n",
    "df = df.replace('?',np.NaN)\n",
    "df.isnull().sum().sort_values(ascending=False)"
   ]
  },
  {
   "cell_type": "code",
   "execution_count": 38,
   "metadata": {},
   "outputs": [],
   "source": [
    "dummy_data = pd.get_dummies(df)"
   ]
  },
  {
   "cell_type": "code",
   "execution_count": 39,
   "metadata": {},
   "outputs": [],
   "source": [
    "dummy_data=dummy_data.drop([\"ind_420\", \"ind_422\"],axis=1)"
   ]
  },
  {
   "cell_type": "code",
   "execution_count": 11,
   "metadata": {},
   "outputs": [
    {
     "data": {
      "text/html": [
       "<div>\n",
       "<style scoped>\n",
       "    .dataframe tbody tr th:only-of-type {\n",
       "        vertical-align: middle;\n",
       "    }\n",
       "\n",
       "    .dataframe tbody tr th {\n",
       "        vertical-align: top;\n",
       "    }\n",
       "\n",
       "    .dataframe thead th {\n",
       "        text-align: right;\n",
       "    }\n",
       "</style>\n",
       "<table border=\"1\" class=\"dataframe\">\n",
       "  <thead>\n",
       "    <tr style=\"text-align: right;\">\n",
       "      <th></th>\n",
       "      <th>ind_5</th>\n",
       "      <th>ind_6</th>\n",
       "      <th>ind_8</th>\n",
       "      <th>ind_9</th>\n",
       "      <th>ind_10</th>\n",
       "      <th>ind_12</th>\n",
       "      <th>ind_13</th>\n",
       "      <th>ind_14</th>\n",
       "      <th>ind_15</th>\n",
       "      <th>ind_16</th>\n",
       "      <th>...</th>\n",
       "      <th>ind_416</th>\n",
       "      <th>ind_418</th>\n",
       "      <th>ind_424</th>\n",
       "      <th>ind_426</th>\n",
       "      <th>ind_428</th>\n",
       "      <th>20_target</th>\n",
       "      <th>50_target</th>\n",
       "      <th>90_target</th>\n",
       "      <th>ind_109_GREEN</th>\n",
       "      <th>ind_109_RED</th>\n",
       "    </tr>\n",
       "  </thead>\n",
       "  <tbody>\n",
       "  </tbody>\n",
       "</table>\n",
       "<p>0 rows × 135 columns</p>\n",
       "</div>"
      ],
      "text/plain": [
       "Empty DataFrame\n",
       "Columns: [ind_5, ind_6, ind_8, ind_9, ind_10, ind_12, ind_13, ind_14, ind_15, ind_16, ind_17, ind_18, ind_19, ind_20, ind_21, ind_22, ind_23, ind_25, ind_26, ind_27, ind_28, ind_29, ind_30, ind_31, ind_32, ind_33, ind_34, ind_35, ind_36, ind_37, ind_39, ind_40, ind_41, ind_42, ind_43, ind_44, ind_45, ind_46, ind_47, ind_48, ind_49, ind_50, ind_51, ind_52, ind_53, ind_56, ind_58, ind_61, ind_62, ind_65, ind_67, ind_70, ind_71, ind_74, ind_77, ind_82, ind_83, ind_88, ind_92, ind_102, ind_116, ind_118, ind_122, ind_124, ind_128, ind_130, ind_132, ind_134, ind_136, ind_139, ind_142, ind_145, ind_147, ind_150, ind_153, ind_156, ind_164, ind_168, ind_172, ind_176, ind_179, ind_181, ind_188, ind_194, ind_212, ind_217, ind_225, ind_228, ind_234, ind_237, ind_239, ind_241, ind_243, ind_309, ind_310, ind_311, ind_313, ind_315, ind_316, ind_318, ...]\n",
       "Index: []\n",
       "\n",
       "[0 rows x 135 columns]"
      ]
     },
     "execution_count": 11,
     "metadata": {},
     "output_type": "execute_result"
    }
   ],
   "source": [
    "dummy_data.head(0)"
   ]
  },
  {
   "cell_type": "code",
   "execution_count": 34,
   "metadata": {},
   "outputs": [],
   "source": [
    "dummy_dt =  pd.get_dummies(df['ind_109'])\n",
    "X_dt = df.drop([\"20_target\",\"50_target\",\"90_target\", \"ind_420\", \"ind_422\",\"ind_109\"],axis=1)\n",
    "y_dt = df['90_target']\n",
    "\n",
    "X_dt =pd.concat([X_dt, dummy_dt],axis=1)\n",
    "\n",
    "X_train,X_test,y_train,y_test=train_test_split(X_dt,y_dt,\n",
    "                                               test_size=0.30,\n",
    "                                               random_state=42)"
   ]
  },
  {
   "cell_type": "code",
   "execution_count": 14,
   "metadata": {},
   "outputs": [
    {
     "data": {
      "text/plain": [
       "(4316, 133)"
      ]
     },
     "execution_count": 14,
     "metadata": {},
     "output_type": "execute_result"
    }
   ],
   "source": [
    "X_train.shape"
   ]
  },
  {
   "cell_type": "code",
   "execution_count": 36,
   "metadata": {},
   "outputs": [],
   "source": [
    "pca = PCA(n_components=15)"
   ]
  },
  {
   "cell_type": "code",
   "execution_count": 37,
   "metadata": {},
   "outputs": [
    {
     "data": {
      "text/plain": [
       "array([[ 6.36892625,  6.20306004, -2.7904119 , -0.2887686 ,  1.98831197,\n",
       "        -1.83293873,  1.94001123,  0.28451797,  1.30990343, -0.50213213,\n",
       "        -1.60964591,  1.8130243 , -1.27702369, -0.3438913 , -0.52397549]])"
      ]
     },
     "execution_count": 37,
     "metadata": {},
     "output_type": "execute_result"
    }
   ],
   "source": [
    "X_reduced_train = pca.fit_transform(scale(X_train))\n",
    "X_reduced_train[0:1,:]"
   ]
  },
  {
   "cell_type": "code",
   "execution_count": 111,
   "metadata": {},
   "outputs": [
    {
     "data": {
      "text/plain": [
       "array([[ 1.7806999 , -1.14337829,  0.26193841, -0.10829845,  2.07369326,\n",
       "         0.02473318, -0.37574454, -0.27476259,  0.26696519,  0.53209516,\n",
       "        -0.64390397,  0.53948347,  0.88605644, -0.25673205, -0.85027838]])"
      ]
     },
     "execution_count": 111,
     "metadata": {},
     "output_type": "execute_result"
    }
   ],
   "source": [
    "X_reduced_test = pca.fit_transform(scale(X_test))\n",
    "X_reduced_test[0:1,:]"
   ]
  },
  {
   "cell_type": "code",
   "execution_count": 41,
   "metadata": {},
   "outputs": [],
   "source": [
    "dataKmeans = pca.fit_transform(scale(dummy_data))"
   ]
  },
  {
   "cell_type": "code",
   "execution_count": 112,
   "metadata": {},
   "outputs": [
    {
     "data": {
      "text/plain": [
       "array([14.9 , 27.24, 35.69, 43.15, 50.25, 57.13, 63.67, 69.6 , 74.93,\n",
       "       80.17, 84.71, 89.09, 92.84, 96.15, 99.35])"
      ]
     },
     "execution_count": 112,
     "metadata": {},
     "output_type": "execute_result"
    }
   ],
   "source": [
    "np.cumsum(np.round(pca.explained_variance_ratio_, decimals = 4) * 100)"
   ]
  },
  {
   "cell_type": "code",
   "execution_count": 113,
   "metadata": {},
   "outputs": [],
   "source": [
    "#Kmeans"
   ]
  },
  {
   "cell_type": "code",
   "execution_count": 46,
   "metadata": {},
   "outputs": [],
   "source": [
    "from sklearn.cluster import KMeans"
   ]
  },
  {
   "cell_type": "code",
   "execution_count": 47,
   "metadata": {},
   "outputs": [],
   "source": [
    "kmeans = KMeans(n_clusters=4)"
   ]
  },
  {
   "cell_type": "code",
   "execution_count": 48,
   "metadata": {},
   "outputs": [],
   "source": [
    "k_fit = kmeans.fit(dataKmeans)"
   ]
  },
  {
   "cell_type": "code",
   "execution_count": 50,
   "metadata": {},
   "outputs": [
    {
     "data": {
      "text/plain": [
       "4"
      ]
     },
     "execution_count": 50,
     "metadata": {},
     "output_type": "execute_result"
    }
   ],
   "source": [
    "k_fit.n_clusters"
   ]
  },
  {
   "cell_type": "code",
   "execution_count": 51,
   "metadata": {},
   "outputs": [
    {
     "data": {
      "text/plain": [
       "array([[ 9.10013   ,  1.29828368,  0.79182345,  0.68538304, -0.34232602,\n",
       "         0.0560915 , -0.04829736,  0.08557247, -0.06262355,  0.06835217,\n",
       "        -0.24384151, -0.20085597,  0.13151819, -0.03710891,  0.07644035],\n",
       "       [-9.21482994, -0.64632921,  0.66935018,  1.0262435 , -0.26098914,\n",
       "         0.05470075, -0.05523645,  0.11389335,  0.20583555,  0.04906113,\n",
       "         0.03902169, -0.28732475,  0.17777404, -0.07542257, -0.0299468 ],\n",
       "       [ 1.6123139 , -3.05091608, -0.74457217, -0.38914626,  0.52945047,\n",
       "         0.07990067,  0.30239929, -0.03154217, -0.12676127, -0.07227032,\n",
       "        -0.12527682,  0.16772595, -0.09321803, -0.14325754,  0.06933359],\n",
       "       [-2.43920192,  3.37379531, -0.33448433, -1.01431988, -0.15247327,\n",
       "        -0.20408461, -0.30420344, -0.1365859 ,  0.04431533, -0.01077606,\n",
       "         0.35438028,  0.21510929, -0.15360108,  0.28784449, -0.13508297]])"
      ]
     },
     "execution_count": 51,
     "metadata": {},
     "output_type": "execute_result"
    }
   ],
   "source": [
    "k_fit.cluster_centers_"
   ]
  },
  {
   "cell_type": "code",
   "execution_count": 52,
   "metadata": {},
   "outputs": [
    {
     "data": {
      "text/plain": [
       "array([1, 1, 1, ..., 1, 1, 1])"
      ]
     },
     "execution_count": 52,
     "metadata": {},
     "output_type": "execute_result"
    }
   ],
   "source": [
    "k_fit.labels_"
   ]
  },
  {
   "cell_type": "code",
   "execution_count": 53,
   "metadata": {},
   "outputs": [],
   "source": [
    "kmeans = KMeans(n_clusters=8)\n",
    "k_fit = kmeans.fit(dataKmeans)\n",
    "kumeler = k_fit.labels_\n",
    "merkezler = k_fit.cluster_centers_"
   ]
  },
  {
   "cell_type": "code",
   "execution_count": 54,
   "metadata": {},
   "outputs": [],
   "source": [
    "dataKmeans = pd.DataFrame(dataKmeans)"
   ]
  },
  {
   "cell_type": "code",
   "execution_count": 144,
   "metadata": {},
   "outputs": [
    {
     "data": {
      "text/plain": [
       "<matplotlib.collections.PathCollection at 0x197d7356b50>"
      ]
     },
     "execution_count": 144,
     "metadata": {},
     "output_type": "execute_result"
    },
    {
     "data": {
      "image/png": "[encoded data removed]",
      "text/plain": [
       "<Figure size 576x396 with 1 Axes>"
      ]
     },
     "metadata": {},
     "output_type": "display_data"
    }
   ],
   "source": [
    "plt.scatter(dataKmeans.iloc[:,0], dataKmeans.iloc[:,1], c=kumeler, s=50, cmap=\"viridis\")\n",
    "plt.scatter(merkezler[:,0], merkezler[:,1], c=\"black\", s=200, alpha=0.5)"
   ]
  },
  {
   "cell_type": "markdown",
   "metadata": {},
   "source": [
    "## Optimum Küme Sayısının Belirlenmesi"
   ]
  },
  {
   "cell_type": "code",
   "execution_count": 134,
   "metadata": {},
   "outputs": [
    {
     "data": {
      "image/png": "[encoded data removed]",
      "text/plain": [
       "<Figure size 576x396 with 2 Axes>"
      ]
     },
     "metadata": {},
     "output_type": "display_data"
    },
    {
     "data": {
      "text/plain": [
       "<matplotlib.axes._subplots.AxesSubplot at 0x197d2cf5580>"
      ]
     },
     "execution_count": 134,
     "metadata": {},
     "output_type": "execute_result"
    }
   ],
   "source": [
    "from yellowbrick.cluster import KElbowVisualizer\n",
    "kmeans = KMeans()\n",
    "visualizer = KElbowVisualizer( kmeans, k=(2,50))\n",
    "visualizer.fit(dataKmeans)\n",
    "visualizer.poof()"
   ]
  },
  {
   "cell_type": "markdown",
   "metadata": {},
   "source": [
    "## Hiyerarşik Kümeleme\n"
   ]
  },
  {
   "cell_type": "code",
   "execution_count": 6,
   "metadata": {},
   "outputs": [],
   "source": [
    "from scipy.cluster.hierarchy import dendrogram"
   ]
  },
  {
   "cell_type": "code",
   "execution_count": 55,
   "metadata": {},
   "outputs": [],
   "source": [
    "from scipy.cluster.hierarchy import linkage\n",
    "hc_complete = linkage(dataKmeans, \"complete\")\n",
    "hc_average = linkage(dataKmeans, \"average\")\n",
    "hc_centroid = linkage(dataKmeans, \"centroid\")"
   ]
  },
  {
   "cell_type": "code",
   "execution_count": 56,
   "metadata": {},
   "outputs": [
    {
     "data": {
      "image/png": "[encoded data removed]",
      "text/plain": [
       "<Figure size 720x576 with 1 Axes>"
      ]
     },
     "metadata": {
      "needs_background": "light"
     },
     "output_type": "display_data"
    }
   ],
   "source": [
    "dendogramPlot(hc_complete)"
   ]
  },
  {
   "cell_type": "code",
   "execution_count": 57,
   "metadata": {},
   "outputs": [
    {
     "data": {
      "image/png": "[encoded data removed]",
      "text/plain": [
       "<Figure size 720x576 with 1 Axes>"
      ]
     },
     "metadata": {
      "needs_background": "light"
     },
     "output_type": "display_data"
    }
   ],
   "source": [
    "dendogramPlot(hc_centroid)"
   ]
  }
 ],
 "metadata": {
  "kernelspec": {
   "display_name": "Python 3",
   "language": "python",
   "name": "python3"
  },
  "language_info": {
   "codemirror_mode": {
    "name": "ipython",
    "version": 3
   },
   "file_extension": ".py",
   "mimetype": "text/x-python",
   "name": "python",
   "nbconvert_exporter": "python",
   "pygments_lexer": "ipython3",
   "version": "3.8.3"
  }
 },
 "nbformat": 4,
 "nbformat_minor": 4
}
