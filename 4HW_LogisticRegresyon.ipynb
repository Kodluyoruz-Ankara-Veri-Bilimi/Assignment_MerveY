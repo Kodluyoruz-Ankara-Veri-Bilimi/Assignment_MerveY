{
 "cells": [
  {
   "cell_type": "code",
   "execution_count": 122,
   "metadata": {},
   "outputs": [],
   "source": [
    "import numpy as np\n",
    "import pandas as pd \n",
    "import statsmodels.api as sm\n",
    "import statsmodels.formula.api as smf\n",
    "import seaborn as sns\n",
    "from sklearn.preprocessing import scale \n",
    "from sklearn.model_selection import train_test_split, GridSearchCV, cross_val_score\n",
    "from sklearn.metrics import confusion_matrix, accuracy_score, classification_report\n",
    "from sklearn.metrics import roc_auc_score,roc_curve\n",
    "import statsmodels.formula.api as smf\n",
    "import matplotlib.pyplot as plt\n",
    "from sklearn.neighbors import KNeighborsClassifier\n",
    "from sklearn.discriminant_analysis import LinearDiscriminantAnalysis\n",
    "from sklearn.linear_model import LogisticRegression\n",
    "from sklearn.svm import SVC\n",
    "from sklearn.naive_bayes import GaussianNB\n",
    "from sklearn import tree\n",
    "from sklearn.ensemble import RandomForestClassifier\n",
    "from sklearn.ensemble import GradientBoostingClassifier\n",
    "from xgboost import XGBClassifier\n",
    "from lightgbm import LGBMClassifier\n",
    "from catboost import CatBoostClassifier\n",
    "\n",
    "from warnings import filterwarnings\n",
    "filterwarnings('ignore')"
   ]
  },
  {
   "cell_type": "code",
   "execution_count": 123,
   "metadata": {},
   "outputs": [
    {
     "data": {
      "text/html": [
       "<div>\n",
       "<style scoped>\n",
       "    .dataframe tbody tr th:only-of-type {\n",
       "        vertical-align: middle;\n",
       "    }\n",
       "\n",
       "    .dataframe tbody tr th {\n",
       "        vertical-align: top;\n",
       "    }\n",
       "\n",
       "    .dataframe thead th {\n",
       "        text-align: right;\n",
       "    }\n",
       "</style>\n",
       "<table border=\"1\" class=\"dataframe\">\n",
       "  <thead>\n",
       "    <tr style=\"text-align: right;\">\n",
       "      <th></th>\n",
       "      <th>bad</th>\n",
       "      <th>loan</th>\n",
       "      <th>mortdue</th>\n",
       "      <th>value</th>\n",
       "      <th>reason</th>\n",
       "      <th>job</th>\n",
       "      <th>yoj</th>\n",
       "      <th>derog</th>\n",
       "      <th>delinq</th>\n",
       "      <th>clage</th>\n",
       "      <th>ninq</th>\n",
       "      <th>clno</th>\n",
       "      <th>debtinc</th>\n",
       "    </tr>\n",
       "  </thead>\n",
       "  <tbody>\n",
       "    <tr>\n",
       "      <th>0</th>\n",
       "      <td>0</td>\n",
       "      <td>81200</td>\n",
       "      <td>18834.0</td>\n",
       "      <td>108355.0</td>\n",
       "      <td>HomeImp</td>\n",
       "      <td>NaN</td>\n",
       "      <td>28.0</td>\n",
       "      <td>0.0</td>\n",
       "      <td>0.0</td>\n",
       "      <td>139.14</td>\n",
       "      <td>0.0</td>\n",
       "      <td>14.0</td>\n",
       "      <td>34.042</td>\n",
       "    </tr>\n",
       "    <tr>\n",
       "      <th>1</th>\n",
       "      <td>0</td>\n",
       "      <td>12600</td>\n",
       "      <td>103960.0</td>\n",
       "      <td>127384.0</td>\n",
       "      <td>DebtCon</td>\n",
       "      <td>NaN</td>\n",
       "      <td>2.0</td>\n",
       "      <td>0.0</td>\n",
       "      <td>0.0</td>\n",
       "      <td>129.02</td>\n",
       "      <td>0.0</td>\n",
       "      <td>25.0</td>\n",
       "      <td>34.479</td>\n",
       "    </tr>\n",
       "    <tr>\n",
       "      <th>2</th>\n",
       "      <td>0</td>\n",
       "      <td>18000</td>\n",
       "      <td>46865.0</td>\n",
       "      <td>61266.0</td>\n",
       "      <td>DebtCon</td>\n",
       "      <td>NaN</td>\n",
       "      <td>5.0</td>\n",
       "      <td>0.0</td>\n",
       "      <td>0.0</td>\n",
       "      <td>102.59</td>\n",
       "      <td>2.0</td>\n",
       "      <td>9.0</td>\n",
       "      <td>26.354</td>\n",
       "    </tr>\n",
       "    <tr>\n",
       "      <th>3</th>\n",
       "      <td>0</td>\n",
       "      <td>10300</td>\n",
       "      <td>57676.0</td>\n",
       "      <td>71027.0</td>\n",
       "      <td>DebtCon</td>\n",
       "      <td>NaN</td>\n",
       "      <td>19.0</td>\n",
       "      <td>0.0</td>\n",
       "      <td>0.0</td>\n",
       "      <td>157.52</td>\n",
       "      <td>1.0</td>\n",
       "      <td>11.0</td>\n",
       "      <td>33.992</td>\n",
       "    </tr>\n",
       "    <tr>\n",
       "      <th>4</th>\n",
       "      <td>0</td>\n",
       "      <td>9400</td>\n",
       "      <td>56508.0</td>\n",
       "      <td>78358.0</td>\n",
       "      <td>DebtCon</td>\n",
       "      <td>NaN</td>\n",
       "      <td>17.0</td>\n",
       "      <td>0.0</td>\n",
       "      <td>0.0</td>\n",
       "      <td>141.93</td>\n",
       "      <td>0.0</td>\n",
       "      <td>11.0</td>\n",
       "      <td>32.327</td>\n",
       "    </tr>\n",
       "  </tbody>\n",
       "</table>\n",
       "</div>"
      ],
      "text/plain": [
       "   bad   loan   mortdue     value   reason  job   yoj  derog  delinq   clage  \\\n",
       "0    0  81200   18834.0  108355.0  HomeImp  NaN  28.0    0.0     0.0  139.14   \n",
       "1    0  12600  103960.0  127384.0  DebtCon  NaN   2.0    0.0     0.0  129.02   \n",
       "2    0  18000   46865.0   61266.0  DebtCon  NaN   5.0    0.0     0.0  102.59   \n",
       "3    0  10300   57676.0   71027.0  DebtCon  NaN  19.0    0.0     0.0  157.52   \n",
       "4    0   9400   56508.0   78358.0  DebtCon  NaN  17.0    0.0     0.0  141.93   \n",
       "\n",
       "   ninq  clno  debtinc  \n",
       "0   0.0  14.0   34.042  \n",
       "1   0.0  25.0   34.479  \n",
       "2   2.0   9.0   26.354  \n",
       "3   1.0  11.0   33.992  \n",
       "4   0.0  11.0   32.327  "
      ]
     },
     "execution_count": 123,
     "metadata": {},
     "output_type": "execute_result"
    }
   ],
   "source": [
    "data = pd.read_csv(\"hmelq.csv\")\n",
    "data.head()"
   ]
  },
  {
   "cell_type": "code",
   "execution_count": 124,
   "metadata": {},
   "outputs": [
    {
     "data": {
      "text/plain": [
       "bad          0\n",
       "loan         0\n",
       "mortdue    314\n",
       "value       64\n",
       "reason     147\n",
       "job        167\n",
       "yoj        312\n",
       "derog      427\n",
       "delinq     351\n",
       "clage      179\n",
       "ninq       303\n",
       "clno       133\n",
       "debtinc    767\n",
       "dtype: int64"
      ]
     },
     "execution_count": 124,
     "metadata": {},
     "output_type": "execute_result"
    }
   ],
   "source": [
    "data.isnull().values.any()\n",
    "data.isnull().sum()"
   ]
  },
  {
   "cell_type": "code",
   "execution_count": 125,
   "metadata": {},
   "outputs": [
    {
     "data": {
      "text/html": [
       "<div>\n",
       "<style scoped>\n",
       "    .dataframe tbody tr th:only-of-type {\n",
       "        vertical-align: middle;\n",
       "    }\n",
       "\n",
       "    .dataframe tbody tr th {\n",
       "        vertical-align: top;\n",
       "    }\n",
       "\n",
       "    .dataframe thead th {\n",
       "        text-align: right;\n",
       "    }\n",
       "</style>\n",
       "<table border=\"1\" class=\"dataframe\">\n",
       "  <thead>\n",
       "    <tr style=\"text-align: right;\">\n",
       "      <th></th>\n",
       "      <th>0</th>\n",
       "      <th>1</th>\n",
       "      <th>2</th>\n",
       "      <th>3</th>\n",
       "      <th>4</th>\n",
       "      <th>5</th>\n",
       "      <th>6</th>\n",
       "      <th>7</th>\n",
       "      <th>8</th>\n",
       "      <th>9</th>\n",
       "      <th>...</th>\n",
       "      <th>3566</th>\n",
       "      <th>3567</th>\n",
       "      <th>3568</th>\n",
       "      <th>3569</th>\n",
       "      <th>3570</th>\n",
       "      <th>3571</th>\n",
       "      <th>3572</th>\n",
       "      <th>3573</th>\n",
       "      <th>3574</th>\n",
       "      <th>3575</th>\n",
       "    </tr>\n",
       "  </thead>\n",
       "  <tbody>\n",
       "    <tr>\n",
       "      <th>bad</th>\n",
       "      <td>0.000</td>\n",
       "      <td>0.000</td>\n",
       "      <td>0.000</td>\n",
       "      <td>0.000</td>\n",
       "      <td>0.000</td>\n",
       "      <td>0.000</td>\n",
       "      <td>0.000</td>\n",
       "      <td>0.000</td>\n",
       "      <td>0.000</td>\n",
       "      <td>0.000</td>\n",
       "      <td>...</td>\n",
       "      <td>1.00</td>\n",
       "      <td>1.00</td>\n",
       "      <td>1.0</td>\n",
       "      <td>1.00</td>\n",
       "      <td>1.0</td>\n",
       "      <td>1.00</td>\n",
       "      <td>1.000</td>\n",
       "      <td>1.0</td>\n",
       "      <td>1.00</td>\n",
       "      <td>1.00</td>\n",
       "    </tr>\n",
       "    <tr>\n",
       "      <th>loan</th>\n",
       "      <td>81200.000</td>\n",
       "      <td>12600.000</td>\n",
       "      <td>18000.000</td>\n",
       "      <td>10300.000</td>\n",
       "      <td>9400.000</td>\n",
       "      <td>17200.000</td>\n",
       "      <td>82200.000</td>\n",
       "      <td>6200.000</td>\n",
       "      <td>17400.000</td>\n",
       "      <td>8900.000</td>\n",
       "      <td>...</td>\n",
       "      <td>5000.00</td>\n",
       "      <td>36500.00</td>\n",
       "      <td>7500.0</td>\n",
       "      <td>25000.00</td>\n",
       "      <td>23000.0</td>\n",
       "      <td>8400.00</td>\n",
       "      <td>21600.000</td>\n",
       "      <td>24000.0</td>\n",
       "      <td>10000.00</td>\n",
       "      <td>5900.00</td>\n",
       "    </tr>\n",
       "    <tr>\n",
       "      <th>mortdue</th>\n",
       "      <td>18834.000</td>\n",
       "      <td>103960.000</td>\n",
       "      <td>46865.000</td>\n",
       "      <td>57676.000</td>\n",
       "      <td>56508.000</td>\n",
       "      <td>39316.000</td>\n",
       "      <td>23197.000</td>\n",
       "      <td>45356.000</td>\n",
       "      <td>113890.000</td>\n",
       "      <td>63342.000</td>\n",
       "      <td>...</td>\n",
       "      <td>6000.00</td>\n",
       "      <td>84978.00</td>\n",
       "      <td>39600.0</td>\n",
       "      <td>59841.00</td>\n",
       "      <td>163805.0</td>\n",
       "      <td>31800.00</td>\n",
       "      <td>154991.000</td>\n",
       "      <td>35000.0</td>\n",
       "      <td>NaN</td>\n",
       "      <td>NaN</td>\n",
       "    </tr>\n",
       "    <tr>\n",
       "      <th>value</th>\n",
       "      <td>108355.000</td>\n",
       "      <td>127384.000</td>\n",
       "      <td>61266.000</td>\n",
       "      <td>71027.000</td>\n",
       "      <td>78358.000</td>\n",
       "      <td>66978.000</td>\n",
       "      <td>110481.000</td>\n",
       "      <td>82054.000</td>\n",
       "      <td>135146.000</td>\n",
       "      <td>78275.000</td>\n",
       "      <td>...</td>\n",
       "      <td>38575.00</td>\n",
       "      <td>125000.00</td>\n",
       "      <td>42000.0</td>\n",
       "      <td>108620.00</td>\n",
       "      <td>216500.0</td>\n",
       "      <td>72000.00</td>\n",
       "      <td>NaN</td>\n",
       "      <td>NaN</td>\n",
       "      <td>25010.00</td>\n",
       "      <td>28000.00</td>\n",
       "    </tr>\n",
       "    <tr>\n",
       "      <th>yoj</th>\n",
       "      <td>28.000</td>\n",
       "      <td>2.000</td>\n",
       "      <td>5.000</td>\n",
       "      <td>19.000</td>\n",
       "      <td>17.000</td>\n",
       "      <td>4.000</td>\n",
       "      <td>26.000</td>\n",
       "      <td>2.000</td>\n",
       "      <td>16.000</td>\n",
       "      <td>19.000</td>\n",
       "      <td>...</td>\n",
       "      <td>7.00</td>\n",
       "      <td>10.00</td>\n",
       "      <td>1.0</td>\n",
       "      <td>20.00</td>\n",
       "      <td>3.5</td>\n",
       "      <td>NaN</td>\n",
       "      <td>NaN</td>\n",
       "      <td>3.0</td>\n",
       "      <td>5.00</td>\n",
       "      <td>1.00</td>\n",
       "    </tr>\n",
       "    <tr>\n",
       "      <th>derog</th>\n",
       "      <td>0.000</td>\n",
       "      <td>0.000</td>\n",
       "      <td>0.000</td>\n",
       "      <td>0.000</td>\n",
       "      <td>0.000</td>\n",
       "      <td>0.000</td>\n",
       "      <td>0.000</td>\n",
       "      <td>0.000</td>\n",
       "      <td>0.000</td>\n",
       "      <td>0.000</td>\n",
       "      <td>...</td>\n",
       "      <td>0.00</td>\n",
       "      <td>0.00</td>\n",
       "      <td>0.0</td>\n",
       "      <td>0.00</td>\n",
       "      <td>NaN</td>\n",
       "      <td>0.00</td>\n",
       "      <td>2.000</td>\n",
       "      <td>1.0</td>\n",
       "      <td>0.00</td>\n",
       "      <td>2.00</td>\n",
       "    </tr>\n",
       "    <tr>\n",
       "      <th>delinq</th>\n",
       "      <td>0.000</td>\n",
       "      <td>0.000</td>\n",
       "      <td>0.000</td>\n",
       "      <td>0.000</td>\n",
       "      <td>0.000</td>\n",
       "      <td>0.000</td>\n",
       "      <td>1.000</td>\n",
       "      <td>0.000</td>\n",
       "      <td>0.000</td>\n",
       "      <td>0.000</td>\n",
       "      <td>...</td>\n",
       "      <td>1.00</td>\n",
       "      <td>1.00</td>\n",
       "      <td>0.0</td>\n",
       "      <td>0.00</td>\n",
       "      <td>NaN</td>\n",
       "      <td>2.00</td>\n",
       "      <td>4.000</td>\n",
       "      <td>0.0</td>\n",
       "      <td>3.00</td>\n",
       "      <td>1.00</td>\n",
       "    </tr>\n",
       "    <tr>\n",
       "      <th>clage</th>\n",
       "      <td>139.140</td>\n",
       "      <td>129.020</td>\n",
       "      <td>102.590</td>\n",
       "      <td>157.520</td>\n",
       "      <td>141.930</td>\n",
       "      <td>99.990</td>\n",
       "      <td>127.770</td>\n",
       "      <td>201.330</td>\n",
       "      <td>174.100</td>\n",
       "      <td>162.200</td>\n",
       "      <td>...</td>\n",
       "      <td>335.03</td>\n",
       "      <td>213.07</td>\n",
       "      <td>47.7</td>\n",
       "      <td>101.47</td>\n",
       "      <td>NaN</td>\n",
       "      <td>187.27</td>\n",
       "      <td>165.600</td>\n",
       "      <td>177.5</td>\n",
       "      <td>326.13</td>\n",
       "      <td>36.77</td>\n",
       "    </tr>\n",
       "    <tr>\n",
       "      <th>ninq</th>\n",
       "      <td>0.000</td>\n",
       "      <td>0.000</td>\n",
       "      <td>2.000</td>\n",
       "      <td>1.000</td>\n",
       "      <td>0.000</td>\n",
       "      <td>1.000</td>\n",
       "      <td>0.000</td>\n",
       "      <td>4.000</td>\n",
       "      <td>1.000</td>\n",
       "      <td>1.000</td>\n",
       "      <td>...</td>\n",
       "      <td>3.00</td>\n",
       "      <td>0.00</td>\n",
       "      <td>1.0</td>\n",
       "      <td>0.00</td>\n",
       "      <td>NaN</td>\n",
       "      <td>1.00</td>\n",
       "      <td>0.000</td>\n",
       "      <td>0.0</td>\n",
       "      <td>4.00</td>\n",
       "      <td>1.00</td>\n",
       "    </tr>\n",
       "    <tr>\n",
       "      <th>clno</th>\n",
       "      <td>14.000</td>\n",
       "      <td>25.000</td>\n",
       "      <td>9.000</td>\n",
       "      <td>11.000</td>\n",
       "      <td>11.000</td>\n",
       "      <td>10.000</td>\n",
       "      <td>14.000</td>\n",
       "      <td>29.000</td>\n",
       "      <td>17.000</td>\n",
       "      <td>11.000</td>\n",
       "      <td>...</td>\n",
       "      <td>42.00</td>\n",
       "      <td>64.00</td>\n",
       "      <td>15.0</td>\n",
       "      <td>4.00</td>\n",
       "      <td>NaN</td>\n",
       "      <td>21.00</td>\n",
       "      <td>43.000</td>\n",
       "      <td>16.0</td>\n",
       "      <td>17.00</td>\n",
       "      <td>8.00</td>\n",
       "    </tr>\n",
       "    <tr>\n",
       "      <th>debtinc</th>\n",
       "      <td>34.042</td>\n",
       "      <td>34.479</td>\n",
       "      <td>26.354</td>\n",
       "      <td>33.992</td>\n",
       "      <td>32.327</td>\n",
       "      <td>26.437</td>\n",
       "      <td>30.943</td>\n",
       "      <td>29.662</td>\n",
       "      <td>37.634</td>\n",
       "      <td>32.613</td>\n",
       "      <td>...</td>\n",
       "      <td>NaN</td>\n",
       "      <td>NaN</td>\n",
       "      <td>NaN</td>\n",
       "      <td>NaN</td>\n",
       "      <td>NaN</td>\n",
       "      <td>NaN</td>\n",
       "      <td>38.015</td>\n",
       "      <td>NaN</td>\n",
       "      <td>NaN</td>\n",
       "      <td>NaN</td>\n",
       "    </tr>\n",
       "  </tbody>\n",
       "</table>\n",
       "<p>11 rows × 3576 columns</p>\n",
       "</div>"
      ],
      "text/plain": [
       "               0           1          2          3          4          5     \\\n",
       "bad           0.000       0.000      0.000      0.000      0.000      0.000   \n",
       "loan      81200.000   12600.000  18000.000  10300.000   9400.000  17200.000   \n",
       "mortdue   18834.000  103960.000  46865.000  57676.000  56508.000  39316.000   \n",
       "value    108355.000  127384.000  61266.000  71027.000  78358.000  66978.000   \n",
       "yoj          28.000       2.000      5.000     19.000     17.000      4.000   \n",
       "derog         0.000       0.000      0.000      0.000      0.000      0.000   \n",
       "delinq        0.000       0.000      0.000      0.000      0.000      0.000   \n",
       "clage       139.140     129.020    102.590    157.520    141.930     99.990   \n",
       "ninq          0.000       0.000      2.000      1.000      0.000      1.000   \n",
       "clno         14.000      25.000      9.000     11.000     11.000     10.000   \n",
       "debtinc      34.042      34.479     26.354     33.992     32.327     26.437   \n",
       "\n",
       "               6          7           8          9     ...      3566  \\\n",
       "bad           0.000      0.000       0.000      0.000  ...      1.00   \n",
       "loan      82200.000   6200.000   17400.000   8900.000  ...   5000.00   \n",
       "mortdue   23197.000  45356.000  113890.000  63342.000  ...   6000.00   \n",
       "value    110481.000  82054.000  135146.000  78275.000  ...  38575.00   \n",
       "yoj          26.000      2.000      16.000     19.000  ...      7.00   \n",
       "derog         0.000      0.000       0.000      0.000  ...      0.00   \n",
       "delinq        1.000      0.000       0.000      0.000  ...      1.00   \n",
       "clage       127.770    201.330     174.100    162.200  ...    335.03   \n",
       "ninq          0.000      4.000       1.000      1.000  ...      3.00   \n",
       "clno         14.000     29.000      17.000     11.000  ...     42.00   \n",
       "debtinc      30.943     29.662      37.634     32.613  ...       NaN   \n",
       "\n",
       "              3567     3568       3569      3570      3571        3572  \\\n",
       "bad           1.00      1.0       1.00       1.0      1.00       1.000   \n",
       "loan      36500.00   7500.0   25000.00   23000.0   8400.00   21600.000   \n",
       "mortdue   84978.00  39600.0   59841.00  163805.0  31800.00  154991.000   \n",
       "value    125000.00  42000.0  108620.00  216500.0  72000.00         NaN   \n",
       "yoj          10.00      1.0      20.00       3.5       NaN         NaN   \n",
       "derog         0.00      0.0       0.00       NaN      0.00       2.000   \n",
       "delinq        1.00      0.0       0.00       NaN      2.00       4.000   \n",
       "clage       213.07     47.7     101.47       NaN    187.27     165.600   \n",
       "ninq          0.00      1.0       0.00       NaN      1.00       0.000   \n",
       "clno         64.00     15.0       4.00       NaN     21.00      43.000   \n",
       "debtinc        NaN      NaN        NaN       NaN       NaN      38.015   \n",
       "\n",
       "            3573      3574      3575  \n",
       "bad          1.0      1.00      1.00  \n",
       "loan     24000.0  10000.00   5900.00  \n",
       "mortdue  35000.0       NaN       NaN  \n",
       "value        NaN  25010.00  28000.00  \n",
       "yoj          3.0      5.00      1.00  \n",
       "derog        1.0      0.00      2.00  \n",
       "delinq       0.0      3.00      1.00  \n",
       "clage      177.5    326.13     36.77  \n",
       "ninq         0.0      4.00      1.00  \n",
       "clno        16.0     17.00      8.00  \n",
       "debtinc      NaN       NaN       NaN  \n",
       "\n",
       "[11 rows x 3576 columns]"
      ]
     },
     "execution_count": 125,
     "metadata": {},
     "output_type": "execute_result"
    }
   ],
   "source": [
    "data.select_dtypes(include=['float64','int64']).T"
   ]
  },
  {
   "cell_type": "code",
   "execution_count": 126,
   "metadata": {},
   "outputs": [
    {
     "data": {
      "text/html": [
       "<div>\n",
       "<style scoped>\n",
       "    .dataframe tbody tr th:only-of-type {\n",
       "        vertical-align: middle;\n",
       "    }\n",
       "\n",
       "    .dataframe tbody tr th {\n",
       "        vertical-align: top;\n",
       "    }\n",
       "\n",
       "    .dataframe thead th {\n",
       "        text-align: right;\n",
       "    }\n",
       "</style>\n",
       "<table border=\"1\" class=\"dataframe\">\n",
       "  <thead>\n",
       "    <tr style=\"text-align: right;\">\n",
       "      <th></th>\n",
       "      <th>0</th>\n",
       "      <th>1</th>\n",
       "      <th>2</th>\n",
       "      <th>3</th>\n",
       "      <th>4</th>\n",
       "      <th>5</th>\n",
       "      <th>6</th>\n",
       "      <th>7</th>\n",
       "      <th>8</th>\n",
       "      <th>9</th>\n",
       "      <th>...</th>\n",
       "      <th>3566</th>\n",
       "      <th>3567</th>\n",
       "      <th>3568</th>\n",
       "      <th>3569</th>\n",
       "      <th>3570</th>\n",
       "      <th>3571</th>\n",
       "      <th>3572</th>\n",
       "      <th>3573</th>\n",
       "      <th>3574</th>\n",
       "      <th>3575</th>\n",
       "    </tr>\n",
       "  </thead>\n",
       "  <tbody>\n",
       "    <tr>\n",
       "      <th>reason</th>\n",
       "      <td>HomeImp</td>\n",
       "      <td>DebtCon</td>\n",
       "      <td>DebtCon</td>\n",
       "      <td>DebtCon</td>\n",
       "      <td>DebtCon</td>\n",
       "      <td>DebtCon</td>\n",
       "      <td>HomeImp</td>\n",
       "      <td>DebtCon</td>\n",
       "      <td>DebtCon</td>\n",
       "      <td>DebtCon</td>\n",
       "      <td>...</td>\n",
       "      <td>HomeImp</td>\n",
       "      <td>DebtCon</td>\n",
       "      <td>DebtCon</td>\n",
       "      <td>NaN</td>\n",
       "      <td>HomeImp</td>\n",
       "      <td>DebtCon</td>\n",
       "      <td>DebtCon</td>\n",
       "      <td>DebtCon</td>\n",
       "      <td>HomeImp</td>\n",
       "      <td>DebtCon</td>\n",
       "    </tr>\n",
       "    <tr>\n",
       "      <th>job</th>\n",
       "      <td>NaN</td>\n",
       "      <td>NaN</td>\n",
       "      <td>NaN</td>\n",
       "      <td>NaN</td>\n",
       "      <td>NaN</td>\n",
       "      <td>NaN</td>\n",
       "      <td>NaN</td>\n",
       "      <td>NaN</td>\n",
       "      <td>NaN</td>\n",
       "      <td>NaN</td>\n",
       "      <td>...</td>\n",
       "      <td>Self</td>\n",
       "      <td>Self</td>\n",
       "      <td>Self</td>\n",
       "      <td>Self</td>\n",
       "      <td>Self</td>\n",
       "      <td>Self</td>\n",
       "      <td>Self</td>\n",
       "      <td>Self</td>\n",
       "      <td>Self</td>\n",
       "      <td>Self</td>\n",
       "    </tr>\n",
       "  </tbody>\n",
       "</table>\n",
       "<p>2 rows × 3576 columns</p>\n",
       "</div>"
      ],
      "text/plain": [
       "           0        1        2        3        4        5        6     \\\n",
       "reason  HomeImp  DebtCon  DebtCon  DebtCon  DebtCon  DebtCon  HomeImp   \n",
       "job         NaN      NaN      NaN      NaN      NaN      NaN      NaN   \n",
       "\n",
       "           7        8        9     ...     3566     3567     3568  3569  \\\n",
       "reason  DebtCon  DebtCon  DebtCon  ...  HomeImp  DebtCon  DebtCon   NaN   \n",
       "job         NaN      NaN      NaN  ...     Self     Self     Self  Self   \n",
       "\n",
       "           3570     3571     3572     3573     3574     3575  \n",
       "reason  HomeImp  DebtCon  DebtCon  DebtCon  HomeImp  DebtCon  \n",
       "job        Self     Self     Self     Self     Self     Self  \n",
       "\n",
       "[2 rows x 3576 columns]"
      ]
     },
     "execution_count": 126,
     "metadata": {},
     "output_type": "execute_result"
    }
   ],
   "source": [
    "data.select_dtypes(include=[\"object\"]).T"
   ]
  },
  {
   "cell_type": "code",
   "execution_count": 127,
   "metadata": {},
   "outputs": [
    {
     "data": {
      "text/plain": [
       "(3576, 13)"
      ]
     },
     "execution_count": 127,
     "metadata": {},
     "output_type": "execute_result"
    }
   ],
   "source": [
    "data.shape"
   ]
  },
  {
   "cell_type": "code",
   "execution_count": 128,
   "metadata": {
    "scrolled": true
   },
   "outputs": [],
   "source": [
    "data = data.dropna()"
   ]
  },
  {
   "cell_type": "code",
   "execution_count": 129,
   "metadata": {},
   "outputs": [
    {
     "data": {
      "text/plain": [
       "(2018, 13)"
      ]
     },
     "execution_count": 129,
     "metadata": {},
     "output_type": "execute_result"
    }
   ],
   "source": [
    "data.shape"
   ]
  },
  {
   "cell_type": "markdown",
   "metadata": {},
   "source": [
    "1558 data silindi"
   ]
  },
  {
   "cell_type": "markdown",
   "metadata": {},
   "source": [
    "##### iyi - kötü değerini Yê diğerlerini X e atama "
   ]
  },
  {
   "cell_type": "code",
   "execution_count": 130,
   "metadata": {},
   "outputs": [],
   "source": [
    "y = data[\"bad\"]"
   ]
  },
  {
   "cell_type": "code",
   "execution_count": 131,
   "metadata": {},
   "outputs": [],
   "source": [
    "data_ = pd.get_dummies(data)\n",
    "X = data_.drop([\"bad\"], axis=1)"
   ]
  },
  {
   "cell_type": "code",
   "execution_count": 132,
   "metadata": {},
   "outputs": [
    {
     "name": "stdout",
     "output_type": "stream",
     "text": [
      "<class 'pandas.core.frame.DataFrame'>\n",
      "Int64Index: 2018 entries, 153 to 3549\n",
      "Data columns (total 19 columns):\n",
      " #   Column          Non-Null Count  Dtype  \n",
      "---  ------          --------------  -----  \n",
      " 0   bad             2018 non-null   int64  \n",
      " 1   loan            2018 non-null   int64  \n",
      " 2   mortdue         2018 non-null   float64\n",
      " 3   value           2018 non-null   float64\n",
      " 4   yoj             2018 non-null   float64\n",
      " 5   derog           2018 non-null   float64\n",
      " 6   delinq          2018 non-null   float64\n",
      " 7   clage           2018 non-null   float64\n",
      " 8   ninq            2018 non-null   float64\n",
      " 9   clno            2018 non-null   float64\n",
      " 10  debtinc         2018 non-null   float64\n",
      " 11  reason_DebtCon  2018 non-null   uint8  \n",
      " 12  reason_HomeImp  2018 non-null   uint8  \n",
      " 13  job_Mgr         2018 non-null   uint8  \n",
      " 14  job_Office      2018 non-null   uint8  \n",
      " 15  job_Other       2018 non-null   uint8  \n",
      " 16  job_ProfEx      2018 non-null   uint8  \n",
      " 17  job_Sales       2018 non-null   uint8  \n",
      " 18  job_Self        2018 non-null   uint8  \n",
      "dtypes: float64(9), int64(2), uint8(8)\n",
      "memory usage: 205.0 KB\n"
     ]
    }
   ],
   "source": [
    "data_.info()"
   ]
  },
  {
   "cell_type": "markdown",
   "metadata": {},
   "source": [
    "## Stats Model"
   ]
  },
  {
   "cell_type": "code",
   "execution_count": 133,
   "metadata": {},
   "outputs": [
    {
     "data": {
      "text/plain": [
       "dtype('int64')"
      ]
     },
     "execution_count": 133,
     "metadata": {},
     "output_type": "execute_result"
    }
   ],
   "source": [
    "y.dtype"
   ]
  },
  {
   "cell_type": "markdown",
   "metadata": {},
   "source": [
    "X dataframe'inde object typede veri olursa - *Pandas data cast to numpy dtype of object. Check input data with np.asarray(data) - hatası veriyor*. Önce kategorikler dummy yapılır."
   ]
  },
  {
   "cell_type": "code",
   "execution_count": 134,
   "metadata": {},
   "outputs": [],
   "source": [
    "logit = sm.Logit(y,X)"
   ]
  },
  {
   "cell_type": "code",
   "execution_count": 135,
   "metadata": {},
   "outputs": [
    {
     "name": "stdout",
     "output_type": "stream",
     "text": [
      "Optimization terminated successfully.\n",
      "         Current function value: 0.228362\n",
      "         Iterations 8\n"
     ]
    }
   ],
   "source": [
    "logit_model = logit.fit()"
   ]
  },
  {
   "cell_type": "code",
   "execution_count": 136,
   "metadata": {},
   "outputs": [
    {
     "data": {
      "text/html": [
       "<table class=\"simpletable\">\n",
       "<caption>Logit Regression Results</caption>\n",
       "<tr>\n",
       "  <th>Dep. Variable:</th>          <td>bad</td>       <th>  No. Observations:  </th>  <td>  2018</td>  \n",
       "</tr>\n",
       "<tr>\n",
       "  <th>Model:</th>                 <td>Logit</td>      <th>  Df Residuals:      </th>  <td>  2001</td>  \n",
       "</tr>\n",
       "<tr>\n",
       "  <th>Method:</th>                 <td>MLE</td>       <th>  Df Model:          </th>  <td>    16</td>  \n",
       "</tr>\n",
       "<tr>\n",
       "  <th>Date:</th>            <td>Thu, 06 Aug 2020</td> <th>  Pseudo R-squ.:     </th>  <td>0.2346</td>  \n",
       "</tr>\n",
       "<tr>\n",
       "  <th>Time:</th>                <td>12:10:53</td>     <th>  Log-Likelihood:    </th> <td> -460.84</td> \n",
       "</tr>\n",
       "<tr>\n",
       "  <th>converged:</th>             <td>True</td>       <th>  LL-Null:           </th> <td> -602.11</td> \n",
       "</tr>\n",
       "<tr>\n",
       "  <th>Covariance Type:</th>     <td>nonrobust</td>    <th>  LLR p-value:       </th> <td>1.039e-50</td>\n",
       "</tr>\n",
       "</table>\n",
       "<table class=\"simpletable\">\n",
       "<tr>\n",
       "         <td></td>           <th>coef</th>     <th>std err</th>      <th>z</th>      <th>P>|z|</th>  <th>[0.025</th>    <th>0.975]</th>  \n",
       "</tr>\n",
       "<tr>\n",
       "  <th>loan</th>           <td> -1.73e-05</td> <td> 1.05e-05</td> <td>   -1.640</td> <td> 0.101</td> <td> -3.8e-05</td> <td> 3.37e-06</td>\n",
       "</tr>\n",
       "<tr>\n",
       "  <th>mortdue</th>        <td>-4.777e-06</td> <td> 4.76e-06</td> <td>   -1.004</td> <td> 0.315</td> <td>-1.41e-05</td> <td> 4.55e-06</td>\n",
       "</tr>\n",
       "<tr>\n",
       "  <th>value</th>          <td> 4.089e-06</td> <td> 4.06e-06</td> <td>    1.006</td> <td> 0.314</td> <td>-3.87e-06</td> <td> 1.21e-05</td>\n",
       "</tr>\n",
       "<tr>\n",
       "  <th>yoj</th>            <td>   -0.0109</td> <td>    0.013</td> <td>   -0.854</td> <td> 0.393</td> <td>   -0.036</td> <td>    0.014</td>\n",
       "</tr>\n",
       "<tr>\n",
       "  <th>derog</th>          <td>    0.5708</td> <td>    0.130</td> <td>    4.382</td> <td> 0.000</td> <td>    0.315</td> <td>    0.826</td>\n",
       "</tr>\n",
       "<tr>\n",
       "  <th>delinq</th>         <td>    0.7985</td> <td>    0.095</td> <td>    8.448</td> <td> 0.000</td> <td>    0.613</td> <td>    0.984</td>\n",
       "</tr>\n",
       "<tr>\n",
       "  <th>clage</th>          <td>   -0.0046</td> <td>    0.001</td> <td>   -3.354</td> <td> 0.001</td> <td>   -0.007</td> <td>   -0.002</td>\n",
       "</tr>\n",
       "<tr>\n",
       "  <th>ninq</th>           <td>    0.1119</td> <td>    0.049</td> <td>    2.303</td> <td> 0.021</td> <td>    0.017</td> <td>    0.207</td>\n",
       "</tr>\n",
       "<tr>\n",
       "  <th>clno</th>           <td>   -0.0286</td> <td>    0.011</td> <td>   -2.627</td> <td> 0.009</td> <td>   -0.050</td> <td>   -0.007</td>\n",
       "</tr>\n",
       "<tr>\n",
       "  <th>debtinc</th>        <td>    0.1143</td> <td>    0.014</td> <td>    8.222</td> <td> 0.000</td> <td>    0.087</td> <td>    0.142</td>\n",
       "</tr>\n",
       "<tr>\n",
       "  <th>reason_DebtCon</th> <td>   -3.7938</td> <td> 1.26e+07</td> <td>-3.02e-07</td> <td> 1.000</td> <td>-2.46e+07</td> <td> 2.46e+07</td>\n",
       "</tr>\n",
       "<tr>\n",
       "  <th>reason_HomeImp</th> <td>   -3.8593</td> <td> 1.26e+07</td> <td>-3.07e-07</td> <td> 1.000</td> <td>-2.46e+07</td> <td> 2.46e+07</td>\n",
       "</tr>\n",
       "<tr>\n",
       "  <th>job_Mgr</th>        <td>   -1.4722</td> <td> 1.26e+07</td> <td>-1.17e-07</td> <td> 1.000</td> <td>-2.46e+07</td> <td> 2.46e+07</td>\n",
       "</tr>\n",
       "<tr>\n",
       "  <th>job_Office</th>     <td>   -2.0716</td> <td> 1.26e+07</td> <td>-1.65e-07</td> <td> 1.000</td> <td>-2.46e+07</td> <td> 2.46e+07</td>\n",
       "</tr>\n",
       "<tr>\n",
       "  <th>job_Other</th>      <td>   -1.5260</td> <td> 1.26e+07</td> <td>-1.22e-07</td> <td> 1.000</td> <td>-2.46e+07</td> <td> 2.46e+07</td>\n",
       "</tr>\n",
       "<tr>\n",
       "  <th>job_ProfEx</th>     <td>   -1.5377</td> <td> 1.26e+07</td> <td>-1.22e-07</td> <td> 1.000</td> <td>-2.46e+07</td> <td> 2.46e+07</td>\n",
       "</tr>\n",
       "<tr>\n",
       "  <th>job_Sales</th>      <td>   -0.2487</td> <td> 1.26e+07</td> <td>-1.98e-08</td> <td> 1.000</td> <td>-2.46e+07</td> <td> 2.46e+07</td>\n",
       "</tr>\n",
       "<tr>\n",
       "  <th>job_Self</th>       <td>   -0.7970</td> <td> 1.26e+07</td> <td>-6.35e-08</td> <td> 1.000</td> <td>-2.46e+07</td> <td> 2.46e+07</td>\n",
       "</tr>\n",
       "</table>"
      ],
      "text/plain": [
       "<class 'statsmodels.iolib.summary.Summary'>\n",
       "\"\"\"\n",
       "                           Logit Regression Results                           \n",
       "==============================================================================\n",
       "Dep. Variable:                    bad   No. Observations:                 2018\n",
       "Model:                          Logit   Df Residuals:                     2001\n",
       "Method:                           MLE   Df Model:                           16\n",
       "Date:                Thu, 06 Aug 2020   Pseudo R-squ.:                  0.2346\n",
       "Time:                        12:10:53   Log-Likelihood:                -460.84\n",
       "converged:                       True   LL-Null:                       -602.11\n",
       "Covariance Type:            nonrobust   LLR p-value:                 1.039e-50\n",
       "==================================================================================\n",
       "                     coef    std err          z      P>|z|      [0.025      0.975]\n",
       "----------------------------------------------------------------------------------\n",
       "loan            -1.73e-05   1.05e-05     -1.640      0.101    -3.8e-05    3.37e-06\n",
       "mortdue        -4.777e-06   4.76e-06     -1.004      0.315   -1.41e-05    4.55e-06\n",
       "value           4.089e-06   4.06e-06      1.006      0.314   -3.87e-06    1.21e-05\n",
       "yoj               -0.0109      0.013     -0.854      0.393      -0.036       0.014\n",
       "derog              0.5708      0.130      4.382      0.000       0.315       0.826\n",
       "delinq             0.7985      0.095      8.448      0.000       0.613       0.984\n",
       "clage             -0.0046      0.001     -3.354      0.001      -0.007      -0.002\n",
       "ninq               0.1119      0.049      2.303      0.021       0.017       0.207\n",
       "clno              -0.0286      0.011     -2.627      0.009      -0.050      -0.007\n",
       "debtinc            0.1143      0.014      8.222      0.000       0.087       0.142\n",
       "reason_DebtCon    -3.7938   1.26e+07  -3.02e-07      1.000   -2.46e+07    2.46e+07\n",
       "reason_HomeImp    -3.8593   1.26e+07  -3.07e-07      1.000   -2.46e+07    2.46e+07\n",
       "job_Mgr           -1.4722   1.26e+07  -1.17e-07      1.000   -2.46e+07    2.46e+07\n",
       "job_Office        -2.0716   1.26e+07  -1.65e-07      1.000   -2.46e+07    2.46e+07\n",
       "job_Other         -1.5260   1.26e+07  -1.22e-07      1.000   -2.46e+07    2.46e+07\n",
       "job_ProfEx        -1.5377   1.26e+07  -1.22e-07      1.000   -2.46e+07    2.46e+07\n",
       "job_Sales         -0.2487   1.26e+07  -1.98e-08      1.000   -2.46e+07    2.46e+07\n",
       "job_Self          -0.7970   1.26e+07  -6.35e-08      1.000   -2.46e+07    2.46e+07\n",
       "==================================================================================\n",
       "\"\"\""
      ]
     },
     "execution_count": 136,
     "metadata": {},
     "output_type": "execute_result"
    }
   ],
   "source": [
    "logit_model.summary()"
   ]
  },
  {
   "cell_type": "markdown",
   "metadata": {},
   "source": [
    "-\n",
    "-"
   ]
  },
  {
   "cell_type": "markdown",
   "metadata": {},
   "source": [
    "## Scikit-Learn"
   ]
  },
  {
   "cell_type": "code",
   "execution_count": 137,
   "metadata": {},
   "outputs": [],
   "source": [
    "from sklearn.linear_model import LogisticRegression"
   ]
  },
  {
   "cell_type": "code",
   "execution_count": 138,
   "metadata": {},
   "outputs": [],
   "source": [
    "loj = LogisticRegression(solver=\"liblinear\")"
   ]
  },
  {
   "cell_type": "code",
   "execution_count": 139,
   "metadata": {},
   "outputs": [],
   "source": [
    "loj_model = loj.fit(X,y)"
   ]
  },
  {
   "cell_type": "code",
   "execution_count": 140,
   "metadata": {},
   "outputs": [
    {
     "data": {
      "text/plain": [
       "LogisticRegression(solver='liblinear')"
      ]
     },
     "execution_count": 140,
     "metadata": {},
     "output_type": "execute_result"
    }
   ],
   "source": [
    "loj_model"
   ]
  },
  {
   "cell_type": "code",
   "execution_count": 141,
   "metadata": {},
   "outputs": [
    {
     "data": {
      "text/plain": [
       "array([-0.0086955])"
      ]
     },
     "execution_count": 141,
     "metadata": {},
     "output_type": "execute_result"
    }
   ],
   "source": [
    "loj_model.intercept_"
   ]
  },
  {
   "cell_type": "code",
   "execution_count": 142,
   "metadata": {
    "scrolled": true
   },
   "outputs": [
    {
     "data": {
      "text/plain": [
       "array([[-2.83163861e-05, -4.89389252e-06, -1.61418650e-06,\n",
       "        -3.31738339e-02,  2.01031589e-02,  3.64166548e-02,\n",
       "        -7.28657597e-03,  1.07646587e-02, -2.92930551e-02,\n",
       "         2.39167894e-02, -5.62310945e-03, -3.07239212e-03,\n",
       "        -5.37405428e-05, -4.14770080e-03, -5.33142381e-03,\n",
       "        -1.64484468e-03,  1.14343216e-03,  1.33877610e-03]])"
      ]
     },
     "execution_count": 142,
     "metadata": {},
     "output_type": "execute_result"
    }
   ],
   "source": [
    "loj_model.coef_"
   ]
  },
  {
   "cell_type": "markdown",
   "metadata": {},
   "source": [
    "## Tahmin Model Tuning"
   ]
  },
  {
   "cell_type": "code",
   "execution_count": 143,
   "metadata": {},
   "outputs": [],
   "source": [
    "y_pred = loj_model.predict(X)"
   ]
  },
  {
   "cell_type": "code",
   "execution_count": 144,
   "metadata": {},
   "outputs": [
    {
     "data": {
      "text/plain": [
       "array([[1835,    5],\n",
       "       [ 178,    0]], dtype=int64)"
      ]
     },
     "execution_count": 144,
     "metadata": {},
     "output_type": "execute_result"
    }
   ],
   "source": [
    "confusion_matrix(y, y_pred)"
   ]
  },
  {
   "cell_type": "code",
   "execution_count": 145,
   "metadata": {},
   "outputs": [
    {
     "data": {
      "text/plain": [
       "0.9093161546085233"
      ]
     },
     "execution_count": 145,
     "metadata": {},
     "output_type": "execute_result"
    }
   ],
   "source": [
    "accuracy_score(y, y_pred)"
   ]
  },
  {
   "cell_type": "code",
   "execution_count": 146,
   "metadata": {},
   "outputs": [
    {
     "name": "stdout",
     "output_type": "stream",
     "text": [
      "              precision    recall  f1-score   support\n",
      "\n",
      "           0       0.91      1.00      0.95      1840\n",
      "           1       0.00      0.00      0.00       178\n",
      "\n",
      "    accuracy                           0.91      2018\n",
      "   macro avg       0.46      0.50      0.48      2018\n",
      "weighted avg       0.83      0.91      0.87      2018\n",
      "\n"
     ]
    }
   ],
   "source": [
    "print(classification_report(y,y_pred))"
   ]
  },
  {
   "cell_type": "markdown",
   "metadata": {},
   "source": [
    "##### Probabilities"
   ]
  },
  {
   "cell_type": "code",
   "execution_count": 147,
   "metadata": {
    "scrolled": true
   },
   "outputs": [
    {
     "data": {
      "text/plain": [
       "array([0, 0, 1, 0, 0, 0, 0, 0, 0, 0, 0, 0, 0, 0, 0], dtype=int64)"
      ]
     },
     "execution_count": 147,
     "metadata": {},
     "output_type": "execute_result"
    }
   ],
   "source": [
    "loj_model.predict(X)[695:710]"
   ]
  },
  {
   "cell_type": "code",
   "execution_count": 148,
   "metadata": {},
   "outputs": [
    {
     "data": {
      "text/plain": [
       "array([[0.76380766, 0.23619234],\n",
       "       [0.93986053, 0.06013947],\n",
       "       [0.46583557, 0.53416443],\n",
       "       [0.84072505, 0.15927495],\n",
       "       [0.71390625, 0.28609375],\n",
       "       [0.70103688, 0.29896312],\n",
       "       [0.97493683, 0.02506317],\n",
       "       [0.73715128, 0.26284872],\n",
       "       [0.90399334, 0.09600666],\n",
       "       [0.81224905, 0.18775095],\n",
       "       [0.93887149, 0.06112851],\n",
       "       [0.67144199, 0.32855801],\n",
       "       [0.88044677, 0.11955323],\n",
       "       [0.94291138, 0.05708862],\n",
       "       [0.96855795, 0.03144205]])"
      ]
     },
     "execution_count": 148,
     "metadata": {},
     "output_type": "execute_result"
    }
   ],
   "source": [
    "loj_model.predict_proba(X)[695:710][:,0:2]"
   ]
  },
  {
   "cell_type": "code",
   "execution_count": 149,
   "metadata": {},
   "outputs": [
    {
     "data": {
      "text/plain": [
       "1129    0\n",
       "1130    0\n",
       "1131    0\n",
       "1132    0\n",
       "1133    0\n",
       "1134    0\n",
       "1135    0\n",
       "1136    0\n",
       "1137    0\n",
       "1138    0\n",
       "1139    0\n",
       "1140    0\n",
       "1141    0\n",
       "1142    0\n",
       "1143    0\n",
       "Name: bad, dtype: int64"
      ]
     },
     "execution_count": 149,
     "metadata": {},
     "output_type": "execute_result"
    }
   ],
   "source": [
    "y[695:710]"
   ]
  },
  {
   "cell_type": "code",
   "execution_count": 151,
   "metadata": {},
   "outputs": [],
   "source": [
    "y_probs = loj_model.predict_proba(X)\n",
    "y_probs = y_probs[:,1]"
   ]
  },
  {
   "cell_type": "code",
   "execution_count": 170,
   "metadata": {},
   "outputs": [
    {
     "data": {
      "text/plain": [
       "array([0.23619234, 0.06013947, 0.53416443, 0.15927495, 0.28609375,\n",
       "       0.29896312, 0.02506317, 0.26284872, 0.09600666, 0.18775095,\n",
       "       0.06112851, 0.32855801, 0.11955323, 0.05708862, 0.03144205])"
      ]
     },
     "execution_count": 170,
     "metadata": {},
     "output_type": "execute_result"
    }
   ],
   "source": [
    "y_probs[695:710]"
   ]
  },
  {
   "cell_type": "markdown",
   "metadata": {},
   "source": [
    "##### thresholdu değiştirme"
   ]
  },
  {
   "cell_type": "code",
   "execution_count": 205,
   "metadata": {},
   "outputs": [],
   "source": [
    "y_pred = [ 1 if i>0.2 else 0 for i in y_probs]"
   ]
  },
  {
   "cell_type": "code",
   "execution_count": 206,
   "metadata": {},
   "outputs": [
    {
     "data": {
      "text/plain": [
       "[1, 0, 1, 0, 1, 1, 0, 1, 0, 0, 0, 1, 0, 0, 0]"
      ]
     },
     "execution_count": 206,
     "metadata": {},
     "output_type": "execute_result"
    }
   ],
   "source": [
    "y_pred[695:710]"
   ]
  },
  {
   "cell_type": "code",
   "execution_count": 207,
   "metadata": {},
   "outputs": [
    {
     "data": {
      "text/plain": [
       "array([[1673,  167],\n",
       "       [ 114,   64]], dtype=int64)"
      ]
     },
     "execution_count": 207,
     "metadata": {},
     "output_type": "execute_result"
    }
   ],
   "source": [
    "confusion_matrix(y,y_pred)"
   ]
  },
  {
   "cell_type": "code",
   "execution_count": 208,
   "metadata": {},
   "outputs": [
    {
     "data": {
      "text/plain": [
       "0.8607532210109019"
      ]
     },
     "execution_count": 208,
     "metadata": {},
     "output_type": "execute_result"
    }
   ],
   "source": [
    "accuracy_score(y, y_pred)"
   ]
  },
  {
   "cell_type": "code",
   "execution_count": 209,
   "metadata": {},
   "outputs": [
    {
     "name": "stdout",
     "output_type": "stream",
     "text": [
      "              precision    recall  f1-score   support\n",
      "\n",
      "           0       0.94      0.91      0.92      1840\n",
      "           1       0.28      0.36      0.31       178\n",
      "\n",
      "    accuracy                           0.86      2018\n",
      "   macro avg       0.61      0.63      0.62      2018\n",
      "weighted avg       0.88      0.86      0.87      2018\n",
      "\n"
     ]
    }
   ],
   "source": [
    "print(classification_report(y,y_pred))"
   ]
  },
  {
   "cell_type": "code",
   "execution_count": 210,
   "metadata": {},
   "outputs": [
    {
     "data": {
      "text/plain": [
       "array([0.06067835, 0.18330063, 0.03415313, 0.17226444, 0.13576763])"
      ]
     },
     "execution_count": 210,
     "metadata": {},
     "output_type": "execute_result"
    }
   ],
   "source": [
    "loj_model.predict_proba(X)[:,1][0:5]"
   ]
  },
  {
   "cell_type": "markdown",
   "metadata": {},
   "source": [
    "### ROC Curve"
   ]
  },
  {
   "cell_type": "code",
   "execution_count": 211,
   "metadata": {},
   "outputs": [
    {
     "data": {
      "image/png": "[encoded data removed]",
      "text/plain": [
       "<Figure size 432x288 with 1 Axes>"
      ]
     },
     "metadata": {
      "needs_background": "light"
     },
     "output_type": "display_data"
    }
   ],
   "source": [
    "fpr, tpr, thresholds = roc_curve(y, loj_model.predict_proba(X)[:,1])\n",
    "\n",
    "plt.figure()\n",
    "plt.plot(fpr, tpr, label='AUC (area = %0.2f)' % logit_roc_auc)\n",
    "plt.plot([0, 1], [0, 1],'r--')\n",
    "plt.xlim([0.0, 1.0])\n",
    "plt.ylim([0.0, 1.05])\n",
    "plt.xlabel('False Positive Oranı')\n",
    "plt.ylabel('True Positive Oranı')\n",
    "plt.title('ROC')\n",
    "plt.show()"
   ]
  },
  {
   "cell_type": "markdown",
   "metadata": {},
   "source": [
    "False Pozitif (Type 1 Error) : iyi müşt demişim ama iyi müşt değillermiş\n",
    "True Pozitif : Kötü müşteri değil demişim ve Kötü müşteri olmayanların oranı"
   ]
  },
  {
   "cell_type": "code",
   "execution_count": 221,
   "metadata": {},
   "outputs": [],
   "source": [
    "logit_roc_auc = roc_auc_score(y, loj_model.predict(X))"
   ]
  },
  {
   "cell_type": "code",
   "execution_count": 213,
   "metadata": {},
   "outputs": [
    {
     "data": {
      "text/plain": [
       "0.4986413043478261"
      ]
     },
     "execution_count": 213,
     "metadata": {},
     "output_type": "execute_result"
    }
   ],
   "source": [
    "# ROC un altında kalan alan\n",
    "logit_roc_auc"
   ]
  },
  {
   "cell_type": "markdown",
   "metadata": {},
   "source": [
    "#### Test Split"
   ]
  },
  {
   "cell_type": "code",
   "execution_count": 224,
   "metadata": {},
   "outputs": [],
   "source": [
    "X_train, X_test, y_train, y_test = train_test_split(X,y, test_size=0.20, random_state=42)"
   ]
  },
  {
   "cell_type": "code",
   "execution_count": 225,
   "metadata": {},
   "outputs": [
    {
     "data": {
      "text/plain": [
       "LogisticRegression(solver='liblinear')"
      ]
     },
     "execution_count": 225,
     "metadata": {},
     "output_type": "execute_result"
    }
   ],
   "source": [
    "loj = LogisticRegression(solver=\"liblinear\")\n",
    "loj_model = loj.fit(X_train, y_train)\n",
    "loj_model"
   ]
  },
  {
   "cell_type": "code",
   "execution_count": 226,
   "metadata": {},
   "outputs": [
    {
     "data": {
      "text/plain": [
       "0.9133663366336634"
      ]
     },
     "execution_count": 226,
     "metadata": {},
     "output_type": "execute_result"
    }
   ],
   "source": [
    "accuracy_score(y_test, loj_model.predict(X_test))"
   ]
  },
  {
   "cell_type": "code",
   "execution_count": 227,
   "metadata": {},
   "outputs": [],
   "source": [
    "y_pred = loj_model.predict(X_test)"
   ]
  },
  {
   "cell_type": "code",
   "execution_count": 228,
   "metadata": {},
   "outputs": [
    {
     "name": "stdout",
     "output_type": "stream",
     "text": [
      "              precision    recall  f1-score   support\n",
      "\n",
      "           0       0.91      1.00      0.95       369\n",
      "           1       0.00      0.00      0.00        35\n",
      "\n",
      "    accuracy                           0.91       404\n",
      "   macro avg       0.46      0.50      0.48       404\n",
      "weighted avg       0.83      0.91      0.87       404\n",
      "\n"
     ]
    }
   ],
   "source": [
    "print(classification_report(y_test,y_pred))"
   ]
  },
  {
   "cell_type": "markdown",
   "metadata": {},
   "source": [
    "##### Cross Validation"
   ]
  },
  {
   "cell_type": "code",
   "execution_count": 229,
   "metadata": {},
   "outputs": [
    {
     "data": {
      "text/plain": [
       "0.9183536585365856"
      ]
     },
     "execution_count": 229,
     "metadata": {},
     "output_type": "execute_result"
    }
   ],
   "source": [
    "cross_val_score(loj_model, X_test, y_test, cv=10).mean()"
   ]
  },
  {
   "cell_type": "markdown",
   "metadata": {},
   "source": [
    "#### R2 Score"
   ]
  },
  {
   "cell_type": "code",
   "execution_count": 237,
   "metadata": {},
   "outputs": [
    {
     "data": {
      "text/plain": [
       "0.2943359702216782"
      ]
     },
     "execution_count": 237,
     "metadata": {},
     "output_type": "execute_result"
    }
   ],
   "source": [
    "from sklearn.metrics import mean_squared_error, r2_score\n",
    "np.sqrt(mean_squared_error(y_pred,y_test))"
   ]
  },
  {
   "cell_type": "code",
   "execution_count": null,
   "metadata": {},
   "outputs": [],
   "source": []
  },
  {
   "cell_type": "code",
   "execution_count": null,
   "metadata": {},
   "outputs": [],
   "source": []
  },
  {
   "cell_type": "code",
   "execution_count": null,
   "metadata": {},
   "outputs": [],
   "source": []
  }
 ],
 "metadata": {
  "kernelspec": {
   "display_name": "Python 3",
   "language": "python",
   "name": "python3"
  },
  "language_info": {
   "codemirror_mode": {
    "name": "ipython",
    "version": 3
   },
   "file_extension": ".py",
   "mimetype": "text/x-python",
   "name": "python",
   "nbconvert_exporter": "python",
   "pygments_lexer": "ipython3",
   "version": "3.7.3"
  }
 },
 "nbformat": 4,
 "nbformat_minor": 4
}
