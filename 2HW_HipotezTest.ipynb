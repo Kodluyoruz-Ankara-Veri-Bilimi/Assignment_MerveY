{
 "cells": [
  {
   "cell_type": "markdown",
   "metadata": {},
   "source": [
    "# Data Description\n",
    "\n",
    "> #### Banka Verisi\n",
    "\n",
    "* Bad = 0 ödenmemiş , Bad = 1 ödenmiş \n",
    "* Loan : Kredi talebi tutarı\n",
    "* Mortdue : Mevcut borç\n",
    "* Value : Mevcut servet\n",
    "* Reason : DebtCon= borç ödemek için / HomeImp = ev kredisi\n",
    "* Job : Müşterinin işi ( 6 kategori var )\n",
    "* Yoj : Müşterinin işindeki senesi\n",
    "* Derog : Raporların sayısı (negatif)\n",
    "* Delinq : Ödenmemiş kredi limit sayısı\n",
    "* Clage : En eski kredi limitinin yaşı\n",
    "* Ninq : Güncel son kredi sorgusunun sayısı\n",
    "* Clnq : kredi limit sayısı\n",
    "* Debtinc : Borç / Gelir orani"
   ]
  },
  {
   "cell_type": "code",
   "execution_count": 2,
   "metadata": {},
   "outputs": [],
   "source": [
    "import numpy as np\n",
    "import pandas as pd\n",
    "import seaborn as sns\n",
    "import pylab\n",
    "import scipy \n",
    "\n",
    "import statsmodels.stats.api as sms\n",
    "\n",
    "import statsmodels.api as sm\n",
    "import scipy.stats as stats\n",
    "\n",
    "import matplotlib.pyplot as plt\n",
    "\n",
    "from scipy import stats\n",
    "from matplotlib.pyplot import plot\n",
    "from scipy.stats import levene\n",
    "from scipy.stats import shapiro\n",
    "\n",
    "\n",
    "from scipy import stats"
   ]
  },
  {
   "cell_type": "code",
   "execution_count": 27,
   "metadata": {},
   "outputs": [],
   "source": [
    "class Information():\n",
    "    \n",
    "    def __init__(self,filename):\n",
    "        data = pd.read_csv(filename)\n",
    "        print(\"**\\n First 5 data: \\n\", data.head())\n",
    "        print(\"** \\n Last 5 data: \\n\", data.tail())\n",
    "        \n",
    "    def describeI(self):\n",
    "        print(\"Data Describe: \\n\",data.describe().T)\n",
    "\n",
    "    def info():\n",
    "        print(\"Data Info: \",data.info())\n",
    "        print(\"Data Lenght: \", data.len())\n",
    "    \n",
    "    def columns(self):\n",
    "        print(\"Data Columns: \",data.columns)\n",
    "\n",
    "    def columnTypes():\n",
    "        print(\"Data Types: \", data.dtypes())\n",
    "        \n",
    "    def nullValues(self):\n",
    "        print(\"Null Values (any): \", self.data.isnull().values.any())\n",
    "        print(\"Null Values (sum): \", self.data.isnull().sum())\n",
    "        \n",
    "    def count(self):\n",
    "        print(\"Count: \",self.data.count())\n",
    "        \n",
    "    def num_data(self):\n",
    "        print(\"Numerical Data: \",self.data.select_dtypes(include=['float64','int64']))\n",
    "    \n",
    "    def cat_data(self):\n",
    "        print(\"Categorical Data: \",self.data.select_dtypes(include=[\"object\"])) \n",
    "        \n",
    "    def shape(self):\n",
    "        print(data.shape)"
   ]
  },
  {
   "cell_type": "markdown",
   "metadata": {},
   "source": [
    "#  1. Load and Read Data"
   ]
  },
  {
   "cell_type": "code",
   "execution_count": 28,
   "metadata": {},
   "outputs": [
    {
     "name": "stdout",
     "output_type": "stream",
     "text": [
      "**\n",
      " First 5 data: \n",
      "    bad   loan   mortdue     value   reason  job   yoj  derog  delinq   clage  \\\n",
      "0    0  81200   18834.0  108355.0  HomeImp  NaN  28.0    0.0     0.0  139.14   \n",
      "1    0  12600  103960.0  127384.0  DebtCon  NaN   2.0    0.0     0.0  129.02   \n",
      "2    0  18000   46865.0   61266.0  DebtCon  NaN   5.0    0.0     0.0  102.59   \n",
      "3    0  10300   57676.0   71027.0  DebtCon  NaN  19.0    0.0     0.0  157.52   \n",
      "4    0   9400   56508.0   78358.0  DebtCon  NaN  17.0    0.0     0.0  141.93   \n",
      "\n",
      "   ninq  clno  debtinc  \n",
      "0   0.0  14.0   34.042  \n",
      "1   0.0  25.0   34.479  \n",
      "2   2.0   9.0   26.354  \n",
      "3   1.0  11.0   33.992  \n",
      "4   0.0  11.0   32.327  \n",
      "** \n",
      " Last 5 data: \n",
      "       bad   loan   mortdue    value   reason   job  yoj  derog  delinq  \\\n",
      "3571    1   8400   31800.0  72000.0  DebtCon  Self  NaN    0.0     2.0   \n",
      "3572    1  21600  154991.0      NaN  DebtCon  Self  NaN    2.0     4.0   \n",
      "3573    1  24000   35000.0      NaN  DebtCon  Self  3.0    1.0     0.0   \n",
      "3574    1  10000       NaN  25010.0  HomeImp  Self  5.0    0.0     3.0   \n",
      "3575    1   5900       NaN  28000.0  DebtCon  Self  1.0    2.0     1.0   \n",
      "\n",
      "       clage  ninq  clno  debtinc  \n",
      "3571  187.27   1.0  21.0      NaN  \n",
      "3572  165.60   0.0  43.0   38.015  \n",
      "3573  177.50   0.0  16.0      NaN  \n",
      "3574  326.13   4.0  17.0      NaN  \n",
      "3575   36.77   1.0   8.0      NaN  \n"
     ]
    }
   ],
   "source": [
    "dataC = Information(\"hmelq.csv\")"
   ]
  },
  {
   "cell_type": "code",
   "execution_count": 31,
   "metadata": {},
   "outputs": [
    {
     "name": "stdout",
     "output_type": "stream",
     "text": [
      "<class 'pandas.core.frame.DataFrame'>\n",
      "RangeIndex: 3576 entries, 0 to 3575\n",
      "Data columns (total 13 columns):\n",
      " #   Column   Non-Null Count  Dtype  \n",
      "---  ------   --------------  -----  \n",
      " 0   bad      3576 non-null   int64  \n",
      " 1   loan     3576 non-null   int64  \n",
      " 2   mortdue  3262 non-null   float64\n",
      " 3   value    3512 non-null   float64\n",
      " 4   reason   3429 non-null   object \n",
      " 5   job      3409 non-null   object \n",
      " 6   yoj      3264 non-null   float64\n",
      " 7   derog    3149 non-null   float64\n",
      " 8   delinq   3225 non-null   float64\n",
      " 9   clage    3397 non-null   float64\n",
      " 10  ninq     3273 non-null   float64\n",
      " 11  clno     3443 non-null   float64\n",
      " 12  debtinc  2809 non-null   float64\n",
      "dtypes: float64(9), int64(2), object(2)\n",
      "memory usage: 363.3+ KB\n"
     ]
    }
   ],
   "source": [
    "df = pd.read_csv(\"hmelq.csv\")\n",
    "\n",
    "# veri hakkında bilgi alma\n",
    "# 3576 x 13 \n",
    "df.info()"
   ]
  },
  {
   "cell_type": "markdown",
   "metadata": {},
   "source": [
    "### Bad iyi - kötü müşteriyi temsil ettiğinden kategorik veri tipine dönüştürme"
   ]
  },
  {
   "cell_type": "code",
   "execution_count": 4,
   "metadata": {},
   "outputs": [
    {
     "data": {
      "text/html": [
       "<div>\n",
       "<style scoped>\n",
       "    .dataframe tbody tr th:only-of-type {\n",
       "        vertical-align: middle;\n",
       "    }\n",
       "\n",
       "    .dataframe tbody tr th {\n",
       "        vertical-align: top;\n",
       "    }\n",
       "\n",
       "    .dataframe thead th {\n",
       "        text-align: right;\n",
       "    }\n",
       "</style>\n",
       "<table border=\"1\" class=\"dataframe\">\n",
       "  <thead>\n",
       "    <tr style=\"text-align: right;\">\n",
       "      <th></th>\n",
       "      <th>bad</th>\n",
       "      <th>loan</th>\n",
       "      <th>mortdue</th>\n",
       "      <th>value</th>\n",
       "      <th>reason</th>\n",
       "      <th>job</th>\n",
       "      <th>yoj</th>\n",
       "      <th>derog</th>\n",
       "      <th>delinq</th>\n",
       "      <th>clage</th>\n",
       "      <th>ninq</th>\n",
       "      <th>clno</th>\n",
       "      <th>debtinc</th>\n",
       "    </tr>\n",
       "  </thead>\n",
       "  <tbody>\n",
       "    <tr>\n",
       "      <th>0</th>\n",
       "      <td>iyi</td>\n",
       "      <td>81200</td>\n",
       "      <td>18834.0</td>\n",
       "      <td>108355.0</td>\n",
       "      <td>HomeImp</td>\n",
       "      <td>NaN</td>\n",
       "      <td>28.0</td>\n",
       "      <td>0.0</td>\n",
       "      <td>0.0</td>\n",
       "      <td>139.14</td>\n",
       "      <td>0.0</td>\n",
       "      <td>14.0</td>\n",
       "      <td>34.042</td>\n",
       "    </tr>\n",
       "    <tr>\n",
       "      <th>1</th>\n",
       "      <td>iyi</td>\n",
       "      <td>12600</td>\n",
       "      <td>103960.0</td>\n",
       "      <td>127384.0</td>\n",
       "      <td>DebtCon</td>\n",
       "      <td>NaN</td>\n",
       "      <td>2.0</td>\n",
       "      <td>0.0</td>\n",
       "      <td>0.0</td>\n",
       "      <td>129.02</td>\n",
       "      <td>0.0</td>\n",
       "      <td>25.0</td>\n",
       "      <td>34.479</td>\n",
       "    </tr>\n",
       "    <tr>\n",
       "      <th>2</th>\n",
       "      <td>iyi</td>\n",
       "      <td>18000</td>\n",
       "      <td>46865.0</td>\n",
       "      <td>61266.0</td>\n",
       "      <td>DebtCon</td>\n",
       "      <td>NaN</td>\n",
       "      <td>5.0</td>\n",
       "      <td>0.0</td>\n",
       "      <td>0.0</td>\n",
       "      <td>102.59</td>\n",
       "      <td>2.0</td>\n",
       "      <td>9.0</td>\n",
       "      <td>26.354</td>\n",
       "    </tr>\n",
       "    <tr>\n",
       "      <th>3</th>\n",
       "      <td>iyi</td>\n",
       "      <td>10300</td>\n",
       "      <td>57676.0</td>\n",
       "      <td>71027.0</td>\n",
       "      <td>DebtCon</td>\n",
       "      <td>NaN</td>\n",
       "      <td>19.0</td>\n",
       "      <td>0.0</td>\n",
       "      <td>0.0</td>\n",
       "      <td>157.52</td>\n",
       "      <td>1.0</td>\n",
       "      <td>11.0</td>\n",
       "      <td>33.992</td>\n",
       "    </tr>\n",
       "    <tr>\n",
       "      <th>4</th>\n",
       "      <td>iyi</td>\n",
       "      <td>9400</td>\n",
       "      <td>56508.0</td>\n",
       "      <td>78358.0</td>\n",
       "      <td>DebtCon</td>\n",
       "      <td>NaN</td>\n",
       "      <td>17.0</td>\n",
       "      <td>0.0</td>\n",
       "      <td>0.0</td>\n",
       "      <td>141.93</td>\n",
       "      <td>0.0</td>\n",
       "      <td>11.0</td>\n",
       "      <td>32.327</td>\n",
       "    </tr>\n",
       "  </tbody>\n",
       "</table>\n",
       "</div>"
      ],
      "text/plain": [
       "   bad   loan   mortdue     value   reason  job   yoj  derog  delinq   clage  \\\n",
       "0  iyi  81200   18834.0  108355.0  HomeImp  NaN  28.0    0.0     0.0  139.14   \n",
       "1  iyi  12600  103960.0  127384.0  DebtCon  NaN   2.0    0.0     0.0  129.02   \n",
       "2  iyi  18000   46865.0   61266.0  DebtCon  NaN   5.0    0.0     0.0  102.59   \n",
       "3  iyi  10300   57676.0   71027.0  DebtCon  NaN  19.0    0.0     0.0  157.52   \n",
       "4  iyi   9400   56508.0   78358.0  DebtCon  NaN  17.0    0.0     0.0  141.93   \n",
       "\n",
       "   ninq  clno  debtinc  \n",
       "0   0.0  14.0   34.042  \n",
       "1   0.0  25.0   34.479  \n",
       "2   2.0   9.0   26.354  \n",
       "3   1.0  11.0   33.992  \n",
       "4   0.0  11.0   32.327  "
      ]
     },
     "execution_count": 4,
     "metadata": {},
     "output_type": "execute_result"
    }
   ],
   "source": [
    "df[\"bad\"] = [ \"iyi\" if each==0 else \"kötü\" for each in df[\"bad\"]]\n",
    "df.head()"
   ]
  },
  {
   "cell_type": "markdown",
   "metadata": {},
   "source": [
    "Veristesindeki kategorik değişkenler :\n",
    "* bad\n",
    "* reason\n",
    "* job"
   ]
  },
  {
   "cell_type": "code",
   "execution_count": 5,
   "metadata": {},
   "outputs": [
    {
     "data": {
      "text/html": [
       "<div>\n",
       "<style scoped>\n",
       "    .dataframe tbody tr th:only-of-type {\n",
       "        vertical-align: middle;\n",
       "    }\n",
       "\n",
       "    .dataframe tbody tr th {\n",
       "        vertical-align: top;\n",
       "    }\n",
       "\n",
       "    .dataframe thead th {\n",
       "        text-align: right;\n",
       "    }\n",
       "</style>\n",
       "<table border=\"1\" class=\"dataframe\">\n",
       "  <thead>\n",
       "    <tr style=\"text-align: right;\">\n",
       "      <th></th>\n",
       "      <th>loan</th>\n",
       "      <th>mortdue</th>\n",
       "      <th>value</th>\n",
       "      <th>yoj</th>\n",
       "      <th>derog</th>\n",
       "      <th>delinq</th>\n",
       "      <th>clage</th>\n",
       "      <th>ninq</th>\n",
       "      <th>clno</th>\n",
       "      <th>debtinc</th>\n",
       "    </tr>\n",
       "  </thead>\n",
       "  <tbody>\n",
       "    <tr>\n",
       "      <th>count</th>\n",
       "      <td>3576.000000</td>\n",
       "      <td>3262.000000</td>\n",
       "      <td>3512.000000</td>\n",
       "      <td>3264.000000</td>\n",
       "      <td>3149.000000</td>\n",
       "      <td>3225.000000</td>\n",
       "      <td>3397.000000</td>\n",
       "      <td>3273.000000</td>\n",
       "      <td>3443.000000</td>\n",
       "      <td>2809.000000</td>\n",
       "    </tr>\n",
       "    <tr>\n",
       "      <th>mean</th>\n",
       "      <td>18529.697987</td>\n",
       "      <td>74013.907992</td>\n",
       "      <td>101076.922759</td>\n",
       "      <td>8.832644</td>\n",
       "      <td>0.261670</td>\n",
       "      <td>0.432558</td>\n",
       "      <td>179.832529</td>\n",
       "      <td>1.186373</td>\n",
       "      <td>21.507116</td>\n",
       "      <td>33.831737</td>\n",
       "    </tr>\n",
       "    <tr>\n",
       "      <th>std</th>\n",
       "      <td>11262.834060</td>\n",
       "      <td>44016.833772</td>\n",
       "      <td>54865.275351</td>\n",
       "      <td>7.568046</td>\n",
       "      <td>0.865178</td>\n",
       "      <td>1.099230</td>\n",
       "      <td>87.066198</td>\n",
       "      <td>1.728723</td>\n",
       "      <td>10.167490</td>\n",
       "      <td>9.061837</td>\n",
       "    </tr>\n",
       "    <tr>\n",
       "      <th>min</th>\n",
       "      <td>1100.000000</td>\n",
       "      <td>2619.000000</td>\n",
       "      <td>8800.000000</td>\n",
       "      <td>0.000000</td>\n",
       "      <td>0.000000</td>\n",
       "      <td>0.000000</td>\n",
       "      <td>0.490000</td>\n",
       "      <td>0.000000</td>\n",
       "      <td>0.000000</td>\n",
       "      <td>0.720000</td>\n",
       "    </tr>\n",
       "    <tr>\n",
       "      <th>25%</th>\n",
       "      <td>11000.000000</td>\n",
       "      <td>46700.250000</td>\n",
       "      <td>65753.000000</td>\n",
       "      <td>3.000000</td>\n",
       "      <td>0.000000</td>\n",
       "      <td>0.000000</td>\n",
       "      <td>115.600000</td>\n",
       "      <td>0.000000</td>\n",
       "      <td>15.000000</td>\n",
       "      <td>29.140000</td>\n",
       "    </tr>\n",
       "    <tr>\n",
       "      <th>50%</th>\n",
       "      <td>16200.000000</td>\n",
       "      <td>65858.000000</td>\n",
       "      <td>89183.000000</td>\n",
       "      <td>7.000000</td>\n",
       "      <td>0.000000</td>\n",
       "      <td>0.000000</td>\n",
       "      <td>173.640000</td>\n",
       "      <td>1.000000</td>\n",
       "      <td>20.000000</td>\n",
       "      <td>34.747000</td>\n",
       "    </tr>\n",
       "    <tr>\n",
       "      <th>75%</th>\n",
       "      <td>23100.000000</td>\n",
       "      <td>91717.000000</td>\n",
       "      <td>118928.250000</td>\n",
       "      <td>13.000000</td>\n",
       "      <td>0.000000</td>\n",
       "      <td>0.000000</td>\n",
       "      <td>230.710000</td>\n",
       "      <td>2.000000</td>\n",
       "      <td>26.000000</td>\n",
       "      <td>38.940000</td>\n",
       "    </tr>\n",
       "    <tr>\n",
       "      <th>max</th>\n",
       "      <td>89900.000000</td>\n",
       "      <td>399550.000000</td>\n",
       "      <td>850000.000000</td>\n",
       "      <td>41.000000</td>\n",
       "      <td>10.000000</td>\n",
       "      <td>15.000000</td>\n",
       "      <td>1168.230000</td>\n",
       "      <td>17.000000</td>\n",
       "      <td>71.000000</td>\n",
       "      <td>203.312000</td>\n",
       "    </tr>\n",
       "  </tbody>\n",
       "</table>\n",
       "</div>"
      ],
      "text/plain": [
       "               loan        mortdue          value          yoj        derog  \\\n",
       "count   3576.000000    3262.000000    3512.000000  3264.000000  3149.000000   \n",
       "mean   18529.697987   74013.907992  101076.922759     8.832644     0.261670   \n",
       "std    11262.834060   44016.833772   54865.275351     7.568046     0.865178   \n",
       "min     1100.000000    2619.000000    8800.000000     0.000000     0.000000   \n",
       "25%    11000.000000   46700.250000   65753.000000     3.000000     0.000000   \n",
       "50%    16200.000000   65858.000000   89183.000000     7.000000     0.000000   \n",
       "75%    23100.000000   91717.000000  118928.250000    13.000000     0.000000   \n",
       "max    89900.000000  399550.000000  850000.000000    41.000000    10.000000   \n",
       "\n",
       "            delinq        clage         ninq         clno      debtinc  \n",
       "count  3225.000000  3397.000000  3273.000000  3443.000000  2809.000000  \n",
       "mean      0.432558   179.832529     1.186373    21.507116    33.831737  \n",
       "std       1.099230    87.066198     1.728723    10.167490     9.061837  \n",
       "min       0.000000     0.490000     0.000000     0.000000     0.720000  \n",
       "25%       0.000000   115.600000     0.000000    15.000000    29.140000  \n",
       "50%       0.000000   173.640000     1.000000    20.000000    34.747000  \n",
       "75%       0.000000   230.710000     2.000000    26.000000    38.940000  \n",
       "max      15.000000  1168.230000    17.000000    71.000000   203.312000  "
      ]
     },
     "execution_count": 5,
     "metadata": {},
     "output_type": "execute_result"
    }
   ],
   "source": [
    "df.describe()"
   ]
  },
  {
   "cell_type": "markdown",
   "metadata": {},
   "source": [
    "# 2. Data Cleaning"
   ]
  },
  {
   "cell_type": "code",
   "execution_count": 6,
   "metadata": {},
   "outputs": [
    {
     "data": {
      "text/plain": [
       "(3576, 13)"
      ]
     },
     "execution_count": 6,
     "metadata": {},
     "output_type": "execute_result"
    }
   ],
   "source": [
    "df.shape"
   ]
  },
  {
   "cell_type": "code",
   "execution_count": 7,
   "metadata": {},
   "outputs": [
    {
     "data": {
      "text/plain": [
       "bad          0\n",
       "loan         0\n",
       "mortdue    314\n",
       "value       64\n",
       "reason     147\n",
       "job        167\n",
       "yoj        312\n",
       "derog      427\n",
       "delinq     351\n",
       "clage      179\n",
       "ninq       303\n",
       "clno       133\n",
       "debtinc    767\n",
       "dtype: int64"
      ]
     },
     "execution_count": 7,
     "metadata": {},
     "output_type": "execute_result"
    }
   ],
   "source": [
    "# Datasetindeki Nan değerlerin sayısınu görme\n",
    "df.isnull().sum()"
   ]
  },
  {
   "cell_type": "code",
   "execution_count": 8,
   "metadata": {},
   "outputs": [
    {
     "data": {
      "text/plain": [
       "(2018, 13)"
      ]
     },
     "execution_count": 8,
     "metadata": {},
     "output_type": "execute_result"
    }
   ],
   "source": [
    "# datasetinden Nan değerleri kaldırma\n",
    "df_2 = df.dropna()\n",
    "df_2.shape\n",
    "\n",
    "# 1558 data (row) silindi"
   ]
  },
  {
   "cell_type": "markdown",
   "metadata": {},
   "source": [
    "# 3. Relationship between the data features"
   ]
  },
  {
   "cell_type": "markdown",
   "metadata": {},
   "source": [
    "## 3.1. Confusion Matrix\n",
    "\n",
    "- Kategorik - Kategorik İlişkiler"
   ]
  },
  {
   "cell_type": "markdown",
   "metadata": {},
   "source": [
    "##### Müşterilerdan kaçı iyi - kaçı kötü profile sahip"
   ]
  },
  {
   "cell_type": "code",
   "execution_count": 9,
   "metadata": {
    "scrolled": true
   },
   "outputs": [
    {
     "data": {
      "text/html": [
       "<div>\n",
       "<style scoped>\n",
       "    .dataframe tbody tr th:only-of-type {\n",
       "        vertical-align: middle;\n",
       "    }\n",
       "\n",
       "    .dataframe tbody tr th {\n",
       "        vertical-align: top;\n",
       "    }\n",
       "\n",
       "    .dataframe thead th {\n",
       "        text-align: right;\n",
       "    }\n",
       "</style>\n",
       "<table border=\"1\" class=\"dataframe\">\n",
       "  <thead>\n",
       "    <tr style=\"text-align: right;\">\n",
       "      <th>bad</th>\n",
       "      <th>iyi</th>\n",
       "      <th>kötü</th>\n",
       "    </tr>\n",
       "  </thead>\n",
       "  <tbody>\n",
       "    <tr>\n",
       "      <th>Pay</th>\n",
       "      <td>1840</td>\n",
       "      <td>0</td>\n",
       "    </tr>\n",
       "    <tr>\n",
       "      <th>NOT Pay</th>\n",
       "      <td>0</td>\n",
       "      <td>178</td>\n",
       "    </tr>\n",
       "  </tbody>\n",
       "</table>\n",
       "</div>"
      ],
      "text/plain": [
       "bad       iyi  kötü\n",
       "Pay      1840     0\n",
       "NOT Pay     0   178"
      ]
     },
     "execution_count": 9,
     "metadata": {},
     "output_type": "execute_result"
    }
   ],
   "source": [
    "# Cross table : ikili ilişikileri görmeyi saglar\n",
    "\n",
    "pay_ORnot = pd.crosstab(index=df_2[\"bad\"], columns=df_2[\"bad\"])\n",
    "pay_ORnot.index = [\"Pay\",\"NOT Pay\"]\n",
    "pay_ORnot"
   ]
  },
  {
   "cell_type": "markdown",
   "metadata": {},
   "source": [
    "1840 müşteri kredisini geri öderken, 178 kişi ödemiyor."
   ]
  },
  {
   "cell_type": "code",
   "execution_count": 10,
   "metadata": {},
   "outputs": [
    {
     "name": "stdout",
     "output_type": "stream",
     "text": [
      "Kötü müşteri oranı 0.08820614469772052\n"
     ]
    }
   ],
   "source": [
    "print(\"Kötü müşteri oranı\",(178 / 2018))"
   ]
  },
  {
   "cell_type": "markdown",
   "metadata": {},
   "source": [
    "##### Müşteri profili - Reason ilişkisine bakma"
   ]
  },
  {
   "cell_type": "code",
   "execution_count": 11,
   "metadata": {},
   "outputs": [
    {
     "data": {
      "text/html": [
       "<div>\n",
       "<style scoped>\n",
       "    .dataframe tbody tr th:only-of-type {\n",
       "        vertical-align: middle;\n",
       "    }\n",
       "\n",
       "    .dataframe tbody tr th {\n",
       "        vertical-align: top;\n",
       "    }\n",
       "\n",
       "    .dataframe thead th {\n",
       "        text-align: right;\n",
       "    }\n",
       "</style>\n",
       "<table border=\"1\" class=\"dataframe\">\n",
       "  <thead>\n",
       "    <tr style=\"text-align: right;\">\n",
       "      <th>reason</th>\n",
       "      <th>DebtCon</th>\n",
       "      <th>HomeImp</th>\n",
       "    </tr>\n",
       "    <tr>\n",
       "      <th>bad</th>\n",
       "      <th></th>\n",
       "      <th></th>\n",
       "    </tr>\n",
       "  </thead>\n",
       "  <tbody>\n",
       "    <tr>\n",
       "      <th>iyi</th>\n",
       "      <td>1304</td>\n",
       "      <td>536</td>\n",
       "    </tr>\n",
       "    <tr>\n",
       "      <th>kötü</th>\n",
       "      <td>124</td>\n",
       "      <td>54</td>\n",
       "    </tr>\n",
       "  </tbody>\n",
       "</table>\n",
       "</div>"
      ],
      "text/plain": [
       "reason  DebtCon  HomeImp\n",
       "bad                     \n",
       "iyi        1304      536\n",
       "kötü        124       54"
      ]
     },
     "execution_count": 11,
     "metadata": {},
     "output_type": "execute_result"
    }
   ],
   "source": [
    "pay_ORnotReason = pd.crosstab(index=df_2[\"bad\"], columns=df_2[\"reason\"])\n",
    "pay_ORnotReason"
   ]
  },
  {
   "cell_type": "code",
   "execution_count": 12,
   "metadata": {
    "scrolled": true
   },
   "outputs": [
    {
     "name": "stdout",
     "output_type": "stream",
     "text": [
      "Ev kredisi alan müşterilerin ödeme oranı : 0.9131652661064426\n",
      "Borç ödemek için kredisi alan müşterilerin ödeme oranı : 0.9403508771929825\n"
     ]
    }
   ],
   "source": [
    "print(\"Ev kredisi alan müşterilerin ödeme oranı :\", 1304/(1304+124))\n",
    "print(\"Borç ödemek için kredisi alan müşterilerin ödeme oranı :\", 536/(536+34))"
   ]
  },
  {
   "cell_type": "code",
   "execution_count": 13,
   "metadata": {},
   "outputs": [
    {
     "data": {
      "text/plain": [
       "<seaborn.axisgrid.FacetGrid at 0x23c21abae10>"
      ]
     },
     "execution_count": 13,
     "metadata": {},
     "output_type": "execute_result"
    },
    {
     "data": {
      "image/png": "[encoded data removed]",
      "text/plain": [
       "<Figure size 720x360 with 2 Axes>"
      ]
     },
     "metadata": {
      "needs_background": "light"
     },
     "output_type": "display_data"
    }
   ],
   "source": [
    "sns.catplot(x=\"bad\", col=\"reason\", data=df_2, palette=\"summer_r\", kind=\"count\")"
   ]
  },
  {
   "cell_type": "markdown",
   "metadata": {},
   "source": [
    "##### Müşteri profili - Job ilişkisine bakma"
   ]
  },
  {
   "cell_type": "code",
   "execution_count": 14,
   "metadata": {
    "scrolled": true
   },
   "outputs": [
    {
     "data": {
      "text/html": [
       "<div>\n",
       "<style scoped>\n",
       "    .dataframe tbody tr th:only-of-type {\n",
       "        vertical-align: middle;\n",
       "    }\n",
       "\n",
       "    .dataframe tbody tr th {\n",
       "        vertical-align: top;\n",
       "    }\n",
       "\n",
       "    .dataframe thead th {\n",
       "        text-align: right;\n",
       "    }\n",
       "</style>\n",
       "<table border=\"1\" class=\"dataframe\">\n",
       "  <thead>\n",
       "    <tr style=\"text-align: right;\">\n",
       "      <th>job</th>\n",
       "      <th>Mgr</th>\n",
       "      <th>Office</th>\n",
       "      <th>Other</th>\n",
       "      <th>ProfEx</th>\n",
       "      <th>Sales</th>\n",
       "      <th>Self</th>\n",
       "    </tr>\n",
       "    <tr>\n",
       "      <th>bad</th>\n",
       "      <th></th>\n",
       "      <th></th>\n",
       "      <th></th>\n",
       "      <th></th>\n",
       "      <th></th>\n",
       "      <th></th>\n",
       "    </tr>\n",
       "  </thead>\n",
       "  <tbody>\n",
       "    <tr>\n",
       "      <th>iyi</th>\n",
       "      <td>242</td>\n",
       "      <td>326</td>\n",
       "      <td>694</td>\n",
       "      <td>504</td>\n",
       "      <td>23</td>\n",
       "      <td>51</td>\n",
       "    </tr>\n",
       "    <tr>\n",
       "      <th>kötü</th>\n",
       "      <td>27</td>\n",
       "      <td>22</td>\n",
       "      <td>80</td>\n",
       "      <td>35</td>\n",
       "      <td>7</td>\n",
       "      <td>7</td>\n",
       "    </tr>\n",
       "  </tbody>\n",
       "</table>\n",
       "</div>"
      ],
      "text/plain": [
       "job   Mgr  Office  Other  ProfEx  Sales  Self\n",
       "bad                                          \n",
       "iyi   242     326    694     504     23    51\n",
       "kötü   27      22     80      35      7     7"
      ]
     },
     "execution_count": 14,
     "metadata": {},
     "output_type": "execute_result"
    }
   ],
   "source": [
    "pay_ORnotJob = pd.crosstab(index=df_2[\"bad\"], columns=df_2[\"job\"])\n",
    "pay_ORnotJob"
   ]
  },
  {
   "cell_type": "markdown",
   "metadata": {},
   "source": [
    "##### 18.07 bu derste yapıldı"
   ]
  },
  {
   "cell_type": "code",
   "execution_count": 15,
   "metadata": {},
   "outputs": [
    {
     "data": {
      "text/html": [
       "<div>\n",
       "<style scoped>\n",
       "    .dataframe tbody tr th:only-of-type {\n",
       "        vertical-align: middle;\n",
       "    }\n",
       "\n",
       "    .dataframe tbody tr th {\n",
       "        vertical-align: top;\n",
       "    }\n",
       "\n",
       "    .dataframe thead th {\n",
       "        text-align: right;\n",
       "    }\n",
       "</style>\n",
       "<table border=\"1\" class=\"dataframe\">\n",
       "  <thead>\n",
       "    <tr style=\"text-align: right;\">\n",
       "      <th>derog</th>\n",
       "      <th>0.0</th>\n",
       "      <th>1.0</th>\n",
       "      <th>2.0</th>\n",
       "      <th>3.0</th>\n",
       "      <th>4.0</th>\n",
       "      <th>6.0</th>\n",
       "      <th>7.0</th>\n",
       "      <th>8.0</th>\n",
       "      <th>10.0</th>\n",
       "    </tr>\n",
       "    <tr>\n",
       "      <th>bad</th>\n",
       "      <th></th>\n",
       "      <th></th>\n",
       "      <th></th>\n",
       "      <th></th>\n",
       "      <th></th>\n",
       "      <th></th>\n",
       "      <th></th>\n",
       "      <th></th>\n",
       "      <th></th>\n",
       "    </tr>\n",
       "  </thead>\n",
       "  <tbody>\n",
       "    <tr>\n",
       "      <th>iyi</th>\n",
       "      <td>1690</td>\n",
       "      <td>107</td>\n",
       "      <td>38</td>\n",
       "      <td>5</td>\n",
       "      <td>0</td>\n",
       "      <td>0</td>\n",
       "      <td>0</td>\n",
       "      <td>0</td>\n",
       "      <td>0</td>\n",
       "    </tr>\n",
       "    <tr>\n",
       "      <th>kötü</th>\n",
       "      <td>133</td>\n",
       "      <td>21</td>\n",
       "      <td>10</td>\n",
       "      <td>7</td>\n",
       "      <td>3</td>\n",
       "      <td>1</td>\n",
       "      <td>1</td>\n",
       "      <td>1</td>\n",
       "      <td>1</td>\n",
       "    </tr>\n",
       "  </tbody>\n",
       "</table>\n",
       "</div>"
      ],
      "text/plain": [
       "derog  0.0   1.0   2.0   3.0   4.0   6.0   7.0   8.0   10.0\n",
       "bad                                                        \n",
       "iyi    1690   107    38     5     0     0     0     0     0\n",
       "kötü    133    21    10     7     3     1     1     1     1"
      ]
     },
     "execution_count": 15,
     "metadata": {},
     "output_type": "execute_result"
    }
   ],
   "source": [
    "derog_bad = pd.crosstab(index=df_2[\"bad\"], columns=df_2[\"derog\"])\n",
    "derog_bad"
   ]
  },
  {
   "cell_type": "code",
   "execution_count": 16,
   "metadata": {},
   "outputs": [
    {
     "data": {
      "text/plain": [
       "[['Item', 'Value'],\n",
       " ['Chi-Square Test', 131.97903032767286],\n",
       " ['P-Value', 1.0997148121548677e-24]]"
      ]
     },
     "execution_count": 16,
     "metadata": {},
     "output_type": "execute_result"
    }
   ],
   "source": [
    "chi2,p, dof, expected = stats.chi2_contingency(derog_bad)\n",
    "results= [\n",
    "    ['Item', 'Value'],\n",
    "    ['Chi-Square Test', chi2],\n",
    "    ['P-Value', p]\n",
    "]\n",
    "\n",
    "results"
   ]
  },
  {
   "cell_type": "markdown",
   "metadata": {},
   "source": [
    "##### 18.07 bu derste yapıldı"
   ]
  },
  {
   "cell_type": "markdown",
   "metadata": {},
   "source": [
    "## 3.2. Correlation\n"
   ]
  },
  {
   "cell_type": "code",
   "execution_count": 17,
   "metadata": {
    "scrolled": true
   },
   "outputs": [
    {
     "data": {
      "text/plain": [
       "<matplotlib.axes._subplots.AxesSubplot at 0x23c22242ac8>"
      ]
     },
     "execution_count": 17,
     "metadata": {},
     "output_type": "execute_result"
    },
    {
     "data": {
      "image/png": "[encoded data removed]",
      "text/plain": [
       "<Figure size 1008x1008 with 2 Axes>"
      ]
     },
     "metadata": {
      "needs_background": "light"
     },
     "output_type": "display_data"
    }
   ],
   "source": [
    "f,ax = plt.subplots(figsize=(14,14))\n",
    "sns.heatmap(df_2.corr(), annot=True, linewidths=.5, fmt='.1f', ax=ax)"
   ]
  },
  {
   "cell_type": "markdown",
   "metadata": {},
   "source": [
    "(+)\n",
    "\n",
    "* value & mortdue arasındaki corr ilişkisi güçlü (0.9)\n",
    "* value & loan arasındaki corr ilişkisi güçlü (0.4)\n",
    "* loan & mortdue arasındaki corr ilişkisi güçlü (0.3)\n",
    "* clno & mortdue arasındaki corr ilişkisi güçlü (0.3)\n",
    "\n",
    "(-)\n",
    "\n",
    "* yoj & derog arasındaki corr ilişkisi zayıf (- 0.1)\n",
    "* clage & derog arasındaki corr ilişkisi zayıf (- 0.1)\n",
    "* clage & ninq arasındaki corr ilişkisi zayıf (- 0.1)"
   ]
  },
  {
   "cell_type": "markdown",
   "metadata": {},
   "source": [
    "## 3.3 Numeric Features"
   ]
  },
  {
   "cell_type": "code",
   "execution_count": 18,
   "metadata": {
    "scrolled": true
   },
   "outputs": [
    {
     "data": {
      "image/png": "[encoded data removed]",
      "text/plain": [
       "<Figure size 1440x720 with 9 Axes>"
      ]
     },
     "metadata": {
      "needs_background": "light"
     },
     "output_type": "display_data"
    }
   ],
   "source": [
    "df_hist=df_2[[\"loan\",\"clno\",'mortdue', \"derog\",\"delinq\",\"clage\",\"value\", \"yoj\", \"debtinc\"]]\n",
    "df_hist.hist(bins=10,figsize=(20,10))\n",
    "plt.show()"
   ]
  },
  {
   "cell_type": "markdown",
   "metadata": {},
   "source": [
    "Normal dağılım : \n",
    "* dage \n",
    "* clno\n",
    "* debtinc\n",
    "\n",
    "Sağdan Çarpık :\n",
    "* delinq\n",
    "* derog \n",
    "* loan\n",
    "* mortdue\n",
    "* value \n",
    "* yoj"
   ]
  },
  {
   "cell_type": "markdown",
   "metadata": {},
   "source": [
    "# 4. Hipotez Test\n",
    "\n",
    "> Tek örneklem T-test"
   ]
  },
  {
   "cell_type": "code",
   "execution_count": 19,
   "metadata": {},
   "outputs": [
    {
     "data": {
      "image/png": "[encoded data removed]",
      "text/plain": [
       "<Figure size 432x288 with 1 Axes>"
      ]
     },
     "metadata": {
      "needs_background": "light"
     },
     "output_type": "display_data"
    }
   ],
   "source": [
    "ax = sns.distplot(df_2[\"loan\"])\n",
    "plt.axvline(np.mean(df_2[\"loan\"]), color=\"k\", linestyle=\"dashed\", linewidth=3)\n",
    "_, max_ = plt.ylim()\n",
    "plt.text(\n",
    "    df_2[\"loan\"].mean() + df_2[\"loan\"].mean()/10,\n",
    "    max_ - max_ / 10,\n",
    "    \"Mean: {:.2f}\".format(df_2[\"loan\"].mean())\n",
    ")\n",
    "plt.show()\n",
    "\n",
    "# Sağdan Çarpık"
   ]
  },
  {
   "cell_type": "markdown",
   "metadata": {},
   "source": [
    "## Hipotez 1 : Loan "
   ]
  },
  {
   "cell_type": "markdown",
   "metadata": {},
   "source": [
    "### QQ Plot"
   ]
  },
  {
   "cell_type": "code",
   "execution_count": 20,
   "metadata": {
    "scrolled": false
   },
   "outputs": [
    {
     "data": {
      "image/png": "[encoded data removed]",
      "text/plain": [
       "<Figure size 432x288 with 1 Axes>"
      ]
     },
     "metadata": {
      "needs_background": "light"
     },
     "output_type": "display_data"
    }
   ],
   "source": [
    "stats.probplot(df_2[\"loan\"], dist=\"norm\", plot=pylab) # normal probability plot\n",
    "pylab.show()"
   ]
  },
  {
   "cell_type": "markdown",
   "metadata": {},
   "source": [
    "Grafiğe göre normal dağılım olup olmadığı gözlemlenememektedir."
   ]
  },
  {
   "cell_type": "markdown",
   "metadata": {},
   "source": [
    "### Shapiro\n",
    "Normal dağılımdan gelip gelmemesinin kontrolü\n",
    "\n",
    "* H0 : Örnek dağılım ile teorik dağılım arasında istatistik olarak anlamlı bir farklılık yoktur.\n",
    "* H1 : Örnek dağılım ile teorik dağılım arasında istatistik olarak anlamlı bir farklılık vardır."
   ]
  },
  {
   "cell_type": "code",
   "execution_count": 21,
   "metadata": {},
   "outputs": [
    {
     "name": "stdout",
     "output_type": "stream",
     "text": [
      "Statistics-0.836, p=0.000\n"
     ]
    }
   ],
   "source": [
    "stats, p = shapiro(df_2[\"loan\"])\n",
    "print('Statistics-%.3f, p=%.3f' % (stats,p))"
   ]
  },
  {
   "cell_type": "markdown",
   "metadata": {},
   "source": [
    "p < 0.05\n",
    "\n",
    "Normallik varsayımı sağlanmadı. T-test yapılmaz.\n"
   ]
  },
  {
   "cell_type": "markdown",
   "metadata": {},
   "source": [
    "### Nonparametrik Tek Örneklem T Testi"
   ]
  },
  {
   "cell_type": "code",
   "execution_count": 22,
   "metadata": {},
   "outputs": [],
   "source": [
    "from statsmodels.stats.descriptivestats import sign_test"
   ]
  },
  {
   "cell_type": "code",
   "execution_count": 23,
   "metadata": {},
   "outputs": [
    {
     "name": "stdout",
     "output_type": "stream",
     "text": [
      "Statistics 1009.000, p=0.000\n"
     ]
    }
   ],
   "source": [
    "stats, p = sign_test(df_2[\"loan\"])\n",
    "print('Statistics %.3f, p=%.3f' % (stats,p))"
   ]
  },
  {
   "cell_type": "markdown",
   "metadata": {},
   "source": [
    "p < 0.05\n",
    "\n",
    "H0 reddedilir.\n",
    "\n",
    "Yani : Örnek dağılım ile teorik dağılım arasında istatistik olarak anlamlı bir farklılık vardır."
   ]
  },
  {
   "cell_type": "markdown",
   "metadata": {},
   "source": [
    "##### Loan feature ayırı edici bir özelliktir."
   ]
  },
  {
   "cell_type": "markdown",
   "metadata": {},
   "source": [
    "## Hipotez 2 : Kredi tutarının ödemeye etkisi"
   ]
  },
  {
   "cell_type": "markdown",
   "metadata": {},
   "source": [
    "H0 = Kredisini ödeyen insanların kredi miktarı ile, Kredisini ödemeyenler insanların kredi miktarı aynıdır\n",
    "\n",
    "H1 = Değildir"
   ]
  },
  {
   "cell_type": "code",
   "execution_count": 24,
   "metadata": {},
   "outputs": [
    {
     "name": "stdout",
     "output_type": "stream",
     "text": [
      "      loan  bad\n",
      "153  18200  iyi\n",
      "154  21700  iyi\n",
      "155  34100  iyi\n",
      "156   8400  iyi\n",
      "157  17400  iyi\n",
      "158  23900  iyi\n",
      "159  19700  iyi\n",
      "160  17300  iyi\n",
      "161  11700  iyi\n",
      "162  25300  iyi\n",
      "163  11300  iyi\n",
      "164  12000  iyi\n",
      "165  17400  iyi\n",
      "166  15800  iyi\n",
      "167   9800  iyi\n",
      "168  25900  iyi\n",
      "169   8500  iyi\n",
      "170  21800  iyi\n",
      "171  28400  iyi\n",
      "172  14300  iyi\n",
      "173  19800  iyi\n",
      "174  15200  iyi\n",
      "175  12300  iyi\n",
      "176  18200  iyi\n",
      "177  32400  iyi\n",
      "178  19500  iyi\n",
      "179  32300  iyi\n",
      "180  21800  iyi\n",
      "181  17000  iyi\n",
      "182  22600  iyi\n",
      "183  23000  iyi\n",
      "184  33100  iyi\n",
      "185   8500  iyi\n",
      "186  31900  iyi\n",
      "187  23300  iyi\n",
      "188  26600  iyi\n",
      "189   9900  iyi\n",
      "190  20100  iyi\n",
      "191  33700  iyi\n",
      "192  39700  iyi\n",
      "193  19300  iyi\n",
      "194  35000  iyi\n",
      "195   8400  iyi\n",
      "196  13800  iyi\n",
      "197  16200  iyi\n",
      "198  13300  iyi\n",
      "199  22800  iyi\n",
      "200  25300  iyi\n",
      "201  15700  iyi\n",
      "202  11900  iyi\n",
      "       loan   bad\n",
      "3070  15300  kötü\n",
      "3071  16500  kötü\n",
      "3072   5900  kötü\n",
      "3073  16500  kötü\n",
      "3074   5500  kötü\n",
      "3075  10300  kötü\n",
      "3076  25900  kötü\n",
      "3077   8000  kötü\n",
      "3078  10000  kötü\n",
      "3080   4900  kötü\n",
      "3081   9300  kötü\n",
      "3082  21700  kötü\n",
      "3083  12000  kötü\n",
      "3084   2900  kötü\n",
      "3085  16100  kötü\n",
      "3086   1800  kötü\n",
      "3087  12400  kötü\n",
      "3088  20500  kötü\n",
      "3089  13400  kötü\n",
      "3090  28500  kötü\n",
      "3091   8000  kötü\n",
      "3092   6100  kötü\n",
      "3093  25900  kötü\n",
      "3094  24900  kötü\n",
      "3095  23200  kötü\n",
      "3096  12200  kötü\n",
      "3097   8800  kötü\n",
      "3098  17400  kötü\n",
      "3099   9000  kötü\n",
      "3100   6700  kötü\n",
      "3101  22700  kötü\n",
      "3102  15100  kötü\n",
      "3103   8100  kötü\n",
      "3104   5200  kötü\n",
      "3105  14700  kötü\n",
      "3106  25400  kötü\n",
      "3107  27700  kötü\n",
      "3108  17100  kötü\n",
      "3109  12000  kötü\n",
      "3110   5000  kötü\n",
      "3111  11700  kötü\n",
      "3112  18700  kötü\n",
      "3113  44000  kötü\n",
      "3114  21400  kötü\n",
      "3115   9900  kötü\n",
      "3116  11200  kötü\n",
      "3117  12400  kötü\n",
      "3118  26000  kötü\n",
      "3119  16800  kötü\n",
      "3120  18600  kötü\n"
     ]
    }
   ],
   "source": [
    "loan_df = df_2[[\"loan\",\"bad\"]]\n",
    "\n",
    "load_iyi = loan_df[:50] # 50 sample\n",
    "load_kötü = loan_df[1900:1950]\n",
    "print(load_iyi)\n",
    "print(load_kötü)"
   ]
  },
  {
   "cell_type": "code",
   "execution_count": 25,
   "metadata": {},
   "outputs": [
    {
     "data": {
      "text/plain": [
       "pandas.core.frame.DataFrame"
      ]
     },
     "execution_count": 25,
     "metadata": {},
     "output_type": "execute_result"
    }
   ],
   "source": [
    "type(load_iyi)"
   ]
  },
  {
   "cell_type": "markdown",
   "metadata": {},
   "source": [
    "### Shapiro"
   ]
  },
  {
   "cell_type": "code",
   "execution_count": 26,
   "metadata": {},
   "outputs": [
    {
     "name": "stdout",
     "output_type": "stream",
     "text": [
      "Statistics-0.955, p=0.055\n"
     ]
    }
   ],
   "source": [
    "stats, p = shapiro(load_iyi[\"loan\"])\n",
    "print('Statistics-%.3f, p=%.3f' % (stats,p))"
   ]
  },
  {
   "cell_type": "markdown",
   "metadata": {},
   "source": [
    "p > 0.05\n",
    "\n",
    "Varsayım sağlanıyor.\n",
    "\n",
    "H0 reddedilemiyor."
   ]
  },
  {
   "cell_type": "code",
   "execution_count": 27,
   "metadata": {},
   "outputs": [
    {
     "name": "stdout",
     "output_type": "stream",
     "text": [
      "Statistics-0.939, p=0.012\n"
     ]
    }
   ],
   "source": [
    "stats, p = shapiro(load_kötü[\"loan\"])\n",
    "print('Statistics-%.3f, p=%.3f' % (stats,p))"
   ]
  },
  {
   "cell_type": "code",
   "execution_count": 28,
   "metadata": {},
   "outputs": [
    {
     "data": {
      "text/plain": [
       "False"
      ]
     },
     "execution_count": 28,
     "metadata": {},
     "output_type": "execute_result"
    }
   ],
   "source": [
    "0.012 > 0.05\n"
   ]
  },
  {
   "cell_type": "markdown",
   "metadata": {},
   "source": [
    "p > 0.05\n",
    "\n",
    "Varsayım sağlanıyor.\n",
    "\n",
    "H0 reddedilemiyor."
   ]
  },
  {
   "cell_type": "markdown",
   "metadata": {},
   "source": [
    "##### Normallik varsayımı sağlandı"
   ]
  },
  {
   "cell_type": "markdown",
   "metadata": {},
   "source": [
    "### Varyans Homojenliği Varsayımı"
   ]
  },
  {
   "cell_type": "markdown",
   "metadata": {},
   "source": [
    "##### levene"
   ]
  },
  {
   "cell_type": "code",
   "execution_count": 29,
   "metadata": {},
   "outputs": [
    {
     "data": {
      "text/plain": [
       "LeveneResult(statistic=0.0029682903818768628, pvalue=0.9566620484214456)"
      ]
     },
     "execution_count": 29,
     "metadata": {},
     "output_type": "execute_result"
    }
   ],
   "source": [
    "levene(load_iyi[\"loan\"], load_kötü[\"loan\"]) #varyanslara bakma"
   ]
  },
  {
   "cell_type": "markdown",
   "metadata": {},
   "source": [
    "p value > 0.05\n",
    "\n",
    "H0 reddedilemez\n",
    "\n",
    "Varyanslar homojendir."
   ]
  },
  {
   "cell_type": "code",
   "execution_count": 30,
   "metadata": {
    "scrolled": true
   },
   "outputs": [
    {
     "ename": "AttributeError",
     "evalue": "'float' object has no attribute 'ttest_ind'",
     "output_type": "error",
     "traceback": [
      "\u001b[1;31m---------------------------------------------------------------------------\u001b[0m",
      "\u001b[1;31mAttributeError\u001b[0m                            Traceback (most recent call last)",
      "\u001b[1;32m<ipython-input-30-de7cad4ede12>\u001b[0m in \u001b[0;36m<module>\u001b[1;34m\u001b[0m\n\u001b[1;32m----> 1\u001b[1;33m \u001b[0mstats\u001b[0m\u001b[1;33m.\u001b[0m\u001b[0mttest_ind\u001b[0m\u001b[1;33m(\u001b[0m\u001b[0mload_iyi\u001b[0m\u001b[1;33m[\u001b[0m\u001b[1;34m\"loan\"\u001b[0m\u001b[1;33m]\u001b[0m\u001b[1;33m,\u001b[0m \u001b[0mload_kötü\u001b[0m\u001b[1;33m[\u001b[0m\u001b[1;34m\"loan\"\u001b[0m\u001b[1;33m]\u001b[0m\u001b[1;33m,\u001b[0m \u001b[0mequal_var\u001b[0m\u001b[1;33m=\u001b[0m\u001b[1;32mTrue\u001b[0m\u001b[1;33m)\u001b[0m\u001b[1;33m\u001b[0m\u001b[1;33m\u001b[0m\u001b[0m\n\u001b[0m",
      "\u001b[1;31mAttributeError\u001b[0m: 'float' object has no attribute 'ttest_ind'"
     ]
    }
   ],
   "source": [
    "stats.ttest_ind(load_iyi[\"loan\"], load_kötü[\"loan\"], equal_var=True)"
   ]
  },
  {
   "cell_type": "markdown",
   "metadata": {},
   "source": [
    "p value < 0.05 \n",
    "\n",
    "Farklılık vardır. \n",
    "\n",
    "H0 hipotezi reddedilir."
   ]
  },
  {
   "cell_type": "markdown",
   "metadata": {},
   "source": [
    "#### YANİ ;\n",
    "* Kredisini ödeyen insanların kredi miktarı ile, Kredisini ödemeyenler insanların kredi miktarı aynı DEĞİLDİR.\n",
    "\n",
    "* LOAN Miktari müşterinin krediyi ödeyip ödememesini etkiliyor."
   ]
  },
  {
   "cell_type": "markdown",
   "metadata": {},
   "source": [
    "## Hipotez 3 : Mevcut borcun kredi ödemesine etkisi"
   ]
  },
  {
   "cell_type": "code",
   "execution_count": null,
   "metadata": {
    "scrolled": true
   },
   "outputs": [],
   "source": [
    "sns.barplot(x=\"bad\", y=\"mortdue\", data=df_2)\n",
    "plt.show()"
   ]
  },
  {
   "cell_type": "markdown",
   "metadata": {},
   "source": [
    "Grafikte etkisi olmadığı gözüküyor. "
   ]
  },
  {
   "cell_type": "markdown",
   "metadata": {},
   "source": [
    "H0 = Mevcut borcun kredi ödemesine etkisi yoktur\n",
    "\n",
    "H1 = Vardır"
   ]
  },
  {
   "cell_type": "code",
   "execution_count": null,
   "metadata": {},
   "outputs": [],
   "source": [
    "mortdue_kötü = df_2[\"mortdue\"][df_2.bad==\"kötü\"]\n",
    "mortdue_iyi = df_2[\"mortdue\"][df_2.bad==\"iyi\"]\n",
    "mortdue_iyi = mortdue_iyi[:178]"
   ]
  },
  {
   "cell_type": "code",
   "execution_count": null,
   "metadata": {},
   "outputs": [],
   "source": [
    "mortdue_iyi.shape"
   ]
  },
  {
   "cell_type": "markdown",
   "metadata": {},
   "source": [
    "### Shapiro"
   ]
  },
  {
   "cell_type": "code",
   "execution_count": null,
   "metadata": {
    "scrolled": true
   },
   "outputs": [],
   "source": [
    "stats, p = shapiro(mortdue_iyi)\n",
    "print('Statistics-%.3f, p=%.3f' % (stats,p))"
   ]
  },
  {
   "cell_type": "markdown",
   "metadata": {},
   "source": [
    "p < 0.05\n",
    "\n",
    "Varsayım sağlanmıyor."
   ]
  },
  {
   "cell_type": "code",
   "execution_count": null,
   "metadata": {
    "scrolled": false
   },
   "outputs": [],
   "source": [
    "stats, p = shapiro(mortdue_kötü)\n",
    "print('Statistics-%.3f, p=%.3f' % (stats,p))"
   ]
  },
  {
   "cell_type": "markdown",
   "metadata": {},
   "source": [
    "p < 0.05\n",
    "\n",
    "Varsayım sağlanmıyor.\n",
    "\n",
    "Normallik varsayımı sağlanmadı"
   ]
  },
  {
   "cell_type": "code",
   "execution_count": null,
   "metadata": {
    "scrolled": true
   },
   "outputs": [],
   "source": [
    "levene(mortdue_iyi, mortdue_kötü) #varyanslara bakma"
   ]
  },
  {
   "cell_type": "markdown",
   "metadata": {},
   "source": [
    "p value > 0.05\n",
    "\n",
    "H0 reddedilemez\n",
    "\n",
    "Varyanslar homojendir."
   ]
  },
  {
   "cell_type": "markdown",
   "metadata": {},
   "source": [
    "### Nonparametrik Bağımsız İki Örneklem T Testi\n",
    "* Normallik varsayımı sağlanmıyorsa bu teste başvurulur"
   ]
  },
  {
   "cell_type": "code",
   "execution_count": null,
   "metadata": {},
   "outputs": [],
   "source": [
    "len(mortdue_iyi)"
   ]
  },
  {
   "cell_type": "code",
   "execution_count": null,
   "metadata": {},
   "outputs": [],
   "source": [
    "A = pd.DataFrame\n",
    "A"
   ]
  },
  {
   "cell_type": "code",
   "execution_count": null,
   "metadata": {},
   "outputs": [],
   "source": [
    "A = mortdue_iyi"
   ]
  },
  {
   "cell_type": "code",
   "execution_count": null,
   "metadata": {},
   "outputs": [],
   "source": [
    "# A ve A'nın grubu\n",
    "GRUP_A = np.arange(len(A))\n",
    "GRUP_A = pd.DataFrame(GRUP_A)\n",
    "GRUP_A[:]=\"iyi\"\n",
    "\n",
    "\n",
    "A = pd.concat([A, GRUP_A], axis=1)\n",
    "A"
   ]
  },
  {
   "cell_type": "code",
   "execution_count": null,
   "metadata": {},
   "outputs": [],
   "source": [
    "test_ist , pvalue = stats.mannwhitneyu(mortdue_iyi, mortdue_kötü)\n",
    "print(\"Test istatistiği = %.4f, pdegeri = %.4f\" % (test_ist , pvalue))"
   ]
  },
  {
   "cell_type": "markdown",
   "metadata": {},
   "source": [
    "-"
   ]
  },
  {
   "cell_type": "markdown",
   "metadata": {},
   "source": [
    "## Hipotez 4 : İşin kredi nedenine etkisi"
   ]
  },
  {
   "cell_type": "code",
   "execution_count": null,
   "metadata": {
    "scrolled": true
   },
   "outputs": [],
   "source": [
    "reasonJob = pd.crosstab(index=df_2[\"reason\"], columns=df_2[\"job\"])\n",
    "reasonJob"
   ]
  },
  {
   "cell_type": "code",
   "execution_count": null,
   "metadata": {
    "scrolled": true
   },
   "outputs": [],
   "source": [
    "sns.countplot(df_2[\"reason\"],hue=df_2[\"job\"], data=df_2)\n",
    "plt.show()"
   ]
  },
  {
   "cell_type": "markdown",
   "metadata": {},
   "source": [
    "Grafikte işin kredi nedenine etkisi yok gibi duruyor.\n",
    "\n",
    "Bunu istatistiksel yaklaşımla şansa bağlı olup olmadığını değerlendirelim."
   ]
  },
  {
   "cell_type": "code",
   "execution_count": null,
   "metadata": {},
   "outputs": [],
   "source": [
    "from scipy.stats import ttest_ind"
   ]
  },
  {
   "cell_type": "markdown",
   "metadata": {},
   "source": [
    "H0 : İşin kredi nedenine etkisi yoktur\n",
    "\n",
    "H1 : İşin kredi nedenine etkisi vardır"
   ]
  },
  {
   "cell_type": "code",
   "execution_count": null,
   "metadata": {},
   "outputs": [],
   "source": [
    "stat, pvalue = shapiro(df_2[\"loan\"])"
   ]
  },
  {
   "cell_type": "code",
   "execution_count": null,
   "metadata": {},
   "outputs": [],
   "source": [
    "pd.crosstab([df_2[\"reason\"],df_2[\"job\"]], df_2[\"bad\"], margins=True).T"
   ]
  },
  {
   "cell_type": "markdown",
   "metadata": {},
   "source": [
    "##### Shapiro Wilks Testi \n",
    "H0 = Örnek dağılım ile teorik dağılım arasında istatistik olarak anlamlı bir farklılık yoktur.\n",
    "\n",
    "H1 =  Örnek dağılım ile teorik dağılım arasında istatistik olarak anlamlı bir farklılık vardır."
   ]
  },
  {
   "cell_type": "code",
   "execution_count": null,
   "metadata": {},
   "outputs": [],
   "source": [
    "stats, p = shapiro(df_2[\"loan\"])\n",
    "print('Statistics-%.3f, p=%.3f' % (stats,p))"
   ]
  }
 ],
 "metadata": {
  "kernelspec": {
   "display_name": "Python 3",
   "language": "python",
   "name": "python3"
  },
  "language_info": {
   "codemirror_mode": {
    "name": "ipython",
    "version": 3
   },
   "file_extension": ".py",
   "mimetype": "text/x-python",
   "name": "python",
   "nbconvert_exporter": "python",
   "pygments_lexer": "ipython3",
   "version": "3.8.3"
  }
 },
 "nbformat": 4,
 "nbformat_minor": 4
}
