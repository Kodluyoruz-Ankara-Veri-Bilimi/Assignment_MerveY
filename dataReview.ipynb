{
 "cells": [
  {
   "cell_type": "markdown",
   "metadata": {},
   "source": [
    "### Create Class for Data Review\n",
    "\n",
    "Kodluyoruz Veri Bilimi 1. ödev"
   ]
  },
  {
   "cell_type": "code",
   "execution_count": 6,
   "metadata": {},
   "outputs": [],
   "source": [
    "# import libraries \n",
    "import pandas as pd\n",
    "import numpy as np \n",
    "import seaborn as sns\n",
    "import matplotlib.pyplot as plt"
   ]
  },
  {
   "cell_type": "code",
   "execution_count": 47,
   "metadata": {},
   "outputs": [],
   "source": [
    "class dataReview():\n",
    "    \n",
    "    def __init__(self,filename):\n",
    "        \n",
    "        data = pd.read_csv(filename)\n",
    "        print(\"***** First 5 data ***** \\n\", data.head())\n",
    "        print(\"\\n ***** Last 5 data ***** \\n\", data.tail())\n",
    "    \n",
    "    def info():\n",
    "        print(\"Data Info \\n\",data.info())\n",
    "        print(\"Data Describe \\n\",data.describe())\n",
    "        print(data.len())\n",
    "        print(data.dtypes())\n",
    "        \n",
    "    \n",
    "    def preprocessing():\n",
    "        \n",
    "        cleaning()\n",
    "        featureEng()\n",
    "        dummy_encoding()    \n",
    "        \n",
    "    def visualization():\n",
    "        \n",
    "        scatterPlot()\n",
    "        boxPlot()\n",
    "        histogramPlot()\n",
    "        heatmapPlot()\n",
    "        subplots"
   ]
  },
  {
   "cell_type": "markdown",
   "metadata": {},
   "source": [
    "### Test with Titanic dataset"
   ]
  },
  {
   "cell_type": "code",
   "execution_count": 48,
   "metadata": {},
   "outputs": [
    {
     "name": "stdout",
     "output_type": "stream",
     "text": [
      "***** First 5 data ***** \n",
      "                                             Name PClass    Age     Sex  \\\n",
      "0                   Allen, Miss Elisabeth Walton    1st  29.00  female   \n",
      "1                    Allison, Miss Helen Loraine    1st   2.00  female   \n",
      "2            Allison, Mr Hudson Joshua Creighton    1st  30.00    male   \n",
      "3  Allison, Mrs Hudson JC (Bessie Waldo Daniels)    1st  25.00  female   \n",
      "4                  Allison, Master Hudson Trevor    1st   0.92    male   \n",
      "\n",
      "   Survived  \n",
      "0         1  \n",
      "1         0  \n",
      "2         0  \n",
      "3         0  \n",
      "4         1  \n",
      "\n",
      " ***** Last 5 data ***** \n",
      "                         Name PClass   Age   Sex  Survived\n",
      "1308      Zakarian, Mr Artun    3rd  27.0  male         0\n",
      "1309  Zakarian, Mr Maprieder    3rd  26.0  male         0\n",
      "1310        Zenni, Mr Philip    3rd  22.0  male         0\n",
      "1311        Lievens, Mr Rene    3rd  24.0  male         0\n",
      "1312          Zimmerman, Leo    3rd  29.0  male         0\n"
     ]
    },
    {
     "data": {
      "text/plain": [
       "<__main__.dataReview at 0x2cbc36b4fd0>"
      ]
     },
     "execution_count": 48,
     "metadata": {},
     "output_type": "execute_result"
    }
   ],
   "source": [
    "# create model\n",
    "\n",
    "dataReview('Titanic.csv')"
   ]
  }
 ],
 "metadata": {
  "kernelspec": {
   "display_name": "Python 3",
   "language": "python",
   "name": "python3"
  },
  "language_info": {
   "codemirror_mode": {
    "name": "ipython",
    "version": 3
   },
   "file_extension": ".py",
   "mimetype": "text/x-python",
   "name": "python",
   "nbconvert_exporter": "python",
   "pygments_lexer": "ipython3",
   "version": "3.7.3"
  }
 },
 "nbformat": 4,
 "nbformat_minor": 4
}
