{
 "cells": [
  {
   "cell_type": "markdown",
   "metadata": {},
   "source": [
    "# SVM & Naive Bayes"
   ]
  },
  {
   "cell_type": "markdown",
   "metadata": {},
   "source": [
    "####  SVC\n",
    "> * Linear\n",
    "> * RBF\n",
    "\n",
    "#### SVR\n",
    "> * RBF"
   ]
  },
  {
   "cell_type": "code",
   "execution_count": 153,
   "metadata": {},
   "outputs": [],
   "source": [
    "import numpy as np\n",
    "import pandas as pd\n",
    "import seaborn as sns\n",
    "from sklearn.preprocessing import scale\n",
    "from sklearn.model_selection import train_test_split, GridSearchCV, cross_val_score\n",
    "from sklearn.metrics import confusion_matrix, accuracy_score, classification_report\n",
    "from sklearn.metrics import roc_auc_score,roc_curve\n",
    "import matplotlib.pyplot as plt\n",
    "from sklearn.discriminant_analysis import LinearDiscriminantAnalysis\n",
    "from sklearn.linear_model import LogisticRegression\n",
    "\n",
    "from sklearn.svm import SVC\n",
    "from sklearn.naive_bayes import GaussianNB, MultinomialNB, BernoulliNB\n",
    "from sklearn import tree\n",
    "from sklearn.ensemble import RandomForestClassifier\n",
    "from sklearn.ensemble import GradientBoostingClassifier\n",
    "from xgboost import XGBClassifier\n",
    "from lightgbm import LGBMClassifier\n",
    "from catboost import CatBoostClassifier\n",
    "\n",
    "from sklearn.tree import DecisionTreeClassifier\n",
    "import sklearn\n",
    "from skompiler import skompile\n",
    "from scipy.stats import shapiro\n",
    "\n",
    "from sklearn.metrics import confusion_matrix, accuracy_score, classification_report\n",
    "from sklearn.metrics import precision_score, recall_score, f1_score\n",
    "\n",
    "from warnings import filterwarnings\n",
    "filterwarnings('ignore')\n",
    "\n",
    "from sklearn.metrics import mean_squared_error \n",
    "from sklearn.metrics import r2_score"
   ]
  },
  {
   "cell_type": "code",
   "execution_count": 17,
   "metadata": {},
   "outputs": [],
   "source": [
    "def snsPlot(df,columnName):\n",
    "    sns.distplot(df[columnName])\n",
    "    plt.show()"
   ]
  },
  {
   "cell_type": "code",
   "execution_count": 101,
   "metadata": {},
   "outputs": [],
   "source": [
    "def shapiroAllData(X):\n",
    "    \n",
    "    for i in X:\n",
    "        stats, p = shapiro(X[i])\n",
    "        if p > 0.05:\n",
    "            print('Örneklem Normal (Gaussian) Dağılımdan gelmektedir (Fail to Reject H0)' + \"--> \"+i)\n",
    "        else:\n",
    "            print('Örneklem Normal (Gaussian) Dağılımdan gelmemektedir (reject H0)'+ \"--> \"+i)"
   ]
  },
  {
   "cell_type": "code",
   "execution_count": 181,
   "metadata": {},
   "outputs": [],
   "source": [
    "def karsilastirmaMNB(mnb_a,mnb_b):\n",
    "    print(\"Multinomial Naive Bayes before tuning: \",mnb_b)\n",
    "    print(\"Multinomial Naive Bayes after tuning \",mnb_a)\n",
    "    \n",
    "    if(gnb_a > mnb_b):\n",
    "        print(\"İyileşme Oranı : \", mnb_a - mnb_b)"
   ]
  },
  {
   "cell_type": "code",
   "execution_count": 143,
   "metadata": {},
   "outputs": [],
   "source": [
    "def karsilastirmaGNB(gnb_a,gnb_b):\n",
    "    print(\"Gaussian Naive Bayes before tuning: \",gnb_b)\n",
    "    print(\"Gaussian Naive Bayes after tuning \",gnb_a)\n",
    "    \n",
    "    if(gnb_a > gnb_b):\n",
    "        print(\"İyileşme Oranı : \", gnb_a - gnb_b)"
   ]
  },
  {
   "cell_type": "code",
   "execution_count": 142,
   "metadata": {},
   "outputs": [],
   "source": [
    "def karsilastirmaSVM(svm_a,svm_b):\n",
    "    print(\"SVM (classification) before tuning: \",svm_b)\n",
    "    print(\"SVM (classification): after tuning \",svm_a)\n",
    "    \n",
    "    if(svm_a > svm_b):\n",
    "        print(\"İyileşme Oranı : \", svm_a - svm_b)"
   ]
  },
  {
   "cell_type": "code",
   "execution_count": 56,
   "metadata": {},
   "outputs": [],
   "source": [
    "def karsilastirmaRBFSVM(rbfsvm_a,rbfsvm_b):\n",
    "    print(\"SVM (classification) before tuning: \",rbfsvm_b)\n",
    "    print(\"SVM (classification): after tuning \",rbfsvm_a)\n",
    "    \n",
    "    if(rbfsvm_a > rbfsvm_b):\n",
    "        print(\"İyileşme Oranı : \", rbfsvm_a - rbfsvm_b)"
   ]
  },
  {
   "cell_type": "code",
   "execution_count": 31,
   "metadata": {},
   "outputs": [],
   "source": [
    "def karsilastirmaRBFSVR(rbfsvr_a, rbfsvr_b):\n",
    "    print(\"RBF-SVR Before Tuning score MSE : \", rbfsvr_b )\n",
    "    print(\"RBF-SVR After Tuning score MSE :\", rbfsvr_a)"
   ]
  },
  {
   "cell_type": "code",
   "execution_count": null,
   "metadata": {},
   "outputs": [],
   "source": [
    "def karsilastirmaLinearSVR(linearsvr_a, linearsvr_b):\n",
    "    print(\"RBF-SVR Before Tuning score MSE : \", linearsvr_b )\n",
    "    print(\"RBF-SVR After Tuning score MSE :\", linearsvr_a)"
   ]
  },
  {
   "cell_type": "code",
   "execution_count": 35,
   "metadata": {},
   "outputs": [],
   "source": [
    "def karsilastirmaLinearSVM(lsvm_a,lsvm_b):\n",
    "    print(\"LinearSVM (classification) before tuning: \",lsvm_b)\n",
    "    print(\"LinearSVM (classification): after tuning \",lsvm_a)\n",
    "    \n",
    "    if(lsvm_a > lsvm_b):\n",
    "        print(\"İyileşme Oranı : \", lsvm_a - lsvm_b)"
   ]
  },
  {
   "cell_type": "code",
   "execution_count": 85,
   "metadata": {},
   "outputs": [],
   "source": [
    "def splitToPosNegNotr(data, columnName):\n",
    "    # pos = 1 , neg = 2, notr= 0\n",
    "\n",
    "    for index in range(len(df['90_target'])):\n",
    "        if df['90_target'][index]>0:\n",
    "            df['90_target'][index]=1  \n",
    "        \n",
    "        elif(df['90_target'][index]<0):\n",
    "            df['90_target'][index]=2\n",
    "        \n",
    "        else:\n",
    "            df['90_target'][index]=0 "
   ]
  },
  {
   "cell_type": "code",
   "execution_count": 22,
   "metadata": {},
   "outputs": [],
   "source": [
    "def karsilastirmaSVR(svr_a, svr_b):\n",
    "    print(\"SVR Before Tuning score MSE : \", svr_b )\n",
    "    print(\"SVR After Tuning score MSE :\", svr_a)"
   ]
  },
  {
   "cell_type": "code",
   "execution_count": 3,
   "metadata": {},
   "outputs": [],
   "source": [
    "def importanceFun(x):\n",
    "    Importance = pd.DataFrame({\"Importance\": x.feature_importances_*100},\n",
    "                          index = xtrain.columns)\n",
    "    Importance.sort_values(by=\"Importance\", axis=0, ascending=True).plot(kind=\"barh\")\n",
    "    plt.xlabel(\"Degisken Onem Duzeyleri\")\n",
    "    plt.show()"
   ]
  },
  {
   "cell_type": "markdown",
   "metadata": {},
   "source": [
    "# SVM"
   ]
  },
  {
   "cell_type": "markdown",
   "metadata": {},
   "source": [
    "# Classification / SVC"
   ]
  },
  {
   "cell_type": "code",
   "execution_count": 5,
   "metadata": {
    "scrolled": true
   },
   "outputs": [
    {
     "data": {
      "text/html": [
       "<div>\n",
       "<style scoped>\n",
       "    .dataframe tbody tr th:only-of-type {\n",
       "        vertical-align: middle;\n",
       "    }\n",
       "\n",
       "    .dataframe tbody tr th {\n",
       "        vertical-align: top;\n",
       "    }\n",
       "\n",
       "    .dataframe thead th {\n",
       "        text-align: right;\n",
       "    }\n",
       "</style>\n",
       "<table border=\"1\" class=\"dataframe\">\n",
       "  <thead>\n",
       "    <tr style=\"text-align: right;\">\n",
       "      <th></th>\n",
       "      <th>0</th>\n",
       "      <th>1</th>\n",
       "      <th>2</th>\n",
       "      <th>3</th>\n",
       "      <th>4</th>\n",
       "      <th>5</th>\n",
       "      <th>6</th>\n",
       "      <th>7</th>\n",
       "      <th>8</th>\n",
       "      <th>9</th>\n",
       "      <th>...</th>\n",
       "      <th>3566</th>\n",
       "      <th>3567</th>\n",
       "      <th>3568</th>\n",
       "      <th>3569</th>\n",
       "      <th>3570</th>\n",
       "      <th>3571</th>\n",
       "      <th>3572</th>\n",
       "      <th>3573</th>\n",
       "      <th>3574</th>\n",
       "      <th>3575</th>\n",
       "    </tr>\n",
       "  </thead>\n",
       "  <tbody>\n",
       "    <tr>\n",
       "      <th>reason</th>\n",
       "      <td>HomeImp</td>\n",
       "      <td>DebtCon</td>\n",
       "      <td>DebtCon</td>\n",
       "      <td>DebtCon</td>\n",
       "      <td>DebtCon</td>\n",
       "      <td>DebtCon</td>\n",
       "      <td>HomeImp</td>\n",
       "      <td>DebtCon</td>\n",
       "      <td>DebtCon</td>\n",
       "      <td>DebtCon</td>\n",
       "      <td>...</td>\n",
       "      <td>HomeImp</td>\n",
       "      <td>DebtCon</td>\n",
       "      <td>DebtCon</td>\n",
       "      <td>NaN</td>\n",
       "      <td>HomeImp</td>\n",
       "      <td>DebtCon</td>\n",
       "      <td>DebtCon</td>\n",
       "      <td>DebtCon</td>\n",
       "      <td>HomeImp</td>\n",
       "      <td>DebtCon</td>\n",
       "    </tr>\n",
       "    <tr>\n",
       "      <th>job</th>\n",
       "      <td>NaN</td>\n",
       "      <td>NaN</td>\n",
       "      <td>NaN</td>\n",
       "      <td>NaN</td>\n",
       "      <td>NaN</td>\n",
       "      <td>NaN</td>\n",
       "      <td>NaN</td>\n",
       "      <td>NaN</td>\n",
       "      <td>NaN</td>\n",
       "      <td>NaN</td>\n",
       "      <td>...</td>\n",
       "      <td>Self</td>\n",
       "      <td>Self</td>\n",
       "      <td>Self</td>\n",
       "      <td>Self</td>\n",
       "      <td>Self</td>\n",
       "      <td>Self</td>\n",
       "      <td>Self</td>\n",
       "      <td>Self</td>\n",
       "      <td>Self</td>\n",
       "      <td>Self</td>\n",
       "    </tr>\n",
       "  </tbody>\n",
       "</table>\n",
       "<p>2 rows × 3576 columns</p>\n",
       "</div>"
      ],
      "text/plain": [
       "           0        1        2        3        4        5        6     \\\n",
       "reason  HomeImp  DebtCon  DebtCon  DebtCon  DebtCon  DebtCon  HomeImp   \n",
       "job         NaN      NaN      NaN      NaN      NaN      NaN      NaN   \n",
       "\n",
       "           7        8        9     ...     3566     3567     3568  3569  \\\n",
       "reason  DebtCon  DebtCon  DebtCon  ...  HomeImp  DebtCon  DebtCon   NaN   \n",
       "job         NaN      NaN      NaN  ...     Self     Self     Self  Self   \n",
       "\n",
       "           3570     3571     3572     3573     3574     3575  \n",
       "reason  HomeImp  DebtCon  DebtCon  DebtCon  HomeImp  DebtCon  \n",
       "job        Self     Self     Self     Self     Self     Self  \n",
       "\n",
       "[2 rows x 3576 columns]"
      ]
     },
     "execution_count": 5,
     "metadata": {},
     "output_type": "execute_result"
    }
   ],
   "source": [
    "data = pd.read_csv(\"hmelq.csv\")\n",
    "df = data.copy()\n",
    "df=df.dropna()\n",
    "\n",
    "data.select_dtypes(include=[\"object\"]).T"
   ]
  },
  {
   "cell_type": "markdown",
   "metadata": {},
   "source": [
    "### Model & Tahmin"
   ]
  },
  {
   "cell_type": "code",
   "execution_count": 6,
   "metadata": {},
   "outputs": [],
   "source": [
    "y=df['bad']\n",
    "dummy_variable=pd.get_dummies(df[['reason','job']])\n",
    "X_ = df.drop(['bad','reason','job'],axis=1).astype('float64')\n",
    "X_.head(0)\n",
    "\n",
    "X = pd.concat((X_,dummy_variable),axis=1)"
   ]
  },
  {
   "cell_type": "code",
   "execution_count": 7,
   "metadata": {},
   "outputs": [],
   "source": [
    "X_train, X_test, y_train, y_test = train_test_split(X,y,\n",
    "                                                    test_size=0.30,\n",
    "                                                    random_state=42)"
   ]
  },
  {
   "cell_type": "code",
   "execution_count": 8,
   "metadata": {},
   "outputs": [],
   "source": [
    "svm_model = SVC(kernel = \"linear\").fit(X_train, y_train)"
   ]
  },
  {
   "cell_type": "code",
   "execution_count": 9,
   "metadata": {},
   "outputs": [
    {
     "data": {
      "text/plain": [
       "0.9207920792079208"
      ]
     },
     "execution_count": 9,
     "metadata": {},
     "output_type": "execute_result"
    }
   ],
   "source": [
    "y_pred = svm_model.predict(X_test)\n",
    "svmc_b = accuracy_score(y_test, y_pred)\n",
    "svmc_b"
   ]
  },
  {
   "cell_type": "code",
   "execution_count": 10,
   "metadata": {},
   "outputs": [
    {
     "name": "stdout",
     "output_type": "stream",
     "text": [
      "              precision    recall  f1-score   support\n",
      "\n",
      "           0       0.92      1.00      0.96       554\n",
      "           1       1.00      0.08      0.14        52\n",
      "\n",
      "    accuracy                           0.92       606\n",
      "   macro avg       0.96      0.54      0.55       606\n",
      "weighted avg       0.93      0.92      0.89       606\n",
      "\n"
     ]
    }
   ],
   "source": [
    "print(classification_report(y_test, y_pred))"
   ]
  },
  {
   "cell_type": "markdown",
   "metadata": {},
   "source": [
    "### Model Tuning"
   ]
  },
  {
   "cell_type": "code",
   "execution_count": 11,
   "metadata": {},
   "outputs": [
    {
     "data": {
      "text/plain": [
       "SVC(kernel='linear')"
      ]
     },
     "execution_count": 11,
     "metadata": {},
     "output_type": "execute_result"
    }
   ],
   "source": [
    "svm_model"
   ]
  },
  {
   "cell_type": "code",
   "execution_count": 13,
   "metadata": {},
   "outputs": [],
   "source": [
    "? svm_model"
   ]
  },
  {
   "cell_type": "code",
   "execution_count": 12,
   "metadata": {},
   "outputs": [
    {
     "name": "stdout",
     "output_type": "stream",
     "text": [
      "Fitting 10 folds for each of 27 candidates, totalling 270 fits\n"
     ]
    },
    {
     "name": "stderr",
     "output_type": "stream",
     "text": [
      "[Parallel(n_jobs=-1)]: Using backend LokyBackend with 8 concurrent workers.\n",
      "[Parallel(n_jobs=-1)]: Done  25 tasks      | elapsed:  4.9min\n",
      "[Parallel(n_jobs=-1)]: Done 146 tasks      | elapsed: 32.2min\n",
      "[Parallel(n_jobs=-1)]: Done 270 out of 270 | elapsed: 62.5min finished\n"
     ]
    },
    {
     "data": {
      "text/plain": [
       "GridSearchCV(cv=10, estimator=SVC(), n_jobs=-1,\n",
       "             param_grid={'C': array([1, 2, 3, 4, 5, 6, 7, 8, 9]),\n",
       "                         'kernel': ['linear', 'rbf', 'poly']},\n",
       "             verbose=2)"
      ]
     },
     "execution_count": 12,
     "metadata": {},
     "output_type": "execute_result"
    }
   ],
   "source": [
    "svc_params = {\"C\": np.arange(1,10), \n",
    "              \"kernel\":[\"linear\", \"rbf\", \"poly\"]}\n",
    "svc = SVC()\n",
    "svc_cv_model = GridSearchCV(svc,svc_params,\n",
    "                          cv=10,\n",
    "                          n_jobs=-1,\n",
    "                          verbose=2)\n",
    "svc_cv_model.fit(X_train, y_train)"
   ]
  },
  {
   "cell_type": "code",
   "execution_count": 14,
   "metadata": {},
   "outputs": [
    {
     "name": "stdout",
     "output_type": "stream",
     "text": [
      "En iyi parametreler {'C': 5, 'kernel': 'linear'}\n"
     ]
    }
   ],
   "source": [
    "print(\"En iyi parametreler \"+ str(svc_cv_model.best_params_))"
   ]
  },
  {
   "cell_type": "code",
   "execution_count": 15,
   "metadata": {},
   "outputs": [],
   "source": [
    "svc_tuned = SVC(kernel = \"linear\", C=5).fit(X_train, y_train)"
   ]
  },
  {
   "cell_type": "code",
   "execution_count": 18,
   "metadata": {},
   "outputs": [
    {
     "data": {
      "text/plain": [
       "0.9207920792079208"
      ]
     },
     "execution_count": 18,
     "metadata": {},
     "output_type": "execute_result"
    }
   ],
   "source": [
    "y_pred = svc_tuned.predict(X_test)\n",
    "svm_a = accuracy_score(y_test, y_pred)\n",
    "svm_a"
   ]
  },
  {
   "cell_type": "code",
   "execution_count": 20,
   "metadata": {},
   "outputs": [
    {
     "name": "stdout",
     "output_type": "stream",
     "text": [
      "              precision    recall  f1-score   support\n",
      "\n",
      "           0       0.92      1.00      0.96       554\n",
      "           1       1.00      0.08      0.14        52\n",
      "\n",
      "    accuracy                           0.92       606\n",
      "   macro avg       0.96      0.54      0.55       606\n",
      "weighted avg       0.93      0.92      0.89       606\n",
      "\n"
     ]
    }
   ],
   "source": [
    "print(classification_report(y_test, y_pred))"
   ]
  },
  {
   "cell_type": "code",
   "execution_count": 25,
   "metadata": {},
   "outputs": [
    {
     "name": "stdout",
     "output_type": "stream",
     "text": [
      "SVM (classification) before tuning:  0.9207920792079208\n",
      "SVM (classification): after tuning  0.9207920792079208\n"
     ]
    }
   ],
   "source": [
    "karsilastirmaSVM(svm_a,svm_b)"
   ]
  },
  {
   "cell_type": "markdown",
   "metadata": {},
   "source": [
    "## # LinearSVC"
   ]
  },
  {
   "cell_type": "code",
   "execution_count": 28,
   "metadata": {},
   "outputs": [],
   "source": [
    "from sklearn.svm import SVC, LinearSVC"
   ]
  },
  {
   "cell_type": "code",
   "execution_count": 29,
   "metadata": {},
   "outputs": [],
   "source": [
    "svm_model = LinearSVC(class_weight={1:2}, multi_class='crammer_singer').fit(X_train, y_train)"
   ]
  },
  {
   "cell_type": "code",
   "execution_count": 42,
   "metadata": {},
   "outputs": [],
   "source": [
    "y_pred = svm_model.predict(X_test)"
   ]
  },
  {
   "cell_type": "code",
   "execution_count": 43,
   "metadata": {},
   "outputs": [
    {
     "data": {
      "text/plain": [
       "0.10396039603960396"
      ]
     },
     "execution_count": 43,
     "metadata": {},
     "output_type": "execute_result"
    }
   ],
   "source": [
    "lsvm_b = accuracy_score(y_test, y_pred)\n",
    "lsvm_b"
   ]
  },
  {
   "cell_type": "markdown",
   "metadata": {},
   "source": [
    "### Model Tuning LinearSVC"
   ]
  },
  {
   "cell_type": "code",
   "execution_count": 37,
   "metadata": {},
   "outputs": [
    {
     "name": "stdout",
     "output_type": "stream",
     "text": [
      "Fitting 10 folds for each of 14 candidates, totalling 140 fits\n"
     ]
    },
    {
     "name": "stderr",
     "output_type": "stream",
     "text": [
      "[Parallel(n_jobs=-1)]: Using backend LokyBackend with 8 concurrent workers.\n",
      "[Parallel(n_jobs=-1)]: Done  34 tasks      | elapsed:    0.5s\n",
      "[Parallel(n_jobs=-1)]: Done 140 out of 140 | elapsed:    1.7s finished\n"
     ]
    },
    {
     "data": {
      "text/plain": [
       "GridSearchCV(cv=10, estimator=LinearSVC(), n_jobs=-1,\n",
       "             param_grid={'C': array([ 1,  2,  3,  4,  5,  6,  7,  8,  9, 10, 11, 12, 13, 14])},\n",
       "             verbose=2)"
      ]
     },
     "execution_count": 37,
     "metadata": {},
     "output_type": "execute_result"
    }
   ],
   "source": [
    "svc_params = {\"C\": np.arange(1,15)}\n",
    "\n",
    "svc = LinearSVC()\n",
    "\n",
    "svc_cv_model = GridSearchCV(svc,svc_params,\n",
    "                          cv=10,\n",
    "                          n_jobs=-1,\n",
    "                          verbose=2)\n",
    "\n",
    "svc_cv_model.fit(X_train, y_train)"
   ]
  },
  {
   "cell_type": "code",
   "execution_count": 38,
   "metadata": {},
   "outputs": [
    {
     "name": "stdout",
     "output_type": "stream",
     "text": [
      "En iyi parametreler : {'C': 6}\n"
     ]
    }
   ],
   "source": [
    "print(\"En iyi parametreler : \" + str(svc_cv_model.best_params_))"
   ]
  },
  {
   "cell_type": "code",
   "execution_count": 39,
   "metadata": {},
   "outputs": [],
   "source": [
    "svc_tuned = SVC(kernel = \"linear\", C=6).fit(X_train, y_train)"
   ]
  },
  {
   "cell_type": "code",
   "execution_count": 40,
   "metadata": {},
   "outputs": [
    {
     "data": {
      "text/plain": [
       "0.9207920792079208"
      ]
     },
     "execution_count": 40,
     "metadata": {},
     "output_type": "execute_result"
    }
   ],
   "source": [
    "y_pred = svc_tuned.predict(X_test)\n",
    "lsvm_a = accuracy_score(y_test, y_pred)\n",
    "lsvm_a"
   ]
  },
  {
   "cell_type": "code",
   "execution_count": 44,
   "metadata": {},
   "outputs": [
    {
     "name": "stdout",
     "output_type": "stream",
     "text": [
      "LinearSVM (classification) before tuning:  0.10396039603960396\n",
      "LinearSVM (classification): after tuning  0.9207920792079208\n",
      "İyileşme Oranı :  0.8168316831683169\n"
     ]
    }
   ],
   "source": [
    "karsilastirmaLinearSVM(lsvm_a,lsvm_b)"
   ]
  },
  {
   "cell_type": "markdown",
   "metadata": {},
   "source": [
    "# RBF SVC"
   ]
  },
  {
   "cell_type": "code",
   "execution_count": 45,
   "metadata": {},
   "outputs": [],
   "source": [
    "svc_model = SVC(kernel=\"rbf\").fit(X_train, y_train)"
   ]
  },
  {
   "cell_type": "code",
   "execution_count": 46,
   "metadata": {},
   "outputs": [
    {
     "data": {
      "text/plain": [
       "LinearSVC(class_weight={1: 2}, multi_class='crammer_singer')"
      ]
     },
     "execution_count": 46,
     "metadata": {},
     "output_type": "execute_result"
    }
   ],
   "source": [
    "svm_model"
   ]
  },
  {
   "cell_type": "code",
   "execution_count": 47,
   "metadata": {},
   "outputs": [
    {
     "data": {
      "text/plain": [
       "0.9207920792079208"
      ]
     },
     "execution_count": 47,
     "metadata": {},
     "output_type": "execute_result"
    }
   ],
   "source": [
    "y_pred = svc_tuned.predict(X_test)\n",
    "rbfsvc_b = accuracy_score(y_test, y_pred)\n",
    "rbfsvc_b"
   ]
  },
  {
   "cell_type": "markdown",
   "metadata": {},
   "source": [
    "### Tuning"
   ]
  },
  {
   "cell_type": "code",
   "execution_count": 48,
   "metadata": {},
   "outputs": [
    {
     "data": {
      "text/plain": [
       "{'C': 1.0,\n",
       " 'class_weight': {1: 2},\n",
       " 'dual': True,\n",
       " 'fit_intercept': True,\n",
       " 'intercept_scaling': 1,\n",
       " 'loss': 'squared_hinge',\n",
       " 'max_iter': 1000,\n",
       " 'multi_class': 'crammer_singer',\n",
       " 'penalty': 'l2',\n",
       " 'random_state': None,\n",
       " 'tol': 0.0001,\n",
       " 'verbose': 0}"
      ]
     },
     "execution_count": 48,
     "metadata": {},
     "output_type": "execute_result"
    }
   ],
   "source": [
    "svm_model.get_params()"
   ]
  },
  {
   "cell_type": "code",
   "execution_count": 54,
   "metadata": {},
   "outputs": [],
   "source": [
    "svc_params = { \"C\": [0.1, 1, 5, 10, 50, 100], \n",
    "             \"gamma\" : [0.001, 0.01, 0.1, 1, 5,10, 50, 100,\n",
    "                       ] }"
   ]
  },
  {
   "cell_type": "code",
   "execution_count": 55,
   "metadata": {},
   "outputs": [
    {
     "name": "stdout",
     "output_type": "stream",
     "text": [
      "Fitting 10 folds for each of 48 candidates, totalling 480 fits\n"
     ]
    },
    {
     "name": "stderr",
     "output_type": "stream",
     "text": [
      "[Parallel(n_jobs=-1)]: Using backend LokyBackend with 8 concurrent workers.\n",
      "[Parallel(n_jobs=-1)]: Done  25 tasks      | elapsed:    0.9s\n",
      "[Parallel(n_jobs=-1)]: Done 146 tasks      | elapsed:    4.7s\n",
      "[Parallel(n_jobs=-1)]: Done 349 tasks      | elapsed:   11.6s\n",
      "[Parallel(n_jobs=-1)]: Done 480 out of 480 | elapsed:   16.2s finished\n"
     ]
    },
    {
     "data": {
      "text/plain": [
       "GridSearchCV(cv=10, estimator=SVC(), n_jobs=-1,\n",
       "             param_grid={'C': [0.1, 1, 5, 10, 50, 100],\n",
       "                         'gamma': [0.001, 0.01, 0.1, 1, 5, 10, 50, 100]},\n",
       "             verbose=2)"
      ]
     },
     "execution_count": 55,
     "metadata": {},
     "output_type": "execute_result"
    }
   ],
   "source": [
    "svc = SVC()\n",
    "\n",
    "svc_cv_model = GridSearchCV(svc,svc_params,\n",
    "                          cv=10,\n",
    "                          n_jobs=-1,\n",
    "                          verbose=2)\n",
    "\n",
    "svc_cv_model.fit(X_train, y_train)"
   ]
  },
  {
   "cell_type": "code",
   "execution_count": 57,
   "metadata": {},
   "outputs": [
    {
     "name": "stdout",
     "output_type": "stream",
     "text": [
      "En iyi parametreler : {'C': 0.1, 'gamma': 0.001}\n"
     ]
    }
   ],
   "source": [
    "print(\"En iyi parametreler : \" + str(svc_cv_model.best_params_))"
   ]
  },
  {
   "cell_type": "code",
   "execution_count": 58,
   "metadata": {},
   "outputs": [],
   "source": [
    "svc_tuned = SVC(C=0.1, gamma = 0.001).fit(X_train, y_train)"
   ]
  },
  {
   "cell_type": "code",
   "execution_count": 59,
   "metadata": {},
   "outputs": [
    {
     "data": {
      "text/plain": [
       "0.9141914191419142"
      ]
     },
     "execution_count": 59,
     "metadata": {},
     "output_type": "execute_result"
    }
   ],
   "source": [
    "y_pred = svc_tuned.predict(X_test)\n",
    "rbfsvc_a = accuracy_score(y_test, y_pred)\n",
    "rbfsvc_a"
   ]
  },
  {
   "cell_type": "code",
   "execution_count": 61,
   "metadata": {},
   "outputs": [
    {
     "name": "stdout",
     "output_type": "stream",
     "text": [
      "SVM (classification) before tuning:  0.9207920792079208\n",
      "SVM (classification): after tuning  0.9141914191419142\n"
     ]
    }
   ],
   "source": [
    "karsilastirmaRBFSVM(rbfsvc_a,rbfsvc_b)"
   ]
  },
  {
   "cell_type": "markdown",
   "metadata": {},
   "source": [
    "##### Tuning sonrası accurarcy düştü"
   ]
  },
  {
   "cell_type": "markdown",
   "metadata": {},
   "source": [
    "# SVR"
   ]
  },
  {
   "cell_type": "markdown",
   "metadata": {},
   "source": [
    "# Regression"
   ]
  },
  {
   "cell_type": "code",
   "execution_count": 3,
   "metadata": {},
   "outputs": [],
   "source": [
    "from sklearn.svm import SVR, LinearSVR"
   ]
  },
  {
   "cell_type": "code",
   "execution_count": 4,
   "metadata": {},
   "outputs": [
    {
     "data": {
      "text/plain": [
       "ind_422      1041\n",
       "ind_420      1041\n",
       "90_target       0\n",
       "ind_50          0\n",
       "ind_61          0\n",
       "             ... \n",
       "ind_309         0\n",
       "ind_310         0\n",
       "ind_311         0\n",
       "ind_313         0\n",
       "ind_5           0\n",
       "Length: 136, dtype: int64"
      ]
     },
     "execution_count": 4,
     "metadata": {},
     "output_type": "execute_result"
    }
   ],
   "source": [
    "data = pd.read_excel(\"HW_Data_Set.xlsx\")\n",
    "df=data.copy()\n",
    "df = df.replace('?',np.NaN)\n",
    "df.isnull().sum().sort_values(ascending=False)"
   ]
  },
  {
   "cell_type": "code",
   "execution_count": 6,
   "metadata": {},
   "outputs": [
    {
     "data": {
      "text/html": [
       "<div>\n",
       "<style scoped>\n",
       "    .dataframe tbody tr th:only-of-type {\n",
       "        vertical-align: middle;\n",
       "    }\n",
       "\n",
       "    .dataframe tbody tr th {\n",
       "        vertical-align: top;\n",
       "    }\n",
       "\n",
       "    .dataframe thead th {\n",
       "        text-align: right;\n",
       "    }\n",
       "</style>\n",
       "<table border=\"1\" class=\"dataframe\">\n",
       "  <thead>\n",
       "    <tr style=\"text-align: right;\">\n",
       "      <th></th>\n",
       "      <th>0</th>\n",
       "      <th>1</th>\n",
       "      <th>2</th>\n",
       "      <th>3</th>\n",
       "      <th>4</th>\n",
       "      <th>5</th>\n",
       "      <th>6</th>\n",
       "      <th>7</th>\n",
       "      <th>8</th>\n",
       "      <th>9</th>\n",
       "      <th>...</th>\n",
       "      <th>6157</th>\n",
       "      <th>6158</th>\n",
       "      <th>6159</th>\n",
       "      <th>6160</th>\n",
       "      <th>6161</th>\n",
       "      <th>6162</th>\n",
       "      <th>6163</th>\n",
       "      <th>6164</th>\n",
       "      <th>6165</th>\n",
       "      <th>6166</th>\n",
       "    </tr>\n",
       "  </thead>\n",
       "  <tbody>\n",
       "    <tr>\n",
       "      <th>ind_109</th>\n",
       "      <td>GREEN</td>\n",
       "      <td>GREEN</td>\n",
       "      <td>GREEN</td>\n",
       "      <td>GREEN</td>\n",
       "      <td>GREEN</td>\n",
       "      <td>GREEN</td>\n",
       "      <td>GREEN</td>\n",
       "      <td>GREEN</td>\n",
       "      <td>RED</td>\n",
       "      <td>RED</td>\n",
       "      <td>...</td>\n",
       "      <td>GREEN</td>\n",
       "      <td>GREEN</td>\n",
       "      <td>GREEN</td>\n",
       "      <td>GREEN</td>\n",
       "      <td>RED</td>\n",
       "      <td>RED</td>\n",
       "      <td>RED</td>\n",
       "      <td>GREEN</td>\n",
       "      <td>GREEN</td>\n",
       "      <td>GREEN</td>\n",
       "    </tr>\n",
       "  </tbody>\n",
       "</table>\n",
       "<p>1 rows × 6167 columns</p>\n",
       "</div>"
      ],
      "text/plain": [
       "          0      1      2      3      4      5      6      7    8    9     \\\n",
       "ind_109  GREEN  GREEN  GREEN  GREEN  GREEN  GREEN  GREEN  GREEN  RED  RED   \n",
       "\n",
       "         ...   6157   6158   6159   6160 6161 6162 6163   6164   6165   6166  \n",
       "ind_109  ...  GREEN  GREEN  GREEN  GREEN  RED  RED  RED  GREEN  GREEN  GREEN  \n",
       "\n",
       "[1 rows x 6167 columns]"
      ]
     },
     "execution_count": 6,
     "metadata": {},
     "output_type": "execute_result"
    }
   ],
   "source": [
    "df.select_dtypes(include=['float64','int64'])\n",
    "df.select_dtypes(include=[\"object\"]).T"
   ]
  },
  {
   "cell_type": "code",
   "execution_count": 5,
   "metadata": {},
   "outputs": [],
   "source": [
    "y_dt = df['90_target']\n",
    "\n",
    "dummy_dt =  pd.get_dummies(df['ind_109'])\n",
    "\n",
    "X_dt = df.drop([\"20_target\",\"50_target\",\"90_target\", \"ind_420\", \"ind_422\",\"ind_109\"],axis=1)\n",
    "X_dt.head(0)\n",
    "\n",
    "X_dt =pd.concat([X_dt,dummy_dt],axis=1)\n",
    "\n",
    "X_train,X_test,y_train,y_test=train_test_split(X_dt,y_dt,\n",
    "                                               test_size=0.30,\n",
    "                                               random_state=42)"
   ]
  },
  {
   "cell_type": "code",
   "execution_count": 6,
   "metadata": {},
   "outputs": [],
   "source": [
    "svr_model = SVR(\"linear\").fit(X_train, y_train)"
   ]
  },
  {
   "cell_type": "code",
   "execution_count": 11,
   "metadata": {},
   "outputs": [
    {
     "data": {
      "text/plain": [
       "array([-14.51522082,  18.31894646,  29.1266955 , -25.47717725,\n",
       "       -10.86195542])"
      ]
     },
     "execution_count": 11,
     "metadata": {},
     "output_type": "execute_result"
    }
   ],
   "source": [
    "svr_model.predict(X_train)[0:5]"
   ]
  },
  {
   "cell_type": "code",
   "execution_count": 12,
   "metadata": {},
   "outputs": [
    {
     "name": "stdout",
     "output_type": "stream",
     "text": [
      " y = 348.10958520105555 + 1.1403906509681292 x\n"
     ]
    }
   ],
   "source": [
    "print(\" y = {0} + {1} x\".format(svr_model.intercept_[0],\n",
    "                               svr_model.coef_[0][0]))"
   ]
  },
  {
   "cell_type": "code",
   "execution_count": 7,
   "metadata": {},
   "outputs": [],
   "source": [
    "y_pred = svr_model.predict(X_test)"
   ]
  },
  {
   "cell_type": "code",
   "execution_count": 15,
   "metadata": {},
   "outputs": [],
   "source": [
    "from sklearn.metrics import mean_squared_error"
   ]
  },
  {
   "cell_type": "code",
   "execution_count": 16,
   "metadata": {
    "scrolled": true
   },
   "outputs": [
    {
     "data": {
      "text/plain": [
       "37.55138851475129"
      ]
     },
     "execution_count": 16,
     "metadata": {},
     "output_type": "execute_result"
    }
   ],
   "source": [
    "svr_b = np.sqrt(mean_squared_error(y_test, y_pred))\n",
    "svr_b"
   ]
  },
  {
   "cell_type": "markdown",
   "metadata": {},
   "source": [
    "# Model Tuning"
   ]
  },
  {
   "cell_type": "code",
   "execution_count": 17,
   "metadata": {},
   "outputs": [
    {
     "data": {
      "text/plain": [
       "SVR(kernel='linear')"
      ]
     },
     "execution_count": 17,
     "metadata": {},
     "output_type": "execute_result"
    }
   ],
   "source": [
    "svr_model"
   ]
  },
  {
   "cell_type": "code",
   "execution_count": 18,
   "metadata": {},
   "outputs": [],
   "source": [
    "svr_params = {\"C\": np.arange(0.1,1,0.1), \n",
    "             \"kernel\":[\"linear\", \"rbf\", \"sigmoid\"]}\n",
    "\n",
    "svr_cv_model = GridSearchCV(svr_model,\n",
    "                            svr_params,\n",
    "                          cv=10).fit(X_train, y_train)"
   ]
  },
  {
   "cell_type": "code",
   "execution_count": 19,
   "metadata": {},
   "outputs": [
    {
     "name": "stdout",
     "output_type": "stream",
     "text": [
      "{'C': 0.1, 'kernel': 'linear'}\n"
     ]
    }
   ],
   "source": [
    "print(svr_cv_model.best_params_)"
   ]
  },
  {
   "cell_type": "code",
   "execution_count": 20,
   "metadata": {},
   "outputs": [],
   "source": [
    "svr_tuned = SVR(C=0.1, kernel=\"linear\").fit(X_train,y_train)\n",
    "y_pred = svr_tuned.predict(X_test)"
   ]
  },
  {
   "cell_type": "code",
   "execution_count": 21,
   "metadata": {},
   "outputs": [
    {
     "data": {
      "text/plain": [
       "37.61581796823838"
      ]
     },
     "execution_count": 21,
     "metadata": {},
     "output_type": "execute_result"
    }
   ],
   "source": [
    "svr_a = np.sqrt(mean_squared_error(y_test, y_pred))\n",
    "svr_a"
   ]
  },
  {
   "cell_type": "code",
   "execution_count": 23,
   "metadata": {},
   "outputs": [
    {
     "name": "stdout",
     "output_type": "stream",
     "text": [
      "SVR Before Tuning score MSE :  37.61581796823838\n",
      "SVR After Tuning score MSE : 37.55138851475129\n"
     ]
    }
   ],
   "source": [
    "karsilastirmaSVR(svr_a, svr_b)"
   ]
  },
  {
   "cell_type": "markdown",
   "metadata": {},
   "source": [
    "# RBF SVR"
   ]
  },
  {
   "cell_type": "code",
   "execution_count": 24,
   "metadata": {},
   "outputs": [
    {
     "data": {
      "text/plain": [
       "ind_422      1041\n",
       "ind_420      1041\n",
       "90_target       0\n",
       "ind_50          0\n",
       "ind_61          0\n",
       "             ... \n",
       "ind_309         0\n",
       "ind_310         0\n",
       "ind_311         0\n",
       "ind_313         0\n",
       "ind_5           0\n",
       "Length: 136, dtype: int64"
      ]
     },
     "execution_count": 24,
     "metadata": {},
     "output_type": "execute_result"
    }
   ],
   "source": [
    "data = pd.read_excel(\"HW_Data_Set.xlsx\")\n",
    "df=data.copy()\n",
    "df = df.replace('?',np.NaN)\n",
    "df.isnull().sum().sort_values(ascending=False)"
   ]
  },
  {
   "cell_type": "code",
   "execution_count": 25,
   "metadata": {},
   "outputs": [],
   "source": [
    "y_dt = df['90_target']\n",
    "\n",
    "dummy_dt =  pd.get_dummies(df['ind_109'])\n",
    "\n",
    "X_dt = df.drop([\"20_target\",\"50_target\",\"90_target\", \"ind_420\", \"ind_422\",\"ind_109\"],axis=1)\n",
    "X_dt.head(0)\n",
    "\n",
    "X_dt =pd.concat([X_dt,dummy_dt],axis=1)\n",
    "\n",
    "X_train,X_test,y_train,y_test=train_test_split(X_dt,y_dt,\n",
    "                                               test_size=0.30,\n",
    "                                               random_state=42)"
   ]
  },
  {
   "cell_type": "code",
   "execution_count": 26,
   "metadata": {},
   "outputs": [],
   "source": [
    "svr_rbf = SVR(\"rbf\").fit(X_train, y_train)"
   ]
  },
  {
   "cell_type": "code",
   "execution_count": 27,
   "metadata": {},
   "outputs": [],
   "source": [
    "y_pred = svr_rbf.predict(X_test)"
   ]
  },
  {
   "cell_type": "code",
   "execution_count": 28,
   "metadata": {},
   "outputs": [
    {
     "data": {
      "text/plain": [
       "45.54672924915332"
      ]
     },
     "execution_count": 28,
     "metadata": {},
     "output_type": "execute_result"
    }
   ],
   "source": [
    "rbfsvr_b = np.sqrt(mean_squared_error(y_test, y_pred))\n",
    "rbfsvr_b"
   ]
  },
  {
   "cell_type": "markdown",
   "metadata": {},
   "source": [
    "## Model Tuning"
   ]
  },
  {
   "cell_type": "code",
   "execution_count": 29,
   "metadata": {},
   "outputs": [
    {
     "data": {
      "text/plain": [
       "{'C': 1.0,\n",
       " 'cache_size': 200,\n",
       " 'coef0': 0.0,\n",
       " 'degree': 3,\n",
       " 'epsilon': 0.1,\n",
       " 'gamma': 'scale',\n",
       " 'kernel': 'rbf',\n",
       " 'max_iter': -1,\n",
       " 'shrinking': True,\n",
       " 'tol': 0.001,\n",
       " 'verbose': False}"
      ]
     },
     "execution_count": 29,
     "metadata": {},
     "output_type": "execute_result"
    }
   ],
   "source": [
    "svr_rbf.get_params()"
   ]
  },
  {
   "cell_type": "code",
   "execution_count": 30,
   "metadata": {},
   "outputs": [
    {
     "data": {
      "text/plain": [
       "GridSearchCV(cv=10, estimator=SVR(),\n",
       "             param_grid={'C': [0.01, 0.1, 0.4, 5, 10, 20, 30, 40, 50]})"
      ]
     },
     "execution_count": 30,
     "metadata": {},
     "output_type": "execute_result"
    }
   ],
   "source": [
    "svr_params = {\"C\": [0.01, 0.1, 0.4, 5, 10, 20,30,40,50]}\n",
    "svr_cv_model = GridSearchCV(svr_rbf,\n",
    "                            svr_params,\n",
    "                          cv=10)\n",
    "svr_cv_model.fit(X_train, y_train)"
   ]
  },
  {
   "cell_type": "code",
   "execution_count": 32,
   "metadata": {},
   "outputs": [],
   "source": [
    "svr_tuned = SVR(\"rbf\", \n",
    "                C = pd.Series(svr_cv_model.best_params_)[0]).fit(X_train, y_train)"
   ]
  },
  {
   "cell_type": "code",
   "execution_count": 33,
   "metadata": {},
   "outputs": [],
   "source": [
    "y_pred = svr_tuned.predict(X_test)"
   ]
  },
  {
   "cell_type": "code",
   "execution_count": 34,
   "metadata": {},
   "outputs": [
    {
     "data": {
      "text/plain": [
       "36.26184642970133"
      ]
     },
     "execution_count": 34,
     "metadata": {},
     "output_type": "execute_result"
    }
   ],
   "source": [
    "rbfsvr_a = np.sqrt(mean_squared_error(y_test, y_pred))\n",
    "rbfsvr_a"
   ]
  },
  {
   "cell_type": "code",
   "execution_count": 35,
   "metadata": {},
   "outputs": [
    {
     "name": "stdout",
     "output_type": "stream",
     "text": [
      "RBF-SVR Before Tuning score MSE :  36.26184642970133\n",
      "RBF-SVR After Tuning score MSE : 45.54672924915332\n"
     ]
    }
   ],
   "source": [
    "karsilastirmaRBFSVR(rbfsvr_a, rbfsvr_b)"
   ]
  },
  {
   "cell_type": "markdown",
   "metadata": {},
   "source": [
    "# Linear SVR"
   ]
  },
  {
   "cell_type": "code",
   "execution_count": 8,
   "metadata": {},
   "outputs": [],
   "source": [
    "svr_linear = SVR(\"linear\").fit(X_train, y_train)"
   ]
  },
  {
   "cell_type": "code",
   "execution_count": 9,
   "metadata": {},
   "outputs": [],
   "source": [
    "y_pred = svr_linear.predict(X_test)"
   ]
  },
  {
   "cell_type": "code",
   "execution_count": 10,
   "metadata": {},
   "outputs": [
    {
     "data": {
      "text/plain": [
       "37.55138851475129"
      ]
     },
     "execution_count": 10,
     "metadata": {},
     "output_type": "execute_result"
    }
   ],
   "source": [
    "linearsvr_b = np.sqrt(mean_squared_error(y_test, y_pred))\n",
    "linearsvr_b"
   ]
  },
  {
   "cell_type": "markdown",
   "metadata": {},
   "source": [
    "### Model Tuning"
   ]
  },
  {
   "cell_type": "code",
   "execution_count": 12,
   "metadata": {},
   "outputs": [
    {
     "data": {
      "text/plain": [
       "{'C': 1.0,\n",
       " 'cache_size': 200,\n",
       " 'coef0': 0.0,\n",
       " 'degree': 3,\n",
       " 'epsilon': 0.1,\n",
       " 'gamma': 'scale',\n",
       " 'kernel': 'linear',\n",
       " 'max_iter': -1,\n",
       " 'shrinking': True,\n",
       " 'tol': 0.001,\n",
       " 'verbose': False}"
      ]
     },
     "execution_count": 12,
     "metadata": {},
     "output_type": "execute_result"
    }
   ],
   "source": [
    "svr_linear.get_params()"
   ]
  },
  {
   "cell_type": "code",
   "execution_count": null,
   "metadata": {},
   "outputs": [],
   "source": [
    "svr_params = {\"C\": [0.01, 5, 10]}\n",
    "svr_cv_model = GridSearchCV(svr_linear,\n",
    "                            svr_params,\n",
    "                          cv=10)\n",
    "\n",
    "svr_cv_model.fit(X_train, y_train)"
   ]
  },
  {
   "cell_type": "code",
   "execution_count": null,
   "metadata": {},
   "outputs": [],
   "source": [
    "svr_tuned = SVR(\"linear\", \n",
    "                C = pd.Series(svr_cv_model.best_params_)[0]).fit(X_train, y_train)"
   ]
  },
  {
   "cell_type": "code",
   "execution_count": null,
   "metadata": {},
   "outputs": [],
   "source": [
    "y_pred = svr_tuned.predict(X_test)"
   ]
  },
  {
   "cell_type": "code",
   "execution_count": null,
   "metadata": {},
   "outputs": [],
   "source": [
    "linearsvr_b = np.sqrt(mean_squared_error(y_test, y_pred))\n",
    "linearsvr_b"
   ]
  },
  {
   "cell_type": "code",
   "execution_count": null,
   "metadata": {},
   "outputs": [],
   "source": [
    "karsilastirmaLinearSVR(linearsvr_a, linearsvr_b)"
   ]
  },
  {
   "cell_type": "markdown",
   "metadata": {},
   "source": [
    "### Karşılaştırma"
   ]
  },
  {
   "cell_type": "code",
   "execution_count": 36,
   "metadata": {},
   "outputs": [
    {
     "name": "stdout",
     "output_type": "stream",
     "text": [
      "SVR Before Tuning score MSE :  37.61581796823838\n",
      "SVR After Tuning score MSE : 37.55138851475129\n"
     ]
    }
   ],
   "source": [
    "karsilastirmaSVR(svr_a, svr_b)\n",
    "karsilastirmaRBFSVR(rbfsvr_a, rbfsvr_b)\n",
    "karsilastirmaLinearSVR(linearsvr_a, linearsvr_b)"
   ]
  },
  {
   "cell_type": "markdown",
   "metadata": {},
   "source": [
    "***"
   ]
  },
  {
   "cell_type": "markdown",
   "metadata": {},
   "source": [
    "# Naive Bayes "
   ]
  },
  {
   "cell_type": "code",
   "execution_count": 114,
   "metadata": {
    "scrolled": true
   },
   "outputs": [],
   "source": [
    "data = pd.read_excel(\"HW_Data_Set.xlsx\")\n",
    "df = data.copy()"
   ]
  },
  {
   "cell_type": "code",
   "execution_count": 16,
   "metadata": {
    "scrolled": true
   },
   "outputs": [
    {
     "data": {
      "text/plain": [
       "90_target    0\n",
       "ind_51       0\n",
       "ind_62       0\n",
       "ind_61       0\n",
       "ind_58       0\n",
       "            ..\n",
       "ind_311      0\n",
       "ind_313      0\n",
       "ind_315      0\n",
       "ind_316      0\n",
       "ind_5        0\n",
       "Length: 136, dtype: int64"
      ]
     },
     "execution_count": 16,
     "metadata": {},
     "output_type": "execute_result"
    }
   ],
   "source": [
    "df.isnull().sum().sort_values(ascending=False)"
   ]
  },
  {
   "cell_type": "markdown",
   "metadata": {},
   "source": [
    "##### Target Visualization"
   ]
  },
  {
   "cell_type": "code",
   "execution_count": 18,
   "metadata": {},
   "outputs": [
    {
     "data": {
      "image/png": "[encoded data removed]",
      "text/plain": [
       "<Figure size 432x288 with 1 Axes>"
      ]
     },
     "metadata": {
      "needs_background": "light"
     },
     "output_type": "display_data"
    }
   ],
   "source": [
    "snsPlot(df,\"90_target\")"
   ]
  },
  {
   "cell_type": "code",
   "execution_count": 19,
   "metadata": {},
   "outputs": [
    {
     "data": {
      "image/png": "[encoded data removed]",
      "text/plain": [
       "<Figure size 432x288 with 1 Axes>"
      ]
     },
     "metadata": {
      "needs_background": "light"
     },
     "output_type": "display_data"
    }
   ],
   "source": [
    "snsPlot(df,\"50_target\")"
   ]
  },
  {
   "cell_type": "code",
   "execution_count": 20,
   "metadata": {},
   "outputs": [
    {
     "data": {
      "image/png": "[encoded data removed]",
      "text/plain": [
       "<Figure size 432x288 with 1 Axes>"
      ]
     },
     "metadata": {
      "needs_background": "light"
     },
     "output_type": "display_data"
    }
   ],
   "source": [
    "snsPlot(df,\"20_target\")"
   ]
  },
  {
   "cell_type": "markdown",
   "metadata": {},
   "source": [
    "### Pozitif / Negatif / Nötr "
   ]
  },
  {
   "cell_type": "markdown",
   "metadata": {},
   "source": [
    "##### Target = 90_target"
   ]
  },
  {
   "cell_type": "code",
   "execution_count": 93,
   "metadata": {},
   "outputs": [
    {
     "data": {
      "text/plain": [
       "0     1.0\n",
       "1     1.0\n",
       "2     2.0\n",
       "3     2.0\n",
       "4     2.0\n",
       "5     2.0\n",
       "6     2.0\n",
       "7     2.0\n",
       "8     2.0\n",
       "9     2.0\n",
       "10    2.0\n",
       "11    2.0\n",
       "12    2.0\n",
       "13    2.0\n",
       "14    2.0\n",
       "15    0.0\n",
       "Name: 90_target, dtype: float64"
      ]
     },
     "execution_count": 93,
     "metadata": {},
     "output_type": "execute_result"
    }
   ],
   "source": [
    "df[\"90_target\"].head(16)"
   ]
  },
  {
   "cell_type": "code",
   "execution_count": 89,
   "metadata": {},
   "outputs": [
    {
     "data": {
      "text/plain": [
       "True"
      ]
     },
     "execution_count": 89,
     "metadata": {},
     "output_type": "execute_result"
    }
   ],
   "source": [
    "df['90_target'][0] > 0"
   ]
  },
  {
   "cell_type": "code",
   "execution_count": 79,
   "metadata": {},
   "outputs": [],
   "source": [
    "posData=[]\n",
    "negData=[]\n",
    "notrData=[]"
   ]
  },
  {
   "cell_type": "code",
   "execution_count": 115,
   "metadata": {},
   "outputs": [],
   "source": [
    "splitToPosNegNotr(df, '90_target')"
   ]
  },
  {
   "cell_type": "code",
   "execution_count": 116,
   "metadata": {},
   "outputs": [
    {
     "data": {
      "text/plain": [
       "0     1.0\n",
       "1     1.0\n",
       "2     2.0\n",
       "3     2.0\n",
       "4     2.0\n",
       "5     2.0\n",
       "6     2.0\n",
       "7     2.0\n",
       "8     2.0\n",
       "9     2.0\n",
       "10    2.0\n",
       "11    2.0\n",
       "12    2.0\n",
       "13    2.0\n",
       "14    2.0\n",
       "15    0.0\n",
       "Name: 90_target, dtype: float64"
      ]
     },
     "execution_count": 116,
     "metadata": {},
     "output_type": "execute_result"
    }
   ],
   "source": [
    "df[\"90_target\"].head(16)"
   ]
  },
  {
   "cell_type": "code",
   "execution_count": 95,
   "metadata": {},
   "outputs": [
    {
     "data": {
      "text/plain": [
       "(6167, 136)"
      ]
     },
     "execution_count": 95,
     "metadata": {},
     "output_type": "execute_result"
    }
   ],
   "source": [
    "df.shape"
   ]
  },
  {
   "cell_type": "code",
   "execution_count": 117,
   "metadata": {},
   "outputs": [
    {
     "data": {
      "text/plain": [
       "(5126, 136)"
      ]
     },
     "execution_count": 117,
     "metadata": {},
     "output_type": "execute_result"
    }
   ],
   "source": [
    "df = df.replace('?',np.NaN)\n",
    "df = df.dropna()\n",
    "df.shape"
   ]
  },
  {
   "cell_type": "code",
   "execution_count": 118,
   "metadata": {
    "scrolled": true
   },
   "outputs": [],
   "source": [
    "y_dt = df['90_target']"
   ]
  },
  {
   "cell_type": "code",
   "execution_count": 119,
   "metadata": {
    "scrolled": true
   },
   "outputs": [],
   "source": [
    "X_dt = df.drop([\"20_target\",\"50_target\",\"90_target\", \"ind_420\", \"ind_422\",'ind_109'],axis=1)\n",
    "X_dt.head(0)\n",
    "\n",
    "df = X_dt.copy()"
   ]
  },
  {
   "cell_type": "code",
   "execution_count": 120,
   "metadata": {},
   "outputs": [],
   "source": [
    "X_train,X_test,y_train,y_test=train_test_split(X_dt,y_dt,\n",
    "                                               test_size=0.30,\n",
    "                                               random_state=42)"
   ]
  },
  {
   "cell_type": "markdown",
   "metadata": {},
   "source": [
    "# Gaussian Naive Bayes"
   ]
  },
  {
   "cell_type": "code",
   "execution_count": 122,
   "metadata": {},
   "outputs": [
    {
     "name": "stdout",
     "output_type": "stream",
     "text": [
      "Örneklem Normal (Gaussian) Dağılımdan gelmemektedir (reject H0)--> ind_5\n",
      "Örneklem Normal (Gaussian) Dağılımdan gelmemektedir (reject H0)--> ind_6\n",
      "Örneklem Normal (Gaussian) Dağılımdan gelmemektedir (reject H0)--> ind_8\n",
      "Örneklem Normal (Gaussian) Dağılımdan gelmemektedir (reject H0)--> ind_9\n",
      "Örneklem Normal (Gaussian) Dağılımdan gelmemektedir (reject H0)--> ind_10\n",
      "Örneklem Normal (Gaussian) Dağılımdan gelmemektedir (reject H0)--> ind_12\n",
      "Örneklem Normal (Gaussian) Dağılımdan gelmemektedir (reject H0)--> ind_13\n",
      "Örneklem Normal (Gaussian) Dağılımdan gelmemektedir (reject H0)--> ind_14\n",
      "Örneklem Normal (Gaussian) Dağılımdan gelmemektedir (reject H0)--> ind_15\n",
      "Örneklem Normal (Gaussian) Dağılımdan gelmemektedir (reject H0)--> ind_16\n",
      "Örneklem Normal (Gaussian) Dağılımdan gelmemektedir (reject H0)--> ind_17\n",
      "Örneklem Normal (Gaussian) Dağılımdan gelmemektedir (reject H0)--> ind_18\n",
      "Örneklem Normal (Gaussian) Dağılımdan gelmemektedir (reject H0)--> ind_19\n",
      "Örneklem Normal (Gaussian) Dağılımdan gelmemektedir (reject H0)--> ind_20\n",
      "Örneklem Normal (Gaussian) Dağılımdan gelmemektedir (reject H0)--> ind_21\n",
      "Örneklem Normal (Gaussian) Dağılımdan gelmemektedir (reject H0)--> ind_22\n",
      "Örneklem Normal (Gaussian) Dağılımdan gelmemektedir (reject H0)--> ind_23\n",
      "Örneklem Normal (Gaussian) Dağılımdan gelmemektedir (reject H0)--> ind_25\n",
      "Örneklem Normal (Gaussian) Dağılımdan gelmemektedir (reject H0)--> ind_26\n",
      "Örneklem Normal (Gaussian) Dağılımdan gelmemektedir (reject H0)--> ind_27\n",
      "Örneklem Normal (Gaussian) Dağılımdan gelmemektedir (reject H0)--> ind_28\n",
      "Örneklem Normal (Gaussian) Dağılımdan gelmemektedir (reject H0)--> ind_29\n",
      "Örneklem Normal (Gaussian) Dağılımdan gelmemektedir (reject H0)--> ind_30\n",
      "Örneklem Normal (Gaussian) Dağılımdan gelmemektedir (reject H0)--> ind_31\n",
      "Örneklem Normal (Gaussian) Dağılımdan gelmemektedir (reject H0)--> ind_32\n",
      "Örneklem Normal (Gaussian) Dağılımdan gelmemektedir (reject H0)--> ind_33\n",
      "Örneklem Normal (Gaussian) Dağılımdan gelmemektedir (reject H0)--> ind_34\n",
      "Örneklem Normal (Gaussian) Dağılımdan gelmemektedir (reject H0)--> ind_35\n",
      "Örneklem Normal (Gaussian) Dağılımdan gelmemektedir (reject H0)--> ind_36\n",
      "Örneklem Normal (Gaussian) Dağılımdan gelmemektedir (reject H0)--> ind_37\n",
      "Örneklem Normal (Gaussian) Dağılımdan gelmemektedir (reject H0)--> ind_39\n",
      "Örneklem Normal (Gaussian) Dağılımdan gelmemektedir (reject H0)--> ind_40\n",
      "Örneklem Normal (Gaussian) Dağılımdan gelmemektedir (reject H0)--> ind_41\n",
      "Örneklem Normal (Gaussian) Dağılımdan gelmemektedir (reject H0)--> ind_42\n",
      "Örneklem Normal (Gaussian) Dağılımdan gelmemektedir (reject H0)--> ind_43\n",
      "Örneklem Normal (Gaussian) Dağılımdan gelmemektedir (reject H0)--> ind_44\n",
      "Örneklem Normal (Gaussian) Dağılımdan gelmemektedir (reject H0)--> ind_45\n",
      "Örneklem Normal (Gaussian) Dağılımdan gelmemektedir (reject H0)--> ind_46\n",
      "Örneklem Normal (Gaussian) Dağılımdan gelmemektedir (reject H0)--> ind_47\n",
      "Örneklem Normal (Gaussian) Dağılımdan gelmemektedir (reject H0)--> ind_48\n",
      "Örneklem Normal (Gaussian) Dağılımdan gelmemektedir (reject H0)--> ind_49\n",
      "Örneklem Normal (Gaussian) Dağılımdan gelmemektedir (reject H0)--> ind_50\n",
      "Örneklem Normal (Gaussian) Dağılımdan gelmemektedir (reject H0)--> ind_51\n",
      "Örneklem Normal (Gaussian) Dağılımdan gelmemektedir (reject H0)--> ind_52\n",
      "Örneklem Normal (Gaussian) Dağılımdan gelmemektedir (reject H0)--> ind_53\n",
      "Örneklem Normal (Gaussian) Dağılımdan gelmemektedir (reject H0)--> ind_56\n",
      "Örneklem Normal (Gaussian) Dağılımdan gelmemektedir (reject H0)--> ind_58\n",
      "Örneklem Normal (Gaussian) Dağılımdan gelmemektedir (reject H0)--> ind_61\n",
      "Örneklem Normal (Gaussian) Dağılımdan gelmemektedir (reject H0)--> ind_62\n",
      "Örneklem Normal (Gaussian) Dağılımdan gelmemektedir (reject H0)--> ind_65\n",
      "Örneklem Normal (Gaussian) Dağılımdan gelmemektedir (reject H0)--> ind_67\n",
      "Örneklem Normal (Gaussian) Dağılımdan gelmemektedir (reject H0)--> ind_70\n",
      "Örneklem Normal (Gaussian) Dağılımdan gelmemektedir (reject H0)--> ind_71\n",
      "Örneklem Normal (Gaussian) Dağılımdan gelmemektedir (reject H0)--> ind_74\n",
      "Örneklem Normal (Gaussian) Dağılımdan gelmemektedir (reject H0)--> ind_77\n",
      "Örneklem Normal (Gaussian) Dağılımdan gelmemektedir (reject H0)--> ind_82\n",
      "Örneklem Normal (Gaussian) Dağılımdan gelmemektedir (reject H0)--> ind_83\n",
      "Örneklem Normal (Gaussian) Dağılımdan gelmemektedir (reject H0)--> ind_88\n",
      "Örneklem Normal (Gaussian) Dağılımdan gelmemektedir (reject H0)--> ind_92\n",
      "Örneklem Normal (Gaussian) Dağılımdan gelmemektedir (reject H0)--> ind_102\n",
      "Örneklem Normal (Gaussian) Dağılımdan gelmemektedir (reject H0)--> ind_116\n",
      "Örneklem Normal (Gaussian) Dağılımdan gelmemektedir (reject H0)--> ind_118\n",
      "Örneklem Normal (Gaussian) Dağılımdan gelmemektedir (reject H0)--> ind_122\n",
      "Örneklem Normal (Gaussian) Dağılımdan gelmemektedir (reject H0)--> ind_124\n",
      "Örneklem Normal (Gaussian) Dağılımdan gelmemektedir (reject H0)--> ind_128\n",
      "Örneklem Normal (Gaussian) Dağılımdan gelmemektedir (reject H0)--> ind_130\n",
      "Örneklem Normal (Gaussian) Dağılımdan gelmemektedir (reject H0)--> ind_132\n",
      "Örneklem Normal (Gaussian) Dağılımdan gelmemektedir (reject H0)--> ind_134\n",
      "Örneklem Normal (Gaussian) Dağılımdan gelmemektedir (reject H0)--> ind_136\n",
      "Örneklem Normal (Gaussian) Dağılımdan gelmemektedir (reject H0)--> ind_139\n",
      "Örneklem Normal (Gaussian) Dağılımdan gelmemektedir (reject H0)--> ind_142\n",
      "Örneklem Normal (Gaussian) Dağılımdan gelmemektedir (reject H0)--> ind_145\n",
      "Örneklem Normal (Gaussian) Dağılımdan gelmemektedir (reject H0)--> ind_147\n",
      "Örneklem Normal (Gaussian) Dağılımdan gelmemektedir (reject H0)--> ind_150\n",
      "Örneklem Normal (Gaussian) Dağılımdan gelmemektedir (reject H0)--> ind_153\n",
      "Örneklem Normal (Gaussian) Dağılımdan gelmemektedir (reject H0)--> ind_156\n",
      "Örneklem Normal (Gaussian) Dağılımdan gelmemektedir (reject H0)--> ind_164\n",
      "Örneklem Normal (Gaussian) Dağılımdan gelmemektedir (reject H0)--> ind_168\n",
      "Örneklem Normal (Gaussian) Dağılımdan gelmemektedir (reject H0)--> ind_172\n",
      "Örneklem Normal (Gaussian) Dağılımdan gelmemektedir (reject H0)--> ind_176\n",
      "Örneklem Normal (Gaussian) Dağılımdan gelmemektedir (reject H0)--> ind_179\n",
      "Örneklem Normal (Gaussian) Dağılımdan gelmemektedir (reject H0)--> ind_181\n",
      "Örneklem Normal (Gaussian) Dağılımdan gelmemektedir (reject H0)--> ind_188\n",
      "Örneklem Normal (Gaussian) Dağılımdan gelmemektedir (reject H0)--> ind_194\n",
      "Örneklem Normal (Gaussian) Dağılımdan gelmemektedir (reject H0)--> ind_212\n",
      "Örneklem Normal (Gaussian) Dağılımdan gelmemektedir (reject H0)--> ind_217\n",
      "Örneklem Normal (Gaussian) Dağılımdan gelmemektedir (reject H0)--> ind_225\n",
      "Örneklem Normal (Gaussian) Dağılımdan gelmemektedir (reject H0)--> ind_228\n",
      "Örneklem Normal (Gaussian) Dağılımdan gelmemektedir (reject H0)--> ind_234\n",
      "Örneklem Normal (Gaussian) Dağılımdan gelmemektedir (reject H0)--> ind_237\n",
      "Örneklem Normal (Gaussian) Dağılımdan gelmemektedir (reject H0)--> ind_239\n",
      "Örneklem Normal (Gaussian) Dağılımdan gelmemektedir (reject H0)--> ind_241\n",
      "Örneklem Normal (Gaussian) Dağılımdan gelmemektedir (reject H0)--> ind_243\n",
      "Örneklem Normal (Gaussian) Dağılımdan gelmemektedir (reject H0)--> ind_309\n",
      "Örneklem Normal (Gaussian) Dağılımdan gelmemektedir (reject H0)--> ind_310\n",
      "Örneklem Normal (Gaussian) Dağılımdan gelmemektedir (reject H0)--> ind_311\n",
      "Örneklem Normal (Gaussian) Dağılımdan gelmemektedir (reject H0)--> ind_313\n",
      "Örneklem Normal (Gaussian) Dağılımdan gelmemektedir (reject H0)--> ind_315\n",
      "Örneklem Normal (Gaussian) Dağılımdan gelmemektedir (reject H0)--> ind_316\n",
      "Örneklem Normal (Gaussian) Dağılımdan gelmemektedir (reject H0)--> ind_318\n",
      "Örneklem Normal (Gaussian) Dağılımdan gelmemektedir (reject H0)--> ind_321\n",
      "Örneklem Normal (Gaussian) Dağılımdan gelmemektedir (reject H0)--> ind_324\n",
      "Örneklem Normal (Gaussian) Dağılımdan gelmemektedir (reject H0)--> ind_327\n",
      "Örneklem Normal (Gaussian) Dağılımdan gelmemektedir (reject H0)--> ind_330\n",
      "Örneklem Normal (Gaussian) Dağılımdan gelmemektedir (reject H0)--> ind_332\n",
      "Örneklem Normal (Gaussian) Dağılımdan gelmemektedir (reject H0)--> ind_334\n",
      "Örneklem Normal (Gaussian) Dağılımdan gelmemektedir (reject H0)--> ind_338\n",
      "Örneklem Normal (Gaussian) Dağılımdan gelmemektedir (reject H0)--> ind_340\n",
      "Örneklem Normal (Gaussian) Dağılımdan gelmemektedir (reject H0)--> ind_344\n",
      "Örneklem Normal (Gaussian) Dağılımdan gelmemektedir (reject H0)--> ind_345\n",
      "Örneklem Normal (Gaussian) Dağılımdan gelmemektedir (reject H0)--> ind_347\n",
      "Örneklem Normal (Gaussian) Dağılımdan gelmemektedir (reject H0)--> ind_349\n",
      "Örneklem Normal (Gaussian) Dağılımdan gelmemektedir (reject H0)--> ind_351\n",
      "Örneklem Normal (Gaussian) Dağılımdan gelmemektedir (reject H0)--> ind_352\n",
      "Örneklem Normal (Gaussian) Dağılımdan gelmemektedir (reject H0)--> ind_387\n",
      "Örneklem Normal (Gaussian) Dağılımdan gelmemektedir (reject H0)--> ind_392\n",
      "Örneklem Normal (Gaussian) Dağılımdan gelmemektedir (reject H0)--> ind_397\n",
      "Örneklem Normal (Gaussian) Dağılımdan gelmemektedir (reject H0)--> ind_399\n",
      "Örneklem Normal (Gaussian) Dağılımdan gelmemektedir (reject H0)--> ind_403\n",
      "Örneklem Normal (Gaussian) Dağılımdan gelmemektedir (reject H0)--> ind_404\n",
      "Örneklem Normal (Gaussian) Dağılımdan gelmemektedir (reject H0)--> ind_406\n",
      "Örneklem Normal (Gaussian) Dağılımdan gelmemektedir (reject H0)--> ind_407\n",
      "Örneklem Normal (Gaussian) Dağılımdan gelmemektedir (reject H0)--> ind_410\n",
      "Örneklem Normal (Gaussian) Dağılımdan gelmemektedir (reject H0)--> ind_412\n",
      "Örneklem Normal (Gaussian) Dağılımdan gelmemektedir (reject H0)--> ind_414\n",
      "Örneklem Normal (Gaussian) Dağılımdan gelmemektedir (reject H0)--> ind_416\n",
      "Örneklem Normal (Gaussian) Dağılımdan gelmemektedir (reject H0)--> ind_418\n",
      "Örneklem Normal (Gaussian) Dağılımdan gelmemektedir (reject H0)--> ind_424\n",
      "Örneklem Normal (Gaussian) Dağılımdan gelmemektedir (reject H0)--> ind_426\n",
      "Örneklem Normal (Gaussian) Dağılımdan gelmemektedir (reject H0)--> ind_428\n"
     ]
    }
   ],
   "source": [
    "shapiroAllData(df)"
   ]
  },
  {
   "cell_type": "code",
   "execution_count": 123,
   "metadata": {},
   "outputs": [],
   "source": [
    "from sklearn.preprocessing import MinMaxScaler"
   ]
  },
  {
   "cell_type": "code",
   "execution_count": 124,
   "metadata": {},
   "outputs": [],
   "source": [
    "scaler = MinMaxScaler()\n",
    "scaler.fit(X_train)\n",
    "X_train_scaled = scaler.transform(X_train)\n",
    "X_test_scaled = scaler.transform(X_test)"
   ]
  },
  {
   "cell_type": "code",
   "execution_count": 125,
   "metadata": {},
   "outputs": [
    {
     "data": {
      "text/plain": [
       "GaussianNB()"
      ]
     },
     "execution_count": 125,
     "metadata": {},
     "output_type": "execute_result"
    }
   ],
   "source": [
    "nb = GaussianNB()\n",
    "nb_model = nb.fit(X_train, y_train)\n",
    "nb_model"
   ]
  },
  {
   "cell_type": "code",
   "execution_count": 126,
   "metadata": {},
   "outputs": [
    {
     "data": {
      "text/plain": [
       "array([1., 1., 2., 1., 1., 1., 1., 1., 1., 1.])"
      ]
     },
     "execution_count": 126,
     "metadata": {},
     "output_type": "execute_result"
    }
   ],
   "source": [
    "nb_model.predict(X_test)[0:10]"
   ]
  },
  {
   "cell_type": "code",
   "execution_count": 127,
   "metadata": {},
   "outputs": [
    {
     "data": {
      "text/plain": [
       "array([[1.54811252e-46, 9.99511332e-01, 4.88668440e-04],\n",
       "       [3.15736537e-28, 9.88451753e-01, 1.15482474e-02],\n",
       "       [0.00000000e+00, 3.40125666e-01, 6.59874334e-01],\n",
       "       [1.38791834e-22, 9.99997596e-01, 2.40373874e-06],\n",
       "       [8.61560857e-44, 1.00000000e+00, 1.15637889e-12],\n",
       "       [1.33324403e-11, 9.99999988e-01, 1.18843448e-08],\n",
       "       [0.00000000e+00, 5.35889495e-01, 4.64110505e-01],\n",
       "       [1.37123493e-01, 8.62867590e-01, 8.91705258e-06],\n",
       "       [0.00000000e+00, 9.99900037e-01, 9.99627899e-05],\n",
       "       [5.28292880e-44, 9.99999347e-01, 6.52652701e-07]])"
      ]
     },
     "execution_count": 127,
     "metadata": {},
     "output_type": "execute_result"
    }
   ],
   "source": [
    "nb_model.predict_proba(X_test)[0:10]"
   ]
  },
  {
   "cell_type": "code",
   "execution_count": 128,
   "metadata": {},
   "outputs": [],
   "source": [
    "y_pred = nb_model.predict(X_test)"
   ]
  },
  {
   "cell_type": "code",
   "execution_count": 129,
   "metadata": {},
   "outputs": [
    {
     "data": {
      "text/plain": [
       "0.39011703511053314"
      ]
     },
     "execution_count": 129,
     "metadata": {},
     "output_type": "execute_result"
    }
   ],
   "source": [
    "gnb_b = accuracy_score(y_test, y_pred)\n",
    "gnb_b"
   ]
  },
  {
   "cell_type": "code",
   "execution_count": 130,
   "metadata": {},
   "outputs": [
    {
     "data": {
      "text/plain": [
       "0.36542313895255074"
      ]
     },
     "execution_count": 130,
     "metadata": {},
     "output_type": "execute_result"
    }
   ],
   "source": [
    "cross_val_score(nb_model, X_test, y_test, cv=10).mean()"
   ]
  },
  {
   "cell_type": "markdown",
   "metadata": {},
   "source": [
    "## Model Tuning"
   ]
  },
  {
   "cell_type": "code",
   "execution_count": 133,
   "metadata": {},
   "outputs": [
    {
     "data": {
      "text/plain": [
       "GridSearchCV(cv=10, estimator=GaussianNB(),\n",
       "             param_grid={'priors': [(0.1, 0.3, 0.6), (0.3, 0.5, 0.2),\n",
       "                                    (0.7, 0.2, 0.1)]})"
      ]
     },
     "execution_count": 133,
     "metadata": {},
     "output_type": "execute_result"
    }
   ],
   "source": [
    "nb_params = {\"priors\": [(0.1, 0.3, 0.6), (0.3, 0.5, 0.2),(0.7, 0.2, 0.1)]}\n",
    "nb = GaussianNB()\n",
    "\n",
    "nb_cv= GridSearchCV(nb,nb_params,cv=10)\n",
    "nb_cv.fit(X_train, y_train)"
   ]
  },
  {
   "cell_type": "code",
   "execution_count": 134,
   "metadata": {},
   "outputs": [
    {
     "name": "stdout",
     "output_type": "stream",
     "text": [
      "En iyi skor : 0.3692900826317673\n",
      "En iyi parametreler : {'priors': (0.1, 0.3, 0.6)}\n"
     ]
    }
   ],
   "source": [
    "print(\"En iyi skor : \" + str(nb_cv.best_score_))\n",
    "print(\"En iyi parametreler : \" + str(nb_cv.best_params_))"
   ]
  },
  {
   "cell_type": "code",
   "execution_count": 135,
   "metadata": {},
   "outputs": [
    {
     "data": {
      "text/plain": [
       "GaussianNB(priors=(0.1, 0.3, 0.6))"
      ]
     },
     "execution_count": 135,
     "metadata": {},
     "output_type": "execute_result"
    }
   ],
   "source": [
    "nb = GaussianNB(priors= (0.1, 0.3, 0.6))\n",
    "nb_model = nb.fit(X_train, y_train)\n",
    "nb_model"
   ]
  },
  {
   "cell_type": "code",
   "execution_count": 136,
   "metadata": {},
   "outputs": [],
   "source": [
    "y_pred = nb_model.predict(X_test)"
   ]
  },
  {
   "cell_type": "code",
   "execution_count": 137,
   "metadata": {},
   "outputs": [
    {
     "data": {
      "text/plain": [
       "0.3842652795838752"
      ]
     },
     "execution_count": 137,
     "metadata": {},
     "output_type": "execute_result"
    }
   ],
   "source": [
    "gnb_a = accuracy_score(y_test, y_pred)\n",
    "gnb_a"
   ]
  },
  {
   "cell_type": "code",
   "execution_count": 138,
   "metadata": {},
   "outputs": [
    {
     "data": {
      "text/plain": [
       "0.3602198455139632"
      ]
     },
     "execution_count": 138,
     "metadata": {},
     "output_type": "execute_result"
    }
   ],
   "source": [
    "cross_val_score(nb_model, X_test, y_test, cv=10).mean()"
   ]
  },
  {
   "cell_type": "code",
   "execution_count": 144,
   "metadata": {},
   "outputs": [
    {
     "name": "stdout",
     "output_type": "stream",
     "text": [
      "Gaussian Naive Bayes before tuning:  0.39011703511053314\n",
      "Gaussian Naive Bayes after tuning  0.3842652795838752\n"
     ]
    }
   ],
   "source": [
    "karsilastirmaGNB(gnb_a,gnb_b)"
   ]
  },
  {
   "cell_type": "markdown",
   "metadata": {},
   "source": [
    "# Multinomial Naive Bayes"
   ]
  },
  {
   "cell_type": "code",
   "execution_count": 156,
   "metadata": {
    "scrolled": false
   },
   "outputs": [
    {
     "data": {
      "text/plain": [
       "90_target    0\n",
       "ind_51       0\n",
       "ind_62       0\n",
       "ind_61       0\n",
       "ind_58       0\n",
       "            ..\n",
       "ind_311      0\n",
       "ind_313      0\n",
       "ind_315      0\n",
       "ind_316      0\n",
       "ind_5        0\n",
       "Length: 136, dtype: int64"
      ]
     },
     "execution_count": 156,
     "metadata": {},
     "output_type": "execute_result"
    }
   ],
   "source": [
    "data = pd.read_excel(\"HW_Data_Set.xlsx\")\n",
    "df = data.copy()\n",
    "df.isnull().sum().sort_values(ascending=False)"
   ]
  },
  {
   "cell_type": "markdown",
   "metadata": {},
   "source": [
    "### Pozitif / Negatif / Nötr "
   ]
  },
  {
   "cell_type": "code",
   "execution_count": 157,
   "metadata": {},
   "outputs": [],
   "source": [
    "splitToPosNegNotr(df, '90_target')"
   ]
  },
  {
   "cell_type": "code",
   "execution_count": 158,
   "metadata": {},
   "outputs": [],
   "source": [
    "df = df.replace('?',np.NaN)\n",
    "df = df.dropna()"
   ]
  },
  {
   "cell_type": "code",
   "execution_count": 159,
   "metadata": {},
   "outputs": [],
   "source": [
    "y_dt = df['90_target']\n",
    "\n",
    "X_dt = df.drop([\"20_target\",\"50_target\",\"90_target\", \"ind_420\", \"ind_422\",'ind_109'],axis=1)\n",
    "X_dt.head(0)\n",
    "\n",
    "df = X_dt.copy()"
   ]
  },
  {
   "cell_type": "code",
   "execution_count": 160,
   "metadata": {},
   "outputs": [],
   "source": [
    "X_train,X_test,y_train,y_test=train_test_split(X_dt,y_dt,\n",
    "                                               test_size=0.30,\n",
    "                                               random_state=42)"
   ]
  },
  {
   "cell_type": "code",
   "execution_count": 165,
   "metadata": {},
   "outputs": [],
   "source": [
    "scaler = MinMaxScaler()\n",
    "scaler.fit(X_train)\n",
    "X_train_scaled = scaler.transform(X_train)\n",
    "X_test_scaled = scaler.transform(X_test)"
   ]
  },
  {
   "cell_type": "code",
   "execution_count": 167,
   "metadata": {},
   "outputs": [
    {
     "data": {
      "text/plain": [
       "MultinomialNB()"
      ]
     },
     "execution_count": 167,
     "metadata": {},
     "output_type": "execute_result"
    }
   ],
   "source": [
    "mnb = MultinomialNB()\n",
    "mnb_model = mnb.fit(X_train_scaled, y_train)\n",
    "mnb_model"
   ]
  },
  {
   "cell_type": "code",
   "execution_count": 168,
   "metadata": {},
   "outputs": [],
   "source": [
    "y_pred = mnb_model.predict(X_test)"
   ]
  },
  {
   "cell_type": "code",
   "execution_count": 172,
   "metadata": {
    "scrolled": true
   },
   "outputs": [
    {
     "data": {
      "text/plain": [
       "0.23211963589076723"
      ]
     },
     "execution_count": 172,
     "metadata": {},
     "output_type": "execute_result"
    }
   ],
   "source": [
    "mnb_b = accuracy_score(y_test, y_pred)\n",
    "mnb_b"
   ]
  },
  {
   "cell_type": "markdown",
   "metadata": {},
   "source": [
    "## Model Tuning"
   ]
  },
  {
   "cell_type": "code",
   "execution_count": 174,
   "metadata": {},
   "outputs": [
    {
     "data": {
      "text/plain": [
       "{'alpha': 1.0, 'class_prior': None, 'fit_prior': True}"
      ]
     },
     "execution_count": 174,
     "metadata": {},
     "output_type": "execute_result"
    }
   ],
   "source": [
    "mnb_model.get_params()"
   ]
  },
  {
   "cell_type": "code",
   "execution_count": 176,
   "metadata": {},
   "outputs": [
    {
     "data": {
      "text/plain": [
       "GridSearchCV(cv=10, estimator=MultinomialNB(),\n",
       "             param_grid={'alpha': [1.0, 0.5, 0.01], 'fit_prior': [True, False]})"
      ]
     },
     "execution_count": 176,
     "metadata": {},
     "output_type": "execute_result"
    }
   ],
   "source": [
    "mnb_params = {\"alpha\": [1.0, 0.5, 0.01],\n",
    "             \"fit_prior\": [True, False]}\n",
    "mnb = MultinomialNB()\n",
    "\n",
    "mnb_cv= GridSearchCV(mnb,mnb_params,cv=10)\n",
    "mnb_cv.fit(X_train_scaled, y_train)"
   ]
  },
  {
   "cell_type": "code",
   "execution_count": 177,
   "metadata": {},
   "outputs": [
    {
     "name": "stdout",
     "output_type": "stream",
     "text": [
      "En iyi skor : 0.5808025085199422\n",
      "En iyi parametreler : {'alpha': 0.01, 'fit_prior': True}\n"
     ]
    }
   ],
   "source": [
    "print(\"En iyi skor : \" + str(mnb_cv.best_score_))\n",
    "print(\"En iyi parametreler : \" + str(mnb_cv.best_params_))"
   ]
  },
  {
   "cell_type": "code",
   "execution_count": 178,
   "metadata": {},
   "outputs": [
    {
     "data": {
      "text/plain": [
       "GaussianNB(priors=(0.1, 0.3, 0.6))"
      ]
     },
     "execution_count": 178,
     "metadata": {},
     "output_type": "execute_result"
    }
   ],
   "source": [
    "mnb = MultinomialNB(alpha= 0.01,fit_prior=True)\n",
    "mnb_model = nb.fit(X_train_scaled, y_train)\n",
    "mnb_model"
   ]
  },
  {
   "cell_type": "code",
   "execution_count": 179,
   "metadata": {},
   "outputs": [],
   "source": [
    "y_pred = mnb_model.predict(X_test)"
   ]
  },
  {
   "cell_type": "code",
   "execution_count": 180,
   "metadata": {},
   "outputs": [
    {
     "data": {
      "text/plain": [
       "0.5377113133940182"
      ]
     },
     "execution_count": 180,
     "metadata": {},
     "output_type": "execute_result"
    }
   ],
   "source": [
    "mnb_a = accuracy_score(y_test, y_pred)\n",
    "mnb_a"
   ]
  },
  {
   "cell_type": "code",
   "execution_count": 182,
   "metadata": {},
   "outputs": [
    {
     "name": "stdout",
     "output_type": "stream",
     "text": [
      "Multinomial Naive Bayes before tuning:  0.23211963589076723\n",
      "Multinomial Naive Bayes after tuning  0.5377113133940182\n",
      "İyileşme Oranı :  0.305591677503251\n"
     ]
    }
   ],
   "source": [
    "karsilastirmaMNB(mnb_a,mnb_b)"
   ]
  }
 ],
 "metadata": {
  "kernelspec": {
   "display_name": "Python 3",
   "language": "python",
   "name": "python3"
  },
  "language_info": {
   "codemirror_mode": {
    "name": "ipython",
    "version": 3
   },
   "file_extension": ".py",
   "mimetype": "text/x-python",
   "name": "python",
   "nbconvert_exporter": "python",
   "pygments_lexer": "ipython3",
   "version": "3.8.3"
  }
 },
 "nbformat": 4,
 "nbformat_minor": 4
}
