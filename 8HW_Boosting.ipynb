{
 "cells": [
  {
   "cell_type": "markdown",
   "metadata": {},
   "source": [
    "# Boosting\n",
    "\n",
    "### Classification \n",
    "\n",
    "1. Gradient Boosting\n",
    "2. LightGBM\n",
    "3. CatBost\n",
    "\n",
    "### Regression\n",
    "1. Gradient Boosting\n",
    "2. LightGBM"
   ]
  },
  {
   "cell_type": "code",
   "execution_count": 3,
   "metadata": {},
   "outputs": [],
   "source": [
    "import numpy as np\n",
    "import pandas as pd\n",
    "import statsmodels.api as sm\n",
    "import statsmodels.formula.api as smf\n",
    "import seaborn as sns\n",
    "from sklearn.preprocessing import scale\n",
    "from sklearn.model_selection import train_test_split, GridSearchCV, cross_val_score\n",
    "from sklearn.metrics import confusion_matrix, accuracy_score, classification_report\n",
    "from sklearn.metrics import roc_auc_score,roc_curve\n",
    "import statsmodels.formula.api as smf\n",
    "import matplotlib.pyplot as plt\n",
    "from sklearn.naive_bayes import GaussianNB\n",
    "\n",
    "\n",
    "from sklearn.ensemble import GradientBoostingClassifier\n",
    "from xgboost import XGBClassifier\n",
    "from lightgbm import LGBMClassifier\n",
    "from catboost import CatBoostClassifier\n",
    "\n",
    "import sklearn\n",
    "from sklearn.metrics import confusion_matrix, accuracy_score, classification_report\n",
    "from sklearn.metrics import precision_score, recall_score, f1_score\n",
    "\n",
    "from warnings import filterwarnings\n",
    "filterwarnings('ignore')\n",
    "\n",
    "from sklearn.metrics import mean_squared_error,r2_score"
   ]
  },
  {
   "cell_type": "code",
   "execution_count": 4,
   "metadata": {},
   "outputs": [],
   "source": [
    "def model_karsilastirma_classification(gb_B, gb_A, lgbm_B, lgbm_A, catB, catA):\n",
    "    print(\"Gradient Boosting <Before Tuning> Accurarcy : \", gb_B)\n",
    "    print(\"Gradient Boosting <After Tuning > Accurarcy : \", gb_A)\n",
    "    print(\"LIGHT GBM <Before Tuning> Accurarcy : \", lgbm_B)\n",
    "    print(\"LIGHT GBM <After Tuning > Accurarcy : \", lgbm_A)\n",
    "    print(\"Cat Boosting <Before Tuning> Accurarcy : \", catB)\n",
    "    print(\"Cat Boosting <After Tuning > Accurarcy : \", catA)"
   ]
  },
  {
   "cell_type": "code",
   "execution_count": 5,
   "metadata": {},
   "outputs": [],
   "source": [
    "# regresyon : Gradient & Light GBM \n",
    "def model_karsilastirma_regression(beforeTuning, afterTuning,lgbm_mseB,lgbm_mseA):\n",
    "    print(\"Gradient Boosting <Before Tuning> MSE : \", beforeTuning)\n",
    "    print(\"Gradient Boosting <After Tuning > MSE : \", afterTuning)\n",
    "    print(\"LIGHT GBM <Before Tuning> MSE : \", lgbm_mseB)\n",
    "    print(\"LIGHT GBM <After Tuning > MSE : \", lgbm_mseA)"
   ]
  },
  {
   "cell_type": "code",
   "execution_count": 6,
   "metadata": {},
   "outputs": [],
   "source": [
    "def accurarcy_score_check(accscorebefore, accscoreafter):\n",
    "    print(\"Before Tuning score : \", accscorebefore )\n",
    "    print(\"After Tuning score :\", accscoreafter)\n",
    "    \n",
    "    if(accscoreafter > accscorebefore):\n",
    "        print(\"İyileşme oldu : \", accscoreafter-accscorebefore)"
   ]
  },
  {
   "cell_type": "code",
   "execution_count": 7,
   "metadata": {},
   "outputs": [],
   "source": [
    "def impfeature_plot(x):\n",
    "    Importance = pd.DataFrame({\"Importance\": x.feature_importances_*100},\n",
    "                         index = X_train.columns)\n",
    "    Importance.sort_values(by = \"Importance\", \n",
    "                       axis = 0, \n",
    "                       ascending = True).plot(kind =\"barh\", color = \"r\")\n",
    "    plt.xlabel(\"Değişken Önem Düzeyleri\")"
   ]
  },
  {
   "cell_type": "code",
   "execution_count": 96,
   "metadata": {},
   "outputs": [
    {
     "name": "stdout",
     "output_type": "stream",
     "text": [
      "<class 'pandas.core.frame.DataFrame'>\n",
      "Int64Index: 2018 entries, 153 to 3549\n",
      "Data columns (total 13 columns):\n",
      " #   Column   Non-Null Count  Dtype  \n",
      "---  ------   --------------  -----  \n",
      " 0   bad      2018 non-null   int64  \n",
      " 1   loan     2018 non-null   int64  \n",
      " 2   mortdue  2018 non-null   float64\n",
      " 3   value    2018 non-null   float64\n",
      " 4   reason   2018 non-null   object \n",
      " 5   job      2018 non-null   object \n",
      " 6   yoj      2018 non-null   float64\n",
      " 7   derog    2018 non-null   float64\n",
      " 8   delinq   2018 non-null   float64\n",
      " 9   clage    2018 non-null   float64\n",
      " 10  ninq     2018 non-null   float64\n",
      " 11  clno     2018 non-null   float64\n",
      " 12  debtinc  2018 non-null   float64\n",
      "dtypes: float64(9), int64(2), object(2)\n",
      "memory usage: 220.7+ KB\n"
     ]
    }
   ],
   "source": [
    "data =pd.read_csv(\"hmelq.csv\")\n",
    "df=data.copy()\n",
    "df=df.dropna()\n",
    "df.info()"
   ]
  },
  {
   "cell_type": "code",
   "execution_count": 7,
   "metadata": {},
   "outputs": [
    {
     "data": {
      "text/html": [
       "<div>\n",
       "<style scoped>\n",
       "    .dataframe tbody tr th:only-of-type {\n",
       "        vertical-align: middle;\n",
       "    }\n",
       "\n",
       "    .dataframe tbody tr th {\n",
       "        vertical-align: top;\n",
       "    }\n",
       "\n",
       "    .dataframe thead th {\n",
       "        text-align: right;\n",
       "    }\n",
       "</style>\n",
       "<table border=\"1\" class=\"dataframe\">\n",
       "  <thead>\n",
       "    <tr style=\"text-align: right;\">\n",
       "      <th></th>\n",
       "      <th>0</th>\n",
       "      <th>1</th>\n",
       "      <th>2</th>\n",
       "      <th>3</th>\n",
       "      <th>4</th>\n",
       "      <th>5</th>\n",
       "      <th>6</th>\n",
       "      <th>7</th>\n",
       "      <th>8</th>\n",
       "      <th>9</th>\n",
       "      <th>...</th>\n",
       "      <th>3566</th>\n",
       "      <th>3567</th>\n",
       "      <th>3568</th>\n",
       "      <th>3569</th>\n",
       "      <th>3570</th>\n",
       "      <th>3571</th>\n",
       "      <th>3572</th>\n",
       "      <th>3573</th>\n",
       "      <th>3574</th>\n",
       "      <th>3575</th>\n",
       "    </tr>\n",
       "  </thead>\n",
       "  <tbody>\n",
       "    <tr>\n",
       "      <th>reason</th>\n",
       "      <td>HomeImp</td>\n",
       "      <td>DebtCon</td>\n",
       "      <td>DebtCon</td>\n",
       "      <td>DebtCon</td>\n",
       "      <td>DebtCon</td>\n",
       "      <td>DebtCon</td>\n",
       "      <td>HomeImp</td>\n",
       "      <td>DebtCon</td>\n",
       "      <td>DebtCon</td>\n",
       "      <td>DebtCon</td>\n",
       "      <td>...</td>\n",
       "      <td>HomeImp</td>\n",
       "      <td>DebtCon</td>\n",
       "      <td>DebtCon</td>\n",
       "      <td>NaN</td>\n",
       "      <td>HomeImp</td>\n",
       "      <td>DebtCon</td>\n",
       "      <td>DebtCon</td>\n",
       "      <td>DebtCon</td>\n",
       "      <td>HomeImp</td>\n",
       "      <td>DebtCon</td>\n",
       "    </tr>\n",
       "    <tr>\n",
       "      <th>job</th>\n",
       "      <td>NaN</td>\n",
       "      <td>NaN</td>\n",
       "      <td>NaN</td>\n",
       "      <td>NaN</td>\n",
       "      <td>NaN</td>\n",
       "      <td>NaN</td>\n",
       "      <td>NaN</td>\n",
       "      <td>NaN</td>\n",
       "      <td>NaN</td>\n",
       "      <td>NaN</td>\n",
       "      <td>...</td>\n",
       "      <td>Self</td>\n",
       "      <td>Self</td>\n",
       "      <td>Self</td>\n",
       "      <td>Self</td>\n",
       "      <td>Self</td>\n",
       "      <td>Self</td>\n",
       "      <td>Self</td>\n",
       "      <td>Self</td>\n",
       "      <td>Self</td>\n",
       "      <td>Self</td>\n",
       "    </tr>\n",
       "  </tbody>\n",
       "</table>\n",
       "<p>2 rows × 3576 columns</p>\n",
       "</div>"
      ],
      "text/plain": [
       "           0        1        2        3        4        5        6     \\\n",
       "reason  HomeImp  DebtCon  DebtCon  DebtCon  DebtCon  DebtCon  HomeImp   \n",
       "job         NaN      NaN      NaN      NaN      NaN      NaN      NaN   \n",
       "\n",
       "           7        8        9     ...     3566     3567     3568  3569  \\\n",
       "reason  DebtCon  DebtCon  DebtCon  ...  HomeImp  DebtCon  DebtCon   NaN   \n",
       "job         NaN      NaN      NaN  ...     Self     Self     Self  Self   \n",
       "\n",
       "           3570     3571     3572     3573     3574     3575  \n",
       "reason  HomeImp  DebtCon  DebtCon  DebtCon  HomeImp  DebtCon  \n",
       "job        Self     Self     Self     Self     Self     Self  \n",
       "\n",
       "[2 rows x 3576 columns]"
      ]
     },
     "execution_count": 7,
     "metadata": {},
     "output_type": "execute_result"
    }
   ],
   "source": [
    "data.select_dtypes(include=[\"object\"]).T"
   ]
  },
  {
   "cell_type": "code",
   "execution_count": 16,
   "metadata": {},
   "outputs": [],
   "source": [
    "# df.isnull().sum().sort_values(ascending=False)"
   ]
  },
  {
   "cell_type": "code",
   "execution_count": 8,
   "metadata": {},
   "outputs": [],
   "source": [
    "# dummy\n",
    "\n",
    "dummy_variable=pd.get_dummies(df[['reason','job']])\n",
    "\n",
    "y=df['bad']\n",
    "X_ = df.drop(['bad','reason','job'],axis=1).astype('float64')\n",
    "X = pd.concat((X_,dummy_variable),axis=1)"
   ]
  },
  {
   "cell_type": "code",
   "execution_count": 97,
   "metadata": {},
   "outputs": [
    {
     "name": "stdout",
     "output_type": "stream",
     "text": [
      "X_train shape (1412, 18)\n",
      "X_test shape (606, 18)\n",
      "y_train shape (1412,)\n",
      "y_test shape (606,)\n"
     ]
    }
   ],
   "source": [
    "X_train, X_test, y_train, y_test = train_test_split(X,y,\n",
    "                                                    test_size=0.30,\n",
    "                                                    random_state=42)\n",
    "print(\"X_train shape\",X_train.shape)\n",
    "print(\"X_test shape\",X_test.shape)\n",
    "print(\"y_train shape\",y_train.shape)\n",
    "print(\"y_test shape\",y_test.shape)"
   ]
  },
  {
   "cell_type": "markdown",
   "metadata": {},
   "source": [
    "# BOOSTING"
   ]
  },
  {
   "cell_type": "markdown",
   "metadata": {},
   "source": [
    "# Classification"
   ]
  },
  {
   "cell_type": "markdown",
   "metadata": {},
   "source": [
    "## Gradient Boosting"
   ]
  },
  {
   "cell_type": "code",
   "execution_count": 98,
   "metadata": {},
   "outputs": [
    {
     "data": {
      "text/plain": [
       "GradientBoostingClassifier()"
      ]
     },
     "execution_count": 98,
     "metadata": {},
     "output_type": "execute_result"
    }
   ],
   "source": [
    "GradientBoostingClassifier()"
   ]
  },
  {
   "cell_type": "code",
   "execution_count": 99,
   "metadata": {},
   "outputs": [],
   "source": [
    "gbm_model = GradientBoostingClassifier().fit(X_train, y_train)"
   ]
  },
  {
   "cell_type": "code",
   "execution_count": 100,
   "metadata": {},
   "outputs": [
    {
     "data": {
      "text/plain": [
       "0.9455445544554455"
      ]
     },
     "execution_count": 100,
     "metadata": {},
     "output_type": "execute_result"
    }
   ],
   "source": [
    "y_pred = gbm_model.predict(X_test)\n",
    "accurarcy_score_before = accuracy_score(y_test, y_pred)\n",
    "accurarcy_score_before"
   ]
  },
  {
   "cell_type": "code",
   "execution_count": 101,
   "metadata": {},
   "outputs": [],
   "source": [
    "gb_B = accurarcy_score_before"
   ]
  },
  {
   "cell_type": "markdown",
   "metadata": {},
   "source": [
    "### Model Tuning"
   ]
  },
  {
   "cell_type": "code",
   "execution_count": 102,
   "metadata": {},
   "outputs": [
    {
     "data": {
      "text/plain": [
       "GradientBoostingClassifier()"
      ]
     },
     "execution_count": 102,
     "metadata": {},
     "output_type": "execute_result"
    }
   ],
   "source": [
    "gbm_model"
   ]
  },
  {
   "cell_type": "code",
   "execution_count": 14,
   "metadata": {
    "scrolled": true
   },
   "outputs": [
    {
     "name": "stdout",
     "output_type": "stream",
     "text": [
      "Fitting 10 folds for each of 162 candidates, totalling 1620 fits\n"
     ]
    },
    {
     "name": "stderr",
     "output_type": "stream",
     "text": [
      "[Parallel(n_jobs=-1)]: Using backend LokyBackend with 8 concurrent workers.\n",
      "[Parallel(n_jobs=-1)]: Done  25 tasks      | elapsed:    9.1s\n",
      "[Parallel(n_jobs=-1)]: Done 146 tasks      | elapsed:   52.7s\n",
      "[Parallel(n_jobs=-1)]: Done 349 tasks      | elapsed:  2.7min\n",
      "[Parallel(n_jobs=-1)]: Done 632 tasks      | elapsed:  5.5min\n",
      "[Parallel(n_jobs=-1)]: Done 997 tasks      | elapsed:  8.8min\n",
      "[Parallel(n_jobs=-1)]: Done 1442 tasks      | elapsed: 13.2min\n",
      "[Parallel(n_jobs=-1)]: Done 1620 out of 1620 | elapsed: 15.4min finished\n"
     ]
    },
    {
     "data": {
      "text/plain": [
       "GridSearchCV(cv=10, estimator=GradientBoostingClassifier(), n_jobs=-1,\n",
       "             param_grid={'learning_rate': [0.001, 0.01, 0.05, 0.1, 0.2, 0.3],\n",
       "                         'max_depth': [3, 5, 10],\n",
       "                         'min_samples_split': [5, 10, 15],\n",
       "                         'n_estimators': [100, 500, 1000]},\n",
       "             verbose=2)"
      ]
     },
     "execution_count": 14,
     "metadata": {},
     "output_type": "execute_result"
    }
   ],
   "source": [
    "gbm_params = {\"learning_rate\": [0.001, 0.01, 0.05, 0.1, 0.2,0.3], \n",
    "              \"n_estimators\":[100,500,1000],\n",
    "              \"max_depth\": [3,5,10],\n",
    "              \"min_samples_split\":[5,10,15]\n",
    "             }\n",
    "\n",
    "gbm = GradientBoostingClassifier()\n",
    "gbm_cv = GridSearchCV(gbm,gbm_params,\n",
    "                          cv=10,\n",
    "                          n_jobs=-1,\n",
    "                          verbose=2)\n",
    "\n",
    "gbm_cv.fit(X_train, y_train)"
   ]
  },
  {
   "cell_type": "code",
   "execution_count": 103,
   "metadata": {},
   "outputs": [
    {
     "name": "stdout",
     "output_type": "stream",
     "text": [
      "En iyi parametreler : {'learning_rate': 0.01, 'max_depth': 10, 'n_estimators': 1000, 'subsample': 0.5}\n"
     ]
    }
   ],
   "source": [
    "print(\"En iyi parametreler : \" + str(gbm_cv.best_params_))"
   ]
  },
  {
   "cell_type": "code",
   "execution_count": 104,
   "metadata": {},
   "outputs": [],
   "source": [
    "gbm = GradientBoostingClassifier(learning_rate=0.1,\n",
    "                                n_estimators=1000,\n",
    "                                max_depth=10,\n",
    "                                min_samples_split=15)\n",
    "\n",
    "gbm_tuned = gbm.fit(X_train, y_train)"
   ]
  },
  {
   "cell_type": "code",
   "execution_count": 105,
   "metadata": {},
   "outputs": [
    {
     "data": {
      "text/plain": [
       "0.9537953795379538"
      ]
     },
     "execution_count": 105,
     "metadata": {},
     "output_type": "execute_result"
    }
   ],
   "source": [
    "y_pred = gbm_tuned.predict(X_test)\n",
    "accurarcy_score_after = accuracy_score(y_test, y_pred)\n",
    "accurarcy_score_after"
   ]
  },
  {
   "cell_type": "code",
   "execution_count": 106,
   "metadata": {},
   "outputs": [],
   "source": [
    "gb_A = accurarcy_score_after "
   ]
  },
  {
   "cell_type": "code",
   "execution_count": 107,
   "metadata": {},
   "outputs": [
    {
     "name": "stdout",
     "output_type": "stream",
     "text": [
      "Before Tuning score :  0.9455445544554455\n",
      "After Tuning score : 0.9537953795379538\n",
      "İyileşme oldu :  0.008250825082508295\n"
     ]
    }
   ],
   "source": [
    "accurarcy_score_check(accurarcy_score_before, accurarcy_score_after)"
   ]
  },
  {
   "cell_type": "code",
   "execution_count": 33,
   "metadata": {},
   "outputs": [
    {
     "data": {
      "image/png": "[encoded data removed]",
      "text/plain": [
       "<Figure size 432x288 with 1 Axes>"
      ]
     },
     "metadata": {
      "needs_background": "light"
     },
     "output_type": "display_data"
    }
   ],
   "source": [
    "impfeature_plot(gbm_tuned)"
   ]
  },
  {
   "cell_type": "markdown",
   "metadata": {},
   "source": [
    "# # LightGBM"
   ]
  },
  {
   "cell_type": "code",
   "execution_count": 112,
   "metadata": {},
   "outputs": [
    {
     "data": {
      "text/plain": [
       "0.9537953795379538"
      ]
     },
     "execution_count": 112,
     "metadata": {},
     "output_type": "execute_result"
    }
   ],
   "source": [
    "lgbm_model = LGBMClassifier().fit(X_train, y_train)\n",
    "y_pred = lgbm_model.predict(X_test)\n",
    "accurarcy_score_before = accuracy_score(y_test, y_pred)\n",
    "accurarcy_score_before"
   ]
  },
  {
   "cell_type": "code",
   "execution_count": 113,
   "metadata": {},
   "outputs": [],
   "source": [
    "lgbm_B = accurarcy_score_before"
   ]
  },
  {
   "cell_type": "code",
   "execution_count": 114,
   "metadata": {},
   "outputs": [
    {
     "data": {
      "text/plain": [
       "LGBMClassifier()"
      ]
     },
     "execution_count": 114,
     "metadata": {},
     "output_type": "execute_result"
    }
   ],
   "source": [
    "lgbm_model"
   ]
  },
  {
   "cell_type": "markdown",
   "metadata": {},
   "source": [
    "### Tuning"
   ]
  },
  {
   "cell_type": "code",
   "execution_count": 37,
   "metadata": {},
   "outputs": [
    {
     "data": {
      "text/plain": [
       "{'boosting_type': 'gbdt',\n",
       " 'class_weight': None,\n",
       " 'colsample_bytree': 1.0,\n",
       " 'importance_type': 'split',\n",
       " 'learning_rate': 0.1,\n",
       " 'max_depth': -1,\n",
       " 'min_child_samples': 20,\n",
       " 'min_child_weight': 0.001,\n",
       " 'min_split_gain': 0.0,\n",
       " 'n_estimators': 100,\n",
       " 'n_jobs': -1,\n",
       " 'num_leaves': 31,\n",
       " 'objective': None,\n",
       " 'random_state': None,\n",
       " 'reg_alpha': 0.0,\n",
       " 'reg_lambda': 0.0,\n",
       " 'silent': True,\n",
       " 'subsample': 1.0,\n",
       " 'subsample_for_bin': 200000,\n",
       " 'subsample_freq': 0}"
      ]
     },
     "execution_count": 37,
     "metadata": {},
     "output_type": "execute_result"
    }
   ],
   "source": [
    "lgbm_model.get_params()"
   ]
  },
  {
   "cell_type": "code",
   "execution_count": 38,
   "metadata": {},
   "outputs": [],
   "source": [
    "lgbm_params = {\"learning_rate\": [0.1, 0.001, 0.08, 0.05, 0.2,0.3], \n",
    "              \"n_estimators\":[100,500,1000, 2000],\n",
    "              \"subsamples\" : [0.6, 0.9, 1.0],\n",
    "              \"max_depth\": [3,4,5,6],\n",
    "              \"min_child_samples\":[5,10,20]\n",
    "             }"
   ]
  },
  {
   "cell_type": "code",
   "execution_count": 40,
   "metadata": {},
   "outputs": [],
   "source": [
    "lgbm = LGBMClassifier()"
   ]
  },
  {
   "cell_type": "code",
   "execution_count": 41,
   "metadata": {},
   "outputs": [
    {
     "name": "stdout",
     "output_type": "stream",
     "text": [
      "Fitting 10 folds for each of 864 candidates, totalling 8640 fits\n"
     ]
    },
    {
     "name": "stderr",
     "output_type": "stream",
     "text": [
      "[Parallel(n_jobs=-1)]: Using backend LokyBackend with 8 concurrent workers.\n",
      "[Parallel(n_jobs=-1)]: Done  25 tasks      | elapsed:    2.7s\n",
      "[Parallel(n_jobs=-1)]: Done 146 tasks      | elapsed:   11.4s\n",
      "[Parallel(n_jobs=-1)]: Done 349 tasks      | elapsed:   26.7s\n",
      "[Parallel(n_jobs=-1)]: Done 632 tasks      | elapsed:   50.8s\n",
      "[Parallel(n_jobs=-1)]: Done 997 tasks      | elapsed:  1.4min\n",
      "[Parallel(n_jobs=-1)]: Done 1442 tasks      | elapsed:  2.2min\n",
      "[Parallel(n_jobs=-1)]: Done 1969 tasks      | elapsed:  3.0min\n",
      "[Parallel(n_jobs=-1)]: Done 2576 tasks      | elapsed:  4.4min\n",
      "[Parallel(n_jobs=-1)]: Done 3265 tasks      | elapsed:  6.0min\n",
      "[Parallel(n_jobs=-1)]: Done 4034 tasks      | elapsed:  7.4min\n",
      "[Parallel(n_jobs=-1)]: Done 4885 tasks      | elapsed:  8.9min\n",
      "[Parallel(n_jobs=-1)]: Done 5816 tasks      | elapsed: 11.1min\n",
      "[Parallel(n_jobs=-1)]: Done 6829 tasks      | elapsed: 12.3min\n",
      "[Parallel(n_jobs=-1)]: Done 7922 tasks      | elapsed: 13.5min\n",
      "[Parallel(n_jobs=-1)]: Done 8640 out of 8640 | elapsed: 14.3min finished\n"
     ]
    },
    {
     "data": {
      "text/plain": [
       "GridSearchCV(cv=10, estimator=LGBMClassifier(), n_jobs=-1,\n",
       "             param_grid={'learning_rate': [0.1, 0.001, 0.08, 0.05, 0.2, 0.3],\n",
       "                         'max_depth': [3, 4, 5, 6],\n",
       "                         'min_child_samples': [5, 10, 20],\n",
       "                         'n_estimators': [100, 500, 1000, 2000],\n",
       "                         'subsamples': [0.6, 0.9, 1.0]},\n",
       "             verbose=2)"
      ]
     },
     "execution_count": 41,
     "metadata": {},
     "output_type": "execute_result"
    }
   ],
   "source": [
    "lgbm_cv = GridSearchCV(lgbm,lgbm_params,\n",
    "                          cv=10,\n",
    "                          n_jobs=-1,\n",
    "                          verbose=2)\n",
    "\n",
    "lgbm_cv.fit(X_train, y_train)"
   ]
  },
  {
   "cell_type": "code",
   "execution_count": 115,
   "metadata": {},
   "outputs": [
    {
     "data": {
      "text/plain": [
       "{'learning_rate': 0.05,\n",
       " 'max_depth': 5,\n",
       " 'min_child_samples': 10,\n",
       " 'n_estimators': 2000,\n",
       " 'subsamples': 0.6}"
      ]
     },
     "execution_count": 115,
     "metadata": {},
     "output_type": "execute_result"
    }
   ],
   "source": [
    "lgbm_cv.best_params_"
   ]
  },
  {
   "cell_type": "code",
   "execution_count": 116,
   "metadata": {},
   "outputs": [],
   "source": [
    "lgbm = LGBMClassifier(learning_rate=0.05,\n",
    "                    subsamples = 0.6,\n",
    "                    n_estimators=2000,\n",
    "                    max_depth=5,\n",
    "                    min_child_samples=10)"
   ]
  },
  {
   "cell_type": "code",
   "execution_count": 117,
   "metadata": {},
   "outputs": [],
   "source": [
    "lgbm_tuned = lgbm.fit(X_train, y_train)"
   ]
  },
  {
   "cell_type": "code",
   "execution_count": 118,
   "metadata": {},
   "outputs": [
    {
     "data": {
      "text/plain": [
       "0.9570957095709571"
      ]
     },
     "execution_count": 118,
     "metadata": {},
     "output_type": "execute_result"
    }
   ],
   "source": [
    "y_pred = lgbm_tuned.predict(X_test)\n",
    "accurarcy_score_after = accuracy_score(y_test, y_pred)\n",
    "accurarcy_score_after"
   ]
  },
  {
   "cell_type": "code",
   "execution_count": 119,
   "metadata": {},
   "outputs": [],
   "source": [
    "lgbm_A = accurarcy_score_after"
   ]
  },
  {
   "cell_type": "code",
   "execution_count": 120,
   "metadata": {},
   "outputs": [
    {
     "name": "stdout",
     "output_type": "stream",
     "text": [
      "Before Tuning score :  0.9537953795379538\n",
      "After Tuning score : 0.9570957095709571\n",
      "İyileşme oldu :  0.0033003300330033403\n"
     ]
    }
   ],
   "source": [
    "accurarcy_score_check(accurarcy_score_before, accurarcy_score_after)"
   ]
  },
  {
   "cell_type": "code",
   "execution_count": 47,
   "metadata": {},
   "outputs": [
    {
     "data": {
      "image/png": "[encoded data removed]",
      "text/plain": [
       "<Figure size 432x288 with 1 Axes>"
      ]
     },
     "metadata": {
      "needs_background": "light"
     },
     "output_type": "display_data"
    }
   ],
   "source": [
    "impfeature_plot(lgbm_tuned)"
   ]
  },
  {
   "cell_type": "markdown",
   "metadata": {},
   "source": [
    "# # CatBost"
   ]
  },
  {
   "cell_type": "code",
   "execution_count": 48,
   "metadata": {},
   "outputs": [
    {
     "name": "stdout",
     "output_type": "stream",
     "text": [
      "Learning rate set to 0.011938\n",
      "0:\tlearn: 0.6792768\ttotal: 163ms\tremaining: 2m 43s\n",
      "1:\tlearn: 0.6672891\ttotal: 165ms\tremaining: 1m 22s\n",
      "2:\tlearn: 0.6538485\ttotal: 168ms\tremaining: 55.9s\n",
      "3:\tlearn: 0.6414647\ttotal: 171ms\tremaining: 42.5s\n",
      "4:\tlearn: 0.6281495\ttotal: 173ms\tremaining: 34.5s\n",
      "5:\tlearn: 0.6158322\ttotal: 176ms\tremaining: 29.1s\n",
      "6:\tlearn: 0.6034869\ttotal: 179ms\tremaining: 25.4s\n",
      "7:\tlearn: 0.5919529\ttotal: 183ms\tremaining: 22.6s\n",
      "8:\tlearn: 0.5793356\ttotal: 185ms\tremaining: 20.4s\n",
      "9:\tlearn: 0.5683025\ttotal: 188ms\tremaining: 18.6s\n",
      "10:\tlearn: 0.5577705\ttotal: 190ms\tremaining: 17.1s\n",
      "11:\tlearn: 0.5479991\ttotal: 192ms\tremaining: 15.8s\n",
      "12:\tlearn: 0.5379515\ttotal: 194ms\tremaining: 14.8s\n",
      "13:\tlearn: 0.5280629\ttotal: 197ms\tremaining: 13.9s\n",
      "14:\tlearn: 0.5187991\ttotal: 199ms\tremaining: 13.1s\n",
      "15:\tlearn: 0.5098705\ttotal: 202ms\tremaining: 12.4s\n",
      "16:\tlearn: 0.5017862\ttotal: 204ms\tremaining: 11.8s\n",
      "17:\tlearn: 0.4936010\ttotal: 206ms\tremaining: 11.2s\n",
      "18:\tlearn: 0.4856652\ttotal: 208ms\tremaining: 10.7s\n",
      "19:\tlearn: 0.4781841\ttotal: 210ms\tremaining: 10.3s\n",
      "20:\tlearn: 0.4705626\ttotal: 212ms\tremaining: 9.9s\n",
      "21:\tlearn: 0.4645444\ttotal: 214ms\tremaining: 9.52s\n",
      "22:\tlearn: 0.4568959\ttotal: 216ms\tremaining: 9.19s\n",
      "23:\tlearn: 0.4500904\ttotal: 219ms\tremaining: 8.89s\n",
      "24:\tlearn: 0.4434567\ttotal: 221ms\tremaining: 8.62s\n",
      "25:\tlearn: 0.4370326\ttotal: 223ms\tremaining: 8.36s\n",
      "26:\tlearn: 0.4302131\ttotal: 225ms\tremaining: 8.12s\n",
      "27:\tlearn: 0.4235201\ttotal: 227ms\tremaining: 7.9s\n",
      "28:\tlearn: 0.4178625\ttotal: 229ms\tremaining: 7.67s\n",
      "29:\tlearn: 0.4114631\ttotal: 231ms\tremaining: 7.48s\n",
      "30:\tlearn: 0.4053483\ttotal: 234ms\tremaining: 7.3s\n",
      "31:\tlearn: 0.3997245\ttotal: 236ms\tremaining: 7.13s\n",
      "32:\tlearn: 0.3945684\ttotal: 238ms\tremaining: 6.97s\n",
      "33:\tlearn: 0.3899495\ttotal: 240ms\tremaining: 6.81s\n",
      "34:\tlearn: 0.3849084\ttotal: 242ms\tremaining: 6.67s\n",
      "35:\tlearn: 0.3797078\ttotal: 244ms\tremaining: 6.54s\n",
      "36:\tlearn: 0.3752683\ttotal: 246ms\tremaining: 6.39s\n",
      "37:\tlearn: 0.3704305\ttotal: 248ms\tremaining: 6.28s\n",
      "38:\tlearn: 0.3667883\ttotal: 250ms\tremaining: 6.17s\n",
      "39:\tlearn: 0.3627195\ttotal: 252ms\tremaining: 6.06s\n",
      "40:\tlearn: 0.3580058\ttotal: 255ms\tremaining: 5.96s\n",
      "41:\tlearn: 0.3538793\ttotal: 257ms\tremaining: 5.86s\n",
      "42:\tlearn: 0.3498681\ttotal: 259ms\tremaining: 5.76s\n",
      "43:\tlearn: 0.3461442\ttotal: 261ms\tremaining: 5.67s\n",
      "44:\tlearn: 0.3421656\ttotal: 263ms\tremaining: 5.58s\n",
      "45:\tlearn: 0.3382055\ttotal: 265ms\tremaining: 5.5s\n",
      "46:\tlearn: 0.3345235\ttotal: 268ms\tremaining: 5.43s\n",
      "47:\tlearn: 0.3314211\ttotal: 270ms\tremaining: 5.36s\n",
      "48:\tlearn: 0.3281247\ttotal: 272ms\tremaining: 5.29s\n",
      "49:\tlearn: 0.3242236\ttotal: 275ms\tremaining: 5.22s\n",
      "50:\tlearn: 0.3202457\ttotal: 277ms\tremaining: 5.16s\n",
      "51:\tlearn: 0.3174730\ttotal: 279ms\tremaining: 5.09s\n",
      "52:\tlearn: 0.3146202\ttotal: 281ms\tremaining: 5.02s\n",
      "53:\tlearn: 0.3116156\ttotal: 283ms\tremaining: 4.96s\n",
      "54:\tlearn: 0.3087175\ttotal: 285ms\tremaining: 4.9s\n",
      "55:\tlearn: 0.3059341\ttotal: 287ms\tremaining: 4.84s\n",
      "56:\tlearn: 0.3026051\ttotal: 289ms\tremaining: 4.79s\n",
      "57:\tlearn: 0.2994866\ttotal: 292ms\tremaining: 4.74s\n",
      "58:\tlearn: 0.2968865\ttotal: 294ms\tremaining: 4.68s\n",
      "59:\tlearn: 0.2941034\ttotal: 296ms\tremaining: 4.63s\n",
      "60:\tlearn: 0.2915604\ttotal: 298ms\tremaining: 4.58s\n",
      "61:\tlearn: 0.2892826\ttotal: 300ms\tremaining: 4.54s\n",
      "62:\tlearn: 0.2862137\ttotal: 302ms\tremaining: 4.49s\n",
      "63:\tlearn: 0.2831558\ttotal: 304ms\tremaining: 4.45s\n",
      "64:\tlearn: 0.2809230\ttotal: 306ms\tremaining: 4.41s\n",
      "65:\tlearn: 0.2784532\ttotal: 308ms\tremaining: 4.36s\n",
      "66:\tlearn: 0.2754704\ttotal: 310ms\tremaining: 4.32s\n",
      "67:\tlearn: 0.2737084\ttotal: 313ms\tremaining: 4.29s\n",
      "68:\tlearn: 0.2712812\ttotal: 315ms\tremaining: 4.25s\n",
      "69:\tlearn: 0.2693195\ttotal: 317ms\tremaining: 4.21s\n",
      "70:\tlearn: 0.2674356\ttotal: 319ms\tremaining: 4.17s\n",
      "71:\tlearn: 0.2658566\ttotal: 321ms\tremaining: 4.14s\n",
      "72:\tlearn: 0.2643052\ttotal: 323ms\tremaining: 4.1s\n",
      "73:\tlearn: 0.2626545\ttotal: 325ms\tremaining: 4.07s\n",
      "74:\tlearn: 0.2609655\ttotal: 327ms\tremaining: 4.03s\n",
      "75:\tlearn: 0.2589256\ttotal: 329ms\tremaining: 4s\n",
      "76:\tlearn: 0.2576565\ttotal: 331ms\tremaining: 3.97s\n",
      "77:\tlearn: 0.2557624\ttotal: 334ms\tremaining: 3.95s\n",
      "78:\tlearn: 0.2541624\ttotal: 336ms\tremaining: 3.92s\n",
      "79:\tlearn: 0.2528248\ttotal: 338ms\tremaining: 3.89s\n",
      "80:\tlearn: 0.2511133\ttotal: 340ms\tremaining: 3.86s\n",
      "81:\tlearn: 0.2493439\ttotal: 342ms\tremaining: 3.83s\n",
      "82:\tlearn: 0.2477653\ttotal: 345ms\tremaining: 3.81s\n",
      "83:\tlearn: 0.2463316\ttotal: 347ms\tremaining: 3.79s\n",
      "84:\tlearn: 0.2451593\ttotal: 349ms\tremaining: 3.76s\n",
      "85:\tlearn: 0.2441292\ttotal: 351ms\tremaining: 3.73s\n",
      "86:\tlearn: 0.2424756\ttotal: 354ms\tremaining: 3.71s\n",
      "87:\tlearn: 0.2409380\ttotal: 356ms\tremaining: 3.69s\n",
      "88:\tlearn: 0.2400754\ttotal: 358ms\tremaining: 3.66s\n",
      "89:\tlearn: 0.2384780\ttotal: 360ms\tremaining: 3.64s\n",
      "90:\tlearn: 0.2371193\ttotal: 362ms\tremaining: 3.61s\n",
      "91:\tlearn: 0.2359047\ttotal: 364ms\tremaining: 3.59s\n",
      "92:\tlearn: 0.2344601\ttotal: 366ms\tremaining: 3.57s\n",
      "93:\tlearn: 0.2330883\ttotal: 368ms\tremaining: 3.55s\n",
      "94:\tlearn: 0.2317850\ttotal: 370ms\tremaining: 3.53s\n",
      "95:\tlearn: 0.2309821\ttotal: 372ms\tremaining: 3.5s\n",
      "96:\tlearn: 0.2298185\ttotal: 374ms\tremaining: 3.48s\n",
      "97:\tlearn: 0.2286705\ttotal: 376ms\tremaining: 3.46s\n",
      "98:\tlearn: 0.2273507\ttotal: 378ms\tremaining: 3.44s\n",
      "99:\tlearn: 0.2265622\ttotal: 380ms\tremaining: 3.42s\n",
      "100:\tlearn: 0.2254552\ttotal: 382ms\tremaining: 3.4s\n",
      "101:\tlearn: 0.2241577\ttotal: 384ms\tremaining: 3.38s\n",
      "102:\tlearn: 0.2230178\ttotal: 386ms\tremaining: 3.36s\n",
      "103:\tlearn: 0.2216647\ttotal: 388ms\tremaining: 3.34s\n",
      "104:\tlearn: 0.2204453\ttotal: 390ms\tremaining: 3.33s\n",
      "105:\tlearn: 0.2194573\ttotal: 392ms\tremaining: 3.31s\n",
      "106:\tlearn: 0.2186043\ttotal: 394ms\tremaining: 3.29s\n",
      "107:\tlearn: 0.2175759\ttotal: 396ms\tremaining: 3.27s\n",
      "108:\tlearn: 0.2164745\ttotal: 399ms\tremaining: 3.26s\n",
      "109:\tlearn: 0.2155461\ttotal: 401ms\tremaining: 3.24s\n",
      "110:\tlearn: 0.2147633\ttotal: 403ms\tremaining: 3.23s\n",
      "111:\tlearn: 0.2135764\ttotal: 405ms\tremaining: 3.21s\n",
      "112:\tlearn: 0.2128603\ttotal: 407ms\tremaining: 3.19s\n",
      "113:\tlearn: 0.2119077\ttotal: 409ms\tremaining: 3.18s\n",
      "114:\tlearn: 0.2112624\ttotal: 411ms\tremaining: 3.16s\n",
      "115:\tlearn: 0.2106594\ttotal: 413ms\tremaining: 3.15s\n",
      "116:\tlearn: 0.2097149\ttotal: 415ms\tremaining: 3.13s\n",
      "117:\tlearn: 0.2086367\ttotal: 417ms\tremaining: 3.12s\n",
      "118:\tlearn: 0.2078447\ttotal: 419ms\tremaining: 3.1s\n",
      "119:\tlearn: 0.2068960\ttotal: 421ms\tremaining: 3.09s\n",
      "120:\tlearn: 0.2063657\ttotal: 423ms\tremaining: 3.07s\n",
      "121:\tlearn: 0.2054552\ttotal: 425ms\tremaining: 3.06s\n",
      "122:\tlearn: 0.2042858\ttotal: 427ms\tremaining: 3.05s\n",
      "123:\tlearn: 0.2033587\ttotal: 429ms\tremaining: 3.03s\n",
      "124:\tlearn: 0.2027973\ttotal: 431ms\tremaining: 3.02s\n",
      "125:\tlearn: 0.2019024\ttotal: 434ms\tremaining: 3.01s\n",
      "126:\tlearn: 0.2011165\ttotal: 436ms\tremaining: 2.99s\n",
      "127:\tlearn: 0.2002745\ttotal: 438ms\tremaining: 2.98s\n",
      "128:\tlearn: 0.1998118\ttotal: 440ms\tremaining: 2.97s\n",
      "129:\tlearn: 0.1990346\ttotal: 442ms\tremaining: 2.96s\n",
      "130:\tlearn: 0.1985032\ttotal: 444ms\tremaining: 2.95s\n",
      "131:\tlearn: 0.1980685\ttotal: 447ms\tremaining: 2.94s\n",
      "132:\tlearn: 0.1970950\ttotal: 449ms\tremaining: 2.92s\n",
      "133:\tlearn: 0.1966244\ttotal: 451ms\tremaining: 2.91s\n",
      "134:\tlearn: 0.1960683\ttotal: 453ms\tremaining: 2.9s\n",
      "135:\tlearn: 0.1953333\ttotal: 455ms\tremaining: 2.89s\n",
      "136:\tlearn: 0.1947881\ttotal: 457ms\tremaining: 2.88s\n",
      "137:\tlearn: 0.1943158\ttotal: 459ms\tremaining: 2.87s\n",
      "138:\tlearn: 0.1934914\ttotal: 461ms\tremaining: 2.86s\n",
      "139:\tlearn: 0.1931066\ttotal: 463ms\tremaining: 2.85s\n",
      "140:\tlearn: 0.1925434\ttotal: 465ms\tremaining: 2.83s\n",
      "141:\tlearn: 0.1917963\ttotal: 467ms\tremaining: 2.82s\n",
      "142:\tlearn: 0.1910121\ttotal: 469ms\tremaining: 2.81s\n",
      "143:\tlearn: 0.1903214\ttotal: 471ms\tremaining: 2.8s\n",
      "144:\tlearn: 0.1898218\ttotal: 473ms\tremaining: 2.79s\n",
      "145:\tlearn: 0.1893585\ttotal: 476ms\tremaining: 2.78s\n",
      "146:\tlearn: 0.1887795\ttotal: 478ms\tremaining: 2.77s\n",
      "147:\tlearn: 0.1884113\ttotal: 480ms\tremaining: 2.76s\n",
      "148:\tlearn: 0.1877923\ttotal: 482ms\tremaining: 2.75s\n",
      "149:\tlearn: 0.1874391\ttotal: 484ms\tremaining: 2.74s\n",
      "150:\tlearn: 0.1869857\ttotal: 486ms\tremaining: 2.73s\n",
      "151:\tlearn: 0.1864258\ttotal: 488ms\tremaining: 2.72s\n",
      "152:\tlearn: 0.1858009\ttotal: 490ms\tremaining: 2.71s\n",
      "153:\tlearn: 0.1852744\ttotal: 492ms\tremaining: 2.7s\n",
      "154:\tlearn: 0.1849777\ttotal: 494ms\tremaining: 2.69s\n",
      "155:\tlearn: 0.1846511\ttotal: 496ms\tremaining: 2.68s\n",
      "156:\tlearn: 0.1842130\ttotal: 499ms\tremaining: 2.68s\n",
      "157:\tlearn: 0.1837395\ttotal: 501ms\tremaining: 2.67s\n",
      "158:\tlearn: 0.1831152\ttotal: 503ms\tremaining: 2.66s\n",
      "159:\tlearn: 0.1826555\ttotal: 506ms\tremaining: 2.65s\n",
      "160:\tlearn: 0.1821070\ttotal: 508ms\tremaining: 2.65s\n",
      "161:\tlearn: 0.1816680\ttotal: 510ms\tremaining: 2.64s\n",
      "162:\tlearn: 0.1813136\ttotal: 512ms\tremaining: 2.63s\n",
      "163:\tlearn: 0.1806515\ttotal: 515ms\tremaining: 2.62s\n",
      "164:\tlearn: 0.1799748\ttotal: 517ms\tremaining: 2.62s\n",
      "165:\tlearn: 0.1795620\ttotal: 519ms\tremaining: 2.61s\n",
      "166:\tlearn: 0.1790519\ttotal: 522ms\tremaining: 2.6s\n",
      "167:\tlearn: 0.1784377\ttotal: 524ms\tremaining: 2.6s\n",
      "168:\tlearn: 0.1779396\ttotal: 526ms\tremaining: 2.59s\n",
      "169:\tlearn: 0.1772814\ttotal: 529ms\tremaining: 2.58s\n",
      "170:\tlearn: 0.1767670\ttotal: 531ms\tremaining: 2.58s\n",
      "171:\tlearn: 0.1763865\ttotal: 534ms\tremaining: 2.57s\n",
      "172:\tlearn: 0.1759429\ttotal: 536ms\tremaining: 2.56s\n",
      "173:\tlearn: 0.1754494\ttotal: 538ms\tremaining: 2.55s\n",
      "174:\tlearn: 0.1750786\ttotal: 540ms\tremaining: 2.54s\n",
      "175:\tlearn: 0.1745274\ttotal: 542ms\tremaining: 2.54s\n",
      "176:\tlearn: 0.1741261\ttotal: 545ms\tremaining: 2.53s\n",
      "177:\tlearn: 0.1735547\ttotal: 547ms\tremaining: 2.53s\n",
      "178:\tlearn: 0.1731759\ttotal: 549ms\tremaining: 2.52s\n",
      "179:\tlearn: 0.1725752\ttotal: 552ms\tremaining: 2.51s\n",
      "180:\tlearn: 0.1722775\ttotal: 554ms\tremaining: 2.51s\n",
      "181:\tlearn: 0.1720893\ttotal: 556ms\tremaining: 2.5s\n",
      "182:\tlearn: 0.1716904\ttotal: 559ms\tremaining: 2.49s\n",
      "183:\tlearn: 0.1711228\ttotal: 561ms\tremaining: 2.49s\n",
      "184:\tlearn: 0.1707901\ttotal: 563ms\tremaining: 2.48s\n",
      "185:\tlearn: 0.1704888\ttotal: 565ms\tremaining: 2.47s\n",
      "186:\tlearn: 0.1701051\ttotal: 568ms\tremaining: 2.47s\n",
      "187:\tlearn: 0.1697691\ttotal: 570ms\tremaining: 2.46s\n",
      "188:\tlearn: 0.1695229\ttotal: 572ms\tremaining: 2.46s\n",
      "189:\tlearn: 0.1692833\ttotal: 574ms\tremaining: 2.45s\n",
      "190:\tlearn: 0.1689810\ttotal: 576ms\tremaining: 2.44s\n",
      "191:\tlearn: 0.1687368\ttotal: 579ms\tremaining: 2.44s\n",
      "192:\tlearn: 0.1685677\ttotal: 581ms\tremaining: 2.43s\n",
      "193:\tlearn: 0.1683236\ttotal: 583ms\tremaining: 2.42s\n",
      "194:\tlearn: 0.1679383\ttotal: 585ms\tremaining: 2.41s\n",
      "195:\tlearn: 0.1676689\ttotal: 587ms\tremaining: 2.41s\n",
      "196:\tlearn: 0.1673825\ttotal: 589ms\tremaining: 2.4s\n",
      "197:\tlearn: 0.1669227\ttotal: 591ms\tremaining: 2.39s\n",
      "198:\tlearn: 0.1667414\ttotal: 593ms\tremaining: 2.39s\n",
      "199:\tlearn: 0.1665231\ttotal: 595ms\tremaining: 2.38s\n",
      "200:\tlearn: 0.1661335\ttotal: 597ms\tremaining: 2.37s\n",
      "201:\tlearn: 0.1658372\ttotal: 599ms\tremaining: 2.37s\n",
      "202:\tlearn: 0.1655245\ttotal: 601ms\tremaining: 2.36s\n",
      "203:\tlearn: 0.1651844\ttotal: 603ms\tremaining: 2.35s\n",
      "204:\tlearn: 0.1645069\ttotal: 605ms\tremaining: 2.35s\n",
      "205:\tlearn: 0.1641300\ttotal: 607ms\tremaining: 2.34s\n",
      "206:\tlearn: 0.1636956\ttotal: 609ms\tremaining: 2.33s\n",
      "207:\tlearn: 0.1634023\ttotal: 611ms\tremaining: 2.33s\n",
      "208:\tlearn: 0.1629754\ttotal: 613ms\tremaining: 2.32s\n",
      "209:\tlearn: 0.1626234\ttotal: 616ms\tremaining: 2.31s\n",
      "210:\tlearn: 0.1623979\ttotal: 618ms\tremaining: 2.31s\n",
      "211:\tlearn: 0.1621223\ttotal: 619ms\tremaining: 2.3s\n",
      "212:\tlearn: 0.1616848\ttotal: 622ms\tremaining: 2.3s\n",
      "213:\tlearn: 0.1611610\ttotal: 624ms\tremaining: 2.29s\n",
      "214:\tlearn: 0.1607014\ttotal: 626ms\tremaining: 2.28s\n",
      "215:\tlearn: 0.1604379\ttotal: 628ms\tremaining: 2.28s\n",
      "216:\tlearn: 0.1601302\ttotal: 630ms\tremaining: 2.27s\n",
      "217:\tlearn: 0.1596434\ttotal: 632ms\tremaining: 2.27s\n",
      "218:\tlearn: 0.1593372\ttotal: 634ms\tremaining: 2.26s\n",
      "219:\tlearn: 0.1589222\ttotal: 636ms\tremaining: 2.26s\n",
      "220:\tlearn: 0.1587947\ttotal: 638ms\tremaining: 2.25s\n",
      "221:\tlearn: 0.1586192\ttotal: 641ms\tremaining: 2.24s\n",
      "222:\tlearn: 0.1583538\ttotal: 643ms\tremaining: 2.24s\n",
      "223:\tlearn: 0.1581966\ttotal: 645ms\tremaining: 2.23s\n",
      "224:\tlearn: 0.1578336\ttotal: 647ms\tremaining: 2.23s\n",
      "225:\tlearn: 0.1574762\ttotal: 649ms\tremaining: 2.22s\n",
      "226:\tlearn: 0.1573365\ttotal: 651ms\tremaining: 2.21s\n",
      "227:\tlearn: 0.1571193\ttotal: 653ms\tremaining: 2.21s\n",
      "228:\tlearn: 0.1566244\ttotal: 655ms\tremaining: 2.2s\n",
      "229:\tlearn: 0.1563957\ttotal: 657ms\tremaining: 2.2s\n",
      "230:\tlearn: 0.1560279\ttotal: 659ms\tremaining: 2.19s\n",
      "231:\tlearn: 0.1558766\ttotal: 661ms\tremaining: 2.19s\n",
      "232:\tlearn: 0.1554965\ttotal: 663ms\tremaining: 2.18s\n",
      "233:\tlearn: 0.1551290\ttotal: 665ms\tremaining: 2.18s\n"
     ]
    },
    {
     "name": "stdout",
     "output_type": "stream",
     "text": [
      "234:\tlearn: 0.1547812\ttotal: 667ms\tremaining: 2.17s\n",
      "235:\tlearn: 0.1546573\ttotal: 669ms\tremaining: 2.17s\n",
      "236:\tlearn: 0.1544716\ttotal: 671ms\tremaining: 2.16s\n",
      "237:\tlearn: 0.1540651\ttotal: 674ms\tremaining: 2.16s\n",
      "238:\tlearn: 0.1538323\ttotal: 676ms\tremaining: 2.15s\n",
      "239:\tlearn: 0.1536468\ttotal: 678ms\tremaining: 2.15s\n",
      "240:\tlearn: 0.1534073\ttotal: 680ms\tremaining: 2.14s\n",
      "241:\tlearn: 0.1530914\ttotal: 682ms\tremaining: 2.14s\n",
      "242:\tlearn: 0.1526131\ttotal: 685ms\tremaining: 2.13s\n",
      "243:\tlearn: 0.1524170\ttotal: 687ms\tremaining: 2.13s\n",
      "244:\tlearn: 0.1521516\ttotal: 689ms\tremaining: 2.12s\n",
      "245:\tlearn: 0.1519362\ttotal: 691ms\tremaining: 2.12s\n",
      "246:\tlearn: 0.1517886\ttotal: 693ms\tremaining: 2.11s\n",
      "247:\tlearn: 0.1515828\ttotal: 696ms\tremaining: 2.11s\n",
      "248:\tlearn: 0.1511201\ttotal: 698ms\tremaining: 2.1s\n",
      "249:\tlearn: 0.1509229\ttotal: 700ms\tremaining: 2.1s\n",
      "250:\tlearn: 0.1505150\ttotal: 702ms\tremaining: 2.09s\n",
      "251:\tlearn: 0.1501716\ttotal: 704ms\tremaining: 2.09s\n",
      "252:\tlearn: 0.1499907\ttotal: 706ms\tremaining: 2.08s\n",
      "253:\tlearn: 0.1497918\ttotal: 708ms\tremaining: 2.08s\n",
      "254:\tlearn: 0.1495150\ttotal: 710ms\tremaining: 2.07s\n",
      "255:\tlearn: 0.1493620\ttotal: 712ms\tremaining: 2.07s\n",
      "256:\tlearn: 0.1490538\ttotal: 714ms\tremaining: 2.06s\n",
      "257:\tlearn: 0.1489471\ttotal: 717ms\tremaining: 2.06s\n",
      "258:\tlearn: 0.1486489\ttotal: 719ms\tremaining: 2.06s\n",
      "259:\tlearn: 0.1484012\ttotal: 721ms\tremaining: 2.05s\n",
      "260:\tlearn: 0.1482525\ttotal: 723ms\tremaining: 2.05s\n",
      "261:\tlearn: 0.1479599\ttotal: 725ms\tremaining: 2.04s\n",
      "262:\tlearn: 0.1477046\ttotal: 727ms\tremaining: 2.04s\n",
      "263:\tlearn: 0.1473414\ttotal: 729ms\tremaining: 2.03s\n",
      "264:\tlearn: 0.1469182\ttotal: 731ms\tremaining: 2.03s\n",
      "265:\tlearn: 0.1466860\ttotal: 733ms\tremaining: 2.02s\n",
      "266:\tlearn: 0.1464790\ttotal: 735ms\tremaining: 2.02s\n",
      "267:\tlearn: 0.1464474\ttotal: 737ms\tremaining: 2.01s\n",
      "268:\tlearn: 0.1460941\ttotal: 739ms\tremaining: 2.01s\n",
      "269:\tlearn: 0.1458751\ttotal: 742ms\tremaining: 2s\n",
      "270:\tlearn: 0.1458317\ttotal: 744ms\tremaining: 2s\n",
      "271:\tlearn: 0.1454446\ttotal: 746ms\tremaining: 2s\n",
      "272:\tlearn: 0.1452327\ttotal: 748ms\tremaining: 1.99s\n",
      "273:\tlearn: 0.1449613\ttotal: 750ms\tremaining: 1.99s\n",
      "274:\tlearn: 0.1447484\ttotal: 752ms\tremaining: 1.98s\n",
      "275:\tlearn: 0.1445765\ttotal: 754ms\tremaining: 1.98s\n",
      "276:\tlearn: 0.1443244\ttotal: 756ms\tremaining: 1.97s\n",
      "277:\tlearn: 0.1440302\ttotal: 758ms\tremaining: 1.97s\n",
      "278:\tlearn: 0.1438897\ttotal: 761ms\tremaining: 1.97s\n",
      "279:\tlearn: 0.1435976\ttotal: 763ms\tremaining: 1.96s\n",
      "280:\tlearn: 0.1434377\ttotal: 765ms\tremaining: 1.96s\n",
      "281:\tlearn: 0.1431308\ttotal: 767ms\tremaining: 1.95s\n",
      "282:\tlearn: 0.1427841\ttotal: 769ms\tremaining: 1.95s\n",
      "283:\tlearn: 0.1427020\ttotal: 772ms\tremaining: 1.95s\n",
      "284:\tlearn: 0.1424243\ttotal: 774ms\tremaining: 1.94s\n",
      "285:\tlearn: 0.1422432\ttotal: 776ms\tremaining: 1.94s\n",
      "286:\tlearn: 0.1421480\ttotal: 778ms\tremaining: 1.93s\n",
      "287:\tlearn: 0.1421177\ttotal: 780ms\tremaining: 1.93s\n",
      "288:\tlearn: 0.1417652\ttotal: 782ms\tremaining: 1.92s\n",
      "289:\tlearn: 0.1416191\ttotal: 784ms\tremaining: 1.92s\n",
      "290:\tlearn: 0.1412578\ttotal: 786ms\tremaining: 1.92s\n",
      "291:\tlearn: 0.1410905\ttotal: 788ms\tremaining: 1.91s\n",
      "292:\tlearn: 0.1408765\ttotal: 790ms\tremaining: 1.91s\n",
      "293:\tlearn: 0.1408533\ttotal: 792ms\tremaining: 1.9s\n",
      "294:\tlearn: 0.1406678\ttotal: 794ms\tremaining: 1.9s\n",
      "295:\tlearn: 0.1406201\ttotal: 796ms\tremaining: 1.89s\n",
      "296:\tlearn: 0.1403884\ttotal: 798ms\tremaining: 1.89s\n",
      "297:\tlearn: 0.1401376\ttotal: 801ms\tremaining: 1.89s\n",
      "298:\tlearn: 0.1399002\ttotal: 803ms\tremaining: 1.88s\n",
      "299:\tlearn: 0.1396918\ttotal: 805ms\tremaining: 1.88s\n",
      "300:\tlearn: 0.1396194\ttotal: 807ms\tremaining: 1.87s\n",
      "301:\tlearn: 0.1394158\ttotal: 809ms\tremaining: 1.87s\n",
      "302:\tlearn: 0.1392333\ttotal: 811ms\tremaining: 1.86s\n",
      "303:\tlearn: 0.1390622\ttotal: 813ms\tremaining: 1.86s\n",
      "304:\tlearn: 0.1389212\ttotal: 815ms\tremaining: 1.86s\n",
      "305:\tlearn: 0.1384579\ttotal: 818ms\tremaining: 1.85s\n",
      "306:\tlearn: 0.1382150\ttotal: 820ms\tremaining: 1.85s\n",
      "307:\tlearn: 0.1379502\ttotal: 822ms\tremaining: 1.85s\n",
      "308:\tlearn: 0.1378430\ttotal: 824ms\tremaining: 1.84s\n",
      "309:\tlearn: 0.1376309\ttotal: 826ms\tremaining: 1.84s\n",
      "310:\tlearn: 0.1374502\ttotal: 828ms\tremaining: 1.83s\n",
      "311:\tlearn: 0.1372200\ttotal: 830ms\tremaining: 1.83s\n",
      "312:\tlearn: 0.1369091\ttotal: 832ms\tremaining: 1.83s\n",
      "313:\tlearn: 0.1366045\ttotal: 839ms\tremaining: 1.83s\n",
      "314:\tlearn: 0.1363816\ttotal: 841ms\tremaining: 1.83s\n",
      "315:\tlearn: 0.1361427\ttotal: 843ms\tremaining: 1.82s\n",
      "316:\tlearn: 0.1360266\ttotal: 845ms\tremaining: 1.82s\n",
      "317:\tlearn: 0.1358450\ttotal: 848ms\tremaining: 1.82s\n",
      "318:\tlearn: 0.1356061\ttotal: 850ms\tremaining: 1.81s\n",
      "319:\tlearn: 0.1353027\ttotal: 852ms\tremaining: 1.81s\n",
      "320:\tlearn: 0.1351172\ttotal: 855ms\tremaining: 1.81s\n",
      "321:\tlearn: 0.1349997\ttotal: 857ms\tremaining: 1.8s\n",
      "322:\tlearn: 0.1347470\ttotal: 859ms\tremaining: 1.8s\n",
      "323:\tlearn: 0.1346301\ttotal: 861ms\tremaining: 1.8s\n",
      "324:\tlearn: 0.1343522\ttotal: 863ms\tremaining: 1.79s\n",
      "325:\tlearn: 0.1341212\ttotal: 866ms\tremaining: 1.79s\n",
      "326:\tlearn: 0.1338944\ttotal: 868ms\tremaining: 1.79s\n",
      "327:\tlearn: 0.1336345\ttotal: 870ms\tremaining: 1.78s\n",
      "328:\tlearn: 0.1335311\ttotal: 872ms\tremaining: 1.78s\n",
      "329:\tlearn: 0.1334622\ttotal: 874ms\tremaining: 1.77s\n",
      "330:\tlearn: 0.1332656\ttotal: 876ms\tremaining: 1.77s\n",
      "331:\tlearn: 0.1331181\ttotal: 878ms\tremaining: 1.77s\n",
      "332:\tlearn: 0.1327445\ttotal: 880ms\tremaining: 1.76s\n",
      "333:\tlearn: 0.1326710\ttotal: 882ms\tremaining: 1.76s\n",
      "334:\tlearn: 0.1323523\ttotal: 885ms\tremaining: 1.75s\n",
      "335:\tlearn: 0.1321981\ttotal: 887ms\tremaining: 1.75s\n",
      "336:\tlearn: 0.1320462\ttotal: 890ms\tremaining: 1.75s\n",
      "337:\tlearn: 0.1316666\ttotal: 892ms\tremaining: 1.75s\n",
      "338:\tlearn: 0.1314028\ttotal: 894ms\tremaining: 1.74s\n",
      "339:\tlearn: 0.1311756\ttotal: 896ms\tremaining: 1.74s\n",
      "340:\tlearn: 0.1311309\ttotal: 898ms\tremaining: 1.73s\n",
      "341:\tlearn: 0.1307726\ttotal: 900ms\tremaining: 1.73s\n",
      "342:\tlearn: 0.1304516\ttotal: 902ms\tremaining: 1.73s\n",
      "343:\tlearn: 0.1302348\ttotal: 904ms\tremaining: 1.72s\n",
      "344:\tlearn: 0.1300989\ttotal: 906ms\tremaining: 1.72s\n",
      "345:\tlearn: 0.1299971\ttotal: 908ms\tremaining: 1.72s\n",
      "346:\tlearn: 0.1296966\ttotal: 910ms\tremaining: 1.71s\n",
      "347:\tlearn: 0.1295745\ttotal: 912ms\tremaining: 1.71s\n",
      "348:\tlearn: 0.1294380\ttotal: 914ms\tremaining: 1.71s\n",
      "349:\tlearn: 0.1291476\ttotal: 916ms\tremaining: 1.7s\n",
      "350:\tlearn: 0.1288701\ttotal: 919ms\tremaining: 1.7s\n",
      "351:\tlearn: 0.1286358\ttotal: 921ms\tremaining: 1.7s\n",
      "352:\tlearn: 0.1283882\ttotal: 923ms\tremaining: 1.69s\n",
      "353:\tlearn: 0.1283322\ttotal: 925ms\tremaining: 1.69s\n",
      "354:\tlearn: 0.1282805\ttotal: 927ms\tremaining: 1.68s\n",
      "355:\tlearn: 0.1281967\ttotal: 930ms\tremaining: 1.68s\n",
      "356:\tlearn: 0.1280048\ttotal: 932ms\tremaining: 1.68s\n",
      "357:\tlearn: 0.1278770\ttotal: 935ms\tremaining: 1.68s\n",
      "358:\tlearn: 0.1276295\ttotal: 937ms\tremaining: 1.67s\n",
      "359:\tlearn: 0.1275129\ttotal: 939ms\tremaining: 1.67s\n",
      "360:\tlearn: 0.1274524\ttotal: 941ms\tremaining: 1.67s\n",
      "361:\tlearn: 0.1271919\ttotal: 943ms\tremaining: 1.66s\n",
      "362:\tlearn: 0.1270889\ttotal: 945ms\tremaining: 1.66s\n",
      "363:\tlearn: 0.1269158\ttotal: 947ms\tremaining: 1.65s\n",
      "364:\tlearn: 0.1268545\ttotal: 949ms\tremaining: 1.65s\n",
      "365:\tlearn: 0.1267229\ttotal: 951ms\tremaining: 1.65s\n",
      "366:\tlearn: 0.1265067\ttotal: 953ms\tremaining: 1.64s\n",
      "367:\tlearn: 0.1261517\ttotal: 955ms\tremaining: 1.64s\n",
      "368:\tlearn: 0.1258099\ttotal: 957ms\tremaining: 1.64s\n",
      "369:\tlearn: 0.1255693\ttotal: 959ms\tremaining: 1.63s\n",
      "370:\tlearn: 0.1253644\ttotal: 961ms\tremaining: 1.63s\n",
      "371:\tlearn: 0.1252642\ttotal: 963ms\tremaining: 1.63s\n",
      "372:\tlearn: 0.1251317\ttotal: 965ms\tremaining: 1.62s\n",
      "373:\tlearn: 0.1249747\ttotal: 967ms\tremaining: 1.62s\n",
      "374:\tlearn: 0.1248421\ttotal: 969ms\tremaining: 1.61s\n",
      "375:\tlearn: 0.1246705\ttotal: 971ms\tremaining: 1.61s\n",
      "376:\tlearn: 0.1246302\ttotal: 973ms\tremaining: 1.61s\n",
      "377:\tlearn: 0.1245583\ttotal: 975ms\tremaining: 1.6s\n",
      "378:\tlearn: 0.1242488\ttotal: 977ms\tremaining: 1.6s\n",
      "379:\tlearn: 0.1240298\ttotal: 979ms\tremaining: 1.6s\n",
      "380:\tlearn: 0.1237673\ttotal: 981ms\tremaining: 1.59s\n",
      "381:\tlearn: 0.1236753\ttotal: 983ms\tremaining: 1.59s\n",
      "382:\tlearn: 0.1233720\ttotal: 986ms\tremaining: 1.59s\n",
      "383:\tlearn: 0.1233176\ttotal: 987ms\tremaining: 1.58s\n",
      "384:\tlearn: 0.1231831\ttotal: 989ms\tremaining: 1.58s\n",
      "385:\tlearn: 0.1230980\ttotal: 991ms\tremaining: 1.58s\n",
      "386:\tlearn: 0.1228506\ttotal: 993ms\tremaining: 1.57s\n",
      "387:\tlearn: 0.1226570\ttotal: 995ms\tremaining: 1.57s\n",
      "388:\tlearn: 0.1223651\ttotal: 997ms\tremaining: 1.57s\n",
      "389:\tlearn: 0.1222690\ttotal: 999ms\tremaining: 1.56s\n",
      "390:\tlearn: 0.1220343\ttotal: 1s\tremaining: 1.56s\n",
      "391:\tlearn: 0.1219830\ttotal: 1s\tremaining: 1.56s\n",
      "392:\tlearn: 0.1217825\ttotal: 1.01s\tremaining: 1.55s\n",
      "393:\tlearn: 0.1217233\ttotal: 1.01s\tremaining: 1.55s\n",
      "394:\tlearn: 0.1216728\ttotal: 1.01s\tremaining: 1.55s\n",
      "395:\tlearn: 0.1214772\ttotal: 1.01s\tremaining: 1.54s\n",
      "396:\tlearn: 0.1213041\ttotal: 1.01s\tremaining: 1.54s\n",
      "397:\tlearn: 0.1210699\ttotal: 1.02s\tremaining: 1.54s\n",
      "398:\tlearn: 0.1209331\ttotal: 1.02s\tremaining: 1.54s\n",
      "399:\tlearn: 0.1207552\ttotal: 1.02s\tremaining: 1.53s\n",
      "400:\tlearn: 0.1205886\ttotal: 1.02s\tremaining: 1.53s\n",
      "401:\tlearn: 0.1203889\ttotal: 1.03s\tremaining: 1.53s\n",
      "402:\tlearn: 0.1202618\ttotal: 1.03s\tremaining: 1.52s\n",
      "403:\tlearn: 0.1200787\ttotal: 1.03s\tremaining: 1.52s\n",
      "404:\tlearn: 0.1199418\ttotal: 1.03s\tremaining: 1.52s\n",
      "405:\tlearn: 0.1198146\ttotal: 1.03s\tremaining: 1.51s\n",
      "406:\tlearn: 0.1197802\ttotal: 1.04s\tremaining: 1.51s\n",
      "407:\tlearn: 0.1196295\ttotal: 1.04s\tremaining: 1.51s\n",
      "408:\tlearn: 0.1193755\ttotal: 1.04s\tremaining: 1.5s\n",
      "409:\tlearn: 0.1193341\ttotal: 1.04s\tremaining: 1.5s\n",
      "410:\tlearn: 0.1191393\ttotal: 1.04s\tremaining: 1.5s\n",
      "411:\tlearn: 0.1190228\ttotal: 1.05s\tremaining: 1.49s\n",
      "412:\tlearn: 0.1188097\ttotal: 1.05s\tremaining: 1.49s\n",
      "413:\tlearn: 0.1186975\ttotal: 1.05s\tremaining: 1.49s\n",
      "414:\tlearn: 0.1185895\ttotal: 1.05s\tremaining: 1.48s\n",
      "415:\tlearn: 0.1185766\ttotal: 1.05s\tremaining: 1.48s\n",
      "416:\tlearn: 0.1182977\ttotal: 1.06s\tremaining: 1.48s\n",
      "417:\tlearn: 0.1181700\ttotal: 1.06s\tremaining: 1.47s\n",
      "418:\tlearn: 0.1181592\ttotal: 1.06s\tremaining: 1.47s\n",
      "419:\tlearn: 0.1179238\ttotal: 1.06s\tremaining: 1.47s\n",
      "420:\tlearn: 0.1177724\ttotal: 1.06s\tremaining: 1.47s\n",
      "421:\tlearn: 0.1175155\ttotal: 1.07s\tremaining: 1.46s\n",
      "422:\tlearn: 0.1173494\ttotal: 1.07s\tremaining: 1.46s\n",
      "423:\tlearn: 0.1172359\ttotal: 1.07s\tremaining: 1.46s\n",
      "424:\tlearn: 0.1171407\ttotal: 1.07s\tremaining: 1.45s\n",
      "425:\tlearn: 0.1169490\ttotal: 1.08s\tremaining: 1.45s\n",
      "426:\tlearn: 0.1168521\ttotal: 1.08s\tremaining: 1.45s\n",
      "427:\tlearn: 0.1165946\ttotal: 1.08s\tremaining: 1.44s\n",
      "428:\tlearn: 0.1163666\ttotal: 1.08s\tremaining: 1.44s\n",
      "429:\tlearn: 0.1162385\ttotal: 1.08s\tremaining: 1.44s\n",
      "430:\tlearn: 0.1161700\ttotal: 1.09s\tremaining: 1.43s\n",
      "431:\tlearn: 0.1159851\ttotal: 1.09s\tremaining: 1.43s\n",
      "432:\tlearn: 0.1156728\ttotal: 1.09s\tremaining: 1.43s\n",
      "433:\tlearn: 0.1154568\ttotal: 1.09s\tremaining: 1.43s\n",
      "434:\tlearn: 0.1153957\ttotal: 1.09s\tremaining: 1.42s\n",
      "435:\tlearn: 0.1152116\ttotal: 1.1s\tremaining: 1.42s\n",
      "436:\tlearn: 0.1150767\ttotal: 1.1s\tremaining: 1.42s\n",
      "437:\tlearn: 0.1149630\ttotal: 1.1s\tremaining: 1.41s\n",
      "438:\tlearn: 0.1147535\ttotal: 1.1s\tremaining: 1.41s\n",
      "439:\tlearn: 0.1146556\ttotal: 1.1s\tremaining: 1.41s\n",
      "440:\tlearn: 0.1145978\ttotal: 1.11s\tremaining: 1.4s\n",
      "441:\tlearn: 0.1144087\ttotal: 1.11s\tremaining: 1.4s\n",
      "442:\tlearn: 0.1143081\ttotal: 1.11s\tremaining: 1.4s\n",
      "443:\tlearn: 0.1140222\ttotal: 1.11s\tremaining: 1.39s\n",
      "444:\tlearn: 0.1138909\ttotal: 1.11s\tremaining: 1.39s\n",
      "445:\tlearn: 0.1138214\ttotal: 1.12s\tremaining: 1.39s\n",
      "446:\tlearn: 0.1134903\ttotal: 1.12s\tremaining: 1.39s\n",
      "447:\tlearn: 0.1132306\ttotal: 1.12s\tremaining: 1.38s\n",
      "448:\tlearn: 0.1128983\ttotal: 1.12s\tremaining: 1.38s\n",
      "449:\tlearn: 0.1127721\ttotal: 1.13s\tremaining: 1.38s\n",
      "450:\tlearn: 0.1126799\ttotal: 1.13s\tremaining: 1.37s\n",
      "451:\tlearn: 0.1125745\ttotal: 1.13s\tremaining: 1.37s\n",
      "452:\tlearn: 0.1123470\ttotal: 1.13s\tremaining: 1.37s\n",
      "453:\tlearn: 0.1122465\ttotal: 1.13s\tremaining: 1.36s\n",
      "454:\tlearn: 0.1121417\ttotal: 1.14s\tremaining: 1.36s\n",
      "455:\tlearn: 0.1120448\ttotal: 1.14s\tremaining: 1.36s\n",
      "456:\tlearn: 0.1116880\ttotal: 1.14s\tremaining: 1.35s\n",
      "457:\tlearn: 0.1114352\ttotal: 1.14s\tremaining: 1.35s\n",
      "458:\tlearn: 0.1112316\ttotal: 1.15s\tremaining: 1.35s\n",
      "459:\tlearn: 0.1111772\ttotal: 1.15s\tremaining: 1.35s\n",
      "460:\tlearn: 0.1110445\ttotal: 1.15s\tremaining: 1.34s\n",
      "461:\tlearn: 0.1108670\ttotal: 1.15s\tremaining: 1.34s\n",
      "462:\tlearn: 0.1107097\ttotal: 1.15s\tremaining: 1.34s\n",
      "463:\tlearn: 0.1105129\ttotal: 1.16s\tremaining: 1.33s\n",
      "464:\tlearn: 0.1104762\ttotal: 1.16s\tremaining: 1.33s\n",
      "465:\tlearn: 0.1101794\ttotal: 1.16s\tremaining: 1.33s\n",
      "466:\tlearn: 0.1101567\ttotal: 1.16s\tremaining: 1.33s\n",
      "467:\tlearn: 0.1100353\ttotal: 1.16s\tremaining: 1.32s\n",
      "468:\tlearn: 0.1098736\ttotal: 1.17s\tremaining: 1.32s\n",
      "469:\tlearn: 0.1096119\ttotal: 1.17s\tremaining: 1.32s\n"
     ]
    },
    {
     "name": "stdout",
     "output_type": "stream",
     "text": [
      "470:\tlearn: 0.1095984\ttotal: 1.17s\tremaining: 1.31s\n",
      "471:\tlearn: 0.1095283\ttotal: 1.17s\tremaining: 1.31s\n",
      "472:\tlearn: 0.1092576\ttotal: 1.18s\tremaining: 1.31s\n",
      "473:\tlearn: 0.1090834\ttotal: 1.18s\tremaining: 1.31s\n",
      "474:\tlearn: 0.1088993\ttotal: 1.18s\tremaining: 1.3s\n",
      "475:\tlearn: 0.1086536\ttotal: 1.18s\tremaining: 1.3s\n",
      "476:\tlearn: 0.1083978\ttotal: 1.18s\tremaining: 1.3s\n",
      "477:\tlearn: 0.1083866\ttotal: 1.19s\tremaining: 1.29s\n",
      "478:\tlearn: 0.1082190\ttotal: 1.19s\tremaining: 1.29s\n",
      "479:\tlearn: 0.1080609\ttotal: 1.19s\tremaining: 1.29s\n",
      "480:\tlearn: 0.1078583\ttotal: 1.19s\tremaining: 1.29s\n",
      "481:\tlearn: 0.1077245\ttotal: 1.19s\tremaining: 1.28s\n",
      "482:\tlearn: 0.1074631\ttotal: 1.2s\tremaining: 1.28s\n",
      "483:\tlearn: 0.1073866\ttotal: 1.2s\tremaining: 1.28s\n",
      "484:\tlearn: 0.1072437\ttotal: 1.2s\tremaining: 1.27s\n",
      "485:\tlearn: 0.1070908\ttotal: 1.2s\tremaining: 1.27s\n",
      "486:\tlearn: 0.1070139\ttotal: 1.21s\tremaining: 1.27s\n",
      "487:\tlearn: 0.1069163\ttotal: 1.21s\tremaining: 1.27s\n",
      "488:\tlearn: 0.1068331\ttotal: 1.21s\tremaining: 1.26s\n",
      "489:\tlearn: 0.1066638\ttotal: 1.21s\tremaining: 1.26s\n",
      "490:\tlearn: 0.1065609\ttotal: 1.21s\tremaining: 1.26s\n",
      "491:\tlearn: 0.1064169\ttotal: 1.22s\tremaining: 1.25s\n",
      "492:\tlearn: 0.1063379\ttotal: 1.22s\tremaining: 1.25s\n",
      "493:\tlearn: 0.1061901\ttotal: 1.22s\tremaining: 1.25s\n",
      "494:\tlearn: 0.1059301\ttotal: 1.22s\tremaining: 1.25s\n",
      "495:\tlearn: 0.1056893\ttotal: 1.22s\tremaining: 1.24s\n",
      "496:\tlearn: 0.1053749\ttotal: 1.23s\tremaining: 1.24s\n",
      "497:\tlearn: 0.1052922\ttotal: 1.23s\tremaining: 1.24s\n",
      "498:\tlearn: 0.1051431\ttotal: 1.23s\tremaining: 1.23s\n",
      "499:\tlearn: 0.1049846\ttotal: 1.23s\tremaining: 1.23s\n",
      "500:\tlearn: 0.1048993\ttotal: 1.23s\tremaining: 1.23s\n",
      "501:\tlearn: 0.1047573\ttotal: 1.24s\tremaining: 1.23s\n",
      "502:\tlearn: 0.1046119\ttotal: 1.24s\tremaining: 1.22s\n",
      "503:\tlearn: 0.1044921\ttotal: 1.24s\tremaining: 1.22s\n",
      "504:\tlearn: 0.1043516\ttotal: 1.24s\tremaining: 1.22s\n",
      "505:\tlearn: 0.1041581\ttotal: 1.24s\tremaining: 1.22s\n",
      "506:\tlearn: 0.1039693\ttotal: 1.25s\tremaining: 1.21s\n",
      "507:\tlearn: 0.1037870\ttotal: 1.25s\tremaining: 1.21s\n",
      "508:\tlearn: 0.1036789\ttotal: 1.25s\tremaining: 1.21s\n",
      "509:\tlearn: 0.1034952\ttotal: 1.25s\tremaining: 1.2s\n",
      "510:\tlearn: 0.1034035\ttotal: 1.25s\tremaining: 1.2s\n",
      "511:\tlearn: 0.1032189\ttotal: 1.26s\tremaining: 1.2s\n",
      "512:\tlearn: 0.1030227\ttotal: 1.26s\tremaining: 1.2s\n",
      "513:\tlearn: 0.1028042\ttotal: 1.26s\tremaining: 1.19s\n",
      "514:\tlearn: 0.1026880\ttotal: 1.26s\tremaining: 1.19s\n",
      "515:\tlearn: 0.1026812\ttotal: 1.26s\tremaining: 1.19s\n",
      "516:\tlearn: 0.1025191\ttotal: 1.27s\tremaining: 1.18s\n",
      "517:\tlearn: 0.1023631\ttotal: 1.27s\tremaining: 1.18s\n",
      "518:\tlearn: 0.1022797\ttotal: 1.27s\tremaining: 1.18s\n",
      "519:\tlearn: 0.1022055\ttotal: 1.27s\tremaining: 1.17s\n",
      "520:\tlearn: 0.1021603\ttotal: 1.27s\tremaining: 1.17s\n",
      "521:\tlearn: 0.1019865\ttotal: 1.28s\tremaining: 1.17s\n",
      "522:\tlearn: 0.1018328\ttotal: 1.28s\tremaining: 1.17s\n",
      "523:\tlearn: 0.1016576\ttotal: 1.28s\tremaining: 1.16s\n",
      "524:\tlearn: 0.1015557\ttotal: 1.28s\tremaining: 1.16s\n",
      "525:\tlearn: 0.1015073\ttotal: 1.28s\tremaining: 1.16s\n",
      "526:\tlearn: 0.1013106\ttotal: 1.29s\tremaining: 1.15s\n",
      "527:\tlearn: 0.1011198\ttotal: 1.29s\tremaining: 1.15s\n",
      "528:\tlearn: 0.1009734\ttotal: 1.29s\tremaining: 1.15s\n",
      "529:\tlearn: 0.1008591\ttotal: 1.29s\tremaining: 1.15s\n",
      "530:\tlearn: 0.1008167\ttotal: 1.29s\tremaining: 1.14s\n",
      "531:\tlearn: 0.1005843\ttotal: 1.3s\tremaining: 1.14s\n",
      "532:\tlearn: 0.1003622\ttotal: 1.3s\tremaining: 1.14s\n",
      "533:\tlearn: 0.1002902\ttotal: 1.3s\tremaining: 1.14s\n",
      "534:\tlearn: 0.1000676\ttotal: 1.3s\tremaining: 1.13s\n",
      "535:\tlearn: 0.0998410\ttotal: 1.3s\tremaining: 1.13s\n",
      "536:\tlearn: 0.0996479\ttotal: 1.31s\tremaining: 1.13s\n",
      "537:\tlearn: 0.0994924\ttotal: 1.31s\tremaining: 1.12s\n",
      "538:\tlearn: 0.0994527\ttotal: 1.31s\tremaining: 1.12s\n",
      "539:\tlearn: 0.0992632\ttotal: 1.31s\tremaining: 1.12s\n",
      "540:\tlearn: 0.0990850\ttotal: 1.31s\tremaining: 1.12s\n",
      "541:\tlearn: 0.0989799\ttotal: 1.32s\tremaining: 1.11s\n",
      "542:\tlearn: 0.0988490\ttotal: 1.32s\tremaining: 1.11s\n",
      "543:\tlearn: 0.0987377\ttotal: 1.32s\tremaining: 1.11s\n",
      "544:\tlearn: 0.0986201\ttotal: 1.32s\tremaining: 1.1s\n",
      "545:\tlearn: 0.0985007\ttotal: 1.33s\tremaining: 1.1s\n",
      "546:\tlearn: 0.0984245\ttotal: 1.33s\tremaining: 1.1s\n",
      "547:\tlearn: 0.0983020\ttotal: 1.33s\tremaining: 1.1s\n",
      "548:\tlearn: 0.0981940\ttotal: 1.33s\tremaining: 1.09s\n",
      "549:\tlearn: 0.0979813\ttotal: 1.33s\tremaining: 1.09s\n",
      "550:\tlearn: 0.0978224\ttotal: 1.34s\tremaining: 1.09s\n",
      "551:\tlearn: 0.0977474\ttotal: 1.34s\tremaining: 1.09s\n",
      "552:\tlearn: 0.0976631\ttotal: 1.34s\tremaining: 1.09s\n",
      "553:\tlearn: 0.0975742\ttotal: 1.35s\tremaining: 1.08s\n",
      "554:\tlearn: 0.0972561\ttotal: 1.35s\tremaining: 1.08s\n",
      "555:\tlearn: 0.0972106\ttotal: 1.35s\tremaining: 1.08s\n",
      "556:\tlearn: 0.0971816\ttotal: 1.35s\tremaining: 1.07s\n",
      "557:\tlearn: 0.0970773\ttotal: 1.35s\tremaining: 1.07s\n",
      "558:\tlearn: 0.0969269\ttotal: 1.36s\tremaining: 1.07s\n",
      "559:\tlearn: 0.0968325\ttotal: 1.36s\tremaining: 1.07s\n",
      "560:\tlearn: 0.0967573\ttotal: 1.36s\tremaining: 1.06s\n",
      "561:\tlearn: 0.0966687\ttotal: 1.36s\tremaining: 1.06s\n",
      "562:\tlearn: 0.0965398\ttotal: 1.37s\tremaining: 1.06s\n",
      "563:\tlearn: 0.0965022\ttotal: 1.37s\tremaining: 1.06s\n",
      "564:\tlearn: 0.0963810\ttotal: 1.37s\tremaining: 1.05s\n",
      "565:\tlearn: 0.0962857\ttotal: 1.37s\tremaining: 1.05s\n",
      "566:\tlearn: 0.0961944\ttotal: 1.37s\tremaining: 1.05s\n",
      "567:\tlearn: 0.0960065\ttotal: 1.38s\tremaining: 1.05s\n",
      "568:\tlearn: 0.0958505\ttotal: 1.38s\tremaining: 1.04s\n",
      "569:\tlearn: 0.0958050\ttotal: 1.38s\tremaining: 1.04s\n",
      "570:\tlearn: 0.0957626\ttotal: 1.38s\tremaining: 1.04s\n",
      "571:\tlearn: 0.0957111\ttotal: 1.38s\tremaining: 1.03s\n",
      "572:\tlearn: 0.0956783\ttotal: 1.39s\tremaining: 1.03s\n",
      "573:\tlearn: 0.0956242\ttotal: 1.39s\tremaining: 1.03s\n",
      "574:\tlearn: 0.0954422\ttotal: 1.39s\tremaining: 1.03s\n",
      "575:\tlearn: 0.0952775\ttotal: 1.39s\tremaining: 1.02s\n",
      "576:\tlearn: 0.0951916\ttotal: 1.39s\tremaining: 1.02s\n",
      "577:\tlearn: 0.0948508\ttotal: 1.4s\tremaining: 1.02s\n",
      "578:\tlearn: 0.0947994\ttotal: 1.4s\tremaining: 1.02s\n",
      "579:\tlearn: 0.0946256\ttotal: 1.4s\tremaining: 1.01s\n",
      "580:\tlearn: 0.0944359\ttotal: 1.4s\tremaining: 1.01s\n",
      "581:\tlearn: 0.0943583\ttotal: 1.4s\tremaining: 1.01s\n",
      "582:\tlearn: 0.0942280\ttotal: 1.41s\tremaining: 1.01s\n",
      "583:\tlearn: 0.0941064\ttotal: 1.41s\tremaining: 1s\n",
      "584:\tlearn: 0.0940281\ttotal: 1.41s\tremaining: 1s\n",
      "585:\tlearn: 0.0938925\ttotal: 1.41s\tremaining: 999ms\n",
      "586:\tlearn: 0.0937460\ttotal: 1.42s\tremaining: 996ms\n",
      "587:\tlearn: 0.0936229\ttotal: 1.42s\tremaining: 993ms\n",
      "588:\tlearn: 0.0935147\ttotal: 1.42s\tremaining: 991ms\n",
      "589:\tlearn: 0.0934430\ttotal: 1.42s\tremaining: 988ms\n",
      "590:\tlearn: 0.0933808\ttotal: 1.42s\tremaining: 985ms\n",
      "591:\tlearn: 0.0932379\ttotal: 1.43s\tremaining: 983ms\n",
      "592:\tlearn: 0.0931078\ttotal: 1.43s\tremaining: 980ms\n",
      "593:\tlearn: 0.0929564\ttotal: 1.43s\tremaining: 978ms\n",
      "594:\tlearn: 0.0928322\ttotal: 1.43s\tremaining: 975ms\n",
      "595:\tlearn: 0.0925842\ttotal: 1.43s\tremaining: 972ms\n",
      "596:\tlearn: 0.0924211\ttotal: 1.44s\tremaining: 970ms\n",
      "597:\tlearn: 0.0922998\ttotal: 1.44s\tremaining: 967ms\n",
      "598:\tlearn: 0.0921651\ttotal: 1.44s\tremaining: 964ms\n",
      "599:\tlearn: 0.0920850\ttotal: 1.44s\tremaining: 962ms\n",
      "600:\tlearn: 0.0918881\ttotal: 1.44s\tremaining: 959ms\n",
      "601:\tlearn: 0.0917014\ttotal: 1.45s\tremaining: 957ms\n",
      "602:\tlearn: 0.0915751\ttotal: 1.45s\tremaining: 954ms\n",
      "603:\tlearn: 0.0914975\ttotal: 1.45s\tremaining: 952ms\n",
      "604:\tlearn: 0.0913792\ttotal: 1.45s\tremaining: 949ms\n",
      "605:\tlearn: 0.0912923\ttotal: 1.46s\tremaining: 946ms\n",
      "606:\tlearn: 0.0910964\ttotal: 1.46s\tremaining: 944ms\n",
      "607:\tlearn: 0.0910179\ttotal: 1.46s\tremaining: 941ms\n",
      "608:\tlearn: 0.0908416\ttotal: 1.46s\tremaining: 938ms\n",
      "609:\tlearn: 0.0907487\ttotal: 1.46s\tremaining: 936ms\n",
      "610:\tlearn: 0.0905787\ttotal: 1.47s\tremaining: 933ms\n",
      "611:\tlearn: 0.0904979\ttotal: 1.47s\tremaining: 930ms\n",
      "612:\tlearn: 0.0903478\ttotal: 1.47s\tremaining: 928ms\n",
      "613:\tlearn: 0.0901250\ttotal: 1.47s\tremaining: 925ms\n",
      "614:\tlearn: 0.0900063\ttotal: 1.47s\tremaining: 922ms\n",
      "615:\tlearn: 0.0899605\ttotal: 1.48s\tremaining: 920ms\n",
      "616:\tlearn: 0.0898763\ttotal: 1.48s\tremaining: 917ms\n",
      "617:\tlearn: 0.0897424\ttotal: 1.48s\tremaining: 915ms\n",
      "618:\tlearn: 0.0896025\ttotal: 1.48s\tremaining: 912ms\n",
      "619:\tlearn: 0.0894655\ttotal: 1.48s\tremaining: 909ms\n",
      "620:\tlearn: 0.0893479\ttotal: 1.49s\tremaining: 907ms\n",
      "621:\tlearn: 0.0892001\ttotal: 1.49s\tremaining: 904ms\n",
      "622:\tlearn: 0.0890618\ttotal: 1.49s\tremaining: 902ms\n",
      "623:\tlearn: 0.0889842\ttotal: 1.49s\tremaining: 899ms\n",
      "624:\tlearn: 0.0889014\ttotal: 1.49s\tremaining: 897ms\n",
      "625:\tlearn: 0.0888165\ttotal: 1.5s\tremaining: 894ms\n",
      "626:\tlearn: 0.0887933\ttotal: 1.5s\tremaining: 891ms\n",
      "627:\tlearn: 0.0886241\ttotal: 1.5s\tremaining: 889ms\n",
      "628:\tlearn: 0.0884972\ttotal: 1.5s\tremaining: 886ms\n",
      "629:\tlearn: 0.0883976\ttotal: 1.5s\tremaining: 884ms\n"
     ]
    },
    {
     "name": "stdout",
     "output_type": "stream",
     "text": [
      "630:\tlearn: 0.0883555\ttotal: 1.51s\tremaining: 881ms\n",
      "631:\tlearn: 0.0882634\ttotal: 1.51s\tremaining: 879ms\n",
      "632:\tlearn: 0.0882229\ttotal: 1.51s\tremaining: 876ms\n",
      "633:\tlearn: 0.0881226\ttotal: 1.51s\tremaining: 873ms\n",
      "634:\tlearn: 0.0880516\ttotal: 1.51s\tremaining: 871ms\n",
      "635:\tlearn: 0.0878846\ttotal: 1.52s\tremaining: 868ms\n",
      "636:\tlearn: 0.0878123\ttotal: 1.52s\tremaining: 866ms\n",
      "637:\tlearn: 0.0876155\ttotal: 1.52s\tremaining: 864ms\n",
      "638:\tlearn: 0.0874822\ttotal: 1.52s\tremaining: 861ms\n",
      "639:\tlearn: 0.0873192\ttotal: 1.53s\tremaining: 859ms\n",
      "640:\tlearn: 0.0870937\ttotal: 1.53s\tremaining: 856ms\n",
      "641:\tlearn: 0.0869671\ttotal: 1.53s\tremaining: 853ms\n",
      "642:\tlearn: 0.0868953\ttotal: 1.53s\tremaining: 851ms\n",
      "643:\tlearn: 0.0868245\ttotal: 1.53s\tremaining: 848ms\n",
      "644:\tlearn: 0.0866641\ttotal: 1.54s\tremaining: 846ms\n",
      "645:\tlearn: 0.0865467\ttotal: 1.54s\tremaining: 843ms\n",
      "646:\tlearn: 0.0863759\ttotal: 1.54s\tremaining: 841ms\n",
      "647:\tlearn: 0.0863004\ttotal: 1.54s\tremaining: 838ms\n",
      "648:\tlearn: 0.0862543\ttotal: 1.54s\tremaining: 836ms\n",
      "649:\tlearn: 0.0861686\ttotal: 1.55s\tremaining: 833ms\n",
      "650:\tlearn: 0.0860181\ttotal: 1.55s\tremaining: 830ms\n",
      "651:\tlearn: 0.0858595\ttotal: 1.55s\tremaining: 828ms\n",
      "652:\tlearn: 0.0858140\ttotal: 1.55s\tremaining: 825ms\n",
      "653:\tlearn: 0.0856855\ttotal: 1.55s\tremaining: 823ms\n",
      "654:\tlearn: 0.0855414\ttotal: 1.56s\tremaining: 820ms\n",
      "655:\tlearn: 0.0854159\ttotal: 1.56s\tremaining: 818ms\n",
      "656:\tlearn: 0.0852869\ttotal: 1.56s\tremaining: 815ms\n",
      "657:\tlearn: 0.0851716\ttotal: 1.56s\tremaining: 813ms\n",
      "658:\tlearn: 0.0850731\ttotal: 1.56s\tremaining: 810ms\n",
      "659:\tlearn: 0.0849226\ttotal: 1.57s\tremaining: 808ms\n",
      "660:\tlearn: 0.0848104\ttotal: 1.57s\tremaining: 805ms\n",
      "661:\tlearn: 0.0846660\ttotal: 1.57s\tremaining: 803ms\n",
      "662:\tlearn: 0.0845869\ttotal: 1.57s\tremaining: 800ms\n",
      "663:\tlearn: 0.0844725\ttotal: 1.58s\tremaining: 798ms\n",
      "664:\tlearn: 0.0843505\ttotal: 1.58s\tremaining: 795ms\n",
      "665:\tlearn: 0.0842607\ttotal: 1.58s\tremaining: 793ms\n",
      "666:\tlearn: 0.0840998\ttotal: 1.58s\tremaining: 790ms\n",
      "667:\tlearn: 0.0840778\ttotal: 1.58s\tremaining: 788ms\n",
      "668:\tlearn: 0.0840084\ttotal: 1.59s\tremaining: 785ms\n",
      "669:\tlearn: 0.0839333\ttotal: 1.59s\tremaining: 783ms\n",
      "670:\tlearn: 0.0837518\ttotal: 1.59s\tremaining: 780ms\n",
      "671:\tlearn: 0.0836697\ttotal: 1.59s\tremaining: 778ms\n",
      "672:\tlearn: 0.0836167\ttotal: 1.59s\tremaining: 775ms\n",
      "673:\tlearn: 0.0835251\ttotal: 1.6s\tremaining: 772ms\n",
      "674:\tlearn: 0.0833908\ttotal: 1.6s\tremaining: 770ms\n",
      "675:\tlearn: 0.0832819\ttotal: 1.6s\tremaining: 767ms\n",
      "676:\tlearn: 0.0831301\ttotal: 1.6s\tremaining: 765ms\n",
      "677:\tlearn: 0.0829999\ttotal: 1.6s\tremaining: 762ms\n",
      "678:\tlearn: 0.0828383\ttotal: 1.61s\tremaining: 760ms\n",
      "679:\tlearn: 0.0827181\ttotal: 1.61s\tremaining: 757ms\n",
      "680:\tlearn: 0.0826406\ttotal: 1.61s\tremaining: 755ms\n",
      "681:\tlearn: 0.0825377\ttotal: 1.61s\tremaining: 752ms\n",
      "682:\tlearn: 0.0823968\ttotal: 1.61s\tremaining: 750ms\n",
      "683:\tlearn: 0.0822827\ttotal: 1.62s\tremaining: 747ms\n",
      "684:\tlearn: 0.0821475\ttotal: 1.62s\tremaining: 745ms\n",
      "685:\tlearn: 0.0820634\ttotal: 1.62s\tremaining: 743ms\n",
      "686:\tlearn: 0.0819971\ttotal: 1.62s\tremaining: 740ms\n",
      "687:\tlearn: 0.0819434\ttotal: 1.63s\tremaining: 738ms\n",
      "688:\tlearn: 0.0817888\ttotal: 1.63s\tremaining: 735ms\n",
      "689:\tlearn: 0.0817420\ttotal: 1.63s\tremaining: 733ms\n",
      "690:\tlearn: 0.0816154\ttotal: 1.63s\tremaining: 730ms\n",
      "691:\tlearn: 0.0815071\ttotal: 1.64s\tremaining: 728ms\n",
      "692:\tlearn: 0.0814165\ttotal: 1.64s\tremaining: 726ms\n",
      "693:\tlearn: 0.0813248\ttotal: 1.64s\tremaining: 723ms\n",
      "694:\tlearn: 0.0812309\ttotal: 1.64s\tremaining: 721ms\n",
      "695:\tlearn: 0.0811130\ttotal: 1.64s\tremaining: 718ms\n",
      "696:\tlearn: 0.0810996\ttotal: 1.65s\tremaining: 716ms\n",
      "697:\tlearn: 0.0810930\ttotal: 1.65s\tremaining: 714ms\n",
      "698:\tlearn: 0.0809689\ttotal: 1.65s\tremaining: 711ms\n",
      "699:\tlearn: 0.0808251\ttotal: 1.65s\tremaining: 709ms\n",
      "700:\tlearn: 0.0807140\ttotal: 1.66s\tremaining: 706ms\n",
      "701:\tlearn: 0.0805811\ttotal: 1.66s\tremaining: 704ms\n",
      "702:\tlearn: 0.0804719\ttotal: 1.66s\tremaining: 701ms\n",
      "703:\tlearn: 0.0804146\ttotal: 1.66s\tremaining: 699ms\n",
      "704:\tlearn: 0.0802589\ttotal: 1.67s\tremaining: 697ms\n",
      "705:\tlearn: 0.0801608\ttotal: 1.67s\tremaining: 694ms\n",
      "706:\tlearn: 0.0799572\ttotal: 1.67s\tremaining: 692ms\n",
      "707:\tlearn: 0.0798786\ttotal: 1.67s\tremaining: 689ms\n",
      "708:\tlearn: 0.0796747\ttotal: 1.67s\tremaining: 687ms\n",
      "709:\tlearn: 0.0796483\ttotal: 1.68s\tremaining: 685ms\n",
      "710:\tlearn: 0.0795738\ttotal: 1.68s\tremaining: 682ms\n",
      "711:\tlearn: 0.0794871\ttotal: 1.68s\tremaining: 680ms\n",
      "712:\tlearn: 0.0793882\ttotal: 1.68s\tremaining: 678ms\n",
      "713:\tlearn: 0.0793008\ttotal: 1.69s\tremaining: 675ms\n",
      "714:\tlearn: 0.0791470\ttotal: 1.69s\tremaining: 673ms\n",
      "715:\tlearn: 0.0790820\ttotal: 1.69s\tremaining: 670ms\n",
      "716:\tlearn: 0.0788882\ttotal: 1.69s\tremaining: 668ms\n",
      "717:\tlearn: 0.0787580\ttotal: 1.7s\tremaining: 666ms\n",
      "718:\tlearn: 0.0785646\ttotal: 1.7s\tremaining: 663ms\n",
      "719:\tlearn: 0.0783348\ttotal: 1.7s\tremaining: 661ms\n",
      "720:\tlearn: 0.0782250\ttotal: 1.7s\tremaining: 658ms\n",
      "721:\tlearn: 0.0781794\ttotal: 1.7s\tremaining: 656ms\n",
      "722:\tlearn: 0.0780771\ttotal: 1.71s\tremaining: 654ms\n",
      "723:\tlearn: 0.0780127\ttotal: 1.71s\tremaining: 651ms\n",
      "724:\tlearn: 0.0778682\ttotal: 1.71s\tremaining: 649ms\n",
      "725:\tlearn: 0.0777608\ttotal: 1.71s\tremaining: 647ms\n",
      "726:\tlearn: 0.0776020\ttotal: 1.72s\tremaining: 644ms\n",
      "727:\tlearn: 0.0774606\ttotal: 1.72s\tremaining: 642ms\n",
      "728:\tlearn: 0.0774498\ttotal: 1.72s\tremaining: 639ms\n",
      "729:\tlearn: 0.0773196\ttotal: 1.72s\tremaining: 637ms\n",
      "730:\tlearn: 0.0772024\ttotal: 1.72s\tremaining: 635ms\n",
      "731:\tlearn: 0.0770617\ttotal: 1.73s\tremaining: 632ms\n",
      "732:\tlearn: 0.0769367\ttotal: 1.73s\tremaining: 630ms\n",
      "733:\tlearn: 0.0769069\ttotal: 1.73s\tremaining: 627ms\n",
      "734:\tlearn: 0.0768783\ttotal: 1.73s\tremaining: 625ms\n",
      "735:\tlearn: 0.0768556\ttotal: 1.74s\tremaining: 623ms\n",
      "736:\tlearn: 0.0767543\ttotal: 1.74s\tremaining: 620ms\n",
      "737:\tlearn: 0.0767079\ttotal: 1.74s\tremaining: 618ms\n",
      "738:\tlearn: 0.0766404\ttotal: 1.74s\tremaining: 615ms\n",
      "739:\tlearn: 0.0765176\ttotal: 1.74s\tremaining: 613ms\n",
      "740:\tlearn: 0.0764693\ttotal: 1.75s\tremaining: 610ms\n",
      "741:\tlearn: 0.0763440\ttotal: 1.75s\tremaining: 608ms\n",
      "742:\tlearn: 0.0762162\ttotal: 1.75s\tremaining: 606ms\n",
      "743:\tlearn: 0.0761121\ttotal: 1.75s\tremaining: 603ms\n",
      "744:\tlearn: 0.0760408\ttotal: 1.75s\tremaining: 601ms\n",
      "745:\tlearn: 0.0758627\ttotal: 1.76s\tremaining: 599ms\n",
      "746:\tlearn: 0.0757897\ttotal: 1.76s\tremaining: 596ms\n",
      "747:\tlearn: 0.0756911\ttotal: 1.76s\tremaining: 594ms\n",
      "748:\tlearn: 0.0756568\ttotal: 1.76s\tremaining: 591ms\n",
      "749:\tlearn: 0.0756140\ttotal: 1.77s\tremaining: 589ms\n",
      "750:\tlearn: 0.0754634\ttotal: 1.77s\tremaining: 586ms\n",
      "751:\tlearn: 0.0753763\ttotal: 1.77s\tremaining: 584ms\n",
      "752:\tlearn: 0.0752401\ttotal: 1.77s\tremaining: 582ms\n",
      "753:\tlearn: 0.0751864\ttotal: 1.77s\tremaining: 579ms\n",
      "754:\tlearn: 0.0751036\ttotal: 1.78s\tremaining: 577ms\n",
      "755:\tlearn: 0.0750104\ttotal: 1.78s\tremaining: 575ms\n",
      "756:\tlearn: 0.0749679\ttotal: 1.78s\tremaining: 572ms\n",
      "757:\tlearn: 0.0748710\ttotal: 1.78s\tremaining: 570ms\n",
      "758:\tlearn: 0.0747694\ttotal: 1.79s\tremaining: 567ms\n",
      "759:\tlearn: 0.0746585\ttotal: 1.79s\tremaining: 565ms\n",
      "760:\tlearn: 0.0745886\ttotal: 1.79s\tremaining: 562ms\n",
      "761:\tlearn: 0.0745002\ttotal: 1.79s\tremaining: 560ms\n",
      "762:\tlearn: 0.0744778\ttotal: 1.79s\tremaining: 558ms\n",
      "763:\tlearn: 0.0743112\ttotal: 1.8s\tremaining: 555ms\n",
      "764:\tlearn: 0.0742068\ttotal: 1.8s\tremaining: 553ms\n",
      "765:\tlearn: 0.0740813\ttotal: 1.8s\tremaining: 551ms\n",
      "766:\tlearn: 0.0740092\ttotal: 1.8s\tremaining: 548ms\n",
      "767:\tlearn: 0.0739150\ttotal: 1.81s\tremaining: 546ms\n",
      "768:\tlearn: 0.0738543\ttotal: 1.81s\tremaining: 543ms\n",
      "769:\tlearn: 0.0737213\ttotal: 1.81s\tremaining: 541ms\n",
      "770:\tlearn: 0.0736636\ttotal: 1.81s\tremaining: 539ms\n",
      "771:\tlearn: 0.0736421\ttotal: 1.81s\tremaining: 536ms\n",
      "772:\tlearn: 0.0735504\ttotal: 1.82s\tremaining: 534ms\n",
      "773:\tlearn: 0.0734538\ttotal: 1.82s\tremaining: 532ms\n",
      "774:\tlearn: 0.0734164\ttotal: 1.82s\tremaining: 529ms\n",
      "775:\tlearn: 0.0732920\ttotal: 1.82s\tremaining: 527ms\n",
      "776:\tlearn: 0.0732144\ttotal: 1.83s\tremaining: 525ms\n",
      "777:\tlearn: 0.0731603\ttotal: 1.83s\tremaining: 522ms\n",
      "778:\tlearn: 0.0730457\ttotal: 1.83s\tremaining: 520ms\n",
      "779:\tlearn: 0.0729955\ttotal: 1.83s\tremaining: 517ms\n",
      "780:\tlearn: 0.0728755\ttotal: 1.84s\tremaining: 515ms\n",
      "781:\tlearn: 0.0728013\ttotal: 1.84s\tremaining: 513ms\n",
      "782:\tlearn: 0.0727446\ttotal: 1.84s\tremaining: 510ms\n",
      "783:\tlearn: 0.0726552\ttotal: 1.84s\tremaining: 508ms\n",
      "784:\tlearn: 0.0725675\ttotal: 1.85s\tremaining: 506ms\n",
      "785:\tlearn: 0.0724853\ttotal: 1.85s\tremaining: 503ms\n",
      "786:\tlearn: 0.0723587\ttotal: 1.85s\tremaining: 501ms\n",
      "787:\tlearn: 0.0722778\ttotal: 1.85s\tremaining: 499ms\n",
      "788:\tlearn: 0.0721794\ttotal: 1.85s\tremaining: 496ms\n",
      "789:\tlearn: 0.0721247\ttotal: 1.86s\tremaining: 494ms\n",
      "790:\tlearn: 0.0718770\ttotal: 1.86s\tremaining: 492ms\n",
      "791:\tlearn: 0.0717713\ttotal: 1.86s\tremaining: 489ms\n",
      "792:\tlearn: 0.0717578\ttotal: 1.86s\tremaining: 487ms\n",
      "793:\tlearn: 0.0716545\ttotal: 1.87s\tremaining: 485ms\n",
      "794:\tlearn: 0.0716255\ttotal: 1.87s\tremaining: 482ms\n",
      "795:\tlearn: 0.0715654\ttotal: 1.87s\tremaining: 480ms\n",
      "796:\tlearn: 0.0715156\ttotal: 1.88s\tremaining: 478ms\n",
      "797:\tlearn: 0.0714671\ttotal: 1.88s\tremaining: 475ms\n",
      "798:\tlearn: 0.0714025\ttotal: 1.88s\tremaining: 473ms\n",
      "799:\tlearn: 0.0713176\ttotal: 1.88s\tremaining: 471ms\n",
      "800:\tlearn: 0.0711655\ttotal: 1.89s\tremaining: 468ms\n",
      "801:\tlearn: 0.0711256\ttotal: 1.89s\tremaining: 466ms\n",
      "802:\tlearn: 0.0710820\ttotal: 1.89s\tremaining: 464ms\n",
      "803:\tlearn: 0.0710112\ttotal: 1.89s\tremaining: 461ms\n",
      "804:\tlearn: 0.0709665\ttotal: 1.89s\tremaining: 459ms\n",
      "805:\tlearn: 0.0708909\ttotal: 1.9s\tremaining: 457ms\n",
      "806:\tlearn: 0.0708334\ttotal: 1.9s\tremaining: 454ms\n",
      "807:\tlearn: 0.0707673\ttotal: 1.9s\tremaining: 452ms\n",
      "808:\tlearn: 0.0707499\ttotal: 1.9s\tremaining: 449ms\n",
      "809:\tlearn: 0.0707062\ttotal: 1.91s\tremaining: 447ms\n",
      "810:\tlearn: 0.0705974\ttotal: 1.91s\tremaining: 445ms\n",
      "811:\tlearn: 0.0704832\ttotal: 1.91s\tremaining: 442ms\n",
      "812:\tlearn: 0.0704575\ttotal: 1.91s\tremaining: 440ms\n",
      "813:\tlearn: 0.0703738\ttotal: 1.91s\tremaining: 437ms\n",
      "814:\tlearn: 0.0703116\ttotal: 1.92s\tremaining: 435ms\n",
      "815:\tlearn: 0.0703010\ttotal: 1.92s\tremaining: 433ms\n",
      "816:\tlearn: 0.0701451\ttotal: 1.92s\tremaining: 430ms\n",
      "817:\tlearn: 0.0700597\ttotal: 1.92s\tremaining: 428ms\n",
      "818:\tlearn: 0.0699610\ttotal: 1.93s\tremaining: 426ms\n",
      "819:\tlearn: 0.0698587\ttotal: 1.93s\tremaining: 423ms\n",
      "820:\tlearn: 0.0697623\ttotal: 1.93s\tremaining: 421ms\n",
      "821:\tlearn: 0.0696384\ttotal: 1.93s\tremaining: 418ms\n",
      "822:\tlearn: 0.0695532\ttotal: 1.93s\tremaining: 416ms\n",
      "823:\tlearn: 0.0693976\ttotal: 1.94s\tremaining: 414ms\n",
      "824:\tlearn: 0.0693084\ttotal: 1.94s\tremaining: 411ms\n",
      "825:\tlearn: 0.0691370\ttotal: 1.94s\tremaining: 409ms\n",
      "826:\tlearn: 0.0690802\ttotal: 1.94s\tremaining: 407ms\n",
      "827:\tlearn: 0.0690398\ttotal: 1.95s\tremaining: 404ms\n",
      "828:\tlearn: 0.0690143\ttotal: 1.95s\tremaining: 402ms\n",
      "829:\tlearn: 0.0689725\ttotal: 1.95s\tremaining: 400ms\n",
      "830:\tlearn: 0.0688965\ttotal: 1.95s\tremaining: 397ms\n",
      "831:\tlearn: 0.0688317\ttotal: 1.96s\tremaining: 395ms\n",
      "832:\tlearn: 0.0686967\ttotal: 1.96s\tremaining: 393ms\n",
      "833:\tlearn: 0.0686037\ttotal: 1.96s\tremaining: 390ms\n",
      "834:\tlearn: 0.0685771\ttotal: 1.96s\tremaining: 388ms\n",
      "835:\tlearn: 0.0684454\ttotal: 1.97s\tremaining: 386ms\n",
      "836:\tlearn: 0.0682925\ttotal: 1.97s\tremaining: 383ms\n",
      "837:\tlearn: 0.0682618\ttotal: 1.97s\tremaining: 381ms\n",
      "838:\tlearn: 0.0682306\ttotal: 1.97s\tremaining: 378ms\n",
      "839:\tlearn: 0.0680787\ttotal: 1.97s\tremaining: 376ms\n",
      "840:\tlearn: 0.0679646\ttotal: 1.98s\tremaining: 374ms\n",
      "841:\tlearn: 0.0678787\ttotal: 1.98s\tremaining: 371ms\n",
      "842:\tlearn: 0.0677734\ttotal: 1.98s\tremaining: 369ms\n",
      "843:\tlearn: 0.0676951\ttotal: 1.98s\tremaining: 367ms\n",
      "844:\tlearn: 0.0676140\ttotal: 1.99s\tremaining: 364ms\n",
      "845:\tlearn: 0.0675036\ttotal: 1.99s\tremaining: 362ms\n",
      "846:\tlearn: 0.0674817\ttotal: 1.99s\tremaining: 360ms\n",
      "847:\tlearn: 0.0673861\ttotal: 1.99s\tremaining: 357ms\n",
      "848:\tlearn: 0.0673557\ttotal: 1.99s\tremaining: 355ms\n",
      "849:\tlearn: 0.0672489\ttotal: 2s\tremaining: 352ms\n",
      "850:\tlearn: 0.0671102\ttotal: 2s\tremaining: 350ms\n",
      "851:\tlearn: 0.0670450\ttotal: 2s\tremaining: 348ms\n",
      "852:\tlearn: 0.0669758\ttotal: 2s\tremaining: 345ms\n",
      "853:\tlearn: 0.0669029\ttotal: 2s\tremaining: 343ms\n",
      "854:\tlearn: 0.0668894\ttotal: 2.01s\tremaining: 341ms\n"
     ]
    },
    {
     "name": "stdout",
     "output_type": "stream",
     "text": [
      "855:\tlearn: 0.0667065\ttotal: 2.01s\tremaining: 338ms\n",
      "856:\tlearn: 0.0665693\ttotal: 2.01s\tremaining: 336ms\n",
      "857:\tlearn: 0.0665038\ttotal: 2.02s\tremaining: 334ms\n",
      "858:\tlearn: 0.0663912\ttotal: 2.02s\tremaining: 331ms\n",
      "859:\tlearn: 0.0662930\ttotal: 2.02s\tremaining: 329ms\n",
      "860:\tlearn: 0.0661915\ttotal: 2.02s\tremaining: 327ms\n",
      "861:\tlearn: 0.0661417\ttotal: 2.02s\tremaining: 324ms\n",
      "862:\tlearn: 0.0660787\ttotal: 2.03s\tremaining: 322ms\n",
      "863:\tlearn: 0.0660024\ttotal: 2.03s\tremaining: 320ms\n",
      "864:\tlearn: 0.0659143\ttotal: 2.03s\tremaining: 317ms\n",
      "865:\tlearn: 0.0658116\ttotal: 2.04s\tremaining: 315ms\n",
      "866:\tlearn: 0.0656863\ttotal: 2.04s\tremaining: 313ms\n",
      "867:\tlearn: 0.0656187\ttotal: 2.04s\tremaining: 310ms\n",
      "868:\tlearn: 0.0655887\ttotal: 2.04s\tremaining: 308ms\n",
      "869:\tlearn: 0.0655029\ttotal: 2.04s\tremaining: 305ms\n",
      "870:\tlearn: 0.0654507\ttotal: 2.05s\tremaining: 303ms\n",
      "871:\tlearn: 0.0653579\ttotal: 2.05s\tremaining: 301ms\n",
      "872:\tlearn: 0.0652469\ttotal: 2.05s\tremaining: 298ms\n",
      "873:\tlearn: 0.0651642\ttotal: 2.05s\tremaining: 296ms\n",
      "874:\tlearn: 0.0650447\ttotal: 2.06s\tremaining: 294ms\n",
      "875:\tlearn: 0.0650381\ttotal: 2.06s\tremaining: 291ms\n",
      "876:\tlearn: 0.0649290\ttotal: 2.06s\tremaining: 289ms\n",
      "877:\tlearn: 0.0649075\ttotal: 2.06s\tremaining: 287ms\n",
      "878:\tlearn: 0.0647726\ttotal: 2.06s\tremaining: 284ms\n",
      "879:\tlearn: 0.0647198\ttotal: 2.07s\tremaining: 282ms\n",
      "880:\tlearn: 0.0645748\ttotal: 2.07s\tremaining: 280ms\n",
      "881:\tlearn: 0.0645202\ttotal: 2.07s\tremaining: 277ms\n",
      "882:\tlearn: 0.0644239\ttotal: 2.07s\tremaining: 275ms\n",
      "883:\tlearn: 0.0643497\ttotal: 2.08s\tremaining: 272ms\n",
      "884:\tlearn: 0.0642653\ttotal: 2.08s\tremaining: 270ms\n",
      "885:\tlearn: 0.0641698\ttotal: 2.08s\tremaining: 268ms\n",
      "886:\tlearn: 0.0640968\ttotal: 2.08s\tremaining: 265ms\n",
      "887:\tlearn: 0.0639908\ttotal: 2.08s\tremaining: 263ms\n",
      "888:\tlearn: 0.0639031\ttotal: 2.09s\tremaining: 261ms\n",
      "889:\tlearn: 0.0638502\ttotal: 2.09s\tremaining: 258ms\n",
      "890:\tlearn: 0.0638211\ttotal: 2.09s\tremaining: 256ms\n",
      "891:\tlearn: 0.0637459\ttotal: 2.09s\tremaining: 254ms\n",
      "892:\tlearn: 0.0636537\ttotal: 2.1s\tremaining: 251ms\n",
      "893:\tlearn: 0.0635658\ttotal: 2.1s\tremaining: 249ms\n",
      "894:\tlearn: 0.0634286\ttotal: 2.1s\tremaining: 246ms\n",
      "895:\tlearn: 0.0633244\ttotal: 2.1s\tremaining: 244ms\n",
      "896:\tlearn: 0.0632537\ttotal: 2.1s\tremaining: 242ms\n",
      "897:\tlearn: 0.0631314\ttotal: 2.11s\tremaining: 239ms\n",
      "898:\tlearn: 0.0630185\ttotal: 2.11s\tremaining: 237ms\n",
      "899:\tlearn: 0.0630006\ttotal: 2.11s\tremaining: 235ms\n",
      "900:\tlearn: 0.0629093\ttotal: 2.11s\tremaining: 232ms\n",
      "901:\tlearn: 0.0628758\ttotal: 2.12s\tremaining: 230ms\n",
      "902:\tlearn: 0.0628665\ttotal: 2.12s\tremaining: 228ms\n",
      "903:\tlearn: 0.0628202\ttotal: 2.12s\tremaining: 225ms\n",
      "904:\tlearn: 0.0627443\ttotal: 2.12s\tremaining: 223ms\n",
      "905:\tlearn: 0.0626760\ttotal: 2.13s\tremaining: 221ms\n",
      "906:\tlearn: 0.0625868\ttotal: 2.13s\tremaining: 218ms\n",
      "907:\tlearn: 0.0625199\ttotal: 2.13s\tremaining: 216ms\n",
      "908:\tlearn: 0.0625070\ttotal: 2.13s\tremaining: 213ms\n",
      "909:\tlearn: 0.0624662\ttotal: 2.13s\tremaining: 211ms\n",
      "910:\tlearn: 0.0624086\ttotal: 2.14s\tremaining: 209ms\n",
      "911:\tlearn: 0.0623539\ttotal: 2.14s\tremaining: 206ms\n",
      "912:\tlearn: 0.0622699\ttotal: 2.14s\tremaining: 204ms\n",
      "913:\tlearn: 0.0622059\ttotal: 2.14s\tremaining: 202ms\n",
      "914:\tlearn: 0.0621186\ttotal: 2.15s\tremaining: 199ms\n",
      "915:\tlearn: 0.0620721\ttotal: 2.15s\tremaining: 197ms\n",
      "916:\tlearn: 0.0619575\ttotal: 2.15s\tremaining: 195ms\n",
      "917:\tlearn: 0.0618731\ttotal: 2.15s\tremaining: 192ms\n",
      "918:\tlearn: 0.0618243\ttotal: 2.15s\tremaining: 190ms\n",
      "919:\tlearn: 0.0616575\ttotal: 2.16s\tremaining: 188ms\n",
      "920:\tlearn: 0.0615957\ttotal: 2.16s\tremaining: 185ms\n",
      "921:\tlearn: 0.0614830\ttotal: 2.16s\tremaining: 183ms\n",
      "922:\tlearn: 0.0614506\ttotal: 2.16s\tremaining: 181ms\n",
      "923:\tlearn: 0.0613733\ttotal: 2.17s\tremaining: 178ms\n",
      "924:\tlearn: 0.0613231\ttotal: 2.17s\tremaining: 176ms\n",
      "925:\tlearn: 0.0612432\ttotal: 2.17s\tremaining: 174ms\n",
      "926:\tlearn: 0.0612282\ttotal: 2.17s\tremaining: 171ms\n",
      "927:\tlearn: 0.0611291\ttotal: 2.18s\tremaining: 169ms\n",
      "928:\tlearn: 0.0609980\ttotal: 2.18s\tremaining: 167ms\n",
      "929:\tlearn: 0.0609052\ttotal: 2.18s\tremaining: 164ms\n",
      "930:\tlearn: 0.0608432\ttotal: 2.18s\tremaining: 162ms\n",
      "931:\tlearn: 0.0607834\ttotal: 2.19s\tremaining: 160ms\n",
      "932:\tlearn: 0.0606220\ttotal: 2.19s\tremaining: 157ms\n",
      "933:\tlearn: 0.0605500\ttotal: 2.19s\tremaining: 155ms\n",
      "934:\tlearn: 0.0604867\ttotal: 2.19s\tremaining: 153ms\n",
      "935:\tlearn: 0.0603962\ttotal: 2.2s\tremaining: 150ms\n",
      "936:\tlearn: 0.0603332\ttotal: 2.2s\tremaining: 148ms\n",
      "937:\tlearn: 0.0603153\ttotal: 2.2s\tremaining: 145ms\n",
      "938:\tlearn: 0.0602917\ttotal: 2.2s\tremaining: 143ms\n",
      "939:\tlearn: 0.0602214\ttotal: 2.21s\tremaining: 141ms\n",
      "940:\tlearn: 0.0602072\ttotal: 2.21s\tremaining: 138ms\n",
      "941:\tlearn: 0.0601159\ttotal: 2.21s\tremaining: 136ms\n",
      "942:\tlearn: 0.0600619\ttotal: 2.21s\tremaining: 134ms\n",
      "943:\tlearn: 0.0600237\ttotal: 2.21s\tremaining: 131ms\n",
      "944:\tlearn: 0.0599857\ttotal: 2.22s\tremaining: 129ms\n",
      "945:\tlearn: 0.0599300\ttotal: 2.22s\tremaining: 127ms\n",
      "946:\tlearn: 0.0598559\ttotal: 2.22s\tremaining: 124ms\n",
      "947:\tlearn: 0.0597863\ttotal: 2.22s\tremaining: 122ms\n",
      "948:\tlearn: 0.0597092\ttotal: 2.23s\tremaining: 120ms\n",
      "949:\tlearn: 0.0596457\ttotal: 2.23s\tremaining: 117ms\n",
      "950:\tlearn: 0.0595736\ttotal: 2.23s\tremaining: 115ms\n",
      "951:\tlearn: 0.0594249\ttotal: 2.23s\tremaining: 113ms\n",
      "952:\tlearn: 0.0593667\ttotal: 2.23s\tremaining: 110ms\n",
      "953:\tlearn: 0.0592840\ttotal: 2.24s\tremaining: 108ms\n",
      "954:\tlearn: 0.0592402\ttotal: 2.24s\tremaining: 105ms\n",
      "955:\tlearn: 0.0591909\ttotal: 2.24s\tremaining: 103ms\n",
      "956:\tlearn: 0.0591699\ttotal: 2.24s\tremaining: 101ms\n",
      "957:\tlearn: 0.0591093\ttotal: 2.25s\tremaining: 98.4ms\n",
      "958:\tlearn: 0.0590434\ttotal: 2.25s\tremaining: 96.1ms\n",
      "959:\tlearn: 0.0590181\ttotal: 2.25s\tremaining: 93.8ms\n",
      "960:\tlearn: 0.0589682\ttotal: 2.25s\tremaining: 91.4ms\n",
      "961:\tlearn: 0.0589352\ttotal: 2.25s\tremaining: 89.1ms\n",
      "962:\tlearn: 0.0588773\ttotal: 2.26s\tremaining: 86.7ms\n",
      "963:\tlearn: 0.0587921\ttotal: 2.26s\tremaining: 84.3ms\n",
      "964:\tlearn: 0.0587415\ttotal: 2.26s\tremaining: 82ms\n",
      "965:\tlearn: 0.0586740\ttotal: 2.26s\tremaining: 79.6ms\n",
      "966:\tlearn: 0.0585710\ttotal: 2.27s\tremaining: 77.3ms\n",
      "967:\tlearn: 0.0585028\ttotal: 2.27s\tremaining: 75ms\n",
      "968:\tlearn: 0.0584249\ttotal: 2.27s\tremaining: 72.6ms\n",
      "969:\tlearn: 0.0583088\ttotal: 2.27s\tremaining: 70.3ms\n",
      "970:\tlearn: 0.0582893\ttotal: 2.27s\tremaining: 67.9ms\n",
      "971:\tlearn: 0.0582029\ttotal: 2.28s\tremaining: 65.6ms\n",
      "972:\tlearn: 0.0581217\ttotal: 2.28s\tremaining: 63.2ms\n",
      "973:\tlearn: 0.0580632\ttotal: 2.28s\tremaining: 60.9ms\n",
      "974:\tlearn: 0.0580576\ttotal: 2.28s\tremaining: 58.5ms\n",
      "975:\tlearn: 0.0580446\ttotal: 2.29s\tremaining: 56.2ms\n",
      "976:\tlearn: 0.0580393\ttotal: 2.29s\tremaining: 53.9ms\n",
      "977:\tlearn: 0.0579597\ttotal: 2.29s\tremaining: 51.5ms\n",
      "978:\tlearn: 0.0578929\ttotal: 2.29s\tremaining: 49.2ms\n",
      "979:\tlearn: 0.0578759\ttotal: 2.29s\tremaining: 46.8ms\n",
      "980:\tlearn: 0.0578370\ttotal: 2.3s\tremaining: 44.5ms\n",
      "981:\tlearn: 0.0577435\ttotal: 2.3s\tremaining: 42.1ms\n",
      "982:\tlearn: 0.0577279\ttotal: 2.3s\tremaining: 39.8ms\n",
      "983:\tlearn: 0.0577010\ttotal: 2.3s\tremaining: 37.4ms\n",
      "984:\tlearn: 0.0576395\ttotal: 2.31s\tremaining: 35.1ms\n",
      "985:\tlearn: 0.0575486\ttotal: 2.31s\tremaining: 32.8ms\n",
      "986:\tlearn: 0.0574608\ttotal: 2.31s\tremaining: 30.4ms\n",
      "987:\tlearn: 0.0574033\ttotal: 2.31s\tremaining: 28.1ms\n",
      "988:\tlearn: 0.0573662\ttotal: 2.31s\tremaining: 25.7ms\n",
      "989:\tlearn: 0.0573178\ttotal: 2.31s\tremaining: 23.4ms\n",
      "990:\tlearn: 0.0572652\ttotal: 2.32s\tremaining: 21ms\n",
      "991:\tlearn: 0.0572396\ttotal: 2.32s\tremaining: 18.7ms\n",
      "992:\tlearn: 0.0571762\ttotal: 2.32s\tremaining: 16.4ms\n",
      "993:\tlearn: 0.0571130\ttotal: 2.32s\tremaining: 14ms\n",
      "994:\tlearn: 0.0570083\ttotal: 2.33s\tremaining: 11.7ms\n",
      "995:\tlearn: 0.0569391\ttotal: 2.33s\tremaining: 9.35ms\n",
      "996:\tlearn: 0.0568676\ttotal: 2.33s\tremaining: 7.01ms\n",
      "997:\tlearn: 0.0567973\ttotal: 2.33s\tremaining: 4.68ms\n",
      "998:\tlearn: 0.0567306\ttotal: 2.34s\tremaining: 2.34ms\n",
      "999:\tlearn: 0.0566594\ttotal: 2.34s\tremaining: 0us\n"
     ]
    }
   ],
   "source": [
    "cat_model = CatBoostClassifier().fit(X_train, y_train)"
   ]
  },
  {
   "cell_type": "code",
   "execution_count": 121,
   "metadata": {},
   "outputs": [
    {
     "data": {
      "text/plain": [
       "0.9570957095709571"
      ]
     },
     "execution_count": 121,
     "metadata": {},
     "output_type": "execute_result"
    }
   ],
   "source": [
    "y_pred = cat_model.predict(X_test)\n",
    "accurarcy_score_before = accuracy_score(y_test, y_pred)\n",
    "accurarcy_score_before"
   ]
  },
  {
   "cell_type": "code",
   "execution_count": 122,
   "metadata": {},
   "outputs": [],
   "source": [
    "catB = accurarcy_score_before"
   ]
  },
  {
   "cell_type": "code",
   "execution_count": 50,
   "metadata": {},
   "outputs": [
    {
     "data": {
      "text/plain": [
       "<catboost.core.CatBoostClassifier at 0x1a8cc0ab280>"
      ]
     },
     "execution_count": 50,
     "metadata": {},
     "output_type": "execute_result"
    }
   ],
   "source": [
    "cat_model"
   ]
  },
  {
   "cell_type": "markdown",
   "metadata": {},
   "source": [
    "### Model Tuning"
   ]
  },
  {
   "cell_type": "code",
   "execution_count": 53,
   "metadata": {},
   "outputs": [],
   "source": [
    "catb_params = {\"iterations\": [200,500], \n",
    "              \"learning_rate\":[0.01, 0.05, 0.1],\n",
    "              \"depth\" : [3,57]\n",
    "             }"
   ]
  },
  {
   "cell_type": "code",
   "execution_count": 54,
   "metadata": {},
   "outputs": [
    {
     "name": "stdout",
     "output_type": "stream",
     "text": [
      "Fitting 5 folds for each of 12 candidates, totalling 60 fits\n"
     ]
    },
    {
     "name": "stderr",
     "output_type": "stream",
     "text": [
      "[Parallel(n_jobs=-1)]: Using backend LokyBackend with 8 concurrent workers.\n",
      "[Parallel(n_jobs=-1)]: Done  25 tasks      | elapsed:    9.6s\n",
      "[Parallel(n_jobs=-1)]: Done  60 out of  60 | elapsed:   11.5s finished\n"
     ]
    },
    {
     "name": "stdout",
     "output_type": "stream",
     "text": [
      "0:\tlearn: 0.5897409\ttotal: 1.67ms\tremaining: 834ms\n",
      "1:\tlearn: 0.5126790\ttotal: 3.27ms\tremaining: 813ms\n",
      "2:\tlearn: 0.4502496\ttotal: 4.78ms\tremaining: 791ms\n",
      "3:\tlearn: 0.4095972\ttotal: 6.36ms\tremaining: 789ms\n",
      "4:\tlearn: 0.3750301\ttotal: 7.85ms\tremaining: 777ms\n",
      "5:\tlearn: 0.3476635\ttotal: 9.35ms\tremaining: 770ms\n",
      "6:\tlearn: 0.3202074\ttotal: 10.8ms\tremaining: 762ms\n",
      "7:\tlearn: 0.2997275\ttotal: 12.3ms\tremaining: 757ms\n",
      "8:\tlearn: 0.2839228\ttotal: 13.9ms\tremaining: 756ms\n",
      "9:\tlearn: 0.2687661\ttotal: 15.3ms\tremaining: 752ms\n",
      "10:\tlearn: 0.2588030\ttotal: 16.8ms\tremaining: 748ms\n",
      "11:\tlearn: 0.2519241\ttotal: 18.3ms\tremaining: 744ms\n",
      "12:\tlearn: 0.2446942\ttotal: 19.8ms\tremaining: 741ms\n",
      "13:\tlearn: 0.2381402\ttotal: 21.3ms\tremaining: 739ms\n",
      "14:\tlearn: 0.2323795\ttotal: 22.9ms\tremaining: 742ms\n",
      "15:\tlearn: 0.2289325\ttotal: 24.4ms\tremaining: 739ms\n",
      "16:\tlearn: 0.2248650\ttotal: 26ms\tremaining: 738ms\n",
      "17:\tlearn: 0.2207072\ttotal: 27.5ms\tremaining: 735ms\n",
      "18:\tlearn: 0.2182947\ttotal: 29ms\tremaining: 734ms\n",
      "19:\tlearn: 0.2158903\ttotal: 30.6ms\tremaining: 734ms\n",
      "20:\tlearn: 0.2136084\ttotal: 32ms\tremaining: 731ms\n",
      "21:\tlearn: 0.2111922\ttotal: 33.5ms\tremaining: 728ms\n",
      "22:\tlearn: 0.2085642\ttotal: 35ms\tremaining: 726ms\n",
      "23:\tlearn: 0.2058353\ttotal: 36.5ms\tremaining: 724ms\n",
      "24:\tlearn: 0.2033398\ttotal: 38ms\tremaining: 722ms\n",
      "25:\tlearn: 0.2024650\ttotal: 39.5ms\tremaining: 720ms\n",
      "26:\tlearn: 0.2013821\ttotal: 40.9ms\tremaining: 717ms\n",
      "27:\tlearn: 0.1996434\ttotal: 42.6ms\tremaining: 717ms\n",
      "28:\tlearn: 0.1978495\ttotal: 44.1ms\tremaining: 716ms\n",
      "29:\tlearn: 0.1953436\ttotal: 45.5ms\tremaining: 714ms\n",
      "30:\tlearn: 0.1940206\ttotal: 47.1ms\tremaining: 712ms\n",
      "31:\tlearn: 0.1934883\ttotal: 48.6ms\tremaining: 710ms\n",
      "32:\tlearn: 0.1926726\ttotal: 50.1ms\tremaining: 708ms\n",
      "33:\tlearn: 0.1907942\ttotal: 51.5ms\tremaining: 707ms\n",
      "34:\tlearn: 0.1889782\ttotal: 53.1ms\tremaining: 705ms\n",
      "35:\tlearn: 0.1882082\ttotal: 54.5ms\tremaining: 703ms\n",
      "36:\tlearn: 0.1869872\ttotal: 56ms\tremaining: 701ms\n",
      "37:\tlearn: 0.1864262\ttotal: 57.5ms\tremaining: 699ms\n",
      "38:\tlearn: 0.1847775\ttotal: 59.1ms\tremaining: 699ms\n",
      "39:\tlearn: 0.1835998\ttotal: 60.6ms\tremaining: 697ms\n",
      "40:\tlearn: 0.1823092\ttotal: 62.1ms\tremaining: 696ms\n",
      "41:\tlearn: 0.1793597\ttotal: 63.6ms\tremaining: 694ms\n",
      "42:\tlearn: 0.1789012\ttotal: 65.1ms\tremaining: 692ms\n",
      "43:\tlearn: 0.1782956\ttotal: 66.6ms\tremaining: 690ms\n",
      "44:\tlearn: 0.1768633\ttotal: 68.2ms\tremaining: 690ms\n",
      "45:\tlearn: 0.1762684\ttotal: 69.7ms\tremaining: 688ms\n",
      "46:\tlearn: 0.1754798\ttotal: 71.2ms\tremaining: 686ms\n",
      "47:\tlearn: 0.1743341\ttotal: 72.7ms\tremaining: 685ms\n",
      "48:\tlearn: 0.1738310\ttotal: 74.2ms\tremaining: 683ms\n",
      "49:\tlearn: 0.1731288\ttotal: 75.7ms\tremaining: 681ms\n",
      "50:\tlearn: 0.1729722\ttotal: 77.2ms\tremaining: 679ms\n",
      "51:\tlearn: 0.1727590\ttotal: 78.6ms\tremaining: 677ms\n",
      "52:\tlearn: 0.1713368\ttotal: 80.1ms\tremaining: 676ms\n",
      "53:\tlearn: 0.1699935\ttotal: 81.6ms\tremaining: 674ms\n",
      "54:\tlearn: 0.1690090\ttotal: 83.1ms\tremaining: 673ms\n",
      "55:\tlearn: 0.1687488\ttotal: 84.6ms\tremaining: 671ms\n",
      "56:\tlearn: 0.1679940\ttotal: 86.1ms\tremaining: 669ms\n",
      "57:\tlearn: 0.1665800\ttotal: 87.6ms\tremaining: 667ms\n",
      "58:\tlearn: 0.1658678\ttotal: 89.2ms\tremaining: 667ms\n",
      "59:\tlearn: 0.1652618\ttotal: 90.7ms\tremaining: 665ms\n",
      "60:\tlearn: 0.1646277\ttotal: 92.2ms\tremaining: 664ms\n",
      "61:\tlearn: 0.1633450\ttotal: 93.7ms\tremaining: 662ms\n",
      "62:\tlearn: 0.1620968\ttotal: 95.2ms\tremaining: 660ms\n",
      "63:\tlearn: 0.1606364\ttotal: 96.7ms\tremaining: 659ms\n",
      "64:\tlearn: 0.1590813\ttotal: 98.6ms\tremaining: 660ms\n",
      "65:\tlearn: 0.1576895\ttotal: 100ms\tremaining: 659ms\n",
      "66:\tlearn: 0.1575602\ttotal: 102ms\tremaining: 659ms\n",
      "67:\tlearn: 0.1570768\ttotal: 103ms\tremaining: 657ms\n",
      "68:\tlearn: 0.1563031\ttotal: 105ms\tremaining: 656ms\n",
      "69:\tlearn: 0.1562062\ttotal: 106ms\tremaining: 654ms\n",
      "70:\tlearn: 0.1550058\ttotal: 108ms\tremaining: 652ms\n",
      "71:\tlearn: 0.1548710\ttotal: 109ms\tremaining: 651ms\n",
      "72:\tlearn: 0.1539763\ttotal: 111ms\tremaining: 650ms\n",
      "73:\tlearn: 0.1538353\ttotal: 113ms\tremaining: 648ms\n",
      "74:\tlearn: 0.1534496\ttotal: 114ms\tremaining: 647ms\n",
      "75:\tlearn: 0.1522908\ttotal: 116ms\tremaining: 645ms\n",
      "76:\tlearn: 0.1509492\ttotal: 117ms\tremaining: 643ms\n",
      "77:\tlearn: 0.1500923\ttotal: 119ms\tremaining: 642ms\n",
      "78:\tlearn: 0.1492542\ttotal: 120ms\tremaining: 641ms\n",
      "79:\tlearn: 0.1480665\ttotal: 122ms\tremaining: 639ms\n",
      "80:\tlearn: 0.1474848\ttotal: 123ms\tremaining: 637ms\n",
      "81:\tlearn: 0.1470101\ttotal: 125ms\tremaining: 636ms\n",
      "82:\tlearn: 0.1464556\ttotal: 126ms\tremaining: 634ms\n",
      "83:\tlearn: 0.1460906\ttotal: 128ms\tremaining: 632ms\n",
      "84:\tlearn: 0.1459354\ttotal: 129ms\tremaining: 631ms\n",
      "85:\tlearn: 0.1457915\ttotal: 131ms\tremaining: 629ms\n",
      "86:\tlearn: 0.1453303\ttotal: 132ms\tremaining: 627ms\n",
      "87:\tlearn: 0.1443211\ttotal: 134ms\tremaining: 626ms\n",
      "88:\tlearn: 0.1423628\ttotal: 135ms\tremaining: 624ms\n",
      "89:\tlearn: 0.1413687\ttotal: 137ms\tremaining: 622ms\n",
      "90:\tlearn: 0.1403060\ttotal: 138ms\tremaining: 620ms\n",
      "91:\tlearn: 0.1400837\ttotal: 140ms\tremaining: 619ms\n",
      "92:\tlearn: 0.1399494\ttotal: 141ms\tremaining: 617ms\n",
      "93:\tlearn: 0.1391507\ttotal: 143ms\tremaining: 616ms\n",
      "94:\tlearn: 0.1390325\ttotal: 144ms\tremaining: 614ms\n",
      "95:\tlearn: 0.1381450\ttotal: 145ms\tremaining: 612ms\n",
      "96:\tlearn: 0.1364877\ttotal: 147ms\tremaining: 611ms\n",
      "97:\tlearn: 0.1354556\ttotal: 148ms\tremaining: 609ms\n",
      "98:\tlearn: 0.1346784\ttotal: 150ms\tremaining: 609ms\n",
      "99:\tlearn: 0.1345759\ttotal: 152ms\tremaining: 608ms\n",
      "100:\tlearn: 0.1338056\ttotal: 154ms\tremaining: 608ms\n",
      "101:\tlearn: 0.1331355\ttotal: 155ms\tremaining: 606ms\n",
      "102:\tlearn: 0.1323807\ttotal: 157ms\tremaining: 605ms\n",
      "103:\tlearn: 0.1313345\ttotal: 159ms\tremaining: 604ms\n",
      "104:\tlearn: 0.1309722\ttotal: 160ms\tremaining: 602ms\n",
      "105:\tlearn: 0.1306242\ttotal: 162ms\tremaining: 600ms\n",
      "106:\tlearn: 0.1297510\ttotal: 163ms\tremaining: 599ms\n",
      "107:\tlearn: 0.1295914\ttotal: 165ms\tremaining: 599ms\n",
      "108:\tlearn: 0.1295137\ttotal: 167ms\tremaining: 597ms\n",
      "109:\tlearn: 0.1285956\ttotal: 168ms\tremaining: 596ms\n",
      "110:\tlearn: 0.1285253\ttotal: 170ms\tremaining: 594ms\n",
      "111:\tlearn: 0.1284714\ttotal: 171ms\tremaining: 593ms\n",
      "112:\tlearn: 0.1278313\ttotal: 173ms\tremaining: 591ms\n",
      "113:\tlearn: 0.1273609\ttotal: 174ms\tremaining: 590ms\n",
      "114:\tlearn: 0.1265368\ttotal: 176ms\tremaining: 588ms\n",
      "115:\tlearn: 0.1258946\ttotal: 177ms\tremaining: 587ms\n",
      "116:\tlearn: 0.1258478\ttotal: 179ms\tremaining: 585ms\n",
      "117:\tlearn: 0.1250782\ttotal: 180ms\tremaining: 584ms\n",
      "118:\tlearn: 0.1243355\ttotal: 182ms\tremaining: 582ms\n",
      "119:\tlearn: 0.1240360\ttotal: 183ms\tremaining: 580ms\n",
      "120:\tlearn: 0.1236266\ttotal: 185ms\tremaining: 579ms\n",
      "121:\tlearn: 0.1229282\ttotal: 186ms\tremaining: 577ms\n",
      "122:\tlearn: 0.1221675\ttotal: 188ms\tremaining: 576ms\n",
      "123:\tlearn: 0.1215891\ttotal: 189ms\tremaining: 574ms\n",
      "124:\tlearn: 0.1212195\ttotal: 191ms\tremaining: 573ms\n",
      "125:\tlearn: 0.1211795\ttotal: 193ms\tremaining: 572ms\n",
      "126:\tlearn: 0.1211396\ttotal: 194ms\tremaining: 570ms\n",
      "127:\tlearn: 0.1202518\ttotal: 196ms\tremaining: 568ms\n",
      "128:\tlearn: 0.1197094\ttotal: 197ms\tremaining: 567ms\n",
      "129:\tlearn: 0.1189981\ttotal: 199ms\tremaining: 565ms\n",
      "130:\tlearn: 0.1186641\ttotal: 200ms\tremaining: 564ms\n",
      "131:\tlearn: 0.1182494\ttotal: 202ms\tremaining: 562ms\n",
      "132:\tlearn: 0.1176747\ttotal: 203ms\tremaining: 561ms\n",
      "133:\tlearn: 0.1170468\ttotal: 205ms\tremaining: 559ms\n",
      "134:\tlearn: 0.1161099\ttotal: 206ms\tremaining: 557ms\n",
      "135:\tlearn: 0.1156885\ttotal: 208ms\tremaining: 556ms\n",
      "136:\tlearn: 0.1150282\ttotal: 209ms\tremaining: 554ms\n",
      "137:\tlearn: 0.1143198\ttotal: 211ms\tremaining: 553ms\n",
      "138:\tlearn: 0.1138422\ttotal: 212ms\tremaining: 551ms\n",
      "139:\tlearn: 0.1134990\ttotal: 214ms\tremaining: 550ms\n",
      "140:\tlearn: 0.1127920\ttotal: 215ms\tremaining: 548ms\n",
      "141:\tlearn: 0.1123993\ttotal: 217ms\tremaining: 546ms\n",
      "142:\tlearn: 0.1119763\ttotal: 218ms\tremaining: 545ms\n",
      "143:\tlearn: 0.1115341\ttotal: 220ms\tremaining: 543ms\n",
      "144:\tlearn: 0.1115019\ttotal: 221ms\tremaining: 542ms\n",
      "145:\tlearn: 0.1108117\ttotal: 223ms\tremaining: 540ms\n",
      "146:\tlearn: 0.1104795\ttotal: 224ms\tremaining: 539ms\n",
      "147:\tlearn: 0.1102368\ttotal: 226ms\tremaining: 537ms\n",
      "148:\tlearn: 0.1098242\ttotal: 227ms\tremaining: 536ms\n",
      "149:\tlearn: 0.1092285\ttotal: 229ms\tremaining: 534ms\n",
      "150:\tlearn: 0.1084702\ttotal: 230ms\tremaining: 532ms\n",
      "151:\tlearn: 0.1082784\ttotal: 232ms\tremaining: 531ms\n",
      "152:\tlearn: 0.1082483\ttotal: 233ms\tremaining: 529ms\n",
      "153:\tlearn: 0.1082178\ttotal: 235ms\tremaining: 528ms\n",
      "154:\tlearn: 0.1077598\ttotal: 236ms\tremaining: 526ms\n",
      "155:\tlearn: 0.1069538\ttotal: 238ms\tremaining: 525ms\n",
      "156:\tlearn: 0.1063083\ttotal: 239ms\tremaining: 523ms\n",
      "157:\tlearn: 0.1058159\ttotal: 241ms\tremaining: 521ms\n",
      "158:\tlearn: 0.1055594\ttotal: 242ms\tremaining: 520ms\n",
      "159:\tlearn: 0.1050474\ttotal: 244ms\tremaining: 518ms\n",
      "160:\tlearn: 0.1044920\ttotal: 246ms\tremaining: 517ms\n",
      "161:\tlearn: 0.1044603\ttotal: 247ms\tremaining: 515ms\n",
      "162:\tlearn: 0.1040344\ttotal: 249ms\tremaining: 514ms\n",
      "163:\tlearn: 0.1035828\ttotal: 250ms\tremaining: 512ms\n",
      "164:\tlearn: 0.1035548\ttotal: 252ms\tremaining: 511ms\n",
      "165:\tlearn: 0.1030595\ttotal: 253ms\tremaining: 509ms\n",
      "166:\tlearn: 0.1026814\ttotal: 255ms\tremaining: 508ms\n",
      "167:\tlearn: 0.1019349\ttotal: 256ms\tremaining: 506ms\n",
      "168:\tlearn: 0.1016666\ttotal: 258ms\tremaining: 505ms\n",
      "169:\tlearn: 0.1012429\ttotal: 259ms\tremaining: 503ms\n",
      "170:\tlearn: 0.1009028\ttotal: 261ms\tremaining: 502ms\n",
      "171:\tlearn: 0.1004653\ttotal: 262ms\tremaining: 500ms\n",
      "172:\tlearn: 0.1000939\ttotal: 264ms\tremaining: 499ms\n",
      "173:\tlearn: 0.0997058\ttotal: 266ms\tremaining: 498ms\n",
      "174:\tlearn: 0.0993415\ttotal: 268ms\tremaining: 497ms\n",
      "175:\tlearn: 0.0988100\ttotal: 269ms\tremaining: 496ms\n",
      "176:\tlearn: 0.0982573\ttotal: 271ms\tremaining: 495ms\n",
      "177:\tlearn: 0.0978077\ttotal: 273ms\tremaining: 494ms\n",
      "178:\tlearn: 0.0977749\ttotal: 275ms\tremaining: 492ms\n",
      "179:\tlearn: 0.0976171\ttotal: 276ms\tremaining: 491ms\n",
      "180:\tlearn: 0.0973518\ttotal: 278ms\tremaining: 490ms\n",
      "181:\tlearn: 0.0968157\ttotal: 279ms\tremaining: 488ms\n",
      "182:\tlearn: 0.0963624\ttotal: 281ms\tremaining: 487ms\n",
      "183:\tlearn: 0.0961975\ttotal: 283ms\tremaining: 485ms\n",
      "184:\tlearn: 0.0961554\ttotal: 284ms\tremaining: 484ms\n",
      "185:\tlearn: 0.0958489\ttotal: 286ms\tremaining: 482ms\n",
      "186:\tlearn: 0.0953851\ttotal: 287ms\tremaining: 481ms\n",
      "187:\tlearn: 0.0949360\ttotal: 289ms\tremaining: 480ms\n",
      "188:\tlearn: 0.0946703\ttotal: 291ms\tremaining: 478ms\n",
      "189:\tlearn: 0.0945475\ttotal: 292ms\tremaining: 477ms\n",
      "190:\tlearn: 0.0941727\ttotal: 294ms\tremaining: 476ms\n",
      "191:\tlearn: 0.0934880\ttotal: 296ms\tremaining: 475ms\n",
      "192:\tlearn: 0.0929590\ttotal: 298ms\tremaining: 473ms\n",
      "193:\tlearn: 0.0926391\ttotal: 299ms\tremaining: 472ms\n",
      "194:\tlearn: 0.0925323\ttotal: 301ms\tremaining: 471ms\n",
      "195:\tlearn: 0.0923252\ttotal: 303ms\tremaining: 470ms\n",
      "196:\tlearn: 0.0918863\ttotal: 305ms\tremaining: 468ms\n",
      "197:\tlearn: 0.0918586\ttotal: 306ms\tremaining: 467ms\n",
      "198:\tlearn: 0.0915451\ttotal: 308ms\tremaining: 466ms\n",
      "199:\tlearn: 0.0909882\ttotal: 309ms\tremaining: 464ms\n",
      "200:\tlearn: 0.0909627\ttotal: 311ms\tremaining: 463ms\n",
      "201:\tlearn: 0.0904214\ttotal: 313ms\tremaining: 461ms\n",
      "202:\tlearn: 0.0901622\ttotal: 314ms\tremaining: 460ms\n",
      "203:\tlearn: 0.0897465\ttotal: 316ms\tremaining: 458ms\n",
      "204:\tlearn: 0.0894609\ttotal: 317ms\tremaining: 457ms\n",
      "205:\tlearn: 0.0889928\ttotal: 319ms\tremaining: 455ms\n",
      "206:\tlearn: 0.0884780\ttotal: 320ms\tremaining: 454ms\n",
      "207:\tlearn: 0.0878988\ttotal: 322ms\tremaining: 452ms\n",
      "208:\tlearn: 0.0874549\ttotal: 324ms\tremaining: 451ms\n",
      "209:\tlearn: 0.0871000\ttotal: 325ms\tremaining: 449ms\n",
      "210:\tlearn: 0.0870801\ttotal: 327ms\tremaining: 448ms\n"
     ]
    },
    {
     "name": "stdout",
     "output_type": "stream",
     "text": [
      "211:\tlearn: 0.0867512\ttotal: 329ms\tremaining: 447ms\n",
      "212:\tlearn: 0.0863771\ttotal: 331ms\tremaining: 446ms\n",
      "213:\tlearn: 0.0860076\ttotal: 332ms\tremaining: 444ms\n",
      "214:\tlearn: 0.0859837\ttotal: 334ms\tremaining: 443ms\n",
      "215:\tlearn: 0.0856272\ttotal: 336ms\tremaining: 441ms\n",
      "216:\tlearn: 0.0852624\ttotal: 338ms\tremaining: 440ms\n",
      "217:\tlearn: 0.0851483\ttotal: 339ms\tremaining: 439ms\n",
      "218:\tlearn: 0.0849851\ttotal: 341ms\tremaining: 438ms\n",
      "219:\tlearn: 0.0848290\ttotal: 343ms\tremaining: 436ms\n",
      "220:\tlearn: 0.0845006\ttotal: 345ms\tremaining: 435ms\n",
      "221:\tlearn: 0.0844829\ttotal: 347ms\tremaining: 434ms\n",
      "222:\tlearn: 0.0843023\ttotal: 349ms\tremaining: 433ms\n",
      "223:\tlearn: 0.0839683\ttotal: 350ms\tremaining: 432ms\n",
      "224:\tlearn: 0.0836031\ttotal: 352ms\tremaining: 430ms\n",
      "225:\tlearn: 0.0829941\ttotal: 354ms\tremaining: 429ms\n",
      "226:\tlearn: 0.0826700\ttotal: 356ms\tremaining: 428ms\n",
      "227:\tlearn: 0.0822678\ttotal: 357ms\tremaining: 426ms\n",
      "228:\tlearn: 0.0820900\ttotal: 359ms\tremaining: 425ms\n",
      "229:\tlearn: 0.0815488\ttotal: 361ms\tremaining: 423ms\n",
      "230:\tlearn: 0.0811044\ttotal: 362ms\tremaining: 422ms\n",
      "231:\tlearn: 0.0808414\ttotal: 364ms\tremaining: 421ms\n",
      "232:\tlearn: 0.0808263\ttotal: 366ms\tremaining: 419ms\n",
      "233:\tlearn: 0.0805368\ttotal: 368ms\tremaining: 418ms\n",
      "234:\tlearn: 0.0801369\ttotal: 369ms\tremaining: 417ms\n",
      "235:\tlearn: 0.0798588\ttotal: 371ms\tremaining: 415ms\n",
      "236:\tlearn: 0.0798443\ttotal: 373ms\tremaining: 414ms\n",
      "237:\tlearn: 0.0795623\ttotal: 374ms\tremaining: 412ms\n",
      "238:\tlearn: 0.0793698\ttotal: 376ms\tremaining: 411ms\n",
      "239:\tlearn: 0.0793157\ttotal: 378ms\tremaining: 410ms\n",
      "240:\tlearn: 0.0793006\ttotal: 380ms\tremaining: 408ms\n",
      "241:\tlearn: 0.0785210\ttotal: 382ms\tremaining: 407ms\n",
      "242:\tlearn: 0.0781539\ttotal: 383ms\tremaining: 406ms\n",
      "243:\tlearn: 0.0778722\ttotal: 385ms\tremaining: 404ms\n",
      "244:\tlearn: 0.0775872\ttotal: 387ms\tremaining: 403ms\n",
      "245:\tlearn: 0.0774285\ttotal: 389ms\tremaining: 402ms\n",
      "246:\tlearn: 0.0773565\ttotal: 391ms\tremaining: 400ms\n",
      "247:\tlearn: 0.0773319\ttotal: 392ms\tremaining: 399ms\n",
      "248:\tlearn: 0.0769571\ttotal: 394ms\tremaining: 397ms\n",
      "249:\tlearn: 0.0765411\ttotal: 396ms\tremaining: 396ms\n",
      "250:\tlearn: 0.0759472\ttotal: 397ms\tremaining: 394ms\n",
      "251:\tlearn: 0.0758111\ttotal: 399ms\tremaining: 393ms\n",
      "252:\tlearn: 0.0752687\ttotal: 401ms\tremaining: 392ms\n",
      "253:\tlearn: 0.0751283\ttotal: 403ms\tremaining: 390ms\n",
      "254:\tlearn: 0.0751150\ttotal: 405ms\tremaining: 389ms\n",
      "255:\tlearn: 0.0750989\ttotal: 407ms\tremaining: 388ms\n",
      "256:\tlearn: 0.0747447\ttotal: 409ms\tremaining: 386ms\n",
      "257:\tlearn: 0.0745606\ttotal: 410ms\tremaining: 385ms\n",
      "258:\tlearn: 0.0743150\ttotal: 412ms\tremaining: 384ms\n",
      "259:\tlearn: 0.0740035\ttotal: 414ms\tremaining: 382ms\n",
      "260:\tlearn: 0.0735634\ttotal: 415ms\tremaining: 380ms\n",
      "261:\tlearn: 0.0733646\ttotal: 417ms\tremaining: 379ms\n",
      "262:\tlearn: 0.0728571\ttotal: 419ms\tremaining: 378ms\n",
      "263:\tlearn: 0.0724335\ttotal: 421ms\tremaining: 376ms\n",
      "264:\tlearn: 0.0722145\ttotal: 423ms\tremaining: 375ms\n",
      "265:\tlearn: 0.0718885\ttotal: 424ms\tremaining: 373ms\n",
      "266:\tlearn: 0.0717911\ttotal: 426ms\tremaining: 372ms\n",
      "267:\tlearn: 0.0717074\ttotal: 428ms\tremaining: 370ms\n",
      "268:\tlearn: 0.0715937\ttotal: 430ms\tremaining: 369ms\n",
      "269:\tlearn: 0.0712633\ttotal: 431ms\tremaining: 367ms\n",
      "270:\tlearn: 0.0709060\ttotal: 433ms\tremaining: 366ms\n",
      "271:\tlearn: 0.0707062\ttotal: 434ms\tremaining: 364ms\n",
      "272:\tlearn: 0.0704122\ttotal: 436ms\tremaining: 363ms\n",
      "273:\tlearn: 0.0702795\ttotal: 438ms\tremaining: 361ms\n",
      "274:\tlearn: 0.0702487\ttotal: 440ms\tremaining: 360ms\n",
      "275:\tlearn: 0.0700514\ttotal: 441ms\tremaining: 358ms\n",
      "276:\tlearn: 0.0696532\ttotal: 443ms\tremaining: 357ms\n",
      "277:\tlearn: 0.0695852\ttotal: 444ms\tremaining: 355ms\n",
      "278:\tlearn: 0.0691416\ttotal: 446ms\tremaining: 353ms\n",
      "279:\tlearn: 0.0690041\ttotal: 448ms\tremaining: 352ms\n",
      "280:\tlearn: 0.0688283\ttotal: 449ms\tremaining: 350ms\n",
      "281:\tlearn: 0.0684766\ttotal: 451ms\tremaining: 349ms\n",
      "282:\tlearn: 0.0683687\ttotal: 453ms\tremaining: 347ms\n",
      "283:\tlearn: 0.0682780\ttotal: 454ms\tremaining: 346ms\n",
      "284:\tlearn: 0.0679622\ttotal: 456ms\tremaining: 344ms\n",
      "285:\tlearn: 0.0676712\ttotal: 458ms\tremaining: 343ms\n",
      "286:\tlearn: 0.0676245\ttotal: 460ms\tremaining: 341ms\n",
      "287:\tlearn: 0.0674527\ttotal: 461ms\tremaining: 340ms\n",
      "288:\tlearn: 0.0670129\ttotal: 463ms\tremaining: 338ms\n",
      "289:\tlearn: 0.0667731\ttotal: 465ms\tremaining: 337ms\n",
      "290:\tlearn: 0.0666683\ttotal: 467ms\tremaining: 335ms\n",
      "291:\tlearn: 0.0660693\ttotal: 468ms\tremaining: 334ms\n",
      "292:\tlearn: 0.0658972\ttotal: 470ms\tremaining: 332ms\n",
      "293:\tlearn: 0.0658330\ttotal: 472ms\tremaining: 331ms\n",
      "294:\tlearn: 0.0656602\ttotal: 474ms\tremaining: 329ms\n",
      "295:\tlearn: 0.0654713\ttotal: 475ms\tremaining: 328ms\n",
      "296:\tlearn: 0.0654034\ttotal: 477ms\tremaining: 326ms\n",
      "297:\tlearn: 0.0653762\ttotal: 479ms\tremaining: 325ms\n",
      "298:\tlearn: 0.0653024\ttotal: 481ms\tremaining: 323ms\n",
      "299:\tlearn: 0.0647808\ttotal: 482ms\tremaining: 322ms\n",
      "300:\tlearn: 0.0643629\ttotal: 484ms\tremaining: 320ms\n",
      "301:\tlearn: 0.0643129\ttotal: 486ms\tremaining: 318ms\n",
      "302:\tlearn: 0.0642239\ttotal: 487ms\tremaining: 317ms\n",
      "303:\tlearn: 0.0640658\ttotal: 489ms\tremaining: 315ms\n",
      "304:\tlearn: 0.0638154\ttotal: 491ms\tremaining: 314ms\n",
      "305:\tlearn: 0.0634760\ttotal: 493ms\tremaining: 312ms\n",
      "306:\tlearn: 0.0631578\ttotal: 494ms\tremaining: 311ms\n",
      "307:\tlearn: 0.0628361\ttotal: 496ms\tremaining: 309ms\n",
      "308:\tlearn: 0.0626995\ttotal: 498ms\tremaining: 308ms\n",
      "309:\tlearn: 0.0625580\ttotal: 499ms\tremaining: 306ms\n",
      "310:\tlearn: 0.0624812\ttotal: 501ms\tremaining: 304ms\n",
      "311:\tlearn: 0.0623379\ttotal: 502ms\tremaining: 303ms\n",
      "312:\tlearn: 0.0621574\ttotal: 504ms\tremaining: 301ms\n",
      "313:\tlearn: 0.0619377\ttotal: 505ms\tremaining: 299ms\n",
      "314:\tlearn: 0.0615791\ttotal: 507ms\tremaining: 298ms\n",
      "315:\tlearn: 0.0613862\ttotal: 509ms\tremaining: 296ms\n",
      "316:\tlearn: 0.0612009\ttotal: 510ms\tremaining: 295ms\n",
      "317:\tlearn: 0.0611316\ttotal: 512ms\tremaining: 293ms\n",
      "318:\tlearn: 0.0607744\ttotal: 513ms\tremaining: 291ms\n",
      "319:\tlearn: 0.0607547\ttotal: 515ms\tremaining: 290ms\n",
      "320:\tlearn: 0.0604978\ttotal: 516ms\tremaining: 288ms\n",
      "321:\tlearn: 0.0603271\ttotal: 518ms\tremaining: 286ms\n",
      "322:\tlearn: 0.0601742\ttotal: 520ms\tremaining: 285ms\n",
      "323:\tlearn: 0.0599825\ttotal: 522ms\tremaining: 283ms\n",
      "324:\tlearn: 0.0595872\ttotal: 524ms\tremaining: 282ms\n",
      "325:\tlearn: 0.0595689\ttotal: 525ms\tremaining: 280ms\n",
      "326:\tlearn: 0.0595247\ttotal: 527ms\tremaining: 279ms\n",
      "327:\tlearn: 0.0594231\ttotal: 529ms\tremaining: 277ms\n",
      "328:\tlearn: 0.0594109\ttotal: 531ms\tremaining: 276ms\n",
      "329:\tlearn: 0.0592103\ttotal: 533ms\tremaining: 274ms\n",
      "330:\tlearn: 0.0589814\ttotal: 534ms\tremaining: 273ms\n",
      "331:\tlearn: 0.0587640\ttotal: 536ms\tremaining: 271ms\n",
      "332:\tlearn: 0.0584035\ttotal: 538ms\tremaining: 270ms\n",
      "333:\tlearn: 0.0583892\ttotal: 540ms\tremaining: 268ms\n",
      "334:\tlearn: 0.0582692\ttotal: 542ms\tremaining: 267ms\n",
      "335:\tlearn: 0.0579646\ttotal: 543ms\tremaining: 265ms\n",
      "336:\tlearn: 0.0579511\ttotal: 545ms\tremaining: 264ms\n",
      "337:\tlearn: 0.0577304\ttotal: 547ms\tremaining: 262ms\n",
      "338:\tlearn: 0.0576365\ttotal: 549ms\tremaining: 261ms\n",
      "339:\tlearn: 0.0572988\ttotal: 550ms\tremaining: 259ms\n",
      "340:\tlearn: 0.0569262\ttotal: 552ms\tremaining: 257ms\n",
      "341:\tlearn: 0.0565878\ttotal: 554ms\tremaining: 256ms\n",
      "342:\tlearn: 0.0564477\ttotal: 556ms\tremaining: 254ms\n",
      "343:\tlearn: 0.0561976\ttotal: 557ms\tremaining: 253ms\n",
      "344:\tlearn: 0.0561387\ttotal: 559ms\tremaining: 251ms\n",
      "345:\tlearn: 0.0559704\ttotal: 561ms\tremaining: 250ms\n",
      "346:\tlearn: 0.0559125\ttotal: 563ms\tremaining: 248ms\n",
      "347:\tlearn: 0.0556928\ttotal: 565ms\tremaining: 247ms\n",
      "348:\tlearn: 0.0556649\ttotal: 566ms\tremaining: 245ms\n",
      "349:\tlearn: 0.0554497\ttotal: 568ms\tremaining: 243ms\n",
      "350:\tlearn: 0.0553075\ttotal: 570ms\tremaining: 242ms\n",
      "351:\tlearn: 0.0552054\ttotal: 571ms\tremaining: 240ms\n",
      "352:\tlearn: 0.0550158\ttotal: 573ms\tremaining: 239ms\n",
      "353:\tlearn: 0.0548578\ttotal: 575ms\tremaining: 237ms\n",
      "354:\tlearn: 0.0546983\ttotal: 576ms\tremaining: 235ms\n",
      "355:\tlearn: 0.0546238\ttotal: 578ms\tremaining: 234ms\n",
      "356:\tlearn: 0.0544229\ttotal: 580ms\tremaining: 232ms\n",
      "357:\tlearn: 0.0543996\ttotal: 581ms\tremaining: 231ms\n",
      "358:\tlearn: 0.0543881\ttotal: 583ms\tremaining: 229ms\n",
      "359:\tlearn: 0.0543641\ttotal: 585ms\tremaining: 227ms\n",
      "360:\tlearn: 0.0541271\ttotal: 586ms\tremaining: 226ms\n",
      "361:\tlearn: 0.0539919\ttotal: 588ms\tremaining: 224ms\n",
      "362:\tlearn: 0.0538408\ttotal: 590ms\tremaining: 223ms\n",
      "363:\tlearn: 0.0536355\ttotal: 591ms\tremaining: 221ms\n",
      "364:\tlearn: 0.0534451\ttotal: 593ms\tremaining: 219ms\n",
      "365:\tlearn: 0.0534073\ttotal: 594ms\tremaining: 218ms\n",
      "366:\tlearn: 0.0532724\ttotal: 596ms\tremaining: 216ms\n",
      "367:\tlearn: 0.0531028\ttotal: 597ms\tremaining: 214ms\n",
      "368:\tlearn: 0.0529050\ttotal: 599ms\tremaining: 213ms\n",
      "369:\tlearn: 0.0527020\ttotal: 600ms\tremaining: 211ms\n",
      "370:\tlearn: 0.0526531\ttotal: 602ms\tremaining: 209ms\n",
      "371:\tlearn: 0.0525115\ttotal: 604ms\tremaining: 208ms\n",
      "372:\tlearn: 0.0521364\ttotal: 605ms\tremaining: 206ms\n",
      "373:\tlearn: 0.0519219\ttotal: 607ms\tremaining: 204ms\n",
      "374:\tlearn: 0.0518123\ttotal: 608ms\tremaining: 203ms\n",
      "375:\tlearn: 0.0516628\ttotal: 610ms\tremaining: 201ms\n",
      "376:\tlearn: 0.0513909\ttotal: 612ms\tremaining: 200ms\n",
      "377:\tlearn: 0.0513175\ttotal: 614ms\tremaining: 198ms\n",
      "378:\tlearn: 0.0511039\ttotal: 615ms\tremaining: 196ms\n",
      "379:\tlearn: 0.0509619\ttotal: 617ms\tremaining: 195ms\n",
      "380:\tlearn: 0.0508140\ttotal: 619ms\tremaining: 193ms\n",
      "381:\tlearn: 0.0506741\ttotal: 621ms\tremaining: 192ms\n",
      "382:\tlearn: 0.0504971\ttotal: 623ms\tremaining: 190ms\n",
      "383:\tlearn: 0.0503916\ttotal: 624ms\tremaining: 189ms\n",
      "384:\tlearn: 0.0503821\ttotal: 626ms\tremaining: 187ms\n",
      "385:\tlearn: 0.0502793\ttotal: 628ms\tremaining: 185ms\n",
      "386:\tlearn: 0.0502589\ttotal: 629ms\tremaining: 184ms\n",
      "387:\tlearn: 0.0502078\ttotal: 631ms\tremaining: 182ms\n",
      "388:\tlearn: 0.0501541\ttotal: 633ms\tremaining: 181ms\n",
      "389:\tlearn: 0.0500719\ttotal: 634ms\tremaining: 179ms\n",
      "390:\tlearn: 0.0498790\ttotal: 636ms\tremaining: 177ms\n",
      "391:\tlearn: 0.0496681\ttotal: 638ms\tremaining: 176ms\n",
      "392:\tlearn: 0.0495250\ttotal: 639ms\tremaining: 174ms\n",
      "393:\tlearn: 0.0494565\ttotal: 641ms\tremaining: 173ms\n",
      "394:\tlearn: 0.0492138\ttotal: 643ms\tremaining: 171ms\n",
      "395:\tlearn: 0.0489389\ttotal: 645ms\tremaining: 169ms\n",
      "396:\tlearn: 0.0488418\ttotal: 646ms\tremaining: 168ms\n",
      "397:\tlearn: 0.0488356\ttotal: 648ms\tremaining: 166ms\n",
      "398:\tlearn: 0.0488271\ttotal: 650ms\tremaining: 164ms\n",
      "399:\tlearn: 0.0487900\ttotal: 651ms\tremaining: 163ms\n"
     ]
    },
    {
     "name": "stdout",
     "output_type": "stream",
     "text": [
      "400:\tlearn: 0.0485373\ttotal: 653ms\tremaining: 161ms\n",
      "401:\tlearn: 0.0484889\ttotal: 655ms\tremaining: 160ms\n",
      "402:\tlearn: 0.0483635\ttotal: 657ms\tremaining: 158ms\n",
      "403:\tlearn: 0.0482844\ttotal: 658ms\tremaining: 156ms\n",
      "404:\tlearn: 0.0479793\ttotal: 660ms\tremaining: 155ms\n",
      "405:\tlearn: 0.0478557\ttotal: 662ms\tremaining: 153ms\n",
      "406:\tlearn: 0.0475797\ttotal: 664ms\tremaining: 152ms\n",
      "407:\tlearn: 0.0473575\ttotal: 666ms\tremaining: 150ms\n",
      "408:\tlearn: 0.0471760\ttotal: 667ms\tremaining: 148ms\n",
      "409:\tlearn: 0.0471498\ttotal: 669ms\tremaining: 147ms\n",
      "410:\tlearn: 0.0467793\ttotal: 671ms\tremaining: 145ms\n",
      "411:\tlearn: 0.0464986\ttotal: 673ms\tremaining: 144ms\n",
      "412:\tlearn: 0.0464123\ttotal: 675ms\tremaining: 142ms\n",
      "413:\tlearn: 0.0462923\ttotal: 676ms\tremaining: 140ms\n",
      "414:\tlearn: 0.0461433\ttotal: 678ms\tremaining: 139ms\n",
      "415:\tlearn: 0.0460170\ttotal: 680ms\tremaining: 137ms\n",
      "416:\tlearn: 0.0459008\ttotal: 682ms\tremaining: 136ms\n",
      "417:\tlearn: 0.0456632\ttotal: 683ms\tremaining: 134ms\n",
      "418:\tlearn: 0.0455078\ttotal: 685ms\tremaining: 132ms\n",
      "419:\tlearn: 0.0453177\ttotal: 687ms\tremaining: 131ms\n",
      "420:\tlearn: 0.0451672\ttotal: 689ms\tremaining: 129ms\n",
      "421:\tlearn: 0.0451254\ttotal: 691ms\tremaining: 128ms\n",
      "422:\tlearn: 0.0450779\ttotal: 693ms\tremaining: 126ms\n",
      "423:\tlearn: 0.0449501\ttotal: 695ms\tremaining: 125ms\n",
      "424:\tlearn: 0.0448237\ttotal: 697ms\tremaining: 123ms\n",
      "425:\tlearn: 0.0446607\ttotal: 699ms\tremaining: 121ms\n",
      "426:\tlearn: 0.0443464\ttotal: 701ms\tremaining: 120ms\n",
      "427:\tlearn: 0.0442357\ttotal: 702ms\tremaining: 118ms\n",
      "428:\tlearn: 0.0441067\ttotal: 704ms\tremaining: 116ms\n",
      "429:\tlearn: 0.0439264\ttotal: 705ms\tremaining: 115ms\n",
      "430:\tlearn: 0.0438941\ttotal: 707ms\tremaining: 113ms\n",
      "431:\tlearn: 0.0436913\ttotal: 709ms\tremaining: 112ms\n",
      "432:\tlearn: 0.0435348\ttotal: 710ms\tremaining: 110ms\n",
      "433:\tlearn: 0.0432927\ttotal: 712ms\tremaining: 108ms\n",
      "434:\tlearn: 0.0430844\ttotal: 714ms\tremaining: 107ms\n",
      "435:\tlearn: 0.0429983\ttotal: 716ms\tremaining: 105ms\n",
      "436:\tlearn: 0.0429580\ttotal: 718ms\tremaining: 103ms\n",
      "437:\tlearn: 0.0429107\ttotal: 720ms\tremaining: 102ms\n",
      "438:\tlearn: 0.0427514\ttotal: 722ms\tremaining: 100ms\n",
      "439:\tlearn: 0.0426609\ttotal: 723ms\tremaining: 98.6ms\n",
      "440:\tlearn: 0.0425558\ttotal: 725ms\tremaining: 97ms\n",
      "441:\tlearn: 0.0425137\ttotal: 727ms\tremaining: 95.4ms\n",
      "442:\tlearn: 0.0424245\ttotal: 728ms\tremaining: 93.7ms\n",
      "443:\tlearn: 0.0423594\ttotal: 730ms\tremaining: 92.1ms\n",
      "444:\tlearn: 0.0422889\ttotal: 732ms\tremaining: 90.5ms\n",
      "445:\tlearn: 0.0421465\ttotal: 734ms\tremaining: 88.9ms\n",
      "446:\tlearn: 0.0418786\ttotal: 736ms\tremaining: 87.3ms\n",
      "447:\tlearn: 0.0417268\ttotal: 738ms\tremaining: 85.6ms\n",
      "448:\tlearn: 0.0415833\ttotal: 740ms\tremaining: 84ms\n",
      "449:\tlearn: 0.0415309\ttotal: 742ms\tremaining: 82.4ms\n",
      "450:\tlearn: 0.0413183\ttotal: 743ms\tremaining: 80.8ms\n",
      "451:\tlearn: 0.0411607\ttotal: 745ms\tremaining: 79.2ms\n",
      "452:\tlearn: 0.0409934\ttotal: 747ms\tremaining: 77.5ms\n",
      "453:\tlearn: 0.0408792\ttotal: 749ms\tremaining: 75.9ms\n",
      "454:\tlearn: 0.0407861\ttotal: 751ms\tremaining: 74.2ms\n",
      "455:\tlearn: 0.0407137\ttotal: 752ms\tremaining: 72.6ms\n",
      "456:\tlearn: 0.0406855\ttotal: 754ms\tremaining: 71ms\n",
      "457:\tlearn: 0.0406816\ttotal: 756ms\tremaining: 69.3ms\n",
      "458:\tlearn: 0.0405822\ttotal: 757ms\tremaining: 67.7ms\n",
      "459:\tlearn: 0.0405766\ttotal: 759ms\tremaining: 66ms\n",
      "460:\tlearn: 0.0405574\ttotal: 761ms\tremaining: 64.3ms\n",
      "461:\tlearn: 0.0404190\ttotal: 762ms\tremaining: 62.7ms\n",
      "462:\tlearn: 0.0403191\ttotal: 764ms\tremaining: 61ms\n",
      "463:\tlearn: 0.0402062\ttotal: 765ms\tremaining: 59.4ms\n",
      "464:\tlearn: 0.0401343\ttotal: 767ms\tremaining: 57.7ms\n",
      "465:\tlearn: 0.0400860\ttotal: 769ms\tremaining: 56.1ms\n",
      "466:\tlearn: 0.0400811\ttotal: 771ms\tremaining: 54.5ms\n",
      "467:\tlearn: 0.0399611\ttotal: 772ms\tremaining: 52.8ms\n",
      "468:\tlearn: 0.0399568\ttotal: 774ms\tremaining: 51.2ms\n",
      "469:\tlearn: 0.0399513\ttotal: 776ms\tremaining: 49.5ms\n",
      "470:\tlearn: 0.0398686\ttotal: 777ms\tremaining: 47.9ms\n",
      "471:\tlearn: 0.0397882\ttotal: 779ms\tremaining: 46.2ms\n",
      "472:\tlearn: 0.0396624\ttotal: 781ms\tremaining: 44.6ms\n",
      "473:\tlearn: 0.0395447\ttotal: 783ms\tremaining: 42.9ms\n",
      "474:\tlearn: 0.0394171\ttotal: 784ms\tremaining: 41.3ms\n",
      "475:\tlearn: 0.0393802\ttotal: 786ms\tremaining: 39.6ms\n",
      "476:\tlearn: 0.0391800\ttotal: 788ms\tremaining: 38ms\n",
      "477:\tlearn: 0.0391143\ttotal: 790ms\tremaining: 36.4ms\n",
      "478:\tlearn: 0.0389980\ttotal: 792ms\tremaining: 34.7ms\n",
      "479:\tlearn: 0.0389178\ttotal: 793ms\tremaining: 33.1ms\n",
      "480:\tlearn: 0.0387702\ttotal: 795ms\tremaining: 31.4ms\n",
      "481:\tlearn: 0.0387090\ttotal: 797ms\tremaining: 29.8ms\n",
      "482:\tlearn: 0.0386282\ttotal: 799ms\tremaining: 28.1ms\n",
      "483:\tlearn: 0.0384978\ttotal: 801ms\tremaining: 26.5ms\n",
      "484:\tlearn: 0.0384488\ttotal: 802ms\tremaining: 24.8ms\n",
      "485:\tlearn: 0.0384160\ttotal: 804ms\tremaining: 23.2ms\n",
      "486:\tlearn: 0.0382565\ttotal: 806ms\tremaining: 21.5ms\n",
      "487:\tlearn: 0.0381764\ttotal: 808ms\tremaining: 19.9ms\n",
      "488:\tlearn: 0.0380778\ttotal: 809ms\tremaining: 18.2ms\n",
      "489:\tlearn: 0.0379527\ttotal: 811ms\tremaining: 16.6ms\n",
      "490:\tlearn: 0.0378303\ttotal: 813ms\tremaining: 14.9ms\n",
      "491:\tlearn: 0.0377507\ttotal: 815ms\tremaining: 13.3ms\n",
      "492:\tlearn: 0.0376408\ttotal: 817ms\tremaining: 11.6ms\n",
      "493:\tlearn: 0.0375787\ttotal: 819ms\tremaining: 9.95ms\n",
      "494:\tlearn: 0.0375076\ttotal: 820ms\tremaining: 8.29ms\n",
      "495:\tlearn: 0.0373864\ttotal: 822ms\tremaining: 6.63ms\n",
      "496:\tlearn: 0.0372527\ttotal: 824ms\tremaining: 4.97ms\n",
      "497:\tlearn: 0.0370630\ttotal: 826ms\tremaining: 3.32ms\n",
      "498:\tlearn: 0.0369115\ttotal: 828ms\tremaining: 1.66ms\n",
      "499:\tlearn: 0.0367698\ttotal: 830ms\tremaining: 0us\n"
     ]
    },
    {
     "data": {
      "text/plain": [
       "GridSearchCV(cv=5,\n",
       "             estimator=<catboost.core.CatBoostClassifier object at 0x000001A8CC5EB9A0>,\n",
       "             n_jobs=-1,\n",
       "             param_grid={'depth': [3, 57], 'iterations': [200, 500],\n",
       "                         'learning_rate': [0.01, 0.05, 0.1]},\n",
       "             verbose=2)"
      ]
     },
     "execution_count": 54,
     "metadata": {},
     "output_type": "execute_result"
    }
   ],
   "source": [
    "catb = CatBoostClassifier()\n",
    "catb_cv_model = GridSearchCV(catb,catb_params,\n",
    "                          cv=5,\n",
    "                          n_jobs=-1,\n",
    "                          verbose=2)\n",
    "\n",
    "catb_cv_model.fit(X_train, y_train)"
   ]
  },
  {
   "cell_type": "code",
   "execution_count": 55,
   "metadata": {},
   "outputs": [
    {
     "data": {
      "text/plain": [
       "{'depth': 3, 'iterations': 500, 'learning_rate': 0.1}"
      ]
     },
     "execution_count": 55,
     "metadata": {},
     "output_type": "execute_result"
    }
   ],
   "source": [
    "catb_cv_model.best_params_"
   ]
  },
  {
   "cell_type": "code",
   "execution_count": 56,
   "metadata": {},
   "outputs": [],
   "source": [
    "catb = CatBoostClassifier(learning_rate=0.1,\n",
    "                    iterations=500,\n",
    "                    depth=3)"
   ]
  },
  {
   "cell_type": "code",
   "execution_count": 57,
   "metadata": {},
   "outputs": [
    {
     "name": "stdout",
     "output_type": "stream",
     "text": [
      "0:\tlearn: 0.5897409\ttotal: 1.79ms\tremaining: 893ms\n",
      "1:\tlearn: 0.5126790\ttotal: 3.74ms\tremaining: 932ms\n",
      "2:\tlearn: 0.4502496\ttotal: 5.57ms\tremaining: 923ms\n",
      "3:\tlearn: 0.4095972\ttotal: 7.09ms\tremaining: 879ms\n",
      "4:\tlearn: 0.3750301\ttotal: 8.86ms\tremaining: 877ms\n",
      "5:\tlearn: 0.3476635\ttotal: 10.4ms\tremaining: 855ms\n",
      "6:\tlearn: 0.3202074\ttotal: 11.8ms\tremaining: 830ms\n",
      "7:\tlearn: 0.2997275\ttotal: 13.2ms\tremaining: 813ms\n",
      "8:\tlearn: 0.2839228\ttotal: 14.7ms\tremaining: 800ms\n",
      "9:\tlearn: 0.2687661\ttotal: 16.1ms\tremaining: 787ms\n",
      "10:\tlearn: 0.2588030\ttotal: 17.5ms\tremaining: 777ms\n",
      "11:\tlearn: 0.2519241\ttotal: 18.9ms\tremaining: 768ms\n",
      "12:\tlearn: 0.2446942\ttotal: 20.4ms\tremaining: 763ms\n",
      "13:\tlearn: 0.2381402\ttotal: 22.1ms\tremaining: 766ms\n",
      "14:\tlearn: 0.2323795\ttotal: 23.6ms\tremaining: 763ms\n",
      "15:\tlearn: 0.2289325\ttotal: 25.3ms\tremaining: 765ms\n",
      "16:\tlearn: 0.2248650\ttotal: 26.8ms\tremaining: 761ms\n",
      "17:\tlearn: 0.2207072\ttotal: 28.2ms\tremaining: 755ms\n",
      "18:\tlearn: 0.2182947\ttotal: 29.6ms\tremaining: 750ms\n",
      "19:\tlearn: 0.2158903\ttotal: 31ms\tremaining: 743ms\n",
      "20:\tlearn: 0.2136084\ttotal: 32.3ms\tremaining: 737ms\n",
      "21:\tlearn: 0.2111922\ttotal: 33.6ms\tremaining: 730ms\n",
      "22:\tlearn: 0.2085642\ttotal: 34.9ms\tremaining: 724ms\n",
      "23:\tlearn: 0.2058353\ttotal: 36.4ms\tremaining: 722ms\n",
      "24:\tlearn: 0.2033398\ttotal: 37.8ms\tremaining: 717ms\n",
      "25:\tlearn: 0.2024650\ttotal: 39.1ms\tremaining: 712ms\n",
      "26:\tlearn: 0.2013821\ttotal: 40.4ms\tremaining: 708ms\n",
      "27:\tlearn: 0.1996434\ttotal: 41.7ms\tremaining: 702ms\n",
      "28:\tlearn: 0.1978495\ttotal: 43ms\tremaining: 699ms\n",
      "29:\tlearn: 0.1953436\ttotal: 44.3ms\tremaining: 694ms\n",
      "30:\tlearn: 0.1940206\ttotal: 45.6ms\tremaining: 690ms\n",
      "31:\tlearn: 0.1934883\ttotal: 46.8ms\tremaining: 685ms\n",
      "32:\tlearn: 0.1926726\ttotal: 48.1ms\tremaining: 680ms\n",
      "33:\tlearn: 0.1907942\ttotal: 49.4ms\tremaining: 678ms\n",
      "34:\tlearn: 0.1889782\ttotal: 51ms\tremaining: 677ms\n",
      "35:\tlearn: 0.1882082\ttotal: 52.4ms\tremaining: 676ms\n",
      "36:\tlearn: 0.1869872\ttotal: 53.8ms\tremaining: 673ms\n",
      "37:\tlearn: 0.1864262\ttotal: 55.1ms\tremaining: 669ms\n",
      "38:\tlearn: 0.1847775\ttotal: 56.4ms\tremaining: 667ms\n",
      "39:\tlearn: 0.1835998\ttotal: 57.7ms\tremaining: 664ms\n",
      "40:\tlearn: 0.1823092\ttotal: 59.2ms\tremaining: 663ms\n",
      "41:\tlearn: 0.1793597\ttotal: 60.6ms\tremaining: 661ms\n",
      "42:\tlearn: 0.1789012\ttotal: 61.9ms\tremaining: 658ms\n",
      "43:\tlearn: 0.1782956\ttotal: 63.3ms\tremaining: 656ms\n",
      "44:\tlearn: 0.1768633\ttotal: 65ms\tremaining: 657ms\n",
      "45:\tlearn: 0.1762684\ttotal: 67.4ms\tremaining: 665ms\n",
      "46:\tlearn: 0.1754798\ttotal: 69ms\tremaining: 665ms\n",
      "47:\tlearn: 0.1743341\ttotal: 70.3ms\tremaining: 662ms\n",
      "48:\tlearn: 0.1738310\ttotal: 71.6ms\tremaining: 659ms\n",
      "49:\tlearn: 0.1731288\ttotal: 73.2ms\tremaining: 659ms\n",
      "50:\tlearn: 0.1729722\ttotal: 74.6ms\tremaining: 657ms\n",
      "51:\tlearn: 0.1727590\ttotal: 76.1ms\tremaining: 656ms\n",
      "52:\tlearn: 0.1713368\ttotal: 77.5ms\tremaining: 654ms\n",
      "53:\tlearn: 0.1699935\ttotal: 78.9ms\tremaining: 652ms\n",
      "54:\tlearn: 0.1690090\ttotal: 80.3ms\tremaining: 650ms\n",
      "55:\tlearn: 0.1687488\ttotal: 81.8ms\tremaining: 648ms\n",
      "56:\tlearn: 0.1679940\ttotal: 83.2ms\tremaining: 647ms\n",
      "57:\tlearn: 0.1665800\ttotal: 84.6ms\tremaining: 645ms\n",
      "58:\tlearn: 0.1658678\ttotal: 86.1ms\tremaining: 644ms\n",
      "59:\tlearn: 0.1652618\ttotal: 87.6ms\tremaining: 642ms\n",
      "60:\tlearn: 0.1646277\ttotal: 89ms\tremaining: 641ms\n",
      "61:\tlearn: 0.1633450\ttotal: 90.5ms\tremaining: 640ms\n",
      "62:\tlearn: 0.1620968\ttotal: 92ms\tremaining: 638ms\n",
      "63:\tlearn: 0.1606364\ttotal: 93.5ms\tremaining: 637ms\n",
      "64:\tlearn: 0.1590813\ttotal: 95ms\tremaining: 636ms\n",
      "65:\tlearn: 0.1576895\ttotal: 96.4ms\tremaining: 634ms\n",
      "66:\tlearn: 0.1575602\ttotal: 98ms\tremaining: 633ms\n",
      "67:\tlearn: 0.1570768\ttotal: 99.5ms\tremaining: 632ms\n",
      "68:\tlearn: 0.1563031\ttotal: 101ms\tremaining: 630ms\n",
      "69:\tlearn: 0.1562062\ttotal: 102ms\tremaining: 628ms\n",
      "70:\tlearn: 0.1550058\ttotal: 104ms\tremaining: 627ms\n",
      "71:\tlearn: 0.1548710\ttotal: 105ms\tremaining: 625ms\n",
      "72:\tlearn: 0.1539763\ttotal: 107ms\tremaining: 624ms\n",
      "73:\tlearn: 0.1538353\ttotal: 108ms\tremaining: 622ms\n",
      "74:\tlearn: 0.1534496\ttotal: 110ms\tremaining: 621ms\n",
      "75:\tlearn: 0.1522908\ttotal: 111ms\tremaining: 619ms\n",
      "76:\tlearn: 0.1509492\ttotal: 112ms\tremaining: 617ms\n",
      "77:\tlearn: 0.1500923\ttotal: 114ms\tremaining: 617ms\n",
      "78:\tlearn: 0.1492542\ttotal: 116ms\tremaining: 616ms\n",
      "79:\tlearn: 0.1480665\ttotal: 117ms\tremaining: 614ms\n",
      "80:\tlearn: 0.1474848\ttotal: 118ms\tremaining: 612ms\n",
      "81:\tlearn: 0.1470101\ttotal: 120ms\tremaining: 611ms\n",
      "82:\tlearn: 0.1464556\ttotal: 121ms\tremaining: 609ms\n",
      "83:\tlearn: 0.1460906\ttotal: 123ms\tremaining: 607ms\n",
      "84:\tlearn: 0.1459354\ttotal: 124ms\tremaining: 605ms\n",
      "85:\tlearn: 0.1457915\ttotal: 125ms\tremaining: 604ms\n",
      "86:\tlearn: 0.1453303\ttotal: 127ms\tremaining: 602ms\n",
      "87:\tlearn: 0.1443211\ttotal: 128ms\tremaining: 601ms\n",
      "88:\tlearn: 0.1423628\ttotal: 130ms\tremaining: 599ms\n",
      "89:\tlearn: 0.1413687\ttotal: 131ms\tremaining: 597ms\n",
      "90:\tlearn: 0.1403060\ttotal: 133ms\tremaining: 596ms\n",
      "91:\tlearn: 0.1400837\ttotal: 134ms\tremaining: 594ms\n",
      "92:\tlearn: 0.1399494\ttotal: 135ms\tremaining: 592ms\n",
      "93:\tlearn: 0.1391507\ttotal: 137ms\tremaining: 591ms\n",
      "94:\tlearn: 0.1390325\ttotal: 138ms\tremaining: 589ms\n",
      "95:\tlearn: 0.1381450\ttotal: 140ms\tremaining: 588ms\n",
      "96:\tlearn: 0.1364877\ttotal: 141ms\tremaining: 586ms\n",
      "97:\tlearn: 0.1354556\ttotal: 142ms\tremaining: 584ms\n",
      "98:\tlearn: 0.1346784\ttotal: 144ms\tremaining: 582ms\n",
      "99:\tlearn: 0.1345759\ttotal: 145ms\tremaining: 580ms\n",
      "100:\tlearn: 0.1338056\ttotal: 146ms\tremaining: 578ms\n",
      "101:\tlearn: 0.1331355\ttotal: 148ms\tremaining: 578ms\n",
      "102:\tlearn: 0.1323807\ttotal: 150ms\tremaining: 576ms\n",
      "103:\tlearn: 0.1313345\ttotal: 151ms\tremaining: 575ms\n",
      "104:\tlearn: 0.1309722\ttotal: 152ms\tremaining: 573ms\n",
      "105:\tlearn: 0.1306242\ttotal: 154ms\tremaining: 571ms\n",
      "106:\tlearn: 0.1297510\ttotal: 155ms\tremaining: 570ms\n",
      "107:\tlearn: 0.1295914\ttotal: 157ms\tremaining: 568ms\n",
      "108:\tlearn: 0.1295137\ttotal: 158ms\tremaining: 567ms\n",
      "109:\tlearn: 0.1285956\ttotal: 159ms\tremaining: 565ms\n",
      "110:\tlearn: 0.1285253\ttotal: 161ms\tremaining: 563ms\n",
      "111:\tlearn: 0.1284714\ttotal: 162ms\tremaining: 562ms\n",
      "112:\tlearn: 0.1278313\ttotal: 164ms\tremaining: 562ms\n",
      "113:\tlearn: 0.1273609\ttotal: 166ms\tremaining: 561ms\n",
      "114:\tlearn: 0.1265368\ttotal: 167ms\tremaining: 559ms\n",
      "115:\tlearn: 0.1258946\ttotal: 169ms\tremaining: 558ms\n",
      "116:\tlearn: 0.1258478\ttotal: 170ms\tremaining: 557ms\n",
      "117:\tlearn: 0.1250782\ttotal: 172ms\tremaining: 556ms\n",
      "118:\tlearn: 0.1243355\ttotal: 173ms\tremaining: 555ms\n",
      "119:\tlearn: 0.1240360\ttotal: 175ms\tremaining: 553ms\n",
      "120:\tlearn: 0.1236266\ttotal: 176ms\tremaining: 551ms\n",
      "121:\tlearn: 0.1229282\ttotal: 177ms\tremaining: 549ms\n",
      "122:\tlearn: 0.1221675\ttotal: 179ms\tremaining: 550ms\n",
      "123:\tlearn: 0.1215891\ttotal: 182ms\tremaining: 552ms\n",
      "124:\tlearn: 0.1212195\ttotal: 184ms\tremaining: 551ms\n",
      "125:\tlearn: 0.1211795\ttotal: 185ms\tremaining: 550ms\n",
      "126:\tlearn: 0.1211396\ttotal: 187ms\tremaining: 550ms\n",
      "127:\tlearn: 0.1202518\ttotal: 189ms\tremaining: 549ms\n",
      "128:\tlearn: 0.1197094\ttotal: 190ms\tremaining: 547ms\n",
      "129:\tlearn: 0.1189981\ttotal: 192ms\tremaining: 546ms\n",
      "130:\tlearn: 0.1186641\ttotal: 193ms\tremaining: 544ms\n",
      "131:\tlearn: 0.1182494\ttotal: 195ms\tremaining: 542ms\n",
      "132:\tlearn: 0.1176747\ttotal: 196ms\tremaining: 540ms\n",
      "133:\tlearn: 0.1170468\ttotal: 197ms\tremaining: 538ms\n",
      "134:\tlearn: 0.1161099\ttotal: 198ms\tremaining: 536ms\n",
      "135:\tlearn: 0.1156885\ttotal: 200ms\tremaining: 535ms\n",
      "136:\tlearn: 0.1150282\ttotal: 201ms\tremaining: 533ms\n",
      "137:\tlearn: 0.1143198\ttotal: 203ms\tremaining: 533ms\n",
      "138:\tlearn: 0.1138422\ttotal: 204ms\tremaining: 531ms\n",
      "139:\tlearn: 0.1134990\ttotal: 206ms\tremaining: 530ms\n",
      "140:\tlearn: 0.1127920\ttotal: 207ms\tremaining: 528ms\n",
      "141:\tlearn: 0.1123993\ttotal: 209ms\tremaining: 527ms\n",
      "142:\tlearn: 0.1119763\ttotal: 210ms\tremaining: 525ms\n",
      "143:\tlearn: 0.1115341\ttotal: 212ms\tremaining: 523ms\n",
      "144:\tlearn: 0.1115019\ttotal: 213ms\tremaining: 522ms\n",
      "145:\tlearn: 0.1108117\ttotal: 214ms\tremaining: 520ms\n",
      "146:\tlearn: 0.1104795\ttotal: 216ms\tremaining: 518ms\n",
      "147:\tlearn: 0.1102368\ttotal: 217ms\tremaining: 516ms\n",
      "148:\tlearn: 0.1098242\ttotal: 218ms\tremaining: 514ms\n",
      "149:\tlearn: 0.1092285\ttotal: 220ms\tremaining: 513ms\n",
      "150:\tlearn: 0.1084702\ttotal: 221ms\tremaining: 512ms\n",
      "151:\tlearn: 0.1082784\ttotal: 223ms\tremaining: 510ms\n",
      "152:\tlearn: 0.1082483\ttotal: 224ms\tremaining: 508ms\n",
      "153:\tlearn: 0.1082178\ttotal: 225ms\tremaining: 506ms\n",
      "154:\tlearn: 0.1077598\ttotal: 226ms\tremaining: 504ms\n",
      "155:\tlearn: 0.1069538\ttotal: 228ms\tremaining: 502ms\n",
      "156:\tlearn: 0.1063083\ttotal: 229ms\tremaining: 500ms\n",
      "157:\tlearn: 0.1058159\ttotal: 230ms\tremaining: 498ms\n",
      "158:\tlearn: 0.1055594\ttotal: 232ms\tremaining: 497ms\n",
      "159:\tlearn: 0.1050474\ttotal: 233ms\tremaining: 495ms\n",
      "160:\tlearn: 0.1044920\ttotal: 234ms\tremaining: 493ms\n",
      "161:\tlearn: 0.1044603\ttotal: 235ms\tremaining: 491ms\n",
      "162:\tlearn: 0.1040344\ttotal: 237ms\tremaining: 489ms\n",
      "163:\tlearn: 0.1035828\ttotal: 238ms\tremaining: 488ms\n",
      "164:\tlearn: 0.1035548\ttotal: 239ms\tremaining: 486ms\n",
      "165:\tlearn: 0.1030595\ttotal: 241ms\tremaining: 484ms\n",
      "166:\tlearn: 0.1026814\ttotal: 242ms\tremaining: 482ms\n",
      "167:\tlearn: 0.1019349\ttotal: 243ms\tremaining: 481ms\n",
      "168:\tlearn: 0.1016666\ttotal: 244ms\tremaining: 479ms\n",
      "169:\tlearn: 0.1012429\ttotal: 246ms\tremaining: 477ms\n",
      "170:\tlearn: 0.1009028\ttotal: 247ms\tremaining: 475ms\n",
      "171:\tlearn: 0.1004653\ttotal: 248ms\tremaining: 473ms\n",
      "172:\tlearn: 0.1000939\ttotal: 249ms\tremaining: 472ms\n",
      "173:\tlearn: 0.0997058\ttotal: 251ms\tremaining: 470ms\n",
      "174:\tlearn: 0.0993415\ttotal: 252ms\tremaining: 468ms\n",
      "175:\tlearn: 0.0988100\ttotal: 253ms\tremaining: 466ms\n",
      "176:\tlearn: 0.0982573\ttotal: 254ms\tremaining: 464ms\n",
      "177:\tlearn: 0.0978077\ttotal: 256ms\tremaining: 463ms\n",
      "178:\tlearn: 0.0977749\ttotal: 257ms\tremaining: 461ms\n",
      "179:\tlearn: 0.0976171\ttotal: 258ms\tremaining: 459ms\n",
      "180:\tlearn: 0.0973518\ttotal: 259ms\tremaining: 457ms\n",
      "181:\tlearn: 0.0968157\ttotal: 261ms\tremaining: 456ms\n",
      "182:\tlearn: 0.0963624\ttotal: 262ms\tremaining: 454ms\n",
      "183:\tlearn: 0.0961975\ttotal: 263ms\tremaining: 452ms\n",
      "184:\tlearn: 0.0961554\ttotal: 265ms\tremaining: 450ms\n",
      "185:\tlearn: 0.0958489\ttotal: 266ms\tremaining: 449ms\n",
      "186:\tlearn: 0.0953851\ttotal: 267ms\tremaining: 447ms\n",
      "187:\tlearn: 0.0949360\ttotal: 268ms\tremaining: 445ms\n",
      "188:\tlearn: 0.0946703\ttotal: 270ms\tremaining: 444ms\n",
      "189:\tlearn: 0.0945475\ttotal: 271ms\tremaining: 442ms\n",
      "190:\tlearn: 0.0941727\ttotal: 272ms\tremaining: 441ms\n",
      "191:\tlearn: 0.0934880\ttotal: 274ms\tremaining: 439ms\n",
      "192:\tlearn: 0.0929590\ttotal: 275ms\tremaining: 437ms\n",
      "193:\tlearn: 0.0926391\ttotal: 276ms\tremaining: 435ms\n",
      "194:\tlearn: 0.0925323\ttotal: 277ms\tremaining: 434ms\n",
      "195:\tlearn: 0.0923252\ttotal: 279ms\tremaining: 432ms\n",
      "196:\tlearn: 0.0918863\ttotal: 280ms\tremaining: 431ms\n",
      "197:\tlearn: 0.0918586\ttotal: 281ms\tremaining: 429ms\n",
      "198:\tlearn: 0.0915451\ttotal: 282ms\tremaining: 427ms\n",
      "199:\tlearn: 0.0909882\ttotal: 284ms\tremaining: 426ms\n",
      "200:\tlearn: 0.0909627\ttotal: 285ms\tremaining: 424ms\n",
      "201:\tlearn: 0.0904214\ttotal: 286ms\tremaining: 422ms\n",
      "202:\tlearn: 0.0901622\ttotal: 288ms\tremaining: 421ms\n",
      "203:\tlearn: 0.0897465\ttotal: 289ms\tremaining: 419ms\n",
      "204:\tlearn: 0.0894609\ttotal: 290ms\tremaining: 417ms\n",
      "205:\tlearn: 0.0889928\ttotal: 291ms\tremaining: 416ms\n",
      "206:\tlearn: 0.0884780\ttotal: 293ms\tremaining: 414ms\n",
      "207:\tlearn: 0.0878988\ttotal: 294ms\tremaining: 412ms\n",
      "208:\tlearn: 0.0874549\ttotal: 295ms\tremaining: 411ms\n",
      "209:\tlearn: 0.0871000\ttotal: 296ms\tremaining: 409ms\n",
      "210:\tlearn: 0.0870801\ttotal: 298ms\tremaining: 408ms\n",
      "211:\tlearn: 0.0867512\ttotal: 299ms\tremaining: 406ms\n",
      "212:\tlearn: 0.0863771\ttotal: 300ms\tremaining: 405ms\n",
      "213:\tlearn: 0.0860076\ttotal: 301ms\tremaining: 403ms\n",
      "214:\tlearn: 0.0859837\ttotal: 303ms\tremaining: 401ms\n",
      "215:\tlearn: 0.0856272\ttotal: 304ms\tremaining: 400ms\n",
      "216:\tlearn: 0.0852624\ttotal: 305ms\tremaining: 398ms\n",
      "217:\tlearn: 0.0851483\ttotal: 307ms\tremaining: 397ms\n",
      "218:\tlearn: 0.0849851\ttotal: 308ms\tremaining: 395ms\n",
      "219:\tlearn: 0.0848290\ttotal: 309ms\tremaining: 393ms\n",
      "220:\tlearn: 0.0845006\ttotal: 310ms\tremaining: 392ms\n",
      "221:\tlearn: 0.0844829\ttotal: 312ms\tremaining: 390ms\n",
      "222:\tlearn: 0.0843023\ttotal: 313ms\tremaining: 389ms\n",
      "223:\tlearn: 0.0839683\ttotal: 314ms\tremaining: 387ms\n",
      "224:\tlearn: 0.0836031\ttotal: 315ms\tremaining: 386ms\n",
      "225:\tlearn: 0.0829941\ttotal: 317ms\tremaining: 384ms\n",
      "226:\tlearn: 0.0826700\ttotal: 318ms\tremaining: 383ms\n",
      "227:\tlearn: 0.0822678\ttotal: 319ms\tremaining: 381ms\n",
      "228:\tlearn: 0.0820900\ttotal: 321ms\tremaining: 380ms\n",
      "229:\tlearn: 0.0815488\ttotal: 322ms\tremaining: 378ms\n",
      "230:\tlearn: 0.0811044\ttotal: 323ms\tremaining: 377ms\n",
      "231:\tlearn: 0.0808414\ttotal: 325ms\tremaining: 375ms\n",
      "232:\tlearn: 0.0808263\ttotal: 326ms\tremaining: 374ms\n",
      "233:\tlearn: 0.0805368\ttotal: 328ms\tremaining: 372ms\n",
      "234:\tlearn: 0.0801369\ttotal: 329ms\tremaining: 371ms\n",
      "235:\tlearn: 0.0798588\ttotal: 330ms\tremaining: 369ms\n",
      "236:\tlearn: 0.0798443\ttotal: 332ms\tremaining: 368ms\n",
      "237:\tlearn: 0.0795623\ttotal: 333ms\tremaining: 366ms\n",
      "238:\tlearn: 0.0793698\ttotal: 334ms\tremaining: 365ms\n"
     ]
    },
    {
     "name": "stdout",
     "output_type": "stream",
     "text": [
      "239:\tlearn: 0.0793157\ttotal: 336ms\tremaining: 364ms\n",
      "240:\tlearn: 0.0793006\ttotal: 337ms\tremaining: 362ms\n",
      "241:\tlearn: 0.0785210\ttotal: 339ms\tremaining: 361ms\n",
      "242:\tlearn: 0.0781539\ttotal: 340ms\tremaining: 360ms\n",
      "243:\tlearn: 0.0778722\ttotal: 341ms\tremaining: 358ms\n",
      "244:\tlearn: 0.0775872\ttotal: 343ms\tremaining: 357ms\n",
      "245:\tlearn: 0.0774285\ttotal: 344ms\tremaining: 355ms\n",
      "246:\tlearn: 0.0773565\ttotal: 345ms\tremaining: 354ms\n",
      "247:\tlearn: 0.0773319\ttotal: 347ms\tremaining: 352ms\n",
      "248:\tlearn: 0.0769571\ttotal: 348ms\tremaining: 351ms\n",
      "249:\tlearn: 0.0765411\ttotal: 349ms\tremaining: 349ms\n",
      "250:\tlearn: 0.0759472\ttotal: 351ms\tremaining: 348ms\n",
      "251:\tlearn: 0.0758111\ttotal: 353ms\tremaining: 347ms\n",
      "252:\tlearn: 0.0752687\ttotal: 354ms\tremaining: 346ms\n",
      "253:\tlearn: 0.0751283\ttotal: 356ms\tremaining: 344ms\n",
      "254:\tlearn: 0.0751150\ttotal: 357ms\tremaining: 343ms\n",
      "255:\tlearn: 0.0750989\ttotal: 358ms\tremaining: 341ms\n",
      "256:\tlearn: 0.0747447\ttotal: 359ms\tremaining: 340ms\n",
      "257:\tlearn: 0.0745606\ttotal: 361ms\tremaining: 338ms\n",
      "258:\tlearn: 0.0743150\ttotal: 362ms\tremaining: 337ms\n",
      "259:\tlearn: 0.0740035\ttotal: 363ms\tremaining: 335ms\n",
      "260:\tlearn: 0.0735634\ttotal: 365ms\tremaining: 334ms\n",
      "261:\tlearn: 0.0733646\ttotal: 366ms\tremaining: 332ms\n",
      "262:\tlearn: 0.0728571\ttotal: 367ms\tremaining: 331ms\n",
      "263:\tlearn: 0.0724335\ttotal: 368ms\tremaining: 329ms\n",
      "264:\tlearn: 0.0722145\ttotal: 370ms\tremaining: 328ms\n",
      "265:\tlearn: 0.0718885\ttotal: 371ms\tremaining: 326ms\n",
      "266:\tlearn: 0.0717911\ttotal: 372ms\tremaining: 325ms\n",
      "267:\tlearn: 0.0717074\ttotal: 374ms\tremaining: 324ms\n",
      "268:\tlearn: 0.0715937\ttotal: 375ms\tremaining: 322ms\n",
      "269:\tlearn: 0.0712633\ttotal: 376ms\tremaining: 321ms\n",
      "270:\tlearn: 0.0709060\ttotal: 378ms\tremaining: 319ms\n",
      "271:\tlearn: 0.0707062\ttotal: 379ms\tremaining: 318ms\n",
      "272:\tlearn: 0.0704122\ttotal: 380ms\tremaining: 316ms\n",
      "273:\tlearn: 0.0702795\ttotal: 381ms\tremaining: 315ms\n",
      "274:\tlearn: 0.0702487\ttotal: 383ms\tremaining: 313ms\n",
      "275:\tlearn: 0.0700514\ttotal: 384ms\tremaining: 312ms\n",
      "276:\tlearn: 0.0696532\ttotal: 385ms\tremaining: 310ms\n",
      "277:\tlearn: 0.0695852\ttotal: 387ms\tremaining: 309ms\n",
      "278:\tlearn: 0.0691416\ttotal: 388ms\tremaining: 307ms\n",
      "279:\tlearn: 0.0690041\ttotal: 389ms\tremaining: 306ms\n",
      "280:\tlearn: 0.0688283\ttotal: 391ms\tremaining: 304ms\n",
      "281:\tlearn: 0.0684766\ttotal: 392ms\tremaining: 303ms\n",
      "282:\tlearn: 0.0683687\ttotal: 393ms\tremaining: 301ms\n",
      "283:\tlearn: 0.0682780\ttotal: 394ms\tremaining: 300ms\n",
      "284:\tlearn: 0.0679622\ttotal: 396ms\tremaining: 298ms\n",
      "285:\tlearn: 0.0676712\ttotal: 397ms\tremaining: 297ms\n",
      "286:\tlearn: 0.0676245\ttotal: 398ms\tremaining: 296ms\n",
      "287:\tlearn: 0.0674527\ttotal: 400ms\tremaining: 294ms\n",
      "288:\tlearn: 0.0670129\ttotal: 401ms\tremaining: 293ms\n",
      "289:\tlearn: 0.0667731\ttotal: 402ms\tremaining: 291ms\n",
      "290:\tlearn: 0.0666683\ttotal: 403ms\tremaining: 290ms\n",
      "291:\tlearn: 0.0660693\ttotal: 405ms\tremaining: 288ms\n",
      "292:\tlearn: 0.0658972\ttotal: 406ms\tremaining: 287ms\n",
      "293:\tlearn: 0.0658330\ttotal: 407ms\tremaining: 285ms\n",
      "294:\tlearn: 0.0656602\ttotal: 408ms\tremaining: 284ms\n",
      "295:\tlearn: 0.0654713\ttotal: 410ms\tremaining: 282ms\n",
      "296:\tlearn: 0.0654034\ttotal: 411ms\tremaining: 281ms\n",
      "297:\tlearn: 0.0653762\ttotal: 412ms\tremaining: 279ms\n",
      "298:\tlearn: 0.0653024\ttotal: 414ms\tremaining: 278ms\n",
      "299:\tlearn: 0.0647808\ttotal: 415ms\tremaining: 277ms\n",
      "300:\tlearn: 0.0643629\ttotal: 416ms\tremaining: 275ms\n",
      "301:\tlearn: 0.0643129\ttotal: 417ms\tremaining: 274ms\n",
      "302:\tlearn: 0.0642239\ttotal: 419ms\tremaining: 272ms\n",
      "303:\tlearn: 0.0640658\ttotal: 420ms\tremaining: 271ms\n",
      "304:\tlearn: 0.0638154\ttotal: 421ms\tremaining: 269ms\n",
      "305:\tlearn: 0.0634760\ttotal: 423ms\tremaining: 268ms\n",
      "306:\tlearn: 0.0631578\ttotal: 424ms\tremaining: 267ms\n",
      "307:\tlearn: 0.0628361\ttotal: 426ms\tremaining: 265ms\n",
      "308:\tlearn: 0.0626995\ttotal: 427ms\tremaining: 264ms\n",
      "309:\tlearn: 0.0625580\ttotal: 428ms\tremaining: 263ms\n",
      "310:\tlearn: 0.0624812\ttotal: 430ms\tremaining: 261ms\n",
      "311:\tlearn: 0.0623379\ttotal: 432ms\tremaining: 260ms\n",
      "312:\tlearn: 0.0621574\ttotal: 433ms\tremaining: 259ms\n",
      "313:\tlearn: 0.0619377\ttotal: 434ms\tremaining: 257ms\n",
      "314:\tlearn: 0.0615791\ttotal: 436ms\tremaining: 256ms\n",
      "315:\tlearn: 0.0613862\ttotal: 437ms\tremaining: 254ms\n",
      "316:\tlearn: 0.0612009\ttotal: 439ms\tremaining: 253ms\n",
      "317:\tlearn: 0.0611316\ttotal: 440ms\tremaining: 252ms\n",
      "318:\tlearn: 0.0607744\ttotal: 441ms\tremaining: 250ms\n",
      "319:\tlearn: 0.0607547\ttotal: 443ms\tremaining: 249ms\n",
      "320:\tlearn: 0.0604978\ttotal: 444ms\tremaining: 248ms\n",
      "321:\tlearn: 0.0603271\ttotal: 445ms\tremaining: 246ms\n",
      "322:\tlearn: 0.0601742\ttotal: 447ms\tremaining: 245ms\n",
      "323:\tlearn: 0.0599825\ttotal: 448ms\tremaining: 243ms\n",
      "324:\tlearn: 0.0595872\ttotal: 450ms\tremaining: 242ms\n",
      "325:\tlearn: 0.0595689\ttotal: 451ms\tremaining: 241ms\n",
      "326:\tlearn: 0.0595247\ttotal: 452ms\tremaining: 239ms\n",
      "327:\tlearn: 0.0594231\ttotal: 454ms\tremaining: 238ms\n",
      "328:\tlearn: 0.0594109\ttotal: 455ms\tremaining: 236ms\n",
      "329:\tlearn: 0.0592103\ttotal: 456ms\tremaining: 235ms\n",
      "330:\tlearn: 0.0589814\ttotal: 458ms\tremaining: 234ms\n",
      "331:\tlearn: 0.0587640\ttotal: 459ms\tremaining: 232ms\n",
      "332:\tlearn: 0.0584035\ttotal: 460ms\tremaining: 231ms\n",
      "333:\tlearn: 0.0583892\ttotal: 461ms\tremaining: 229ms\n",
      "334:\tlearn: 0.0582692\ttotal: 463ms\tremaining: 228ms\n",
      "335:\tlearn: 0.0579646\ttotal: 464ms\tremaining: 226ms\n",
      "336:\tlearn: 0.0579511\ttotal: 465ms\tremaining: 225ms\n",
      "337:\tlearn: 0.0577304\ttotal: 466ms\tremaining: 224ms\n",
      "338:\tlearn: 0.0576365\ttotal: 468ms\tremaining: 222ms\n",
      "339:\tlearn: 0.0572988\ttotal: 469ms\tremaining: 221ms\n",
      "340:\tlearn: 0.0569262\ttotal: 470ms\tremaining: 219ms\n",
      "341:\tlearn: 0.0565878\ttotal: 472ms\tremaining: 218ms\n",
      "342:\tlearn: 0.0564477\ttotal: 473ms\tremaining: 216ms\n",
      "343:\tlearn: 0.0561976\ttotal: 474ms\tremaining: 215ms\n",
      "344:\tlearn: 0.0561387\ttotal: 475ms\tremaining: 214ms\n",
      "345:\tlearn: 0.0559704\ttotal: 477ms\tremaining: 212ms\n",
      "346:\tlearn: 0.0559125\ttotal: 478ms\tremaining: 211ms\n",
      "347:\tlearn: 0.0556928\ttotal: 479ms\tremaining: 209ms\n",
      "348:\tlearn: 0.0556649\ttotal: 481ms\tremaining: 208ms\n",
      "349:\tlearn: 0.0554497\ttotal: 482ms\tremaining: 206ms\n",
      "350:\tlearn: 0.0553075\ttotal: 483ms\tremaining: 205ms\n",
      "351:\tlearn: 0.0552054\ttotal: 484ms\tremaining: 204ms\n",
      "352:\tlearn: 0.0550158\ttotal: 486ms\tremaining: 202ms\n",
      "353:\tlearn: 0.0548578\ttotal: 487ms\tremaining: 201ms\n",
      "354:\tlearn: 0.0546983\ttotal: 488ms\tremaining: 199ms\n",
      "355:\tlearn: 0.0546238\ttotal: 490ms\tremaining: 198ms\n",
      "356:\tlearn: 0.0544229\ttotal: 491ms\tremaining: 197ms\n",
      "357:\tlearn: 0.0543996\ttotal: 492ms\tremaining: 195ms\n",
      "358:\tlearn: 0.0543881\ttotal: 494ms\tremaining: 194ms\n",
      "359:\tlearn: 0.0543641\ttotal: 495ms\tremaining: 193ms\n",
      "360:\tlearn: 0.0541271\ttotal: 497ms\tremaining: 191ms\n",
      "361:\tlearn: 0.0539919\ttotal: 498ms\tremaining: 190ms\n",
      "362:\tlearn: 0.0538408\ttotal: 499ms\tremaining: 189ms\n",
      "363:\tlearn: 0.0536355\ttotal: 501ms\tremaining: 187ms\n",
      "364:\tlearn: 0.0534451\ttotal: 502ms\tremaining: 186ms\n",
      "365:\tlearn: 0.0534073\ttotal: 504ms\tremaining: 184ms\n",
      "366:\tlearn: 0.0532724\ttotal: 505ms\tremaining: 183ms\n",
      "367:\tlearn: 0.0531028\ttotal: 507ms\tremaining: 182ms\n",
      "368:\tlearn: 0.0529050\ttotal: 508ms\tremaining: 180ms\n",
      "369:\tlearn: 0.0527020\ttotal: 510ms\tremaining: 179ms\n",
      "370:\tlearn: 0.0526531\ttotal: 511ms\tremaining: 178ms\n",
      "371:\tlearn: 0.0525115\ttotal: 513ms\tremaining: 176ms\n",
      "372:\tlearn: 0.0521364\ttotal: 514ms\tremaining: 175ms\n",
      "373:\tlearn: 0.0519219\ttotal: 516ms\tremaining: 174ms\n",
      "374:\tlearn: 0.0518123\ttotal: 517ms\tremaining: 172ms\n",
      "375:\tlearn: 0.0516628\ttotal: 518ms\tremaining: 171ms\n",
      "376:\tlearn: 0.0513909\ttotal: 519ms\tremaining: 169ms\n",
      "377:\tlearn: 0.0513175\ttotal: 521ms\tremaining: 168ms\n",
      "378:\tlearn: 0.0511039\ttotal: 522ms\tremaining: 167ms\n",
      "379:\tlearn: 0.0509619\ttotal: 523ms\tremaining: 165ms\n",
      "380:\tlearn: 0.0508140\ttotal: 525ms\tremaining: 164ms\n",
      "381:\tlearn: 0.0506741\ttotal: 526ms\tremaining: 162ms\n",
      "382:\tlearn: 0.0504971\ttotal: 527ms\tremaining: 161ms\n",
      "383:\tlearn: 0.0503916\ttotal: 528ms\tremaining: 160ms\n",
      "384:\tlearn: 0.0503821\ttotal: 530ms\tremaining: 158ms\n",
      "385:\tlearn: 0.0502793\ttotal: 531ms\tremaining: 157ms\n",
      "386:\tlearn: 0.0502589\ttotal: 533ms\tremaining: 156ms\n",
      "387:\tlearn: 0.0502078\ttotal: 534ms\tremaining: 154ms\n",
      "388:\tlearn: 0.0501541\ttotal: 535ms\tremaining: 153ms\n",
      "389:\tlearn: 0.0500719\ttotal: 537ms\tremaining: 151ms\n",
      "390:\tlearn: 0.0498790\ttotal: 538ms\tremaining: 150ms\n",
      "391:\tlearn: 0.0496681\ttotal: 540ms\tremaining: 149ms\n",
      "392:\tlearn: 0.0495250\ttotal: 541ms\tremaining: 147ms\n",
      "393:\tlearn: 0.0494565\ttotal: 542ms\tremaining: 146ms\n",
      "394:\tlearn: 0.0492138\ttotal: 544ms\tremaining: 144ms\n",
      "395:\tlearn: 0.0489389\ttotal: 545ms\tremaining: 143ms\n",
      "396:\tlearn: 0.0488418\ttotal: 546ms\tremaining: 142ms\n",
      "397:\tlearn: 0.0488356\ttotal: 547ms\tremaining: 140ms\n",
      "398:\tlearn: 0.0488271\ttotal: 549ms\tremaining: 139ms\n",
      "399:\tlearn: 0.0487900\ttotal: 550ms\tremaining: 137ms\n",
      "400:\tlearn: 0.0485373\ttotal: 551ms\tremaining: 136ms\n",
      "401:\tlearn: 0.0484889\ttotal: 552ms\tremaining: 135ms\n",
      "402:\tlearn: 0.0483635\ttotal: 554ms\tremaining: 133ms\n",
      "403:\tlearn: 0.0482844\ttotal: 555ms\tremaining: 132ms\n",
      "404:\tlearn: 0.0479793\ttotal: 556ms\tremaining: 130ms\n",
      "405:\tlearn: 0.0478557\ttotal: 558ms\tremaining: 129ms\n",
      "406:\tlearn: 0.0475797\ttotal: 559ms\tremaining: 128ms\n",
      "407:\tlearn: 0.0473575\ttotal: 560ms\tremaining: 126ms\n",
      "408:\tlearn: 0.0471760\ttotal: 561ms\tremaining: 125ms\n",
      "409:\tlearn: 0.0471498\ttotal: 563ms\tremaining: 124ms\n",
      "410:\tlearn: 0.0467793\ttotal: 564ms\tremaining: 122ms\n",
      "411:\tlearn: 0.0464986\ttotal: 565ms\tremaining: 121ms\n",
      "412:\tlearn: 0.0464123\ttotal: 566ms\tremaining: 119ms\n",
      "413:\tlearn: 0.0462923\ttotal: 568ms\tremaining: 118ms\n",
      "414:\tlearn: 0.0461433\ttotal: 569ms\tremaining: 117ms\n",
      "415:\tlearn: 0.0460170\ttotal: 570ms\tremaining: 115ms\n",
      "416:\tlearn: 0.0459008\ttotal: 572ms\tremaining: 114ms\n",
      "417:\tlearn: 0.0456632\ttotal: 573ms\tremaining: 112ms\n",
      "418:\tlearn: 0.0455078\ttotal: 574ms\tremaining: 111ms\n",
      "419:\tlearn: 0.0453177\ttotal: 575ms\tremaining: 110ms\n",
      "420:\tlearn: 0.0451672\ttotal: 577ms\tremaining: 108ms\n",
      "421:\tlearn: 0.0451254\ttotal: 578ms\tremaining: 107ms\n",
      "422:\tlearn: 0.0450779\ttotal: 579ms\tremaining: 105ms\n",
      "423:\tlearn: 0.0449501\ttotal: 581ms\tremaining: 104ms\n",
      "424:\tlearn: 0.0448237\ttotal: 582ms\tremaining: 103ms\n",
      "425:\tlearn: 0.0446607\ttotal: 583ms\tremaining: 101ms\n",
      "426:\tlearn: 0.0443464\ttotal: 585ms\tremaining: 100ms\n",
      "427:\tlearn: 0.0442357\ttotal: 586ms\tremaining: 98.6ms\n",
      "428:\tlearn: 0.0441067\ttotal: 588ms\tremaining: 97.2ms\n",
      "429:\tlearn: 0.0439264\ttotal: 589ms\tremaining: 95.9ms\n",
      "430:\tlearn: 0.0438941\ttotal: 590ms\tremaining: 94.5ms\n",
      "431:\tlearn: 0.0436913\ttotal: 592ms\tremaining: 93.1ms\n",
      "432:\tlearn: 0.0435348\ttotal: 593ms\tremaining: 91.7ms\n",
      "433:\tlearn: 0.0432927\ttotal: 594ms\tremaining: 90.4ms\n",
      "434:\tlearn: 0.0430844\ttotal: 596ms\tremaining: 89ms\n",
      "435:\tlearn: 0.0429983\ttotal: 597ms\tremaining: 87.6ms\n",
      "436:\tlearn: 0.0429580\ttotal: 598ms\tremaining: 86.3ms\n",
      "437:\tlearn: 0.0429107\ttotal: 600ms\tremaining: 84.9ms\n",
      "438:\tlearn: 0.0427514\ttotal: 601ms\tremaining: 83.5ms\n",
      "439:\tlearn: 0.0426609\ttotal: 602ms\tremaining: 82.1ms\n",
      "440:\tlearn: 0.0425558\ttotal: 604ms\tremaining: 80.8ms\n",
      "441:\tlearn: 0.0425137\ttotal: 605ms\tremaining: 79.4ms\n",
      "442:\tlearn: 0.0424245\ttotal: 606ms\tremaining: 78ms\n",
      "443:\tlearn: 0.0423594\ttotal: 608ms\tremaining: 76.7ms\n",
      "444:\tlearn: 0.0422889\ttotal: 609ms\tremaining: 75.3ms\n",
      "445:\tlearn: 0.0421465\ttotal: 611ms\tremaining: 73.9ms\n",
      "446:\tlearn: 0.0418786\ttotal: 612ms\tremaining: 72.6ms\n",
      "447:\tlearn: 0.0417268\ttotal: 613ms\tremaining: 71.2ms\n",
      "448:\tlearn: 0.0415833\ttotal: 615ms\tremaining: 69.8ms\n",
      "449:\tlearn: 0.0415309\ttotal: 616ms\tremaining: 68.4ms\n",
      "450:\tlearn: 0.0413183\ttotal: 617ms\tremaining: 67.1ms\n",
      "451:\tlearn: 0.0411607\ttotal: 619ms\tremaining: 65.7ms\n",
      "452:\tlearn: 0.0409934\ttotal: 620ms\tremaining: 64.3ms\n",
      "453:\tlearn: 0.0408792\ttotal: 621ms\tremaining: 62.9ms\n",
      "454:\tlearn: 0.0407861\ttotal: 623ms\tremaining: 61.6ms\n",
      "455:\tlearn: 0.0407137\ttotal: 624ms\tremaining: 60.2ms\n",
      "456:\tlearn: 0.0406855\ttotal: 625ms\tremaining: 58.8ms\n",
      "457:\tlearn: 0.0406816\ttotal: 627ms\tremaining: 57.5ms\n",
      "458:\tlearn: 0.0405822\ttotal: 628ms\tremaining: 56.1ms\n",
      "459:\tlearn: 0.0405766\ttotal: 629ms\tremaining: 54.7ms\n",
      "460:\tlearn: 0.0405574\ttotal: 631ms\tremaining: 53.4ms\n",
      "461:\tlearn: 0.0404190\ttotal: 632ms\tremaining: 52ms\n",
      "462:\tlearn: 0.0403191\ttotal: 633ms\tremaining: 50.6ms\n",
      "463:\tlearn: 0.0402062\ttotal: 635ms\tremaining: 49.2ms\n",
      "464:\tlearn: 0.0401343\ttotal: 636ms\tremaining: 47.9ms\n",
      "465:\tlearn: 0.0400860\ttotal: 637ms\tremaining: 46.5ms\n",
      "466:\tlearn: 0.0400811\ttotal: 639ms\tremaining: 45.1ms\n",
      "467:\tlearn: 0.0399611\ttotal: 640ms\tremaining: 43.8ms\n",
      "468:\tlearn: 0.0399568\ttotal: 641ms\tremaining: 42.4ms\n",
      "469:\tlearn: 0.0399513\ttotal: 643ms\tremaining: 41ms\n",
      "470:\tlearn: 0.0398686\ttotal: 644ms\tremaining: 39.6ms\n",
      "471:\tlearn: 0.0397882\ttotal: 645ms\tremaining: 38.3ms\n",
      "472:\tlearn: 0.0396624\ttotal: 647ms\tremaining: 36.9ms\n",
      "473:\tlearn: 0.0395447\ttotal: 648ms\tremaining: 35.5ms\n",
      "474:\tlearn: 0.0394171\ttotal: 649ms\tremaining: 34.2ms\n",
      "475:\tlearn: 0.0393802\ttotal: 651ms\tremaining: 32.8ms\n",
      "476:\tlearn: 0.0391800\ttotal: 652ms\tremaining: 31.4ms\n",
      "477:\tlearn: 0.0391143\ttotal: 653ms\tremaining: 30.1ms\n",
      "478:\tlearn: 0.0389980\ttotal: 654ms\tremaining: 28.7ms\n",
      "479:\tlearn: 0.0389178\ttotal: 656ms\tremaining: 27.3ms\n",
      "480:\tlearn: 0.0387702\ttotal: 657ms\tremaining: 26ms\n",
      "481:\tlearn: 0.0387090\ttotal: 658ms\tremaining: 24.6ms\n",
      "482:\tlearn: 0.0386282\ttotal: 660ms\tremaining: 23.2ms\n",
      "483:\tlearn: 0.0384978\ttotal: 661ms\tremaining: 21.8ms\n",
      "484:\tlearn: 0.0384488\ttotal: 662ms\tremaining: 20.5ms\n",
      "485:\tlearn: 0.0384160\ttotal: 664ms\tremaining: 19.1ms\n",
      "486:\tlearn: 0.0382565\ttotal: 665ms\tremaining: 17.8ms\n",
      "487:\tlearn: 0.0381764\ttotal: 666ms\tremaining: 16.4ms\n"
     ]
    },
    {
     "name": "stdout",
     "output_type": "stream",
     "text": [
      "488:\tlearn: 0.0380778\ttotal: 668ms\tremaining: 15ms\n",
      "489:\tlearn: 0.0379527\ttotal: 669ms\tremaining: 13.7ms\n",
      "490:\tlearn: 0.0378303\ttotal: 671ms\tremaining: 12.3ms\n",
      "491:\tlearn: 0.0377507\ttotal: 672ms\tremaining: 10.9ms\n",
      "492:\tlearn: 0.0376408\ttotal: 673ms\tremaining: 9.56ms\n",
      "493:\tlearn: 0.0375787\ttotal: 675ms\tremaining: 8.19ms\n",
      "494:\tlearn: 0.0375076\ttotal: 676ms\tremaining: 6.83ms\n",
      "495:\tlearn: 0.0373864\ttotal: 677ms\tremaining: 5.46ms\n",
      "496:\tlearn: 0.0372527\ttotal: 679ms\tremaining: 4.09ms\n",
      "497:\tlearn: 0.0370630\ttotal: 680ms\tremaining: 2.73ms\n",
      "498:\tlearn: 0.0369115\ttotal: 681ms\tremaining: 1.36ms\n",
      "499:\tlearn: 0.0367698\ttotal: 682ms\tremaining: 0us\n"
     ]
    }
   ],
   "source": [
    "catb_tuned = catb.fit(X_train, y_train)"
   ]
  },
  {
   "cell_type": "code",
   "execution_count": 123,
   "metadata": {},
   "outputs": [
    {
     "data": {
      "text/plain": [
       "0.9587458745874587"
      ]
     },
     "execution_count": 123,
     "metadata": {},
     "output_type": "execute_result"
    }
   ],
   "source": [
    "y_pred = catb_tuned.predict(X_test)\n",
    "accurarcy_score_after = accuracy_score(y_test, y_pred)\n",
    "accurarcy_score_after"
   ]
  },
  {
   "cell_type": "code",
   "execution_count": 124,
   "metadata": {},
   "outputs": [],
   "source": [
    "catA = accurarcy_score_after"
   ]
  },
  {
   "cell_type": "code",
   "execution_count": 59,
   "metadata": {},
   "outputs": [
    {
     "name": "stdout",
     "output_type": "stream",
     "text": [
      "Before Tuning score :  0.9570957095709571\n",
      "After Tuning score : 0.9570957095709571\n"
     ]
    }
   ],
   "source": [
    "accurarcy_score_check(accurarcy_score_before, accurarcy_score_after)"
   ]
  },
  {
   "cell_type": "markdown",
   "metadata": {},
   "source": [
    "Accurarcylerde Değişme olmamış "
   ]
  },
  {
   "cell_type": "code",
   "execution_count": 60,
   "metadata": {},
   "outputs": [
    {
     "data": {
      "image/png": "[encoded data removed]",
      "text/plain": [
       "<Figure size 432x288 with 1 Axes>"
      ]
     },
     "metadata": {
      "needs_background": "light"
     },
     "output_type": "display_data"
    }
   ],
   "source": [
    "impfeature_plot(catb_tuned)"
   ]
  },
  {
   "cell_type": "markdown",
   "metadata": {},
   "source": [
    "# Classification : Gradient & Light GBM & Cat Bost Model Sonuçları"
   ]
  },
  {
   "cell_type": "code",
   "execution_count": 130,
   "metadata": {},
   "outputs": [
    {
     "name": "stdout",
     "output_type": "stream",
     "text": [
      "Gradient Boosting <Before Tuning> Accurarcy :  0.9455445544554455\n",
      "Gradient Boosting <After Tuning > Accurarcy :  0.9537953795379538\n",
      "LIGHT GBM <Before Tuning> Accurarcy :  0.9537953795379538\n",
      "LIGHT GBM <After Tuning > Accurarcy :  0.9570957095709571\n",
      "Cat Boosting <Before Tuning> Accurarcy :  0.9570957095709571\n",
      "Cat Boosting <After Tuning > Accurarcy :  0.9587458745874587\n"
     ]
    }
   ],
   "source": [
    "model_karsilastirma_classification(gb_B, gb_A, lgbm_B, lgbm_A, catB, catA)"
   ]
  },
  {
   "cell_type": "markdown",
   "metadata": {},
   "source": [
    "# Regression"
   ]
  },
  {
   "cell_type": "code",
   "execution_count": 17,
   "metadata": {},
   "outputs": [],
   "source": [
    "data = pd.read_excel(\"HW_Data_Set.xlsx\")\n",
    "df=data.copy()"
   ]
  },
  {
   "cell_type": "code",
   "execution_count": 18,
   "metadata": {},
   "outputs": [],
   "source": [
    "df = df.replace('?',np.NaN)"
   ]
  },
  {
   "cell_type": "code",
   "execution_count": 19,
   "metadata": {},
   "outputs": [
    {
     "data": {
      "text/plain": [
       "ind_422      1041\n",
       "ind_420      1041\n",
       "90_target       0\n",
       "ind_50          0\n",
       "ind_61          0\n",
       "             ... \n",
       "ind_309         0\n",
       "ind_310         0\n",
       "ind_311         0\n",
       "ind_313         0\n",
       "ind_5           0\n",
       "Length: 136, dtype: int64"
      ]
     },
     "execution_count": 19,
     "metadata": {},
     "output_type": "execute_result"
    }
   ],
   "source": [
    "df.isnull().sum().sort_values(ascending=False)"
   ]
  },
  {
   "cell_type": "code",
   "execution_count": 11,
   "metadata": {},
   "outputs": [
    {
     "data": {
      "text/html": [
       "<div>\n",
       "<style scoped>\n",
       "    .dataframe tbody tr th:only-of-type {\n",
       "        vertical-align: middle;\n",
       "    }\n",
       "\n",
       "    .dataframe tbody tr th {\n",
       "        vertical-align: top;\n",
       "    }\n",
       "\n",
       "    .dataframe thead th {\n",
       "        text-align: right;\n",
       "    }\n",
       "</style>\n",
       "<table border=\"1\" class=\"dataframe\">\n",
       "  <thead>\n",
       "    <tr style=\"text-align: right;\">\n",
       "      <th></th>\n",
       "      <th>0</th>\n",
       "      <th>1</th>\n",
       "      <th>2</th>\n",
       "      <th>3</th>\n",
       "      <th>4</th>\n",
       "      <th>5</th>\n",
       "      <th>6</th>\n",
       "      <th>7</th>\n",
       "      <th>8</th>\n",
       "      <th>9</th>\n",
       "      <th>...</th>\n",
       "      <th>6157</th>\n",
       "      <th>6158</th>\n",
       "      <th>6159</th>\n",
       "      <th>6160</th>\n",
       "      <th>6161</th>\n",
       "      <th>6162</th>\n",
       "      <th>6163</th>\n",
       "      <th>6164</th>\n",
       "      <th>6165</th>\n",
       "      <th>6166</th>\n",
       "    </tr>\n",
       "  </thead>\n",
       "  <tbody>\n",
       "    <tr>\n",
       "      <th>ind_109</th>\n",
       "      <td>GREEN</td>\n",
       "      <td>GREEN</td>\n",
       "      <td>GREEN</td>\n",
       "      <td>GREEN</td>\n",
       "      <td>GREEN</td>\n",
       "      <td>GREEN</td>\n",
       "      <td>GREEN</td>\n",
       "      <td>GREEN</td>\n",
       "      <td>RED</td>\n",
       "      <td>RED</td>\n",
       "      <td>...</td>\n",
       "      <td>GREEN</td>\n",
       "      <td>GREEN</td>\n",
       "      <td>GREEN</td>\n",
       "      <td>GREEN</td>\n",
       "      <td>RED</td>\n",
       "      <td>RED</td>\n",
       "      <td>RED</td>\n",
       "      <td>GREEN</td>\n",
       "      <td>GREEN</td>\n",
       "      <td>GREEN</td>\n",
       "    </tr>\n",
       "  </tbody>\n",
       "</table>\n",
       "<p>1 rows × 6167 columns</p>\n",
       "</div>"
      ],
      "text/plain": [
       "          0      1      2      3      4      5      6      7    8    9     \\\n",
       "ind_109  GREEN  GREEN  GREEN  GREEN  GREEN  GREEN  GREEN  GREEN  RED  RED   \n",
       "\n",
       "         ...   6157   6158   6159   6160 6161 6162 6163   6164   6165   6166  \n",
       "ind_109  ...  GREEN  GREEN  GREEN  GREEN  RED  RED  RED  GREEN  GREEN  GREEN  \n",
       "\n",
       "[1 rows x 6167 columns]"
      ]
     },
     "execution_count": 11,
     "metadata": {},
     "output_type": "execute_result"
    }
   ],
   "source": [
    "df.select_dtypes(include=['float64','int64'])\n",
    "df.select_dtypes(include=[\"object\"]).T"
   ]
  },
  {
   "cell_type": "code",
   "execution_count": 24,
   "metadata": {},
   "outputs": [],
   "source": [
    "y_dt = df['90_target']\n",
    "\n",
    "dummy_dt =  pd.get_dummies(df['ind_109'])\n",
    "\n",
    "X_dt = df.drop([\"20_target\",\"50_target\",\"90_target\", \"ind_420\", \"ind_422\",\"ind_109\"],axis=1)\n",
    "X_dt.head(0)\n",
    "\n",
    "X_dt =pd.concat([X_dt,dummy_dt],axis=1)\n",
    "\n",
    "X_train,X_test,y_train,y_test=train_test_split(X_dt,y_dt,\n",
    "                                               test_size=0.30,\n",
    "                                               random_state=42)"
   ]
  },
  {
   "cell_type": "code",
   "execution_count": 22,
   "metadata": {},
   "outputs": [
    {
     "data": {
      "text/html": [
       "<div>\n",
       "<style scoped>\n",
       "    .dataframe tbody tr th:only-of-type {\n",
       "        vertical-align: middle;\n",
       "    }\n",
       "\n",
       "    .dataframe tbody tr th {\n",
       "        vertical-align: top;\n",
       "    }\n",
       "\n",
       "    .dataframe thead th {\n",
       "        text-align: right;\n",
       "    }\n",
       "</style>\n",
       "<table border=\"1\" class=\"dataframe\">\n",
       "  <thead>\n",
       "    <tr style=\"text-align: right;\">\n",
       "      <th></th>\n",
       "      <th>ind_5</th>\n",
       "      <th>ind_6</th>\n",
       "      <th>ind_8</th>\n",
       "      <th>ind_9</th>\n",
       "      <th>ind_10</th>\n",
       "      <th>ind_12</th>\n",
       "      <th>ind_13</th>\n",
       "      <th>ind_14</th>\n",
       "      <th>ind_15</th>\n",
       "      <th>ind_16</th>\n",
       "      <th>...</th>\n",
       "      <th>ind_410</th>\n",
       "      <th>ind_412</th>\n",
       "      <th>ind_414</th>\n",
       "      <th>ind_416</th>\n",
       "      <th>ind_418</th>\n",
       "      <th>ind_424</th>\n",
       "      <th>ind_426</th>\n",
       "      <th>ind_428</th>\n",
       "      <th>GREEN</th>\n",
       "      <th>RED</th>\n",
       "    </tr>\n",
       "  </thead>\n",
       "  <tbody>\n",
       "    <tr>\n",
       "      <th>3454</th>\n",
       "      <td>-2</td>\n",
       "      <td>-2</td>\n",
       "      <td>71.428571</td>\n",
       "      <td>100.0</td>\n",
       "      <td>-28.571429</td>\n",
       "      <td>35.250941</td>\n",
       "      <td>-84.680368</td>\n",
       "      <td>15.65</td>\n",
       "      <td>13.22</td>\n",
       "      <td>10.59</td>\n",
       "      <td>...</td>\n",
       "      <td>17</td>\n",
       "      <td>-0.000663</td>\n",
       "      <td>33.7</td>\n",
       "      <td>0.0</td>\n",
       "      <td>-1</td>\n",
       "      <td>0.051643</td>\n",
       "      <td>0.318</td>\n",
       "      <td>0.333652</td>\n",
       "      <td>0</td>\n",
       "      <td>1</td>\n",
       "    </tr>\n",
       "  </tbody>\n",
       "</table>\n",
       "<p>1 rows × 133 columns</p>\n",
       "</div>"
      ],
      "text/plain": [
       "      ind_5  ind_6      ind_8  ind_9     ind_10     ind_12     ind_13  ind_14  \\\n",
       "3454     -2     -2  71.428571  100.0 -28.571429  35.250941 -84.680368   15.65   \n",
       "\n",
       "      ind_15  ind_16  ...  ind_410   ind_412  ind_414  ind_416  ind_418  \\\n",
       "3454   13.22   10.59  ...       17 -0.000663     33.7      0.0       -1   \n",
       "\n",
       "       ind_424  ind_426   ind_428  GREEN  RED  \n",
       "3454  0.051643    0.318  0.333652      0    1  \n",
       "\n",
       "[1 rows x 133 columns]"
      ]
     },
     "execution_count": 22,
     "metadata": {},
     "output_type": "execute_result"
    }
   ],
   "source": [
    "X_train.head(1)"
   ]
  },
  {
   "cell_type": "markdown",
   "metadata": {},
   "source": [
    "# Gradient Boosting"
   ]
  },
  {
   "cell_type": "code",
   "execution_count": 15,
   "metadata": {},
   "outputs": [],
   "source": [
    "from sklearn.ensemble import GradientBoostingRegressor"
   ]
  },
  {
   "cell_type": "code",
   "execution_count": 25,
   "metadata": {},
   "outputs": [
    {
     "data": {
      "text/plain": [
       "GradientBoostingRegressor()"
      ]
     },
     "execution_count": 25,
     "metadata": {},
     "output_type": "execute_result"
    }
   ],
   "source": [
    "gbm_model = GradientBoostingRegressor()\n",
    "gbm_model.fit(X_train, y_train)"
   ]
  },
  {
   "cell_type": "code",
   "execution_count": 89,
   "metadata": {},
   "outputs": [
    {
     "data": {
      "text/plain": [
       "0.2174532939711403"
      ]
     },
     "execution_count": 89,
     "metadata": {},
     "output_type": "execute_result"
    }
   ],
   "source": [
    "y_pred = gbm_model.predict(X_test)\n",
    "beforeTuning = np.sqrt(mean_squared_error(y_test, y_pred))\n",
    "beforeTuning"
   ]
  },
  {
   "cell_type": "markdown",
   "metadata": {},
   "source": [
    "### Model Tuning "
   ]
  },
  {
   "cell_type": "code",
   "execution_count": 91,
   "metadata": {},
   "outputs": [
    {
     "name": "stdout",
     "output_type": "stream",
     "text": [
      "Fitting 10 folds for each of 324 candidates, totalling 3240 fits\n"
     ]
    },
    {
     "name": "stderr",
     "output_type": "stream",
     "text": [
      "[Parallel(n_jobs=-1)]: Using backend LokyBackend with 8 concurrent workers.\n",
      "[Parallel(n_jobs=-1)]: Done  25 tasks      | elapsed:    4.4s\n",
      "[Parallel(n_jobs=-1)]: Done 146 tasks      | elapsed:   31.6s\n",
      "[Parallel(n_jobs=-1)]: Done 349 tasks      | elapsed:  3.1min\n",
      "[Parallel(n_jobs=-1)]: Done 632 tasks      | elapsed:  7.5min\n",
      "[Parallel(n_jobs=-1)]: Done 997 tasks      | elapsed: 12.7min\n",
      "[Parallel(n_jobs=-1)]: Done 1442 tasks      | elapsed: 18.7min\n",
      "[Parallel(n_jobs=-1)]: Done 1969 tasks      | elapsed: 27.4min\n",
      "[Parallel(n_jobs=-1)]: Done 2576 tasks      | elapsed: 38.4min\n",
      "[Parallel(n_jobs=-1)]: Done 3240 out of 3240 | elapsed: 51.5min finished\n"
     ]
    },
    {
     "data": {
      "text/plain": [
       "GridSearchCV(cv=10, estimator=GradientBoostingRegressor(), n_jobs=-1,\n",
       "             param_grid={'learning_rate': [0.001, 0.01, 0.05, 0.1, 0.2, 0.3],\n",
       "                         'max_depth': [3, 5, 10, 50, 80, 100],\n",
       "                         'n_estimators': [100, 500, 1000],\n",
       "                         'subsample': [1, 0.5, 0.75]},\n",
       "             verbose=2)"
      ]
     },
     "execution_count": 91,
     "metadata": {},
     "output_type": "execute_result"
    }
   ],
   "source": [
    "gbm_params = {\"learning_rate\": [0.001, 0.01, 0.05, 0.1, 0.2,0.3], \n",
    "              \"n_estimators\":[100,500,1000],\n",
    "              \"max_depth\": [3,5,10,50, 80, 100 ],\n",
    "              \"subsample\":[1, 0.5, 0.75]\n",
    "             }\n",
    "\n",
    "gbm = GradientBoostingRegressor()\n",
    "gbm_cv = GridSearchCV(gbm,gbm_params,\n",
    "                          cv=10,\n",
    "                          n_jobs=-1,\n",
    "                          verbose=2)\n",
    "\n",
    "gbm_cv.fit(X_train, y_train)"
   ]
  },
  {
   "cell_type": "code",
   "execution_count": 131,
   "metadata": {},
   "outputs": [
    {
     "data": {
      "text/plain": [
       "{'learning_rate': 0.01,\n",
       " 'max_depth': 10,\n",
       " 'n_estimators': 1000,\n",
       " 'subsample': 0.5}"
      ]
     },
     "execution_count": 131,
     "metadata": {},
     "output_type": "execute_result"
    }
   ],
   "source": [
    "gbm_cv.best_params_"
   ]
  },
  {
   "cell_type": "code",
   "execution_count": 132,
   "metadata": {},
   "outputs": [],
   "source": [
    "gbm = GradientBoostingRegressor(learning_rate=0.01,\n",
    "                                n_estimators=1000,\n",
    "                                max_depth=10,\n",
    "                                subsample=0.5)"
   ]
  },
  {
   "cell_type": "code",
   "execution_count": 133,
   "metadata": {},
   "outputs": [],
   "source": [
    "gbm_tuned = gbm.fit(X_train, y_train)"
   ]
  },
  {
   "cell_type": "code",
   "execution_count": 134,
   "metadata": {},
   "outputs": [
    {
     "data": {
      "text/plain": [
       "0.1913977021891402"
      ]
     },
     "execution_count": 134,
     "metadata": {},
     "output_type": "execute_result"
    }
   ],
   "source": [
    "y_pred = gbm_tuned.predict(X_test)\n",
    "\n",
    "afterTuning = np.sqrt(mean_squared_error(y_test, y_pred))\n",
    "afterTuning"
   ]
  },
  {
   "cell_type": "code",
   "execution_count": 138,
   "metadata": {},
   "outputs": [
    {
     "data": {
      "image/png": "[encoded data removed]",
      "text/plain": [
       "<Figure size 432x288 with 1 Axes>"
      ]
     },
     "metadata": {
      "needs_background": "light"
     },
     "output_type": "display_data"
    }
   ],
   "source": [
    "impfeature_plot(gbm_tuned)"
   ]
  },
  {
   "cell_type": "markdown",
   "metadata": {},
   "source": [
    "# Light GBM"
   ]
  },
  {
   "cell_type": "code",
   "execution_count": 140,
   "metadata": {},
   "outputs": [],
   "source": [
    "from lightgbm import LGBMRegressor"
   ]
  },
  {
   "cell_type": "code",
   "execution_count": 141,
   "metadata": {},
   "outputs": [],
   "source": [
    "lgbm = LGBMRegressor()\n",
    "lgbm_model = lgbm.fit(X_train, y_train)"
   ]
  },
  {
   "cell_type": "code",
   "execution_count": 144,
   "metadata": {},
   "outputs": [],
   "source": [
    "y_pred = lgbm_model.predict(X_test, num_iteration= lgbm_model.best_iteration_)"
   ]
  },
  {
   "cell_type": "code",
   "execution_count": 145,
   "metadata": {},
   "outputs": [
    {
     "data": {
      "text/plain": [
       "0.2079614074847357"
      ]
     },
     "execution_count": 145,
     "metadata": {},
     "output_type": "execute_result"
    }
   ],
   "source": [
    "lgbm_mseB = np.sqrt(mean_squared_error(y_test,y_pred))\n",
    "lgbm_mseB"
   ]
  },
  {
   "cell_type": "markdown",
   "metadata": {},
   "source": [
    "## Model Tuning"
   ]
  },
  {
   "cell_type": "code",
   "execution_count": 151,
   "metadata": {},
   "outputs": [
    {
     "data": {
      "text/plain": [
       "LGBMRegressor()"
      ]
     },
     "execution_count": 151,
     "metadata": {},
     "output_type": "execute_result"
    }
   ],
   "source": [
    "lgbm_model"
   ]
  },
  {
   "cell_type": "code",
   "execution_count": 146,
   "metadata": {},
   "outputs": [
    {
     "data": {
      "text/plain": [
       "{'boosting_type': 'gbdt',\n",
       " 'class_weight': None,\n",
       " 'colsample_bytree': 1.0,\n",
       " 'importance_type': 'split',\n",
       " 'learning_rate': 0.1,\n",
       " 'max_depth': -1,\n",
       " 'min_child_samples': 20,\n",
       " 'min_child_weight': 0.001,\n",
       " 'min_split_gain': 0.0,\n",
       " 'n_estimators': 100,\n",
       " 'n_jobs': -1,\n",
       " 'num_leaves': 31,\n",
       " 'objective': None,\n",
       " 'random_state': None,\n",
       " 'reg_alpha': 0.0,\n",
       " 'reg_lambda': 0.0,\n",
       " 'silent': True,\n",
       " 'subsample': 1.0,\n",
       " 'subsample_for_bin': 200000,\n",
       " 'subsample_freq': 0}"
      ]
     },
     "execution_count": 146,
     "metadata": {},
     "output_type": "execute_result"
    }
   ],
   "source": [
    "lgbm_model.get_params()"
   ]
  },
  {
   "cell_type": "code",
   "execution_count": 153,
   "metadata": {},
   "outputs": [],
   "source": [
    "lgbm_params = {\"learning_rate\": [0.001, 0.01, 1, 0.5], \n",
    "              \"n_estimators\":[20,40,100,200,500,1000],\n",
    "              \"max_depth\": [2,3,5,7,8],\n",
    "             \"colsample_bytree\":[1,0.4, 0.5, 0.6]\n",
    "             }"
   ]
  },
  {
   "cell_type": "code",
   "execution_count": 154,
   "metadata": {},
   "outputs": [],
   "source": [
    "lgbm = LGBMRegressor()"
   ]
  },
  {
   "cell_type": "code",
   "execution_count": 158,
   "metadata": {},
   "outputs": [
    {
     "name": "stdout",
     "output_type": "stream",
     "text": [
      "Fitting 5 folds for each of 480 candidates, totalling 2400 fits\n"
     ]
    },
    {
     "name": "stderr",
     "output_type": "stream",
     "text": [
      "[Parallel(n_jobs=-1)]: Using backend LokyBackend with 8 concurrent workers.\n",
      "[Parallel(n_jobs=-1)]: Done  25 tasks      | elapsed:    2.3s\n",
      "[Parallel(n_jobs=-1)]: Done 236 tasks      | elapsed:    7.8s\n",
      "[Parallel(n_jobs=-1)]: Done 501 tasks      | elapsed:   19.5s\n",
      "[Parallel(n_jobs=-1)]: Done 936 tasks      | elapsed:   32.6s\n",
      "[Parallel(n_jobs=-1)]: Done 1666 tasks      | elapsed:   54.9s\n",
      "[Parallel(n_jobs=-1)]: Done 2400 out of 2400 | elapsed:  1.3min finished\n"
     ]
    },
    {
     "data": {
      "text/plain": [
       "GridSearchCV(cv=5, estimator=LGBMRegressor(), n_jobs=-1,\n",
       "             param_grid={'colsample_bytree': [1, 0.4, 0.5, 0.6],\n",
       "                         'learning_rate': [0.001, 0.01, 1, 0.5],\n",
       "                         'max_depth': [2, 3, 5, 7, 8],\n",
       "                         'n_estimators': [20, 40, 100, 200, 500, 1000]},\n",
       "             verbose=2)"
      ]
     },
     "execution_count": 158,
     "metadata": {},
     "output_type": "execute_result"
    }
   ],
   "source": [
    "lgbm_cv_model = GridSearchCV(lgbm,lgbm_params,\n",
    "                          cv=5,\n",
    "                          n_jobs=-1,\n",
    "                          verbose=2)\n",
    "\n",
    "lgbm_cv_model.fit(X_train, y_train)"
   ]
  },
  {
   "cell_type": "code",
   "execution_count": 159,
   "metadata": {},
   "outputs": [
    {
     "data": {
      "text/plain": [
       "{'colsample_bytree': 1,\n",
       " 'learning_rate': 0.01,\n",
       " 'max_depth': 8,\n",
       " 'n_estimators': 1000}"
      ]
     },
     "execution_count": 159,
     "metadata": {},
     "output_type": "execute_result"
    }
   ],
   "source": [
    "lgbm_cv_model.best_params_"
   ]
  },
  {
   "cell_type": "code",
   "execution_count": 163,
   "metadata": {},
   "outputs": [],
   "source": [
    "lgbm_tuned = LGBMRegressor (learning_rate=0.01, \n",
    "              n_estimators=1000,\n",
    "              max_depth=8,\n",
    "             colsample_bytre=1)"
   ]
  },
  {
   "cell_type": "code",
   "execution_count": 164,
   "metadata": {},
   "outputs": [],
   "source": [
    "lgbm_tuned = lgbm_tuned.fit(X_train, y_train)"
   ]
  },
  {
   "cell_type": "code",
   "execution_count": 165,
   "metadata": {},
   "outputs": [],
   "source": [
    "y_pred = lgbm_tuned.predict(X_test)"
   ]
  },
  {
   "cell_type": "code",
   "execution_count": 166,
   "metadata": {},
   "outputs": [
    {
     "data": {
      "text/plain": [
       "0.21044770673608448"
      ]
     },
     "execution_count": 166,
     "metadata": {},
     "output_type": "execute_result"
    }
   ],
   "source": [
    "lgbm_mseA = np.sqrt(mean_squared_error(y_test,y_pred))\n",
    "lgbm_mseA"
   ]
  },
  {
   "cell_type": "markdown",
   "metadata": {},
   "source": [
    "# Regresyon : Gradient & Light GBM Model Sonuçları"
   ]
  },
  {
   "cell_type": "code",
   "execution_count": 167,
   "metadata": {},
   "outputs": [
    {
     "name": "stdout",
     "output_type": "stream",
     "text": [
      "Gradient Boosting <Before Tuning> MSE :  0.2174532939711403\n",
      "Gradient Boosting <After Tuning > MSE :  0.1913977021891402\n",
      "LIGHT GBM <Before Tuning> MSE :  0.2079614074847357\n",
      "LIGHT GBM <After Tuning > MSE :  0.21044770673608448\n"
     ]
    }
   ],
   "source": [
    "model_karsilastirma_regression(beforeTuning, afterTuning,lgbm_mseB,lgbm_mseA)"
   ]
  },
  {
   "cell_type": "markdown",
   "metadata": {},
   "source": [
    "***"
   ]
  }
 ],
 "metadata": {
  "kernelspec": {
   "display_name": "Python 3",
   "language": "python",
   "name": "python3"
  },
  "language_info": {
   "codemirror_mode": {
    "name": "ipython",
    "version": 3
   },
   "file_extension": ".py",
   "mimetype": "text/x-python",
   "name": "python",
   "nbconvert_exporter": "python",
   "pygments_lexer": "ipython3",
   "version": "3.8.3"
  }
 },
 "nbformat": 4,
 "nbformat_minor": 4
}
